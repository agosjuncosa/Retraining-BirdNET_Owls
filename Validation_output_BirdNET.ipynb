{
 "cells": [
  {
   "cell_type": "markdown",
   "id": "afdd7003-3b5d-4bee-b2c9-bc45e3f82498",
   "metadata": {},
   "source": [
    "### Selecting clips for validation per class based on their score "
   ]
  },
  {
   "cell_type": "code",
   "execution_count": 1,
   "id": "ec2e1465-b8cc-4c79-947b-0a039eec1304",
   "metadata": {},
   "outputs": [
    {
     "name": "stderr",
     "output_type": "stream",
     "text": [
      "/home/agosjuncosa/anaconda3/envs/opensoundscape/lib/python3.9/site-packages/opensoundscape/ml/cnn.py:18: TqdmExperimentalWarning: Using `tqdm.autonotebook.tqdm` in notebook mode. Use `tqdm.tqdm` instead to force console mode (e.g. in jupyter console)\n",
      "  from tqdm.autonotebook import tqdm\n"
     ]
    }
   ],
   "source": [
    "import pandas as pd\n",
    "import glob\n",
    "import os\n",
    "from opensoundscape import Audio, audio\n",
    "from pathlib import Path"
   ]
  },
  {
   "cell_type": "code",
   "execution_count": 2,
   "id": "a307de82-43e2-4fdb-90ab-54b2b2cd78bb",
   "metadata": {},
   "outputs": [],
   "source": [
    "# Directories\n",
    "annotations_dir = '/mnt/e/retraining_BirdNET/iterative_training/output_results/2nd_model/'\n",
    "audio_files_dir = '/mnt/e/retraining_BirdNET/iterative_training/input/'  # Update this if different from annotations directory\n",
    "output_dir = '/mnt/e/retraining_BirdNET/iterative_training/segments_validation/2nd_model/'"
   ]
  },
  {
   "cell_type": "code",
   "execution_count": 3,
   "id": "a240b656-73ff-4f1a-90a9-d6639a7edcd4",
   "metadata": {},
   "outputs": [],
   "source": [
    "# Get list of all text files with BirdNET predictions\n",
    "table_filenames = glob.glob(f\"{annotations_dir}/*.txt\")\n"
   ]
  },
  {
   "cell_type": "code",
   "execution_count": 4,
   "id": "0e42b8aa-ab12-4df6-add3-494691754ff8",
   "metadata": {},
   "outputs": [],
   "source": [
    "# List to hold dataframes\n",
    "list_of_birdnet_dfs = []"
   ]
  },
  {
   "cell_type": "code",
   "execution_count": 5,
   "id": "fb5f703c-0ea6-4087-80aa-adf587037547",
   "metadata": {},
   "outputs": [],
   "source": [
    "# Read each annotation file and select necessary columns\n",
    "for table_filename in table_filenames:\n",
    "    df = pd.read_csv(table_filename, sep='\\t', usecols=['Begin Time (s)', 'End Time (s)', 'Common Name', 'Confidence'])\n",
    "    df.rename(columns={\n",
    "        'Begin Time (s)': 'start_time',\n",
    "        'End Time (s)': 'end_time',\n",
    "        'Common Name': 'class',\n",
    "        'Confidence': 'score'\n",
    "    }, inplace=True)\n",
    "    df['filename'] = Path(table_filename).stem.replace('.BirdNET.selection.table', '')\n",
    "    list_of_birdnet_dfs.append(df)"
   ]
  },
  {
   "cell_type": "code",
   "execution_count": 6,
   "id": "e348a460-32f8-4cca-88e7-71b32a16fbd9",
   "metadata": {},
   "outputs": [],
   "source": [
    "# Combine all dataframes into a single big dataframe\n",
    "big_df = pd.concat(list_of_birdnet_dfs, ignore_index=True)"
   ]
  },
  {
   "cell_type": "code",
   "execution_count": 7,
   "id": "c83fc4b2-2d55-4517-95b7-680ab3a80ed5",
   "metadata": {},
   "outputs": [
    {
     "name": "stdout",
     "output_type": "stream",
     "text": [
      "<class 'pandas.core.frame.DataFrame'>\n",
      "Index: 1157 entries, 71546 to 247115\n",
      "Data columns (total 5 columns):\n",
      " #   Column      Non-Null Count  Dtype  \n",
      "---  ------      --------------  -----  \n",
      " 0   start_time  1157 non-null   float64\n",
      " 1   end_time    1157 non-null   float64\n",
      " 2   class       1157 non-null   object \n",
      " 3   score       1157 non-null   float64\n",
      " 4   filename    1157 non-null   object \n",
      "dtypes: float64(3), object(2)\n",
      "memory usage: 54.2+ KB\n",
      "None\n"
     ]
    }
   ],
   "source": [
    "top_entries_per_class = []\n",
    "\n",
    "# Assuming 'big_df' is your combined DataFrame with all entries\n",
    "for class_name, class_df in big_df.groupby(by='class'):\n",
    "    # Skip the 'nocall' class\n",
    "    if class_name == 'nocall':\n",
    "        continue\n",
    "    \n",
    "    # Sort by score and get the top 40 highest scoring files for this class\n",
    "    top_40_for_this_class = class_df.sort_values(by='score', ascending=False).head(40)\n",
    "    # Append the top 40 for this class to the list\n",
    "    top_entries_per_class.append(top_40_for_this_class)\n",
    "\n",
    "# Combine all top 40 entries into a single DataFrame\n",
    "all_top_entries = pd.concat(top_entries_per_class)\n",
    "\n",
    "print(all_top_entries.info())\n"
   ]
  },
  {
   "cell_type": "code",
   "execution_count": 8,
   "id": "1edf3657-e504-4bdd-ae0e-a08319b76809",
   "metadata": {},
   "outputs": [
    {
     "name": "stderr",
     "output_type": "stream",
     "text": [
      "/home/agosjuncosa/anaconda3/envs/opensoundscape/lib/python3.9/site-packages/opensoundscape/audio.py:340: UserWarning: Audio object is shorter than requested duration: 2.0 sec instead of 3 sec\n",
      "  warnings.warn(error_msg)\n",
      "/home/agosjuncosa/anaconda3/envs/opensoundscape/lib/python3.9/site-packages/opensoundscape/audio.py:340: UserWarning: Audio object is shorter than requested duration: 1.50425 sec instead of 3 sec\n",
      "  warnings.warn(error_msg)\n",
      "/home/agosjuncosa/anaconda3/envs/opensoundscape/lib/python3.9/site-packages/opensoundscape/audio.py:340: UserWarning: Audio object is shorter than requested duration: 1.0909166666666668 sec instead of 3 sec\n",
      "  warnings.warn(error_msg)\n",
      "/home/agosjuncosa/anaconda3/envs/opensoundscape/lib/python3.9/site-packages/opensoundscape/audio.py:340: UserWarning: Audio object is shorter than requested duration: 1.0909166666666668 sec instead of 3 sec\n",
      "  warnings.warn(error_msg)\n",
      "/home/agosjuncosa/anaconda3/envs/opensoundscape/lib/python3.9/site-packages/opensoundscape/audio.py:340: UserWarning: Audio object is shorter than requested duration: 1.64825 sec instead of 3 sec\n",
      "  warnings.warn(error_msg)\n",
      "/home/agosjuncosa/anaconda3/envs/opensoundscape/lib/python3.9/site-packages/opensoundscape/audio.py:340: UserWarning: Audio object is shorter than requested duration: 1.3069166666666667 sec instead of 3 sec\n",
      "  warnings.warn(error_msg)\n",
      "/home/agosjuncosa/anaconda3/envs/opensoundscape/lib/python3.9/site-packages/opensoundscape/audio.py:340: UserWarning: Audio object is shorter than requested duration: 1.20025 sec instead of 3 sec\n",
      "  warnings.warn(error_msg)\n",
      "/home/agosjuncosa/anaconda3/envs/opensoundscape/lib/python3.9/site-packages/opensoundscape/audio.py:340: UserWarning: Audio object is shorter than requested duration: 1.0749166666666667 sec instead of 3 sec\n",
      "  warnings.warn(error_msg)\n",
      "/home/agosjuncosa/anaconda3/envs/opensoundscape/lib/python3.9/site-packages/opensoundscape/audio.py:340: UserWarning: Audio object is shorter than requested duration: 1.7735833333333333 sec instead of 3 sec\n",
      "  warnings.warn(error_msg)\n",
      "/home/agosjuncosa/anaconda3/envs/opensoundscape/lib/python3.9/site-packages/opensoundscape/audio.py:340: UserWarning: Audio object is shorter than requested duration: 1.0215833333333333 sec instead of 3 sec\n",
      "  warnings.warn(error_msg)\n",
      "/home/agosjuncosa/anaconda3/envs/opensoundscape/lib/python3.9/site-packages/opensoundscape/audio.py:340: UserWarning: Audio object is shorter than requested duration: 1.0909166666666668 sec instead of 3 sec\n",
      "  warnings.warn(error_msg)\n",
      "/home/agosjuncosa/anaconda3/envs/opensoundscape/lib/python3.9/site-packages/opensoundscape/audio.py:340: UserWarning: Audio object is shorter than requested duration: 1.5415833333333333 sec instead of 3 sec\n",
      "  warnings.warn(error_msg)\n",
      "/home/agosjuncosa/anaconda3/envs/opensoundscape/lib/python3.9/site-packages/opensoundscape/audio.py:340: UserWarning: Audio object is shorter than requested duration: 1.2535833333333333 sec instead of 3 sec\n",
      "  warnings.warn(error_msg)\n",
      "/home/agosjuncosa/anaconda3/envs/opensoundscape/lib/python3.9/site-packages/opensoundscape/audio.py:340: UserWarning: Audio object is shorter than requested duration: 1.3975833333333334 sec instead of 3 sec\n",
      "  warnings.warn(error_msg)\n",
      "/home/agosjuncosa/anaconda3/envs/opensoundscape/lib/python3.9/site-packages/opensoundscape/audio.py:340: UserWarning: Audio object is shorter than requested duration: 1.2909166666666667 sec instead of 3 sec\n",
      "  warnings.warn(error_msg)\n",
      "/home/agosjuncosa/anaconda3/envs/opensoundscape/lib/python3.9/site-packages/opensoundscape/audio.py:340: UserWarning: Audio object is shorter than requested duration: 2.0 sec instead of 3 sec\n",
      "  warnings.warn(error_msg)\n",
      "/home/agosjuncosa/anaconda3/envs/opensoundscape/lib/python3.9/site-packages/opensoundscape/audio.py:340: UserWarning: Audio object is shorter than requested duration: 2.0 sec instead of 3 sec\n",
      "  warnings.warn(error_msg)\n",
      "/home/agosjuncosa/anaconda3/envs/opensoundscape/lib/python3.9/site-packages/opensoundscape/audio.py:340: UserWarning: Audio object is shorter than requested duration: 1.27225 sec instead of 3 sec\n",
      "  warnings.warn(error_msg)\n",
      "/home/agosjuncosa/anaconda3/envs/opensoundscape/lib/python3.9/site-packages/opensoundscape/audio.py:340: UserWarning: Audio object is shorter than requested duration: 1.3975833333333334 sec instead of 3 sec\n",
      "  warnings.warn(error_msg)\n",
      "/home/agosjuncosa/anaconda3/envs/opensoundscape/lib/python3.9/site-packages/opensoundscape/audio.py:340: UserWarning: Audio object is shorter than requested duration: 1.43225 sec instead of 3 sec\n",
      "  warnings.warn(error_msg)\n",
      "/home/agosjuncosa/anaconda3/envs/opensoundscape/lib/python3.9/site-packages/opensoundscape/audio.py:340: UserWarning: Audio object is shorter than requested duration: 1.50425 sec instead of 3 sec\n",
      "  warnings.warn(error_msg)\n"
     ]
    },
    {
     "name": "stdout",
     "output_type": "stream",
     "text": [
      "Clips have been saved in their respective class directories.\n"
     ]
    }
   ],
   "source": [
    "# Assuming you have already loaded 'all_top_entries' as per your previous code\n",
    "for idx, row in all_top_entries.iterrows():\n",
    "    # Create class-specific directory if not exists\n",
    "    class_name = row['class']\n",
    "    class_dir = Path(output_dir) / class_name\n",
    "    class_dir.mkdir(parents=True, exist_ok=True)\n",
    "    \n",
    "    # Construct the filename for saving\n",
    "    filename = row['filename']\n",
    "    start_time = int(row['start_time'])\n",
    "    end_time = int(row['end_time'])\n",
    "    score = row['score']\n",
    "    output_filename = f\"{score}_{start_time}_{end_time}_{filename}.wav\"\n",
    "    \n",
    "    # Load and save the audio segment\n",
    "    audio_path = Path(audio_files_dir) / f\"{filename}.wav\"\n",
    "    audio = Audio.from_file(audio_path, offset=start_time, duration=end_time - start_time)\n",
    "    audio.save(class_dir / output_filename)\n",
    "\n",
    "print(\"Clips have been saved in their respective class directories.\")\n"
   ]
  }
 ],
 "metadata": {
  "kernelspec": {
   "display_name": "OpenSoundscape",
   "language": "python",
   "name": "opensoundscape"
  },
  "language_info": {
   "codemirror_mode": {
    "name": "ipython",
    "version": 3
   },
   "file_extension": ".py",
   "mimetype": "text/x-python",
   "name": "python",
   "nbconvert_exporter": "python",
   "pygments_lexer": "ipython3",
   "version": "3.9.17"
  }
 },
 "nbformat": 4,
 "nbformat_minor": 5
}
