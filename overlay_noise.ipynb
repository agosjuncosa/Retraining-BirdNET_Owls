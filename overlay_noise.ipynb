{
 "cells": [
  {
   "cell_type": "code",
   "execution_count": null,
   "id": "4e992de8-4f78-4f4c-89b8-613546ae824f",
   "metadata": {},
   "outputs": [],
   "source": [
    "# Load useful libraries\n",
    "import os\n",
    "import pandas as pd\n",
    "import random\n",
    "from pydub import AudioSegment"
   ]
  },
  {
   "cell_type": "markdown",
   "id": "8a766ac7-0974-44ca-b151-e24b51d9c632",
   "metadata": {},
   "source": [
    "Random variations of SNR within a range (35 a 55 SNR)"
   ]
  },
  {
   "cell_type": "code",
   "execution_count": null,
   "id": "c9c2c98e-af43-45d3-a7cd-4f792793e818",
   "metadata": {},
   "outputs": [],
   "source": [
    "# Define your directories\n",
    "owl_folder_path = '/mnt/e/to_overlay/'\n",
    "noise_folder_path = '/mnt/e/Backup_trainingBirdNET/opsc_noise/'\n",
    "output_folder_path = '/mnt/e/to_overlay/'\n",
    "\n",
    "# Create the output folder if it doesn't exist\n",
    "if not os.path.exists(output_folder_path):\n",
    "    os.makedirs(output_folder_path)\n",
    "\n",
    "# List all the owl and noise files\n",
    "owl_files = [f for f in os.listdir(owl_folder_path) if f.endswith('.wav') or f.endswith('.WAV']\n",
    "noise_files = [f for f in os.listdir(noise_folder_path) if f.endswith('.wav') or f.endswith('.WAV')]\n",
    "\n",
    "# Loop through all owl files\n",
    "for owl_file in owl_files:\n",
    "    # Load the owl audio\n",
    "    owl_audio_path = os.path.join(owl_folder_path, owl_file)\n",
    "    owl_audio = AudioSegment.from_wav(owl_audio_path)\n",
    "\n",
    "    # Randomly select a noise file\n",
    "    random_noise_file = random.choice(noise_files)\n",
    "    noise_audio_path = os.path.join(noise_folder_path, random_noise_file)\n",
    "    noise_audio = AudioSegment.from_wav(noise_audio_path)\n",
    "\n",
    "    # Ensure the noise audio is at least as long as the owl audio\n",
    "    if len(noise_audio) < len(owl_audio):\n",
    "        noise_audio = noise_audio + noise_audio[:len(owl_audio) - len(noise_audio)]\n",
    "\n",
    "    # Randomly choose an SNR value within the range 30-50 dB for this overlay\n",
    "    snr_dB = random.uniform(35, 55)\n",
    "\n",
    "    # Calculate the power ratio for the desired SNR\n",
    "    snr_linear = 10 ** (snr_dB / 10.0)\n",
    "\n",
    "    # Calculate the RMS (Root Mean Square) of the owl audio\n",
    "    owl_rms = np.sqrt(np.mean(np.array(owl_audio.get_array_of_samples())**2))\n",
    "\n",
    "    # Calculate the RMS of the noise audio\n",
    "    noise_rms = np.sqrt(np.mean(np.array(noise_audio.get_array_of_samples())**2))\n",
    "\n",
    "    # Calculate the adjusted RMS for the noise to achieve the desired SNR\n",
    "    adjusted_noise_rms = owl_rms / np.sqrt(snr_linear)\n",
    "\n",
    "    # Calculate the adjustment needed in dBFS\n",
    "    adjustment_dBFS = 20 * np.log10(adjusted_noise_rms / (noise_rms if noise_rms > 0 else 1))\n",
    "\n",
    "    # Apply the adjustment to the noise audio\n",
    "    noise_audio = noise_audio.apply_gain(adjustment_dBFS - noise_audio.dBFS)\n",
    "\n",
    "    # Overlay the owl audio with the adjusted noise\n",
    "    combined_audio = owl_audio.overlay(noise_audio)\n",
    "\n",
    "    # Save the overlayed audio to the output folder\n",
    "    output_filename = f\"overlaid_{owl_file}\"\n",
    "    output_path = os.path.join(output_folder_path, output_filename)\n",
    "    combined_audio.export(output_path, format=\"wav\")\n",
    "\n",
    "print(\"Noise overlay process with varying SNR completed.\")"
   ]
  }
 ],
 "metadata": {
  "kernelspec": {
   "display_name": "OpenSoundscape",
   "language": "python",
   "name": "opensoundscape"
  },
  "language_info": {
   "codemirror_mode": {
    "name": "ipython",
    "version": 3
   },
   "file_extension": ".py",
   "mimetype": "text/x-python",
   "name": "python",
   "nbconvert_exporter": "python",
   "pygments_lexer": "ipython3",
   "version": "3.9.17"
  }
 },
 "nbformat": 4,
 "nbformat_minor": 5
}
