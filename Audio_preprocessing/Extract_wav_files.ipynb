{
 "cells": [
  {
   "cell_type": "markdown",
   "id": "45c53ac6-89d5-4b90-a3b8-46611125afa4",
   "metadata": {},
   "source": [
    "#### Extract specific files based on annotations"
   ]
  },
  {
   "cell_type": "code",
   "execution_count": 1,
   "id": "73bba494-bdbc-4701-9f5d-f41bab4066e7",
   "metadata": {},
   "outputs": [],
   "source": [
    "import os\n",
    "import pandas as pd\n",
    "import shutil"
   ]
  },
  {
   "cell_type": "code",
   "execution_count": null,
   "id": "070605de-5cc6-4905-93d9-aa641d9d8459",
   "metadata": {},
   "outputs": [],
   "source": [
    "# Define the directory containing the .wav files and the .txt file\n",
    "directory = '/mnt/e/cantos_XenoCantoML\\Athene cunicularia_Burrowing Owl/'  # Replace with the path to your directory"
   ]
  },
  {
   "cell_type": "code",
   "execution_count": null,
   "id": "0d28ec62-2bb7-48d7-881e-c0ff75b7a8a2",
   "metadata": {},
   "outputs": [],
   "source": [
    "# Load the .txt file into a pandas DataFrame\n",
    "txt_file = os.path.join(directory, 'validationfacu.txt')  # Replace with your .txt file name"
   ]
  },
  {
   "cell_type": "code",
   "execution_count": null,
   "id": "e82b061c-af28-4e40-9c40-a423ea4214de",
   "metadata": {},
   "outputs": [],
   "source": [
    "df = pd.read_csv(txt_file, delimiter='\\t')  # Adjust the delimiter if it's not a tab"
   ]
  },
  {
   "cell_type": "code",
   "execution_count": null,
   "id": "004abb10-c388-43cc-bcdc-e6a4d4898718",
   "metadata": {},
   "outputs": [],
   "source": [
    "# Create a dictionary to store file paths grouped by annotations\n",
    "files_by_annotation = {}\n",
    "\n",
    "# Iterate over each row in the DataFrame\n",
    "for _, row in df.iterrows():\n",
    "    file_name = row['Begin File']\n",
    "    annotation = row['Annotation']\n",
    "\n",
    "    # Create a directory for the annotation if it doesn't exist\n",
    "    annotation_dir = os.path.join(directory, annotation)\n",
    "    if not os.path.exists(annotation_dir):\n",
    "        os.makedirs(annotation_dir)\n",
    "\n",
    "    # Copy the .wav file to the corresponding annotation directory\n",
    "    src_file_path = os.path.join(directory, file_name)\n",
    "    if os.path.exists(src_file_path):\n",
    "        shutil.copy(src_file_path, annotation_dir)\n",
    "    else:\n",
    "        print(f\"File {file_name} not found in the directory.\")\n",
    "\n",
    "print(\"Files have been successfully organized based on annotations.\")"
   ]
  },
  {
   "cell_type": "markdown",
   "id": "ea128e05-5619-4a7a-9c6b-98b2dcb14aba",
   "metadata": {},
   "source": [
    "### Extract files based on their score"
   ]
  },
  {
   "cell_type": "code",
   "execution_count": null,
   "id": "73305232-c146-46e2-abbf-c7dee5c409d4",
   "metadata": {},
   "outputs": [],
   "source": [
    "import os \n",
    "import shutil  # Import shutil to move files"
   ]
  },
  {
   "cell_type": "code",
   "execution_count": null,
   "id": "6e2ed076-8dd7-44b6-8bf3-bf23820d6168",
   "metadata": {},
   "outputs": [],
   "source": [
    "# Define the directory containing the .wav files and the .txt file\n",
    "directory = '/mnt/e/retraining_BirdNET/model_train/2nd_train/Background/'  # Replace with the path to your directory"
   ]
  },
  {
   "cell_type": "code",
   "execution_count": null,
   "id": "7f6a1807-68ac-46b0-839a-897eb562a0d0",
   "metadata": {},
   "outputs": [],
   "source": [
    "def get_recordings_above_score (directory):\n",
    "    # Define the name of the new subdirectory for files with a score above 0.3\n",
    "    new_dir = os.path.join(directory, \"files_above_score\") \n",
    "    \n",
    "    # Create the new directory if it doesn't exist\n",
    "    if not os.path.exists(new_dir):\n",
    "        os.makedirs(new_dir)\n",
    "        \n",
    "    # Loop over every file in the specified directory\n",
    "    for filename in os.listdir(directory):\n",
    "        if filename.endswith(\".wav\"):\n",
    "            # Split filename into parts based on underscores\n",
    "            parts= filename.split('_')\n",
    "            \n",
    "            # Extract the first part and convert it to a float to represent the score\n",
    "            try:\n",
    "                score = float(parts[0])\n",
    "            except ValueError:\n",
    "                print(f\"Skipping ile with invalid score format: {filename}\")\n",
    "                continue\n",
    "                \n",
    "            \n",
    "            # Check is the score is above 0.3\n",
    "            if score > 0.25:\n",
    "                # Move the .wav file to the \"files_above_score\" directory\n",
    "                src_file_path = os.path.join(directory, filename)\n",
    "                dest_file_path = os.path.join(new_dir, filename)\n",
    "                shutil.move(src_file_path, dest_file_path)\n",
    "                \n"
   ]
  },
  {
   "cell_type": "code",
   "execution_count": null,
   "id": "65936cbc-c301-4847-9736-140a9abf68ed",
   "metadata": {},
   "outputs": [],
   "source": [
    "# Call the function to mode files with score above 0.25\n",
    "\n",
    "get_recordings_above_score(directory)\n",
    "                "
   ]
  }
 ],
 "metadata": {
  "kernelspec": {
   "display_name": "Python 3 (ipykernel)",
   "language": "python",
   "name": "python3"
  },
  "language_info": {
   "codemirror_mode": {
    "name": "ipython",
    "version": 3
   },
   "file_extension": ".py",
   "mimetype": "text/x-python",
   "name": "python",
   "nbconvert_exporter": "python",
   "pygments_lexer": "ipython3",
   "version": "3.9.17"
  }
 },
 "nbformat": 4,
 "nbformat_minor": 5
}
