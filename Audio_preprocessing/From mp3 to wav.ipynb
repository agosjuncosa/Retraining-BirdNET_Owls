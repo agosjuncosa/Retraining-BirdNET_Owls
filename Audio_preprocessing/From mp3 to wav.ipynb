{
 "cells": [
  {
   "cell_type": "markdown",
   "id": "b03ed02a-65ef-4e9c-b6bf-dffe72fe8e4b",
   "metadata": {},
   "source": [
    "### From mp3 to wav"
   ]
  },
  {
   "cell_type": "code",
   "execution_count": 1,
   "id": "60935a58-0100-4c06-8352-f483e318f4a8",
   "metadata": {
    "tags": []
   },
   "outputs": [],
   "source": [
    "import os\n",
    "from pydub import AudioSegment"
   ]
  },
  {
   "cell_type": "code",
   "execution_count": 2,
   "id": "adde3f9a-6078-44d1-988c-7dc3cffdff85",
   "metadata": {
    "tags": []
   },
   "outputs": [
    {
     "name": "stdout",
     "output_type": "stream",
     "text": [
      "Converted: /mnt/e/cantos_XenoCantoML/Athene cunicularia_Burrowing Owl/XC15391 - Burrowing Owl - Athene cunicularia.mp3 to /mnt/e/cantos_XenoCantoML/Athene cunicularia_Burrowing Owl/XC15391 - Burrowing Owl - Athene cunicularia.wav\n",
      "Converted: /mnt/e/cantos_XenoCantoML/Athene cunicularia_Burrowing Owl/XC95194 - Burrowing Owl - Athene cunicularia.mp3 to /mnt/e/cantos_XenoCantoML/Athene cunicularia_Burrowing Owl/XC95194 - Burrowing Owl - Athene cunicularia.wav\n",
      "Converted: /mnt/e/cantos_XenoCantoML/Athene cunicularia_Burrowing Owl/XC95195 - Burrowing Owl - Athene cunicularia.mp3 to /mnt/e/cantos_XenoCantoML/Athene cunicularia_Burrowing Owl/XC95195 - Burrowing Owl - Athene cunicularia.wav\n",
      "Converted: /mnt/e/cantos_XenoCantoML/Athene cunicularia_Burrowing Owl/XC619179 - Burrowing Owl - Athene cunicularia.mp3 to /mnt/e/cantos_XenoCantoML/Athene cunicularia_Burrowing Owl/XC619179 - Burrowing Owl - Athene cunicularia.wav\n",
      "Converted: /mnt/e/cantos_XenoCantoML/Athene cunicularia_Burrowing Owl/XC51615 - Burrowing Owl - Athene cunicularia.mp3 to /mnt/e/cantos_XenoCantoML/Athene cunicularia_Burrowing Owl/XC51615 - Burrowing Owl - Athene cunicularia.wav\n",
      "Converted: /mnt/e/cantos_XenoCantoML/Athene cunicularia_Burrowing Owl/XC922810 - Burrowing Owl - Athene cunicularia.mp3 to /mnt/e/cantos_XenoCantoML/Athene cunicularia_Burrowing Owl/XC922810 - Burrowing Owl - Athene cunicularia.wav\n",
      "Converted: /mnt/e/cantos_XenoCantoML/Athene cunicularia_Burrowing Owl/XC35845 - Burrowing Owl - Athene cunicularia.mp3 to /mnt/e/cantos_XenoCantoML/Athene cunicularia_Burrowing Owl/XC35845 - Burrowing Owl - Athene cunicularia.wav\n",
      "Converted: /mnt/e/cantos_XenoCantoML/Athene cunicularia_Burrowing Owl/XC90476 - Burrowing Owl - Athene cunicularia.mp3 to /mnt/e/cantos_XenoCantoML/Athene cunicularia_Burrowing Owl/XC90476 - Burrowing Owl - Athene cunicularia.wav\n",
      "Converted: /mnt/e/cantos_XenoCantoML/Athene cunicularia_Burrowing Owl/XC172849 - Burrowing Owl - Athene cunicularia.mp3 to /mnt/e/cantos_XenoCantoML/Athene cunicularia_Burrowing Owl/XC172849 - Burrowing Owl - Athene cunicularia.wav\n",
      "Converted: /mnt/e/cantos_XenoCantoML/Athene cunicularia_Burrowing Owl/XC420509 - Burrowing Owl - Athene cunicularia.mp3 to /mnt/e/cantos_XenoCantoML/Athene cunicularia_Burrowing Owl/XC420509 - Burrowing Owl - Athene cunicularia.wav\n",
      "Converted: /mnt/e/cantos_XenoCantoML/Athene cunicularia_Burrowing Owl/XC592729 - Burrowing Owl - Athene cunicularia.mp3 to /mnt/e/cantos_XenoCantoML/Athene cunicularia_Burrowing Owl/XC592729 - Burrowing Owl - Athene cunicularia.wav\n",
      "Converted: /mnt/e/cantos_XenoCantoML/Athene cunicularia_Burrowing Owl/XC84917 - Burrowing Owl - Athene cunicularia grallaria.mp3 to /mnt/e/cantos_XenoCantoML/Athene cunicularia_Burrowing Owl/XC84917 - Burrowing Owl - Athene cunicularia grallaria.wav\n",
      "Converted: /mnt/e/cantos_XenoCantoML/Athene cunicularia_Burrowing Owl/XC185787 - Burrowing Owl - Athene cunicularia.mp3 to /mnt/e/cantos_XenoCantoML/Athene cunicularia_Burrowing Owl/XC185787 - Burrowing Owl - Athene cunicularia.wav\n",
      "Converted: /mnt/e/cantos_XenoCantoML/Athene cunicularia_Burrowing Owl/XC229818 - Burrowing Owl - Athene cunicularia.mp3 to /mnt/e/cantos_XenoCantoML/Athene cunicularia_Burrowing Owl/XC229818 - Burrowing Owl - Athene cunicularia.wav\n",
      "Converted: /mnt/e/cantos_XenoCantoML/Athene cunicularia_Burrowing Owl/XC789517 - Burrowing Owl - Athene cunicularia.mp3 to /mnt/e/cantos_XenoCantoML/Athene cunicularia_Burrowing Owl/XC789517 - Burrowing Owl - Athene cunicularia.wav\n",
      "Converted: /mnt/e/cantos_XenoCantoML/Athene cunicularia_Burrowing Owl/XC797575 - Burrowing Owl - Athene cunicularia.mp3 to /mnt/e/cantos_XenoCantoML/Athene cunicularia_Burrowing Owl/XC797575 - Burrowing Owl - Athene cunicularia.wav\n"
     ]
    }
   ],
   "source": [
    "# Dir where the .mp3 files are located\n",
    "directory = '/mnt/e/cantos_XenoCantoML/Athene cunicularia_Burrowing Owl/'\n",
    "\n",
    "# Function to convert mp3 to wav\n",
    "def convert_mp3_to_wav(mp3_path, wav_path):\n",
    "    try:\n",
    "        # Load the mp3 file\n",
    "        audio = AudioSegment.from_mp3(mp3_path)\n",
    "        # Export the audio as wav\n",
    "        audio.export(wav_path, format=\"wav\")\n",
    "        print(f\"Converted: {mp3_path} to {wav_path}\")\n",
    "    except Exception as e:\n",
    "        print(f\"Error converting {mp3_path}: {e}\")\n",
    "\n",
    "# Traverse the directory and look for mp3 files\n",
    "for root, dirs, files in os.walk(directory):\n",
    "    for file in files:\n",
    "        if file.endswith(\".mp3\"):\n",
    "            mp3_file_path = os.path.join(root, file)\n",
    "            wav_file_path = os.path.join(root, os.path.splitext(file)[0] + \".wav\")\n",
    "            convert_mp3_to_wav(mp3_file_path, wav_file_path)\n"
   ]
  },
  {
   "cell_type": "code",
   "execution_count": null,
   "id": "06d74c87-e526-429a-bfd3-e707324adcf2",
   "metadata": {},
   "outputs": [],
   "source": []
  }
 ],
 "metadata": {
  "kernelspec": {
   "display_name": "Python 3 (ipykernel)",
   "language": "python",
   "name": "python3"
  },
  "language_info": {
   "codemirror_mode": {
    "name": "ipython",
    "version": 3
   },
   "file_extension": ".py",
   "mimetype": "text/x-python",
   "name": "python",
   "nbconvert_exporter": "python",
   "pygments_lexer": "ipython3",
   "version": "3.9.17"
  }
 },
 "nbformat": 4,
 "nbformat_minor": 5
}
