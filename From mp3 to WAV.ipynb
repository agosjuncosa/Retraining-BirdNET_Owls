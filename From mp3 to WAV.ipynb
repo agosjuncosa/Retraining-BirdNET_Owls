{
 "cells": [
  {
   "cell_type": "markdown",
   "id": "6eb18da0-32f5-46eb-b1a6-af81cc718da0",
   "metadata": {},
   "source": [
    "### Transforming all audio files from .mp3 to .WAV"
   ]
  },
  {
   "cell_type": "code",
   "execution_count": 1,
   "id": "533fef27-2c20-4397-a6b9-fdc72c09a37c",
   "metadata": {},
   "outputs": [],
   "source": [
    "from pydub import AudioSegment\n",
    "import os"
   ]
  },
  {
   "cell_type": "code",
   "execution_count": 4,
   "id": "f76a0eac-46e4-464e-9810-95c76595d54f",
   "metadata": {},
   "outputs": [
    {
     "name": "stdout",
     "output_type": "stream",
     "text": [
      "Converted 444819971.mp3 to wav.\n"
     ]
    }
   ],
   "source": [
    "def convert_mp3_to_wav(directory):\n",
    "    # Check if the directory exists\n",
    "    if not os.path.exists(directory):\n",
    "        print(f\"The directory {directory} does not exist.\")\n",
    "        return\n",
    "    \n",
    "    # List all files in the directory\n",
    "    files = os.listdir(directory)\n",
    "    \n",
    "    # Filter for mp3 files\n",
    "    mp3_files = [file for file in files if file.endswith('.mp3')]\n",
    "    \n",
    "    if not mp3_files:\n",
    "        print(\"No .mp3 files found in the directory.\")\n",
    "        return\n",
    "\n",
    "    # Convert each mp3 file to WAV\n",
    "    for mp3_file in mp3_files:\n",
    "        mp3_path = os.path.join(directory, mp3_file)\n",
    "        wav_path = os.path.join(directory, os.path.splitext(mp3_file)[0] + '.wav')\n",
    "        \n",
    "        # Load the mp3 file\n",
    "        audio = AudioSegment.from_mp3(mp3_path)\n",
    "        \n",
    "        # Export as WAV\n",
    "        audio.export(wav_path, format='wav')\n",
    "        print(f\"Converted {mp3_file} to wav.\")\n",
    "\n",
    "# Example usage\n",
    "directory = '/mnt/e/cantos_XenoCantoML/Etiquetar/Strix hylophila'\n",
    "convert_mp3_to_wav(directory)"
   ]
  }
 ],
 "metadata": {
  "kernelspec": {
   "display_name": "OpenSoundscape",
   "language": "python",
   "name": "opensoundscape"
  },
  "language_info": {
   "codemirror_mode": {
    "name": "ipython",
    "version": 3
   },
   "file_extension": ".py",
   "mimetype": "text/x-python",
   "name": "python",
   "nbconvert_exporter": "python",
   "pygments_lexer": "ipython3",
   "version": "3.9.17"
  }
 },
 "nbformat": 4,
 "nbformat_minor": 5
}
