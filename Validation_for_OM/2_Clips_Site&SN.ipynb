{
 "cells": [
  {
   "cell_type": "markdown",
   "id": "2efa0e96-639f-4141-bc14-7a157c0cf74c",
   "metadata": {},
   "source": [
    "### Extract top-N scoring clips per Site ID and SN. "
   ]
  },
  {
   "cell_type": "markdown",
   "id": "3deeeb9f-756f-4e31-bc91-6ab2c9508f4f",
   "metadata": {},
   "source": [
    "Then we will sort the predictions by score using the column 'Confidence' and select the top-N clip per site and survey night. Then save this selection (including the column begin Path, confidence and offset) to use it in the next step that will be extract the clips from long recorings using Audio from OpenSoundscape."
   ]
  },
  {
   "cell_type": "code",
   "execution_count": 1,
   "id": "19472272-2167-48a9-922c-3c491a645b77",
   "metadata": {},
   "outputs": [
    {
     "name": "stderr",
     "output_type": "stream",
     "text": [
      "/home/agosjuncosa/anaconda3/envs/opensoundscape/lib/python3.9/site-packages/opensoundscape/ml/cnn.py:18: TqdmExperimentalWarning: Using `tqdm.autonotebook.tqdm` in notebook mode. Use `tqdm.tqdm` instead to force console mode (e.g. in jupyter console)\n",
      "  from tqdm.autonotebook import tqdm\n"
     ]
    }
   ],
   "source": [
    "import os\n",
    "import pandas as pd\n",
    "from pathlib import Path\n",
    "from opensoundscape import Audio\n",
    "from tqdm.autonotebook import tqdm"
   ]
  },
  {
   "cell_type": "code",
   "execution_count": 17,
   "id": "816e78fb-732c-4988-b487-01b9355e4a32",
   "metadata": {},
   "outputs": [],
   "source": [
    "main_dir = \"/mnt/d/night_recordings_analysis/Mottled Owl_song/\"\n",
    "top_n = 1  # Set the number of top clips per Site_ID and SN\n",
    "clip_duration = 3  # seconds"
   ]
  },
  {
   "cell_type": "code",
   "execution_count": 18,
   "id": "b35a0c6f-a1a1-4643-abba-3e46c9a3ca01",
   "metadata": {},
   "outputs": [],
   "source": [
    "# STEP 1: Load and rename columns\n",
    "predictions = pd.read_csv(os.path.join(main_dir, \"motowl_song_SelectionTable.txt\"), sep='\\t')\n",
    "\n",
    "predictions.rename(columns={\n",
    "    'Begin Path': 'file_path',\n",
    "    'File Offset (s)': 'offset',\n",
    "    'Common Name': 'class',\n",
    "    'Species Code': 'class_code',\n",
    "    'Confidence': 'score',\n",
    "}, inplace=True)"
   ]
  },
  {
   "cell_type": "markdown",
   "id": "f3642c06-21f7-4565-a305-ffa9e687e383",
   "metadata": {},
   "source": [
    "Sort predictions by score and Site ID, SN & Score and select the top N clips "
   ]
  },
  {
   "cell_type": "code",
   "execution_count": 19,
   "id": "57067f5e-e6a5-45b7-9666-a7a3976eb270",
   "metadata": {},
   "outputs": [
    {
     "data": {
      "text/html": [
       "<div>\n",
       "<style scoped>\n",
       "    .dataframe tbody tr th:only-of-type {\n",
       "        vertical-align: middle;\n",
       "    }\n",
       "\n",
       "    .dataframe tbody tr th {\n",
       "        vertical-align: top;\n",
       "    }\n",
       "\n",
       "    .dataframe thead th {\n",
       "        text-align: right;\n",
       "    }\n",
       "</style>\n",
       "<table border=\"1\" class=\"dataframe\">\n",
       "  <thead>\n",
       "    <tr style=\"text-align: right;\">\n",
       "      <th></th>\n",
       "      <th>Selection</th>\n",
       "      <th>class</th>\n",
       "      <th>class_code</th>\n",
       "      <th>score</th>\n",
       "      <th>file_path</th>\n",
       "      <th>offset</th>\n",
       "      <th>Site_ID</th>\n",
       "      <th>SN</th>\n",
       "    </tr>\n",
       "  </thead>\n",
       "  <tbody>\n",
       "    <tr>\n",
       "      <th>46298</th>\n",
       "      <td>46299</td>\n",
       "      <td>Mottled Owl_song</td>\n",
       "      <td>Ciccaba virgata_Mottled Owl_song</td>\n",
       "      <td>0.9978</td>\n",
       "      <td>/mnt/d/Disco3_Backup/night_recordings/M5-ARU21...</td>\n",
       "      <td>99.0</td>\n",
       "      <td>M5</td>\n",
       "      <td>8</td>\n",
       "    </tr>\n",
       "    <tr>\n",
       "      <th>46388</th>\n",
       "      <td>46389</td>\n",
       "      <td>Mottled Owl_song</td>\n",
       "      <td>Ciccaba virgata_Mottled Owl_song</td>\n",
       "      <td>0.9954</td>\n",
       "      <td>/mnt/d/Disco3_Backup/night_recordings/M5-ARU21...</td>\n",
       "      <td>18.0</td>\n",
       "      <td>M5</td>\n",
       "      <td>8</td>\n",
       "    </tr>\n",
       "    <tr>\n",
       "      <th>46377</th>\n",
       "      <td>46378</td>\n",
       "      <td>Mottled Owl_song</td>\n",
       "      <td>Ciccaba virgata_Mottled Owl_song</td>\n",
       "      <td>0.9937</td>\n",
       "      <td>/mnt/d/Disco3_Backup/night_recordings/M5-ARU21...</td>\n",
       "      <td>105.0</td>\n",
       "      <td>M5</td>\n",
       "      <td>8</td>\n",
       "    </tr>\n",
       "    <tr>\n",
       "      <th>46251</th>\n",
       "      <td>46252</td>\n",
       "      <td>Mottled Owl_song</td>\n",
       "      <td>Ciccaba virgata_Mottled Owl_song</td>\n",
       "      <td>0.9925</td>\n",
       "      <td>/mnt/d/Disco3_Backup/night_recordings/M5-ARU21...</td>\n",
       "      <td>63.0</td>\n",
       "      <td>M5</td>\n",
       "      <td>8</td>\n",
       "    </tr>\n",
       "    <tr>\n",
       "      <th>46406</th>\n",
       "      <td>46407</td>\n",
       "      <td>Mottled Owl_song</td>\n",
       "      <td>Ciccaba virgata_Mottled Owl_song</td>\n",
       "      <td>0.9921</td>\n",
       "      <td>/mnt/d/Disco3_Backup/night_recordings/M5-ARU21...</td>\n",
       "      <td>75.0</td>\n",
       "      <td>M5</td>\n",
       "      <td>8</td>\n",
       "    </tr>\n",
       "  </tbody>\n",
       "</table>\n",
       "</div>"
      ],
      "text/plain": [
       "       Selection             class                        class_code   score  \\\n",
       "46298      46299  Mottled Owl_song  Ciccaba virgata_Mottled Owl_song  0.9978   \n",
       "46388      46389  Mottled Owl_song  Ciccaba virgata_Mottled Owl_song  0.9954   \n",
       "46377      46378  Mottled Owl_song  Ciccaba virgata_Mottled Owl_song  0.9937   \n",
       "46251      46252  Mottled Owl_song  Ciccaba virgata_Mottled Owl_song  0.9925   \n",
       "46406      46407  Mottled Owl_song  Ciccaba virgata_Mottled Owl_song  0.9921   \n",
       "\n",
       "                                               file_path  offset Site_ID  SN  \n",
       "46298  /mnt/d/Disco3_Backup/night_recordings/M5-ARU21...    99.0      M5   8  \n",
       "46388  /mnt/d/Disco3_Backup/night_recordings/M5-ARU21...    18.0      M5   8  \n",
       "46377  /mnt/d/Disco3_Backup/night_recordings/M5-ARU21...   105.0      M5   8  \n",
       "46251  /mnt/d/Disco3_Backup/night_recordings/M5-ARU21...    63.0      M5   8  \n",
       "46406  /mnt/d/Disco3_Backup/night_recordings/M5-ARU21...    75.0      M5   8  "
      ]
     },
     "execution_count": 19,
     "metadata": {},
     "output_type": "execute_result"
    }
   ],
   "source": [
    "# STEP 2: Group and select top-N clips per Site_ID and SN\n",
    "\n",
    "predictions_sorted = predictions.sort_values(by='score', ascending=False)\n",
    "predictions_sorted.head()"
   ]
  },
  {
   "cell_type": "code",
   "execution_count": 20,
   "id": "8279d4db-1f49-41da-8954-7950826b55a6",
   "metadata": {},
   "outputs": [
    {
     "data": {
      "text/html": [
       "<div>\n",
       "<style scoped>\n",
       "    .dataframe tbody tr th:only-of-type {\n",
       "        vertical-align: middle;\n",
       "    }\n",
       "\n",
       "    .dataframe tbody tr th {\n",
       "        vertical-align: top;\n",
       "    }\n",
       "\n",
       "    .dataframe thead th {\n",
       "        text-align: right;\n",
       "    }\n",
       "</style>\n",
       "<table border=\"1\" class=\"dataframe\">\n",
       "  <thead>\n",
       "    <tr style=\"text-align: right;\">\n",
       "      <th></th>\n",
       "      <th>Selection</th>\n",
       "      <th>class</th>\n",
       "      <th>class_code</th>\n",
       "      <th>score</th>\n",
       "      <th>file_path</th>\n",
       "      <th>offset</th>\n",
       "      <th>Site_ID</th>\n",
       "      <th>SN</th>\n",
       "    </tr>\n",
       "  </thead>\n",
       "  <tbody>\n",
       "    <tr>\n",
       "      <th>0</th>\n",
       "      <td>46299</td>\n",
       "      <td>Mottled Owl_song</td>\n",
       "      <td>Ciccaba virgata_Mottled Owl_song</td>\n",
       "      <td>0.9978</td>\n",
       "      <td>/mnt/d/Disco3_Backup/night_recordings/M5-ARU21...</td>\n",
       "      <td>99.0</td>\n",
       "      <td>M5</td>\n",
       "      <td>8</td>\n",
       "    </tr>\n",
       "    <tr>\n",
       "      <th>1</th>\n",
       "      <td>48072</td>\n",
       "      <td>Mottled Owl_song</td>\n",
       "      <td>Ciccaba virgata_Mottled Owl_song</td>\n",
       "      <td>0.9730</td>\n",
       "      <td>/mnt/d/Disco3_Backup/night_recordings/M5-ARU21...</td>\n",
       "      <td>84.0</td>\n",
       "      <td>M5</td>\n",
       "      <td>14</td>\n",
       "    </tr>\n",
       "    <tr>\n",
       "      <th>2</th>\n",
       "      <td>101399</td>\n",
       "      <td>Mottled Owl_song</td>\n",
       "      <td>Ciccaba virgata_Mottled Owl_song</td>\n",
       "      <td>0.2696</td>\n",
       "      <td>/mnt/d/Disco4_Backup/night_recordings/M27-ARU3...</td>\n",
       "      <td>54.0</td>\n",
       "      <td>M27</td>\n",
       "      <td>13</td>\n",
       "    </tr>\n",
       "    <tr>\n",
       "      <th>3</th>\n",
       "      <td>28323</td>\n",
       "      <td>Mottled Owl_song</td>\n",
       "      <td>Ciccaba virgata_Mottled Owl_song</td>\n",
       "      <td>0.2242</td>\n",
       "      <td>/mnt/d/Disco3_Backup/night_recordings/CH9-ARU1...</td>\n",
       "      <td>48.0</td>\n",
       "      <td>CH9</td>\n",
       "      <td>15</td>\n",
       "    </tr>\n",
       "    <tr>\n",
       "      <th>4</th>\n",
       "      <td>84531</td>\n",
       "      <td>Mottled Owl_song</td>\n",
       "      <td>Ciccaba virgata_Mottled Owl_song</td>\n",
       "      <td>0.2161</td>\n",
       "      <td>/mnt/d/Disco6_Backup/night_recordings/CH47-ARU...</td>\n",
       "      <td>30.0</td>\n",
       "      <td>CH47</td>\n",
       "      <td>4</td>\n",
       "    </tr>\n",
       "  </tbody>\n",
       "</table>\n",
       "</div>"
      ],
      "text/plain": [
       "   Selection             class                        class_code   score  \\\n",
       "0      46299  Mottled Owl_song  Ciccaba virgata_Mottled Owl_song  0.9978   \n",
       "1      48072  Mottled Owl_song  Ciccaba virgata_Mottled Owl_song  0.9730   \n",
       "2     101399  Mottled Owl_song  Ciccaba virgata_Mottled Owl_song  0.2696   \n",
       "3      28323  Mottled Owl_song  Ciccaba virgata_Mottled Owl_song  0.2242   \n",
       "4      84531  Mottled Owl_song  Ciccaba virgata_Mottled Owl_song  0.2161   \n",
       "\n",
       "                                           file_path  offset Site_ID  SN  \n",
       "0  /mnt/d/Disco3_Backup/night_recordings/M5-ARU21...    99.0      M5   8  \n",
       "1  /mnt/d/Disco3_Backup/night_recordings/M5-ARU21...    84.0      M5  14  \n",
       "2  /mnt/d/Disco4_Backup/night_recordings/M27-ARU3...    54.0     M27  13  \n",
       "3  /mnt/d/Disco3_Backup/night_recordings/CH9-ARU1...    48.0     CH9  15  \n",
       "4  /mnt/d/Disco6_Backup/night_recordings/CH47-ARU...    30.0    CH47   4  "
      ]
     },
     "execution_count": 20,
     "metadata": {},
     "output_type": "execute_result"
    }
   ],
   "source": [
    "top_clips = predictions_sorted.groupby(['Site_ID', 'SN']).head(top_n).reset_index(drop=True)\n",
    "top_clips.head()"
   ]
  },
  {
   "cell_type": "markdown",
   "id": "b064e317-5c83-4bd3-9e76-1f5b4b7ea372",
   "metadata": {},
   "source": [
    "Using the 'file_path' column & 'offset', **extract the clips from long recordings for validation**"
   ]
  },
  {
   "cell_type": "code",
   "execution_count": 21,
   "id": "bbe3e263-0af3-4d30-8460-6030669d0406",
   "metadata": {},
   "outputs": [
    {
     "name": "stdout",
     "output_type": "stream",
     "text": [
      "Saved: /mnt/d/night_recordings_analysis/Mottled Owl_song/0.9978_99_m5_sn8.wav\n",
      "Saved: /mnt/d/night_recordings_analysis/Mottled Owl_song/0.9730_84_m5_sn14.wav\n",
      "Saved: /mnt/d/night_recordings_analysis/Mottled Owl_song/0.2696_54_m27_sn13.wav\n",
      "Saved: /mnt/d/night_recordings_analysis/Mottled Owl_song/0.2242_48_ch9_sn15.wav\n",
      "Saved: /mnt/d/night_recordings_analysis/Mottled Owl_song/0.2161_30_ch47_sn4.wav\n",
      "Saved: /mnt/d/night_recordings_analysis/Mottled Owl_song/0.2151_51_ch3_sn4.wav\n",
      "Saved: /mnt/d/night_recordings_analysis/Mottled Owl_song/0.2109_39_ch47_sn2.wav\n",
      "Saved: /mnt/d/night_recordings_analysis/Mottled Owl_song/0.2099_102_m5_sn13.wav\n",
      "Saved: /mnt/d/night_recordings_analysis/Mottled Owl_song/0.2039_9_ch47_sn6.wav\n",
      "Saved: /mnt/d/night_recordings_analysis/Mottled Owl_song/0.1978_114_ch47_sn11.wav\n",
      "Saved: /mnt/d/night_recordings_analysis/Mottled Owl_song/0.1795_117_m4_sn1.wav\n",
      "Saved: /mnt/d/night_recordings_analysis/Mottled Owl_song/0.1761_57_ch25_sn15.wav\n",
      "Saved: /mnt/d/night_recordings_analysis/Mottled Owl_song/0.1618_60_ch47_sn7.wav\n",
      "Saved: /mnt/d/night_recordings_analysis/Mottled Owl_song/0.1595_48_p37_sn1.wav\n",
      "Saved: /mnt/d/night_recordings_analysis/Mottled Owl_song/0.1538_78_m43_sn2.wav\n",
      "Saved: /mnt/d/night_recordings_analysis/Mottled Owl_song/0.1498_18_m5_sn1.wav\n"
     ]
    },
    {
     "name": "stderr",
     "output_type": "stream",
     "text": [
      "/home/agosjuncosa/anaconda3/envs/opensoundscape/lib/python3.9/site-packages/opensoundscape/audio.py:340: UserWarning: Audio object is shorter than requested duration: 2.0 sec instead of 3 sec\n",
      "  warnings.warn(error_msg)\n"
     ]
    },
    {
     "name": "stdout",
     "output_type": "stream",
     "text": [
      "Saved: /mnt/d/night_recordings_analysis/Mottled Owl_song/0.1465_117_p26_sn8.wav\n",
      "Saved: /mnt/d/night_recordings_analysis/Mottled Owl_song/0.1450_27_m43_sn8.wav\n",
      "Saved: /mnt/d/night_recordings_analysis/Mottled Owl_song/0.1425_0_ch8_sn12.wav\n",
      "Saved: /mnt/d/night_recordings_analysis/Mottled Owl_song/0.1407_81_m5_sn16.wav\n",
      "Saved: /mnt/d/night_recordings_analysis/Mottled Owl_song/0.1277_30_p4_sn7.wav\n"
     ]
    },
    {
     "name": "stderr",
     "output_type": "stream",
     "text": [
      "/home/agosjuncosa/anaconda3/envs/opensoundscape/lib/python3.9/site-packages/opensoundscape/audio.py:340: UserWarning: Audio object is shorter than requested duration: 2.0 sec instead of 3 sec\n",
      "  warnings.warn(error_msg)\n"
     ]
    },
    {
     "name": "stdout",
     "output_type": "stream",
     "text": [
      "Saved: /mnt/d/night_recordings_analysis/Mottled Owl_song/0.1188_117_m27_sn20.wav\n",
      "Saved: /mnt/d/night_recordings_analysis/Mottled Owl_song/0.1181_108_m7_sn3.wav\n",
      "Saved: /mnt/d/night_recordings_analysis/Mottled Owl_song/0.1156_96_p35_sn13.wav\n",
      "Saved: /mnt/d/night_recordings_analysis/Mottled Owl_song/0.1092_72_ch8_sn16.wav\n",
      "Saved: /mnt/d/night_recordings_analysis/Mottled Owl_song/0.1088_21_ch37_sn8.wav\n",
      "Saved: /mnt/d/night_recordings_analysis/Mottled Owl_song/0.1075_30_m4_sn3.wav\n",
      "Saved: /mnt/d/night_recordings_analysis/Mottled Owl_song/0.1053_21_ch19_sn3.wav\n",
      "Saved: /mnt/d/night_recordings_analysis/Mottled Owl_song/0.1036_6_p47_sn14.wav\n",
      "Saved: /mnt/d/night_recordings_analysis/Mottled Owl_song/0.1012_90_ch38_sn3.wav\n",
      "Saved: /mnt/d/night_recordings_analysis/Mottled Owl_song/0.0998_117_ch9_sn3.wav\n",
      "Saved: /mnt/d/night_recordings_analysis/Mottled Owl_song/0.0984_0_ch8_sn17.wav\n",
      "Saved: /mnt/d/night_recordings_analysis/Mottled Owl_song/0.0930_69_m5_sn21.wav\n",
      "Saved: /mnt/d/night_recordings_analysis/Mottled Owl_song/0.0927_33_m7_sn2.wav\n",
      "Saved: /mnt/d/night_recordings_analysis/Mottled Owl_song/0.0911_3_m5_sn30.wav\n",
      "Saved: /mnt/d/night_recordings_analysis/Mottled Owl_song/0.0889_0_ch9_sn16.wav\n",
      "Saved: /mnt/d/night_recordings_analysis/Mottled Owl_song/0.0887_114_m1_sn10.wav\n",
      "Saved: /mnt/d/night_recordings_analysis/Mottled Owl_song/0.0879_24_ch38_sn1.wav\n",
      "Saved: /mnt/d/night_recordings_analysis/Mottled Owl_song/0.0861_18_ch5_sn3.wav\n",
      "Saved: /mnt/d/night_recordings_analysis/Mottled Owl_song/0.0850_21_m10_sn2.wav\n",
      "Saved: /mnt/d/night_recordings_analysis/Mottled Owl_song/0.0848_60_ch8_sn15.wav\n",
      "Saved: /mnt/d/night_recordings_analysis/Mottled Owl_song/0.0832_108_m5_sn12.wav\n",
      "Saved: /mnt/d/night_recordings_analysis/Mottled Owl_song/0.0818_27_m5_sn20.wav\n",
      "Saved: /mnt/d/night_recordings_analysis/Mottled Owl_song/0.0795_51_ch3_sn3.wav\n",
      "Saved: /mnt/d/night_recordings_analysis/Mottled Owl_song/0.0789_87_ch25_sn10.wav\n",
      "Saved: /mnt/d/night_recordings_analysis/Mottled Owl_song/0.0785_99_m5_sn29.wav\n",
      "Saved: /mnt/d/night_recordings_analysis/Mottled Owl_song/0.0744_63_ch9_sn6.wav\n",
      "Saved: /mnt/d/night_recordings_analysis/Mottled Owl_song/0.0723_30_m10_sn3.wav\n",
      "Saved: /mnt/d/night_recordings_analysis/Mottled Owl_song/0.0712_117_m11_sn17.wav\n",
      "Saved: /mnt/d/night_recordings_analysis/Mottled Owl_song/0.0708_30_ch9_sn12.wav\n",
      "Saved: /mnt/d/night_recordings_analysis/Mottled Owl_song/0.0704_42_ch19_sn5.wav\n",
      "Saved: /mnt/d/night_recordings_analysis/Mottled Owl_song/0.0674_69_ch38_sn14.wav\n",
      "Saved: /mnt/d/night_recordings_analysis/Mottled Owl_song/0.0671_18_ch22_sn26.wav\n",
      "Saved: /mnt/d/night_recordings_analysis/Mottled Owl_song/0.0665_117_m39_sn12.wav\n"
     ]
    },
    {
     "name": "stderr",
     "output_type": "stream",
     "text": [
      "/home/agosjuncosa/anaconda3/envs/opensoundscape/lib/python3.9/site-packages/opensoundscape/audio.py:340: UserWarning: Audio object is shorter than requested duration: 2.0 sec instead of 3 sec\n",
      "  warnings.warn(error_msg)\n"
     ]
    },
    {
     "name": "stdout",
     "output_type": "stream",
     "text": [
      "Saved: /mnt/d/night_recordings_analysis/Mottled Owl_song/0.0654_117_m43_sn7.wav\n",
      "Saved: /mnt/d/night_recordings_analysis/Mottled Owl_song/0.0648_39_ch3_sn2.wav\n",
      "Saved: /mnt/d/night_recordings_analysis/Mottled Owl_song/0.0644_15_p47_sn5.wav\n",
      "Saved: /mnt/d/night_recordings_analysis/Mottled Owl_song/0.0639_117_m31_sn26.wav\n"
     ]
    },
    {
     "name": "stderr",
     "output_type": "stream",
     "text": [
      "/home/agosjuncosa/anaconda3/envs/opensoundscape/lib/python3.9/site-packages/opensoundscape/audio.py:340: UserWarning: Audio object is shorter than requested duration: 2.0 sec instead of 3 sec\n",
      "  warnings.warn(error_msg)\n"
     ]
    },
    {
     "name": "stdout",
     "output_type": "stream",
     "text": [
      "Saved: /mnt/d/night_recordings_analysis/Mottled Owl_song/0.0631_30_ch38_sn17.wav\n",
      "Saved: /mnt/d/night_recordings_analysis/Mottled Owl_song/0.0625_105_m23_sn5.wav\n",
      "Saved: /mnt/d/night_recordings_analysis/Mottled Owl_song/0.0624_24_m10_sn15.wav\n",
      "Saved: /mnt/d/night_recordings_analysis/Mottled Owl_song/0.0612_39_m5_sn22.wav\n",
      "Saved: /mnt/d/night_recordings_analysis/Mottled Owl_song/0.0611_33_p17_sn13.wav\n",
      "Saved: /mnt/d/night_recordings_analysis/Mottled Owl_song/0.0601_27_m43_sn9.wav\n",
      "Saved: /mnt/d/night_recordings_analysis/Mottled Owl_song/0.0599_111_m39_sn1.wav\n",
      "Saved: /mnt/d/night_recordings_analysis/Mottled Owl_song/0.0598_87_m4_sn18.wav\n",
      "Saved: /mnt/d/night_recordings_analysis/Mottled Owl_song/0.0595_48_ch22_sn15.wav\n",
      "Saved: /mnt/d/night_recordings_analysis/Mottled Owl_song/0.0593_51_ch9_sn4.wav\n",
      "Saved: /mnt/d/night_recordings_analysis/Mottled Owl_song/0.0591_24_m10_sn7.wav\n",
      "Saved: /mnt/d/night_recordings_analysis/Mottled Owl_song/0.0577_60_m5_sn2.wav\n",
      "Saved: /mnt/d/night_recordings_analysis/Mottled Owl_song/0.0560_57_m4_sn7.wav\n",
      "Saved: /mnt/d/night_recordings_analysis/Mottled Owl_song/0.0554_90_ch47_sn15.wav\n",
      "Saved: /mnt/d/night_recordings_analysis/Mottled Owl_song/0.0550_108_p47_sn2.wav\n",
      "Saved: /mnt/d/night_recordings_analysis/Mottled Owl_song/0.0545_42_m5_sn24.wav\n",
      "Saved: /mnt/d/night_recordings_analysis/Mottled Owl_song/0.0541_3_m19_sn22.wav\n",
      "Saved: /mnt/d/night_recordings_analysis/Mottled Owl_song/0.0533_99_m9_sn9.wav\n",
      "Saved: /mnt/d/night_recordings_analysis/Mottled Owl_song/0.0531_87_m7_sn5.wav\n",
      "Saved: /mnt/d/night_recordings_analysis/Mottled Owl_song/0.0528_117_m31_sn27.wav\n"
     ]
    },
    {
     "name": "stderr",
     "output_type": "stream",
     "text": [
      "/home/agosjuncosa/anaconda3/envs/opensoundscape/lib/python3.9/site-packages/opensoundscape/audio.py:340: UserWarning: Audio object is shorter than requested duration: 2.0 sec instead of 3 sec\n",
      "  warnings.warn(error_msg)\n",
      "/home/agosjuncosa/anaconda3/envs/opensoundscape/lib/python3.9/site-packages/opensoundscape/audio.py:340: UserWarning: Audio object is shorter than requested duration: 2.0 sec instead of 3 sec\n",
      "  warnings.warn(error_msg)\n"
     ]
    },
    {
     "name": "stdout",
     "output_type": "stream",
     "text": [
      "Saved: /mnt/d/night_recordings_analysis/Mottled Owl_song/0.0528_117_m31_sn21.wav\n",
      "Saved: /mnt/d/night_recordings_analysis/Mottled Owl_song/0.0527_42_ch8_sn3.wav\n",
      "Saved: /mnt/d/night_recordings_analysis/Mottled Owl_song/0.0523_9_m16_sn23.wav\n",
      "Saved: /mnt/d/night_recordings_analysis/Mottled Owl_song/0.0521_96_ch9_sn9.wav\n",
      "Saved: /mnt/d/night_recordings_analysis/Mottled Owl_song/0.0518_99_m2_sn7.wav\n",
      "Saved: /mnt/d/night_recordings_analysis/Mottled Owl_song/0.0515_48_m27_sn3.wav\n",
      "Saved: /mnt/d/night_recordings_analysis/Mottled Owl_song/0.0511_6_m43_sn4.wav\n",
      "Saved: /mnt/d/night_recordings_analysis/Mottled Owl_song/0.0506_105_ch38_sn16.wav\n",
      "Saved: /mnt/d/night_recordings_analysis/Mottled Owl_song/0.0498_9_m16_sn24.wav\n",
      "Saved: /mnt/d/night_recordings_analysis/Mottled Owl_song/0.0497_75_m20_sn12.wav\n",
      "Saved: /mnt/d/night_recordings_analysis/Mottled Owl_song/0.0495_93_m43_sn5.wav\n",
      "Saved: /mnt/d/night_recordings_analysis/Mottled Owl_song/0.0493_33_ch9_sn1.wav\n",
      "Saved: /mnt/d/night_recordings_analysis/Mottled Owl_song/0.0492_15_ch27_sn7.wav\n",
      "Saved: /mnt/d/night_recordings_analysis/Mottled Owl_song/0.0491_51_m27_sn12.wav\n",
      "Saved: /mnt/d/night_recordings_analysis/Mottled Owl_song/0.0489_0_m16_sn22.wav\n",
      "Saved: /mnt/d/night_recordings_analysis/Mottled Owl_song/0.0486_54_m25_sn4.wav\n",
      "Saved: /mnt/d/night_recordings_analysis/Mottled Owl_song/0.0480_18_m19_sn1.wav\n",
      "Saved: /mnt/d/night_recordings_analysis/Mottled Owl_song/0.0480_48_m5_sn23.wav\n",
      "Saved: /mnt/d/night_recordings_analysis/Mottled Owl_song/0.0477_102_m31_sn7.wav\n",
      "Saved: /mnt/d/night_recordings_analysis/Mottled Owl_song/0.0474_114_ch25_sn12.wav\n",
      "Saved: /mnt/d/night_recordings_analysis/Mottled Owl_song/0.0466_54_ch19_sn12.wav\n",
      "Saved: /mnt/d/night_recordings_analysis/Mottled Owl_song/0.0465_63_m16_sn1.wav\n",
      "Saved: /mnt/d/night_recordings_analysis/Mottled Owl_song/0.0463_36_m43_sn3.wav\n",
      "Saved: /mnt/d/night_recordings_analysis/Mottled Owl_song/0.0459_6_m15_sn12.wav\n",
      "Saved: /mnt/d/night_recordings_analysis/Mottled Owl_song/0.0458_111_m44_sn4.wav\n",
      "Saved: /mnt/d/night_recordings_analysis/Mottled Owl_song/0.0457_30_ch38_sn2.wav\n",
      "Saved: /mnt/d/night_recordings_analysis/Mottled Owl_song/0.0456_54_ch9_sn5.wav\n",
      "Saved: /mnt/d/night_recordings_analysis/Mottled Owl_song/0.0453_84_m5_sn25.wav\n",
      "Saved: /mnt/d/night_recordings_analysis/Mottled Owl_song/0.0443_84_m10_sn14.wav\n",
      "Saved: /mnt/d/night_recordings_analysis/Mottled Owl_song/0.0442_39_m37_sn6.wav\n",
      "Saved: /mnt/d/night_recordings_analysis/Mottled Owl_song/0.0438_102_ch21_sn21.wav\n",
      "Saved: /mnt/d/night_recordings_analysis/Mottled Owl_song/0.0437_9_ch31_sn16.wav\n",
      "Saved: /mnt/d/night_recordings_analysis/Mottled Owl_song/0.0436_36_ch16_sn7.wav\n",
      "Saved: /mnt/d/night_recordings_analysis/Mottled Owl_song/0.0434_36_ch9_sn8.wav\n",
      "Saved: /mnt/d/night_recordings_analysis/Mottled Owl_song/0.0426_3_m31_sn20.wav\n",
      "Saved: /mnt/d/night_recordings_analysis/Mottled Owl_song/0.0417_63_ch8_sn6.wav\n",
      "Saved: /mnt/d/night_recordings_analysis/Mottled Owl_song/0.0415_12_m31_sn19.wav\n",
      "Saved: /mnt/d/night_recordings_analysis/Mottled Owl_song/0.0414_18_ch27_sn16.wav\n",
      "Saved: /mnt/d/night_recordings_analysis/Mottled Owl_song/0.0413_99_ch38_sn9.wav\n",
      "Saved: /mnt/d/night_recordings_analysis/Mottled Owl_song/0.0412_78_m31_sn23.wav\n",
      "Saved: /mnt/d/night_recordings_analysis/Mottled Owl_song/0.0410_51_ch16_sn1.wav\n",
      "Saved: /mnt/d/night_recordings_analysis/Mottled Owl_song/0.0407_30_m15_sn1.wav\n",
      "Saved: /mnt/d/night_recordings_analysis/Mottled Owl_song/0.0404_42_ch31_sn19.wav\n",
      "Saved: /mnt/d/night_recordings_analysis/Mottled Owl_song/0.0400_78_ch25_sn14.wav\n",
      "Saved: /mnt/d/night_recordings_analysis/Mottled Owl_song/0.0395_3_ch18_sn12.wav\n"
     ]
    },
    {
     "name": "stderr",
     "output_type": "stream",
     "text": [
      "/home/agosjuncosa/anaconda3/envs/opensoundscape/lib/python3.9/site-packages/opensoundscape/audio.py:340: UserWarning: Audio object is shorter than requested duration: 2.0 sec instead of 3 sec\n",
      "  warnings.warn(error_msg)\n"
     ]
    },
    {
     "name": "stdout",
     "output_type": "stream",
     "text": [
      "Saved: /mnt/d/night_recordings_analysis/Mottled Owl_song/0.0393_117_m31_sn25.wav\n",
      "Saved: /mnt/d/night_recordings_analysis/Mottled Owl_song/0.0391_75_ch15_sn4.wav\n",
      "Saved: /mnt/d/night_recordings_analysis/Mottled Owl_song/0.0391_87_m27_sn2.wav\n",
      "Saved: /mnt/d/night_recordings_analysis/Mottled Owl_song/0.0388_12_ch13_sn11.wav\n",
      "Saved: /mnt/d/night_recordings_analysis/Mottled Owl_song/0.0387_27_p41_sn16.wav\n",
      "Saved: /mnt/d/night_recordings_analysis/Mottled Owl_song/0.0386_60_m31_sn14.wav\n",
      "Saved: /mnt/d/night_recordings_analysis/Mottled Owl_song/0.0385_51_p17_sn10.wav\n",
      "Saved: /mnt/d/night_recordings_analysis/Mottled Owl_song/0.0381_117_ch25_sn11.wav\n",
      "Saved: /mnt/d/night_recordings_analysis/Mottled Owl_song/0.0380_57_m20_sn1.wav\n",
      "Saved: /mnt/d/night_recordings_analysis/Mottled Owl_song/0.0379_93_m4_sn5.wav\n",
      "Saved: /mnt/d/night_recordings_analysis/Mottled Owl_song/0.0376_60_m10_sn16.wav\n",
      "Saved: /mnt/d/night_recordings_analysis/Mottled Owl_song/0.0375_93_m4_sn2.wav\n",
      "Saved: /mnt/d/night_recordings_analysis/Mottled Owl_song/0.0374_87_p47_sn19.wav\n",
      "Saved: /mnt/d/night_recordings_analysis/Mottled Owl_song/0.0372_78_ch15_sn10.wav\n",
      "Saved: /mnt/d/night_recordings_analysis/Mottled Owl_song/0.0368_39_m31_sn6.wav\n",
      "Saved: /mnt/d/night_recordings_analysis/Mottled Owl_song/0.0364_6_ch19_sn4.wav\n",
      "Saved: /mnt/d/night_recordings_analysis/Mottled Owl_song/0.0361_24_m27_sn11.wav\n",
      "Saved: /mnt/d/night_recordings_analysis/Mottled Owl_song/0.0360_60_m35_sn1.wav\n",
      "Saved: /mnt/d/night_recordings_analysis/Mottled Owl_song/0.0359_114_ch20_sn4.wav\n",
      "Saved: /mnt/d/night_recordings_analysis/Mottled Owl_song/0.0355_45_m37_sn14.wav\n",
      "Saved: /mnt/d/night_recordings_analysis/Mottled Owl_song/0.0353_81_m43_sn27.wav\n",
      "Saved: /mnt/d/night_recordings_analysis/Mottled Owl_song/0.0353_24_m39_sn13.wav\n",
      "Saved: /mnt/d/night_recordings_analysis/Mottled Owl_song/0.0348_45_ch47_sn14.wav\n",
      "Saved: /mnt/d/night_recordings_analysis/Mottled Owl_song/0.0348_18_p41_sn20.wav\n",
      "Saved: /mnt/d/night_recordings_analysis/Mottled Owl_song/0.0348_111_m5_sn26.wav\n",
      "Saved: /mnt/d/night_recordings_analysis/Mottled Owl_song/0.0344_18_ch45_sn22.wav\n",
      "Saved: /mnt/d/night_recordings_analysis/Mottled Owl_song/0.0340_75_m47_sn9.wav\n",
      "Saved: /mnt/d/night_recordings_analysis/Mottled Owl_song/0.0340_69_ch16_sn13.wav\n",
      "Saved: /mnt/d/night_recordings_analysis/Mottled Owl_song/0.0338_117_m43_sn10.wav\n",
      "Saved: /mnt/d/night_recordings_analysis/Mottled Owl_song/0.0335_3_ch9_sn10.wav\n",
      "Saved: /mnt/d/night_recordings_analysis/Mottled Owl_song/0.0335_117_m15_sn2.wav\n",
      "Saved: /mnt/d/night_recordings_analysis/Mottled Owl_song/0.0333_90_p17_sn5.wav\n",
      "Saved: /mnt/d/night_recordings_analysis/Mottled Owl_song/0.0325_63_ch46_sn12.wav\n",
      "Saved: /mnt/d/night_recordings_analysis/Mottled Owl_song/0.0325_72_m19_sn10.wav\n",
      "Saved: /mnt/d/night_recordings_analysis/Mottled Owl_song/0.0323_48_p39_sn1.wav\n",
      "Saved: /mnt/d/night_recordings_analysis/Mottled Owl_song/0.0319_21_p47_sn18.wav\n",
      "Saved: /mnt/d/night_recordings_analysis/Mottled Owl_song/0.0319_75_m10_sn17.wav\n",
      "Saved: /mnt/d/night_recordings_analysis/Mottled Owl_song/0.0318_45_ch22_sn23.wav\n",
      "Saved: /mnt/d/night_recordings_analysis/Mottled Owl_song/0.0317_36_m27_sn14.wav\n",
      "Saved: /mnt/d/night_recordings_analysis/Mottled Owl_song/0.0316_12_p14_sn10.wav\n",
      "Saved: /mnt/d/night_recordings_analysis/Mottled Owl_song/0.0316_12_m9_sn3.wav\n",
      "Saved: /mnt/d/night_recordings_analysis/Mottled Owl_song/0.0314_117_m11_sn14.wav\n",
      "Saved: /mnt/d/night_recordings_analysis/Mottled Owl_song/0.0313_48_m27_sn15.wav\n",
      "Saved: /mnt/d/night_recordings_analysis/Mottled Owl_song/0.0311_99_ch19_sn6.wav\n",
      "Saved: /mnt/d/night_recordings_analysis/Mottled Owl_song/0.0309_72_ch20_sn3.wav\n",
      "Saved: /mnt/d/night_recordings_analysis/Mottled Owl_song/0.0308_21_m4_sn14.wav\n",
      "Saved: /mnt/d/night_recordings_analysis/Mottled Owl_song/0.0308_102_m11_sn2.wav\n",
      "Saved: /mnt/d/night_recordings_analysis/Mottled Owl_song/0.0307_0_m39_sn3.wav\n",
      "Saved: /mnt/d/night_recordings_analysis/Mottled Owl_song/0.0307_63_m10_sn10.wav\n",
      "Saved: /mnt/d/night_recordings_analysis/Mottled Owl_song/0.0304_30_m31_sn8.wav\n",
      "Saved: /mnt/d/night_recordings_analysis/Mottled Owl_song/0.0299_36_m35_sn15.wav\n",
      "Saved: /mnt/d/night_recordings_analysis/Mottled Owl_song/0.0298_12_ch8_sn13.wav\n",
      "Saved: /mnt/d/night_recordings_analysis/Mottled Owl_song/0.0298_93_m20_sn21.wav\n",
      "Saved: /mnt/d/night_recordings_analysis/Mottled Owl_song/0.0298_96_ch16_sn12.wav\n",
      "Saved: /mnt/d/night_recordings_analysis/Mottled Owl_song/0.0297_63_p19_sn1.wav\n",
      "Saved: /mnt/d/night_recordings_analysis/Mottled Owl_song/0.0294_102_ch32_sn17.wav\n",
      "Saved: /mnt/d/night_recordings_analysis/Mottled Owl_song/0.0294_48_m9_sn7.wav\n",
      "Saved: /mnt/d/night_recordings_analysis/Mottled Owl_song/0.0294_0_ch8_sn14.wav\n",
      "Saved: /mnt/d/night_recordings_analysis/Mottled Owl_song/0.0292_75_m44_sn7.wav\n",
      "Saved: /mnt/d/night_recordings_analysis/Mottled Owl_song/0.0291_102_p36_sn13.wav\n",
      "Saved: /mnt/d/night_recordings_analysis/Mottled Owl_song/0.0290_81_ch40_sn4.wav\n",
      "Saved: /mnt/d/night_recordings_analysis/Mottled Owl_song/0.0290_51_ch43_sn19.wav\n",
      "Saved: /mnt/d/night_recordings_analysis/Mottled Owl_song/0.0289_66_m31_sn9.wav\n",
      "Saved: /mnt/d/night_recordings_analysis/Mottled Owl_song/0.0289_48_m43_sn21.wav\n",
      "Saved: /mnt/d/night_recordings_analysis/Mottled Owl_song/0.0288_0_ch16_sn3.wav\n",
      "Saved: /mnt/d/night_recordings_analysis/Mottled Owl_song/0.0288_39_m43_sn26.wav\n",
      "Saved: /mnt/d/night_recordings_analysis/Mottled Owl_song/0.0286_81_ch22_sn22.wav\n",
      "Saved: /mnt/d/night_recordings_analysis/Mottled Owl_song/0.0282_9_m42_sn11.wav\n",
      "Saved: /mnt/d/night_recordings_analysis/Mottled Owl_song/0.0281_63_m27_sn21.wav\n",
      "Saved: /mnt/d/night_recordings_analysis/Mottled Owl_song/0.0277_57_m4_sn17.wav\n",
      "Saved: /mnt/d/night_recordings_analysis/Mottled Owl_song/0.0276_102_m44_sn5.wav\n"
     ]
    },
    {
     "name": "stderr",
     "output_type": "stream",
     "text": [
      "/home/agosjuncosa/anaconda3/envs/opensoundscape/lib/python3.9/site-packages/opensoundscape/audio.py:340: UserWarning: Audio object is shorter than requested duration: 2.0 sec instead of 3 sec\n",
      "  warnings.warn(error_msg)\n"
     ]
    },
    {
     "name": "stdout",
     "output_type": "stream",
     "text": [
      "Saved: /mnt/d/night_recordings_analysis/Mottled Owl_song/0.0274_117_m27_sn22.wav\n",
      "Saved: /mnt/d/night_recordings_analysis/Mottled Owl_song/0.0273_15_p47_sn16.wav\n",
      "Saved: /mnt/d/night_recordings_analysis/Mottled Owl_song/0.0272_114_p41_sn7.wav\n",
      "Saved: /mnt/d/night_recordings_analysis/Mottled Owl_song/0.0270_90_p37_sn12.wav\n",
      "Saved: /mnt/d/night_recordings_analysis/Mottled Owl_song/0.0265_9_ch9_sn2.wav\n",
      "Saved: /mnt/d/night_recordings_analysis/Mottled Owl_song/0.0264_42_p32_sn15.wav\n",
      "Saved: /mnt/d/night_recordings_analysis/Mottled Owl_song/0.0264_3_ch9_sn14.wav\n",
      "Saved: /mnt/d/night_recordings_analysis/Mottled Owl_song/0.0262_78_p35_sn7.wav\n",
      "Saved: /mnt/d/night_recordings_analysis/Mottled Owl_song/0.0262_24_ch23_sn24.wav\n",
      "Saved: /mnt/d/night_recordings_analysis/Mottled Owl_song/0.0261_87_m7_sn12.wav\n",
      "Saved: /mnt/d/night_recordings_analysis/Mottled Owl_song/0.0260_0_ch5_sn10.wav\n",
      "Saved: /mnt/d/night_recordings_analysis/Mottled Owl_song/0.0260_39_m31_sn16.wav\n",
      "Saved: /mnt/d/night_recordings_analysis/Mottled Owl_song/0.0258_42_ch37_sn9.wav\n",
      "Saved: /mnt/d/night_recordings_analysis/Mottled Owl_song/0.0257_60_m15_sn3.wav\n",
      "Saved: /mnt/d/night_recordings_analysis/Mottled Owl_song/0.0256_87_ch27_sn18.wav\n",
      "Saved: /mnt/d/night_recordings_analysis/Mottled Owl_song/0.0255_21_ch30_sn1.wav\n",
      "Saved: /mnt/d/night_recordings_analysis/Mottled Owl_song/0.0254_12_ch9_sn7.wav\n",
      "Saved: /mnt/d/night_recordings_analysis/Mottled Owl_song/0.0254_105_ch38_sn10.wav\n",
      "Saved: /mnt/d/night_recordings_analysis/Mottled Owl_song/0.0253_33_m20_sn14.wav\n",
      "Saved: /mnt/d/night_recordings_analysis/Mottled Owl_song/0.0251_72_ch23_sn7.wav\n",
      "Saved: /mnt/d/night_recordings_analysis/Mottled Owl_song/0.0250_45_m34_sn22.wav\n",
      "Saved: /mnt/d/night_recordings_analysis/Mottled Owl_song/0.0250_90_ch5_sn2.wav\n",
      "Saved: /mnt/d/night_recordings_analysis/Mottled Owl_song/0.0248_9_p41_sn6.wav\n",
      "Saved: /mnt/d/night_recordings_analysis/Mottled Owl_song/0.0248_90_m16_sn6.wav\n",
      "Saved: /mnt/d/night_recordings_analysis/Mottled Owl_song/0.0248_48_m42_sn17.wav\n",
      "Saved: /mnt/d/night_recordings_analysis/Mottled Owl_song/0.0247_21_p39_sn2.wav\n",
      "Saved: /mnt/d/night_recordings_analysis/Mottled Owl_song/0.0245_69_ch15_sn3.wav\n",
      "Saved: /mnt/d/night_recordings_analysis/Mottled Owl_song/0.0243_57_m39_sn8.wav\n",
      "Saved: /mnt/d/night_recordings_analysis/Mottled Owl_song/0.0242_21_m19_sn21.wav\n",
      "Saved: /mnt/d/night_recordings_analysis/Mottled Owl_song/0.0242_18_m29_sn2.wav\n",
      "Saved: /mnt/d/night_recordings_analysis/Mottled Owl_song/0.0240_90_m27_sn16.wav\n",
      "Saved: /mnt/d/night_recordings_analysis/Mottled Owl_song/0.0239_27_ch32_sn4.wav\n",
      "Saved: /mnt/d/night_recordings_analysis/Mottled Owl_song/0.0237_105_p47_sn3.wav\n",
      "Saved: /mnt/d/night_recordings_analysis/Mottled Owl_song/0.0234_21_p36_sn3.wav\n",
      "Saved: /mnt/d/night_recordings_analysis/Mottled Owl_song/0.0234_87_p37_sn20.wav\n",
      "Saved: /mnt/d/night_recordings_analysis/Mottled Owl_song/0.0234_60_ch6_sn4.wav\n",
      "Saved: /mnt/d/night_recordings_analysis/Mottled Owl_song/0.0234_102_ch16_sn9.wav\n",
      "Saved: /mnt/d/night_recordings_analysis/Mottled Owl_song/0.0232_36_p14_sn27.wav\n",
      "Saved: /mnt/d/night_recordings_analysis/Mottled Owl_song/0.0232_108_m43_sn25.wav\n",
      "Saved: /mnt/d/night_recordings_analysis/Mottled Owl_song/0.0232_108_m5_sn27.wav\n",
      "Saved: /mnt/d/night_recordings_analysis/Mottled Owl_song/0.0232_54_ch13_sn6.wav\n",
      "Saved: /mnt/d/night_recordings_analysis/Mottled Owl_song/0.0232_81_ch19_sn7.wav\n",
      "Saved: /mnt/d/night_recordings_analysis/Mottled Owl_song/0.0232_33_p37_sn8.wav\n",
      "Saved: /mnt/d/night_recordings_analysis/Mottled Owl_song/0.0230_81_ch31_sn7.wav\n",
      "Saved: /mnt/d/night_recordings_analysis/Mottled Owl_song/0.0228_69_ch3_sn5.wav\n",
      "Saved: /mnt/d/night_recordings_analysis/Mottled Owl_song/0.0225_105_ch1_sn11.wav\n",
      "Saved: /mnt/d/night_recordings_analysis/Mottled Owl_song/0.0224_15_m8_sn8.wav\n",
      "Saved: /mnt/d/night_recordings_analysis/Mottled Owl_song/0.0224_78_p14_sn18.wav\n",
      "Saved: /mnt/d/night_recordings_analysis/Mottled Owl_song/0.0224_81_ch22_sn7.wav\n",
      "Saved: /mnt/d/night_recordings_analysis/Mottled Owl_song/0.0223_45_ch8_sn7.wav\n",
      "Saved: /mnt/d/night_recordings_analysis/Mottled Owl_song/0.0222_111_m44_sn3.wav\n",
      "Saved: /mnt/d/night_recordings_analysis/Mottled Owl_song/0.0222_45_m16_sn13.wav\n",
      "Saved: /mnt/d/night_recordings_analysis/Mottled Owl_song/0.0220_15_m31_sn5.wav\n",
      "Saved: /mnt/d/night_recordings_analysis/Mottled Owl_song/0.0218_60_p45_sn4.wav\n",
      "Saved: /mnt/d/night_recordings_analysis/Mottled Owl_song/0.0217_87_m3_sn8.wav\n",
      "Saved: /mnt/d/night_recordings_analysis/Mottled Owl_song/0.0215_114_ch18_sn7.wav\n",
      "Saved: /mnt/d/night_recordings_analysis/Mottled Owl_song/0.0215_39_m31_sn22.wav\n",
      "Saved: /mnt/d/night_recordings_analysis/Mottled Owl_song/0.0215_78_m7_sn7.wav\n",
      "Saved: /mnt/d/night_recordings_analysis/Mottled Owl_song/0.0210_21_m16_sn2.wav\n",
      "Saved: /mnt/d/night_recordings_analysis/Mottled Owl_song/0.0209_54_m32_sn15.wav\n",
      "Saved: /mnt/d/night_recordings_analysis/Mottled Owl_song/0.0209_99_ch23_sn16.wav\n",
      "Saved: /mnt/d/night_recordings_analysis/Mottled Owl_song/0.0209_6_ch36_sn13.wav\n"
     ]
    },
    {
     "name": "stderr",
     "output_type": "stream",
     "text": [
      "/home/agosjuncosa/anaconda3/envs/opensoundscape/lib/python3.9/site-packages/opensoundscape/audio.py:340: UserWarning: Audio object is shorter than requested duration: 1.3069166666666667 sec instead of 3 sec\n",
      "  warnings.warn(error_msg)\n"
     ]
    },
    {
     "name": "stdout",
     "output_type": "stream",
     "text": [
      "Saved: /mnt/d/night_recordings_analysis/Mottled Owl_song/0.0208_12_m44_sn16.wav\n",
      "Saved: /mnt/d/night_recordings_analysis/Mottled Owl_song/0.0206_42_p41_sn18.wav\n",
      "Saved: /mnt/d/night_recordings_analysis/Mottled Owl_song/0.0206_39_m26_sn3.wav\n",
      "Saved: /mnt/d/night_recordings_analysis/Mottled Owl_song/0.0206_18_m18_sn8.wav\n",
      "Saved: /mnt/d/night_recordings_analysis/Mottled Owl_song/0.0205_48_m28_sn19.wav\n",
      "Saved: /mnt/d/night_recordings_analysis/Mottled Owl_song/0.0205_51_m11_sn16.wav\n",
      "Saved: /mnt/d/night_recordings_analysis/Mottled Owl_song/0.0204_36_m6_sn2.wav\n",
      "Saved: /mnt/d/night_recordings_analysis/Mottled Owl_song/0.0202_60_p41_sn11.wav\n",
      "Saved: /mnt/d/night_recordings_analysis/Mottled Owl_song/0.0200_33_m43_sn12.wav\n",
      "Saved: /mnt/d/night_recordings_analysis/Mottled Owl_song/0.0200_69_m17_sn7.wav\n",
      "Saved: /mnt/d/night_recordings_analysis/Mottled Owl_song/0.0199_93_m25_sn6.wav\n",
      "Saved: /mnt/d/night_recordings_analysis/Mottled Owl_song/0.0199_78_m8_sn17.wav\n",
      "Saved: /mnt/d/night_recordings_analysis/Mottled Owl_song/0.0197_105_ch38_sn12.wav\n",
      "Saved: /mnt/d/night_recordings_analysis/Mottled Owl_song/0.0197_81_p7_sn2.wav\n",
      "Saved: /mnt/d/night_recordings_analysis/Mottled Owl_song/0.0197_99_ch38_sn11.wav\n",
      "Saved: /mnt/d/night_recordings_analysis/Mottled Owl_song/0.0196_0_m43_sn22.wav\n",
      "Saved: /mnt/d/night_recordings_analysis/Mottled Owl_song/0.0196_69_m47_sn2.wav\n",
      "Saved: /mnt/d/night_recordings_analysis/Mottled Owl_song/0.0194_21_m10_sn12.wav\n",
      "Saved: /mnt/d/night_recordings_analysis/Mottled Owl_song/0.0194_60_ch8_sn18.wav\n",
      "Saved: /mnt/d/night_recordings_analysis/Mottled Owl_song/0.0193_39_m17_sn17.wav\n",
      "Saved: /mnt/d/night_recordings_analysis/Mottled Owl_song/0.0193_36_ch13_sn7.wav\n",
      "Saved: /mnt/d/night_recordings_analysis/Mottled Owl_song/0.0192_48_m27_sn6.wav\n",
      "Saved: /mnt/d/night_recordings_analysis/Mottled Owl_song/0.0192_51_m15_sn6.wav\n",
      "Saved: /mnt/d/night_recordings_analysis/Mottled Owl_song/0.0191_12_p37_sn22.wav\n",
      "Saved: /mnt/d/night_recordings_analysis/Mottled Owl_song/0.0191_27_p35_sn18.wav\n",
      "Saved: /mnt/d/night_recordings_analysis/Mottled Owl_song/0.0191_102_m6_sn22.wav\n"
     ]
    },
    {
     "name": "stderr",
     "output_type": "stream",
     "text": [
      "/home/agosjuncosa/anaconda3/envs/opensoundscape/lib/python3.9/site-packages/opensoundscape/audio.py:340: UserWarning: Audio object is shorter than requested duration: 2.0 sec instead of 3 sec\n",
      "  warnings.warn(error_msg)\n"
     ]
    },
    {
     "name": "stdout",
     "output_type": "stream",
     "text": [
      "Saved: /mnt/d/night_recordings_analysis/Mottled Owl_song/0.0190_117_m26_sn23.wav\n",
      "Saved: /mnt/d/night_recordings_analysis/Mottled Owl_song/0.0190_78_ch39_sn4.wav\n",
      "Saved: /mnt/d/night_recordings_analysis/Mottled Owl_song/0.0190_51_m44_sn9.wav\n",
      "Saved: /mnt/d/night_recordings_analysis/Mottled Owl_song/0.0190_54_p47_sn7.wav\n",
      "Saved: /mnt/d/night_recordings_analysis/Mottled Owl_song/0.0190_63_p17_sn8.wav\n",
      "Saved: /mnt/d/night_recordings_analysis/Mottled Owl_song/0.0190_24_p4_sn9.wav\n",
      "Saved: /mnt/d/night_recordings_analysis/Mottled Owl_song/0.0189_96_p39_sn8.wav\n",
      "Saved: /mnt/d/night_recordings_analysis/Mottled Owl_song/0.0188_27_p47_sn17.wav\n",
      "Saved: /mnt/d/night_recordings_analysis/Mottled Owl_song/0.0188_36_m15_sn4.wav\n",
      "Saved: /mnt/d/night_recordings_analysis/Mottled Owl_song/0.0187_15_ch43_sn21.wav\n",
      "Saved: /mnt/d/night_recordings_analysis/Mottled Owl_song/0.0186_18_m35_sn25.wav\n",
      "Saved: /mnt/d/night_recordings_analysis/Mottled Owl_song/0.0185_99_m40_sn22.wav\n",
      "Saved: /mnt/d/night_recordings_analysis/Mottled Owl_song/0.0185_27_m2_sn1.wav\n",
      "Saved: /mnt/d/night_recordings_analysis/Mottled Owl_song/0.0184_24_m2_sn20.wav\n",
      "Saved: /mnt/d/night_recordings_analysis/Mottled Owl_song/0.0183_108_p36_sn16.wav\n",
      "Saved: /mnt/d/night_recordings_analysis/Mottled Owl_song/0.0181_15_ch16_sn2.wav\n",
      "Saved: /mnt/d/night_recordings_analysis/Mottled Owl_song/0.0181_0_p37_sn3.wav\n",
      "Saved: /mnt/d/night_recordings_analysis/Mottled Owl_song/0.0181_117_p39_sn12.wav\n",
      "Saved: /mnt/d/night_recordings_analysis/Mottled Owl_song/0.0181_0_ch6_sn15.wav\n",
      "Saved: /mnt/d/night_recordings_analysis/Mottled Owl_song/0.0180_66_m32_sn24.wav\n",
      "Saved: /mnt/d/night_recordings_analysis/Mottled Owl_song/0.0179_27_p37_sn5.wav\n",
      "Saved: /mnt/d/night_recordings_analysis/Mottled Owl_song/0.0179_111_p14_sn8.wav\n",
      "Saved: /mnt/d/night_recordings_analysis/Mottled Owl_song/0.0179_51_p41_sn1.wav\n"
     ]
    },
    {
     "name": "stderr",
     "output_type": "stream",
     "text": [
      "/home/agosjuncosa/anaconda3/envs/opensoundscape/lib/python3.9/site-packages/opensoundscape/audio.py:340: UserWarning: Audio object is shorter than requested duration: 2.0 sec instead of 3 sec\n",
      "  warnings.warn(error_msg)\n"
     ]
    },
    {
     "name": "stdout",
     "output_type": "stream",
     "text": [
      "Saved: /mnt/d/night_recordings_analysis/Mottled Owl_song/0.0178_117_m18_sn1.wav\n",
      "Saved: /mnt/d/night_recordings_analysis/Mottled Owl_song/0.0177_12_m15_sn13.wav\n",
      "Saved: /mnt/d/night_recordings_analysis/Mottled Owl_song/0.0176_3_ch32_sn6.wav\n",
      "Saved: /mnt/d/night_recordings_analysis/Mottled Owl_song/0.0175_114_p26_sn13.wav\n",
      "Saved: /mnt/d/night_recordings_analysis/Mottled Owl_song/0.0175_0_m18_sn17.wav\n",
      "Saved: /mnt/d/night_recordings_analysis/Mottled Owl_song/0.0175_6_p35_sn8.wav\n",
      "Saved: /mnt/d/night_recordings_analysis/Mottled Owl_song/0.0174_93_m43_sn15.wav\n",
      "Saved: /mnt/d/night_recordings_analysis/Mottled Owl_song/0.0173_27_ch12_sn14.wav\n",
      "Saved: /mnt/d/night_recordings_analysis/Mottled Owl_song/0.0173_3_m4_sn16.wav\n",
      "Saved: /mnt/d/night_recordings_analysis/Mottled Owl_song/0.0173_78_ch32_sn13.wav\n",
      "Saved: /mnt/d/night_recordings_analysis/Mottled Owl_song/0.0172_3_ch12_sn9.wav\n",
      "Saved: /mnt/d/night_recordings_analysis/Mottled Owl_song/0.0170_99_ch34_sn6.wav\n",
      "Saved: /mnt/d/night_recordings_analysis/Mottled Owl_song/0.0169_111_m5_sn17.wav\n",
      "Saved: /mnt/d/night_recordings_analysis/Mottled Owl_song/0.0169_15_ch43_sn22.wav\n",
      "Saved: /mnt/d/night_recordings_analysis/Mottled Owl_song/0.0169_66_p36_sn12.wav\n",
      "Saved: /mnt/d/night_recordings_analysis/Mottled Owl_song/0.0167_69_m1_sn3.wav\n",
      "Saved: /mnt/d/night_recordings_analysis/Mottled Owl_song/0.0167_114_p4_sn6.wav\n",
      "Saved: /mnt/d/night_recordings_analysis/Mottled Owl_song/0.0167_96_m44_sn6.wav\n",
      "Saved: /mnt/d/night_recordings_analysis/Mottled Owl_song/0.0166_78_m45_sn15.wav\n",
      "Saved: /mnt/d/night_recordings_analysis/Mottled Owl_song/0.0165_33_m11_sn9.wav\n",
      "Saved: /mnt/d/night_recordings_analysis/Mottled Owl_song/0.0165_3_p17_sn1.wav\n",
      "Saved: /mnt/d/night_recordings_analysis/Mottled Owl_song/0.0165_30_m7_sn13.wav\n",
      "Saved: /mnt/d/night_recordings_analysis/Mottled Owl_song/0.0165_90_ch25_sn16.wav\n",
      "Saved: /mnt/d/night_recordings_analysis/Mottled Owl_song/0.0165_111_ch2_sn14.wav\n",
      "Saved: /mnt/d/night_recordings_analysis/Mottled Owl_song/0.0163_3_p1_sn6.wav\n",
      "Saved: /mnt/d/night_recordings_analysis/Mottled Owl_song/0.0163_81_ch38_sn19.wav\n",
      "Saved: /mnt/d/night_recordings_analysis/Mottled Owl_song/0.0162_108_ch29_sn1.wav\n",
      "Saved: /mnt/d/night_recordings_analysis/Mottled Owl_song/0.0162_90_m28_sn13.wav\n",
      "Saved: /mnt/d/night_recordings_analysis/Mottled Owl_song/0.0162_93_ch30_sn9.wav\n",
      "Saved: /mnt/d/night_recordings_analysis/Mottled Owl_song/0.0159_66_m18_sn7.wav\n",
      "Saved: /mnt/d/night_recordings_analysis/Mottled Owl_song/0.0159_108_ch23_sn26.wav\n",
      "Saved: /mnt/d/night_recordings_analysis/Mottled Owl_song/0.0159_24_m6_sn10.wav\n",
      "Saved: /mnt/d/night_recordings_analysis/Mottled Owl_song/0.0159_21_m9_sn2.wav\n",
      "Saved: /mnt/d/night_recordings_analysis/Mottled Owl_song/0.0159_69_m37_sn20.wav\n",
      "Saved: /mnt/d/night_recordings_analysis/Mottled Owl_song/0.0159_117_ch36_sn6.wav\n",
      "Saved: /mnt/d/night_recordings_analysis/Mottled Owl_song/0.0158_0_p19_sn2.wav\n",
      "Saved: /mnt/d/night_recordings_analysis/Mottled Owl_song/0.0158_90_ch20_sn12.wav\n",
      "Saved: /mnt/d/night_recordings_analysis/Mottled Owl_song/0.0158_117_p35_sn6.wav\n",
      "Saved: /mnt/d/night_recordings_analysis/Mottled Owl_song/0.0157_108_ch38_sn13.wav\n",
      "Saved: /mnt/d/night_recordings_analysis/Mottled Owl_song/0.0157_78_m28_sn2.wav\n",
      "Saved: /mnt/d/night_recordings_analysis/Mottled Owl_song/0.0156_21_ch22_sn16.wav\n",
      "Saved: /mnt/d/night_recordings_analysis/Mottled Owl_song/0.0156_36_m8_sn4.wav\n",
      "Saved: /mnt/d/night_recordings_analysis/Mottled Owl_song/0.0156_111_m5_sn11.wav\n",
      "Saved: /mnt/d/night_recordings_analysis/Mottled Owl_song/0.0156_57_p37_sn2.wav\n",
      "Saved: /mnt/d/night_recordings_analysis/Mottled Owl_song/0.0155_84_p35_sn17.wav\n",
      "Saved: /mnt/d/night_recordings_analysis/Mottled Owl_song/0.0155_18_ch32_sn20.wav\n",
      "Saved: /mnt/d/night_recordings_analysis/Mottled Owl_song/0.0154_9_m20_sn6.wav\n",
      "Saved: /mnt/d/night_recordings_analysis/Mottled Owl_song/0.0154_96_p41_sn14.wav\n",
      "Saved: /mnt/d/night_recordings_analysis/Mottled Owl_song/0.0154_93_m4_sn4.wav\n",
      "Saved: /mnt/d/night_recordings_analysis/Mottled Owl_song/0.0153_117_m3_sn5.wav\n",
      "Saved: /mnt/d/night_recordings_analysis/Mottled Owl_song/0.0153_27_m10_sn8.wav\n",
      "Saved: /mnt/d/night_recordings_analysis/Mottled Owl_song/0.0152_78_ch44_sn5.wav\n",
      "Saved: /mnt/d/night_recordings_analysis/Mottled Owl_song/0.0152_57_ch30_sn13.wav\n",
      "Saved: /mnt/d/night_recordings_analysis/Mottled Owl_song/0.0152_36_p47_sn10.wav\n",
      "Saved: /mnt/d/night_recordings_analysis/Mottled Owl_song/0.0151_66_m42_sn12.wav\n",
      "Saved: /mnt/d/night_recordings_analysis/Mottled Owl_song/0.0151_45_m5_sn3.wav\n",
      "Saved: /mnt/d/night_recordings_analysis/Mottled Owl_song/0.0151_78_ch41_sn11.wav\n",
      "Saved: /mnt/d/night_recordings_analysis/Mottled Owl_song/0.0150_90_p26_sn4.wav\n",
      "Saved: /mnt/d/night_recordings_analysis/Mottled Owl_song/0.0150_102_p15_sn12.wav\n",
      "Saved: /mnt/d/night_recordings_analysis/Mottled Owl_song/0.0150_114_m40_sn13.wav\n",
      "Saved: /mnt/d/night_recordings_analysis/Mottled Owl_song/0.0149_96_m20_sn22.wav\n",
      "Saved: /mnt/d/night_recordings_analysis/Mottled Owl_song/0.0149_0_ch23_sn28.wav\n",
      "Saved: /mnt/d/night_recordings_analysis/Mottled Owl_song/0.0148_66_m7_sn15.wav\n",
      "Saved: /mnt/d/night_recordings_analysis/Mottled Owl_song/0.0147_15_m19_sn9.wav\n",
      "Saved: /mnt/d/night_recordings_analysis/Mottled Owl_song/0.0146_108_ch36_sn15.wav\n",
      "Saved: /mnt/d/night_recordings_analysis/Mottled Owl_song/0.0146_18_ch27_sn2.wav\n",
      "Saved: /mnt/d/night_recordings_analysis/Mottled Owl_song/0.0146_57_m40_sn14.wav\n",
      "Saved: /mnt/d/night_recordings_analysis/Mottled Owl_song/0.0144_30_ch12_sn15.wav\n",
      "Saved: /mnt/d/night_recordings_analysis/Mottled Owl_song/0.0144_33_m15_sn5.wav\n",
      "Saved: /mnt/d/night_recordings_analysis/Mottled Owl_song/0.0144_102_ch31_sn18.wav\n",
      "Saved: /mnt/d/night_recordings_analysis/Mottled Owl_song/0.0144_51_m42_sn15.wav\n",
      "Saved: /mnt/d/night_recordings_analysis/Mottled Owl_song/0.0143_117_p17_sn14.wav\n"
     ]
    },
    {
     "name": "stderr",
     "output_type": "stream",
     "text": [
      "/home/agosjuncosa/anaconda3/envs/opensoundscape/lib/python3.9/site-packages/opensoundscape/audio.py:340: UserWarning: Audio object is shorter than requested duration: 2.0 sec instead of 3 sec\n",
      "  warnings.warn(error_msg)\n"
     ]
    },
    {
     "name": "stdout",
     "output_type": "stream",
     "text": [
      "Saved: /mnt/d/night_recordings_analysis/Mottled Owl_song/0.0143_102_p17_sn12.wav\n",
      "Saved: /mnt/d/night_recordings_analysis/Mottled Owl_song/0.0143_87_ch6_sn13.wav\n",
      "Saved: /mnt/d/night_recordings_analysis/Mottled Owl_song/0.0142_90_ch7_sn4.wav\n",
      "Saved: /mnt/d/night_recordings_analysis/Mottled Owl_song/0.0142_30_ch12_sn2.wav\n",
      "Saved: /mnt/d/night_recordings_analysis/Mottled Owl_song/0.0142_93_p40_sn27.wav\n",
      "Saved: /mnt/d/night_recordings_analysis/Mottled Owl_song/0.0141_84_ch23_sn11.wav\n",
      "Saved: /mnt/d/night_recordings_analysis/Mottled Owl_song/0.0141_45_m16_sn19.wav\n",
      "Saved: /mnt/d/night_recordings_analysis/Mottled Owl_song/0.0141_114_p31_sn10.wav\n",
      "Saved: /mnt/d/night_recordings_analysis/Mottled Owl_song/0.0141_84_ch13_sn12.wav\n",
      "Saved: /mnt/d/night_recordings_analysis/Mottled Owl_song/0.0140_72_m40_sn20.wav\n",
      "Saved: /mnt/d/night_recordings_analysis/Mottled Owl_song/0.0140_57_m45_sn5.wav\n",
      "Saved: /mnt/d/night_recordings_analysis/Mottled Owl_song/0.0140_93_ch9_sn13.wav\n",
      "Saved: /mnt/d/night_recordings_analysis/Mottled Owl_song/0.0140_18_m37_sn5.wav\n",
      "Saved: /mnt/d/night_recordings_analysis/Mottled Owl_song/0.0139_33_m8_sn20.wav\n",
      "Saved: /mnt/d/night_recordings_analysis/Mottled Owl_song/0.0138_99_m14_sn11.wav\n",
      "Saved: /mnt/d/night_recordings_analysis/Mottled Owl_song/0.0138_21_m15_sn7.wav\n",
      "Saved: /mnt/d/night_recordings_analysis/Mottled Owl_song/0.0138_96_p47_sn11.wav\n",
      "Saved: /mnt/d/night_recordings_analysis/Mottled Owl_song/0.0138_33_m8_sn15.wav\n",
      "Saved: /mnt/d/night_recordings_analysis/Mottled Owl_song/0.0138_84_ch12_sn16.wav\n",
      "Saved: /mnt/d/night_recordings_analysis/Mottled Owl_song/0.0138_48_ch15_sn13.wav\n",
      "Saved: /mnt/d/night_recordings_analysis/Mottled Owl_song/0.0138_6_ch8_sn5.wav\n",
      "Saved: /mnt/d/night_recordings_analysis/Mottled Owl_song/0.0138_54_m1_sn7.wav\n",
      "Saved: /mnt/d/night_recordings_analysis/Mottled Owl_song/0.0137_84_ch35_sn7.wav\n",
      "Saved: /mnt/d/night_recordings_analysis/Mottled Owl_song/0.0137_21_m43_sn13.wav\n",
      "Saved: /mnt/d/night_recordings_analysis/Mottled Owl_song/0.0137_114_p36_sn14.wav\n",
      "Saved: /mnt/d/night_recordings_analysis/Mottled Owl_song/0.0137_39_p14_sn1.wav\n",
      "Saved: /mnt/d/night_recordings_analysis/Mottled Owl_song/0.0137_102_ch6_sn11.wav\n",
      "Saved: /mnt/d/night_recordings_analysis/Mottled Owl_song/0.0136_111_m42_sn8.wav\n",
      "Saved: /mnt/d/night_recordings_analysis/Mottled Owl_song/0.0136_96_ch37_sn12.wav\n",
      "Saved: /mnt/d/night_recordings_analysis/Mottled Owl_song/0.0136_6_ch18_sn1.wav\n",
      "Saved: /mnt/d/night_recordings_analysis/Mottled Owl_song/0.0136_6_m16_sn21.wav\n",
      "Saved: /mnt/d/night_recordings_analysis/Mottled Owl_song/0.0136_12_m17_sn4.wav\n",
      "Saved: /mnt/d/night_recordings_analysis/Mottled Owl_song/0.0135_3_m44_sn19.wav\n"
     ]
    },
    {
     "name": "stderr",
     "output_type": "stream",
     "text": [
      "/home/agosjuncosa/anaconda3/envs/opensoundscape/lib/python3.9/site-packages/opensoundscape/audio.py:340: UserWarning: Audio object is shorter than requested duration: 1.0909166666666668 sec instead of 3 sec\n",
      "  warnings.warn(error_msg)\n"
     ]
    },
    {
     "name": "stdout",
     "output_type": "stream",
     "text": [
      "Saved: /mnt/d/night_recordings_analysis/Mottled Owl_song/0.0135_78_p28_sn6.wav\n",
      "Saved: /mnt/d/night_recordings_analysis/Mottled Owl_song/0.0135_6_ch37_sn11.wav\n",
      "Saved: /mnt/d/night_recordings_analysis/Mottled Owl_song/0.0135_18_ch32_sn11.wav\n",
      "Saved: /mnt/d/night_recordings_analysis/Mottled Owl_song/0.0135_27_m9_sn11.wav\n",
      "Saved: /mnt/d/night_recordings_analysis/Mottled Owl_song/0.0134_111_p37_sn18.wav\n",
      "Saved: /mnt/d/night_recordings_analysis/Mottled Owl_song/0.0133_66_p1_sn12.wav\n",
      "Saved: /mnt/d/night_recordings_analysis/Mottled Owl_song/0.0133_48_p47_sn1.wav\n",
      "Saved: /mnt/d/night_recordings_analysis/Mottled Owl_song/0.0132_87_p46_sn6.wav\n",
      "Saved: /mnt/d/night_recordings_analysis/Mottled Owl_song/0.0132_12_ch27_sn11.wav\n",
      "Saved: /mnt/d/night_recordings_analysis/Mottled Owl_song/0.0131_102_ch41_sn6.wav\n",
      "Saved: /mnt/d/night_recordings_analysis/Mottled Owl_song/0.0130_117_m20_sn11.wav\n",
      "Saved: /mnt/d/night_recordings_analysis/Mottled Owl_song/0.0130_9_ch23_sn1.wav\n",
      "Saved: /mnt/d/night_recordings_analysis/Mottled Owl_song/0.0130_36_m45_sn11.wav\n",
      "Saved: /mnt/d/night_recordings_analysis/Mottled Owl_song/0.0129_51_m8_sn7.wav\n",
      "Saved: /mnt/d/night_recordings_analysis/Mottled Owl_song/0.0129_117_m13_sn13.wav\n",
      "Saved: /mnt/d/night_recordings_analysis/Mottled Owl_song/0.0129_117_m37_sn27.wav\n",
      "Saved: /mnt/d/night_recordings_analysis/Mottled Owl_song/0.0128_60_ch36_sn3.wav\n",
      "Saved: /mnt/d/night_recordings_analysis/Mottled Owl_song/0.0128_45_m20_sn23.wav\n",
      "Saved: /mnt/d/night_recordings_analysis/Mottled Owl_song/0.0128_114_ch2_sn9.wav\n",
      "Saved: /mnt/d/night_recordings_analysis/Mottled Owl_song/0.0127_87_m19_sn18.wav\n",
      "Saved: /mnt/d/night_recordings_analysis/Mottled Owl_song/0.0127_27_m44_sn10.wav\n",
      "Saved: /mnt/d/night_recordings_analysis/Mottled Owl_song/0.0126_3_p16_sn7.wav\n",
      "Saved: /mnt/d/night_recordings_analysis/Mottled Owl_song/0.0126_30_ch7_sn16.wav\n",
      "Saved: /mnt/d/night_recordings_analysis/Mottled Owl_song/0.0125_3_m37_sn15.wav\n",
      "Saved: /mnt/d/night_recordings_analysis/Mottled Owl_song/0.0124_114_p41_sn10.wav\n",
      "Saved: /mnt/d/night_recordings_analysis/Mottled Owl_song/0.0124_105_m37_sn7.wav\n",
      "Saved: /mnt/d/night_recordings_analysis/Mottled Owl_song/0.0124_93_m43_sn1.wav\n",
      "Saved: /mnt/d/night_recordings_analysis/Mottled Owl_song/0.0124_111_m41_sn12.wav\n",
      "Saved: /mnt/d/night_recordings_analysis/Mottled Owl_song/0.0123_51_ch47_sn16.wav\n",
      "Saved: /mnt/d/night_recordings_analysis/Mottled Owl_song/0.0123_75_p47_sn4.wav\n",
      "Saved: /mnt/d/night_recordings_analysis/Mottled Owl_song/0.0123_75_ch25_sn9.wav\n",
      "Saved: /mnt/d/night_recordings_analysis/Mottled Owl_song/0.0122_90_ch15_sn1.wav\n",
      "Saved: /mnt/d/night_recordings_analysis/Mottled Owl_song/0.0122_18_m44_sn15.wav\n"
     ]
    },
    {
     "name": "stderr",
     "output_type": "stream",
     "text": [
      "/home/agosjuncosa/anaconda3/envs/opensoundscape/lib/python3.9/site-packages/opensoundscape/audio.py:340: UserWarning: Audio object is shorter than requested duration: 1.1095833333333334 sec instead of 3 sec\n",
      "  warnings.warn(error_msg)\n"
     ]
    },
    {
     "name": "stdout",
     "output_type": "stream",
     "text": [
      "Saved: /mnt/d/night_recordings_analysis/Mottled Owl_song/0.0122_15_ch13_sn13.wav\n",
      "Saved: /mnt/d/night_recordings_analysis/Mottled Owl_song/0.0121_54_m31_sn15.wav\n",
      "Saved: /mnt/d/night_recordings_analysis/Mottled Owl_song/0.0121_63_m5_sn28.wav\n",
      "Saved: /mnt/d/night_recordings_analysis/Mottled Owl_song/0.0121_69_p21_sn13.wav\n",
      "Saved: /mnt/d/night_recordings_analysis/Mottled Owl_song/0.0121_75_m25_sn22.wav\n",
      "Saved: /mnt/d/night_recordings_analysis/Mottled Owl_song/0.0120_15_m17_sn15.wav\n",
      "Saved: /mnt/d/night_recordings_analysis/Mottled Owl_song/0.0119_72_m43_sn24.wav\n",
      "Saved: /mnt/d/night_recordings_analysis/Mottled Owl_song/0.0119_81_m41_sn1.wav\n",
      "Saved: /mnt/d/night_recordings_analysis/Mottled Owl_song/0.0119_63_ch8_sn2.wav\n",
      "Saved: /mnt/d/night_recordings_analysis/Mottled Owl_song/0.0119_108_m20_sn9.wav\n",
      "Saved: /mnt/d/night_recordings_analysis/Mottled Owl_song/0.0118_48_m1_sn5.wav\n",
      "Saved: /mnt/d/night_recordings_analysis/Mottled Owl_song/0.0118_90_m8_sn16.wav\n",
      "Saved: /mnt/d/night_recordings_analysis/Mottled Owl_song/0.0118_30_m28_sn17.wav\n",
      "Saved: /mnt/d/night_recordings_analysis/Mottled Owl_song/0.0117_12_ch31_sn8.wav\n",
      "Saved: /mnt/d/night_recordings_analysis/Mottled Owl_song/0.0117_6_m35_sn22.wav\n",
      "Saved: /mnt/d/night_recordings_analysis/Mottled Owl_song/0.0117_21_m19_sn11.wav\n",
      "Saved: /mnt/d/night_recordings_analysis/Mottled Owl_song/0.0117_33_ch30_sn8.wav\n",
      "Saved: /mnt/d/night_recordings_analysis/Mottled Owl_song/0.0117_0_m47_sn5.wav\n",
      "Saved: /mnt/d/night_recordings_analysis/Mottled Owl_song/0.0116_15_m10_sn13.wav\n",
      "Saved: /mnt/d/night_recordings_analysis/Mottled Owl_song/0.0116_39_p19_sn5.wav\n",
      "Saved: /mnt/d/night_recordings_analysis/Mottled Owl_song/0.0116_63_m37_sn4.wav\n",
      "Saved: /mnt/d/night_recordings_analysis/Mottled Owl_song/0.0115_0_m44_sn2.wav\n",
      "Saved: /mnt/d/night_recordings_analysis/Mottled Owl_song/0.0115_36_ch32_sn14.wav\n",
      "Saved: /mnt/d/night_recordings_analysis/Mottled Owl_song/0.0115_72_ch42_sn8.wav\n",
      "Saved: /mnt/d/night_recordings_analysis/Mottled Owl_song/0.0114_12_ch32_sn7.wav\n",
      "Saved: /mnt/d/night_recordings_analysis/Mottled Owl_song/0.0114_72_ch44_sn12.wav\n",
      "Saved: /mnt/d/night_recordings_analysis/Mottled Owl_song/0.0113_63_p1_sn11.wav\n",
      "Saved: /mnt/d/night_recordings_analysis/Mottled Owl_song/0.0113_96_ch22_sn11.wav\n",
      "Saved: /mnt/d/night_recordings_analysis/Mottled Owl_song/0.0113_9_m37_sn9.wav\n",
      "Saved: /mnt/d/night_recordings_analysis/Mottled Owl_song/0.0113_42_ch44_sn18.wav\n",
      "Saved: /mnt/d/night_recordings_analysis/Mottled Owl_song/0.0112_78_m37_sn13.wav\n",
      "Saved: /mnt/d/night_recordings_analysis/Mottled Owl_song/0.0112_75_ch4_sn15.wav\n",
      "Saved: /mnt/d/night_recordings_analysis/Mottled Owl_song/0.0112_3_p42_sn11.wav\n",
      "Saved: /mnt/d/night_recordings_analysis/Mottled Owl_song/0.0111_45_m15_sn14.wav\n",
      "Saved: /mnt/d/night_recordings_analysis/Mottled Owl_song/0.0111_69_m20_sn15.wav\n",
      "Saved: /mnt/d/night_recordings_analysis/Mottled Owl_song/0.0111_3_m8_sn12.wav\n",
      "Saved: /mnt/d/night_recordings_analysis/Mottled Owl_song/0.0111_51_ch21_sn4.wav\n",
      "Saved: /mnt/d/night_recordings_analysis/Mottled Owl_song/0.0111_18_p17_sn15.wav\n",
      "Saved: /mnt/d/night_recordings_analysis/Mottled Owl_song/0.0110_69_m5_sn7.wav\n",
      "Saved: /mnt/d/night_recordings_analysis/Mottled Owl_song/0.0110_6_ch5_sn6.wav\n",
      "Saved: /mnt/d/night_recordings_analysis/Mottled Owl_song/0.0110_63_ch17_sn3.wav\n",
      "Saved: /mnt/d/night_recordings_analysis/Mottled Owl_song/0.0109_117_p14_sn11.wav\n",
      "Saved: /mnt/d/night_recordings_analysis/Mottled Owl_song/0.0109_6_m19_sn20.wav\n",
      "Saved: /mnt/d/night_recordings_analysis/Mottled Owl_song/0.0108_63_m1_sn12.wav\n",
      "Saved: /mnt/d/night_recordings_analysis/Mottled Owl_song/0.0107_114_ch30_sn7.wav\n",
      "Saved: /mnt/d/night_recordings_analysis/Mottled Owl_song/0.0107_33_m28_sn12.wav\n",
      "Saved: /mnt/d/night_recordings_analysis/Mottled Owl_song/0.0107_78_m37_sn16.wav\n",
      "Saved: /mnt/d/night_recordings_analysis/Mottled Owl_song/0.0107_57_m34_sn12.wav\n",
      "Saved: /mnt/d/night_recordings_analysis/Mottled Owl_song/0.0107_102_m4_sn8.wav\n",
      "Saved: /mnt/d/night_recordings_analysis/Mottled Owl_song/0.0107_105_m16_sn12.wav\n",
      "Saved: /mnt/d/night_recordings_analysis/Mottled Owl_song/0.0106_0_m44_sn13.wav\n",
      "Saved: /mnt/d/night_recordings_analysis/Mottled Owl_song/0.0106_96_ch18_sn3.wav\n",
      "Saved: /mnt/d/night_recordings_analysis/Mottled Owl_song/0.0106_57_ch6_sn12.wav\n",
      "Saved: /mnt/d/night_recordings_analysis/Mottled Owl_song/0.0106_36_ch37_sn19.wav\n",
      "Saved: /mnt/d/night_recordings_analysis/Mottled Owl_song/0.0105_24_m42_sn16.wav\n",
      "Saved: /mnt/d/night_recordings_analysis/Mottled Owl_song/0.0105_60_ch15_sn9.wav\n",
      "Saved: /mnt/d/night_recordings_analysis/Mottled Owl_song/0.0105_18_m11_sn12.wav\n",
      "Saved: /mnt/d/night_recordings_analysis/Mottled Owl_song/0.0105_42_ch15_sn8.wav\n",
      "Saved: /mnt/d/night_recordings_analysis/Mottled Owl_song/0.0104_57_m45_sn1.wav\n",
      "Saved: /mnt/d/night_recordings_analysis/Mottled Owl_song/0.0104_30_p46_sn5.wav\n",
      "Saved: /mnt/d/night_recordings_analysis/Mottled Owl_song/0.0104_36_p36_sn2.wav\n",
      "Saved: /mnt/d/night_recordings_analysis/Mottled Owl_song/0.0104_36_m16_sn5.wav\n",
      "Saved: /mnt/d/night_recordings_analysis/Mottled Owl_song/0.0104_93_m6_sn12.wav\n",
      "Saved: /mnt/d/night_recordings_analysis/Mottled Owl_song/0.0104_48_m4_sn15.wav\n",
      "Saved: /mnt/d/night_recordings_analysis/Mottled Owl_song/0.0104_60_ch36_sn2.wav\n",
      "Saved: /mnt/d/night_recordings_analysis/Mottled Owl_song/0.0104_63_m18_sn13.wav\n",
      "Saved: /mnt/d/night_recordings_analysis/Mottled Owl_song/0.0104_105_p37_sn17.wav\n",
      "Saved: /mnt/d/night_recordings_analysis/Mottled Owl_song/0.0104_114_m12_sn7.wav\n",
      "Saved: /mnt/d/night_recordings_analysis/Mottled Owl_song/0.0103_36_ch43_sn11.wav\n",
      "Saved: /mnt/d/night_recordings_analysis/Mottled Owl_song/0.0103_117_m8_sn1.wav\n",
      "Saved: /mnt/d/night_recordings_analysis/Mottled Owl_song/0.0103_93_m37_sn17.wav\n",
      "Saved: /mnt/d/night_recordings_analysis/Mottled Owl_song/0.0103_108_ch16_sn4.wav\n",
      "Saved: /mnt/d/night_recordings_analysis/Mottled Owl_song/0.0102_30_ch47_sn13.wav\n",
      "Saved: /mnt/d/night_recordings_analysis/Mottled Owl_song/0.0102_81_m27_sn1.wav\n",
      "Saved: /mnt/d/night_recordings_analysis/Mottled Owl_song/0.0102_93_ch5_sn7.wav\n",
      "Saved: /mnt/d/night_recordings_analysis/Mottled Owl_song/0.0102_108_m11_sn13.wav\n",
      "Saved: /mnt/d/night_recordings_analysis/Mottled Owl_song/0.0102_45_ch35_sn6.wav\n",
      "Saved: /mnt/d/night_recordings_analysis/Mottled Owl_song/0.0101_93_p12_sn12.wav\n",
      "Saved: /mnt/d/night_recordings_analysis/Mottled Owl_song/0.0101_33_m19_sn8.wav\n",
      "Saved: /mnt/d/night_recordings_analysis/Mottled Owl_song/0.0101_96_m17_sn8.wav\n",
      "Saved: /mnt/d/night_recordings_analysis/Mottled Owl_song/0.0100_60_p28_sn8.wav\n",
      "Saved: /mnt/d/night_recordings_analysis/Mottled Owl_song/0.0100_72_ch15_sn2.wav\n",
      "Saved: /mnt/d/night_recordings_analysis/Mottled Owl_song/0.0100_39_m1_sn14.wav\n",
      "Saved: /mnt/d/night_recordings_analysis/Mottled Owl_song/0.0100_24_ch32_sn18.wav\n"
     ]
    },
    {
     "name": "stderr",
     "output_type": "stream",
     "text": [
      "/home/agosjuncosa/anaconda3/envs/opensoundscape/lib/python3.9/site-packages/opensoundscape/audio.py:340: UserWarning: Audio object is shorter than requested duration: 1.93625 sec instead of 3 sec\n",
      "  warnings.warn(error_msg)\n"
     ]
    },
    {
     "name": "stdout",
     "output_type": "stream",
     "text": [
      "Saved: /mnt/d/night_recordings_analysis/Mottled Owl_song/0.0099_39_m40_sn5.wav\n",
      "Saved: /mnt/d/night_recordings_analysis/Mottled Owl_song/0.0098_57_ch5_sn8.wav\n"
     ]
    },
    {
     "name": "stderr",
     "output_type": "stream",
     "text": [
      "/home/agosjuncosa/anaconda3/envs/opensoundscape/lib/python3.9/site-packages/opensoundscape/audio.py:340: UserWarning: Audio object is shorter than requested duration: 2.0 sec instead of 3 sec\n",
      "  warnings.warn(error_msg)\n"
     ]
    },
    {
     "name": "stdout",
     "output_type": "stream",
     "text": [
      "Saved: /mnt/d/night_recordings_analysis/Mottled Owl_song/0.0098_117_m16_sn26.wav\n",
      "Saved: /mnt/d/night_recordings_analysis/Mottled Owl_song/0.0098_6_m11_sn15.wav\n",
      "Saved: /mnt/d/night_recordings_analysis/Mottled Owl_song/0.0098_36_p38_sn1.wav\n",
      "Saved: /mnt/d/night_recordings_analysis/Mottled Owl_song/0.0098_57_m1_sn6.wav\n",
      "Saved: /mnt/d/night_recordings_analysis/Mottled Owl_song/0.0098_87_ch42_sn12.wav\n",
      "Saved: /mnt/d/night_recordings_analysis/Mottled Owl_song/0.0097_81_m42_sn7.wav\n",
      "Saved: /mnt/d/night_recordings_analysis/Mottled Owl_song/0.0097_87_ch43_sn13.wav\n",
      "Saved: /mnt/d/night_recordings_analysis/Mottled Owl_song/0.0097_0_m6_sn18.wav\n",
      "Saved: /mnt/d/night_recordings_analysis/Mottled Owl_song/0.0097_42_ch41_sn7.wav\n",
      "Saved: /mnt/d/night_recordings_analysis/Mottled Owl_song/0.0097_18_p37_sn9.wav\n",
      "Saved: /mnt/d/night_recordings_analysis/Mottled Owl_song/0.0096_78_ch12_sn7.wav\n",
      "Saved: /mnt/d/night_recordings_analysis/Mottled Owl_song/0.0096_54_ch30_sn5.wav\n",
      "Saved: /mnt/d/night_recordings_analysis/Mottled Owl_song/0.0096_48_ch6_sn8.wav\n",
      "Saved: /mnt/d/night_recordings_analysis/Mottled Owl_song/0.0095_111_p14_sn15.wav\n",
      "Saved: /mnt/d/night_recordings_analysis/Mottled Owl_song/0.0095_36_m2_sn9.wav\n",
      "Saved: /mnt/d/night_recordings_analysis/Mottled Owl_song/0.0094_66_m10_sn4.wav\n",
      "Saved: /mnt/d/night_recordings_analysis/Mottled Owl_song/0.0094_12_ch25_sn5.wav\n",
      "Saved: /mnt/d/night_recordings_analysis/Mottled Owl_song/0.0094_0_m4_sn13.wav\n",
      "Saved: /mnt/d/night_recordings_analysis/Mottled Owl_song/0.0094_90_ch32_sn15.wav\n",
      "Saved: /mnt/d/night_recordings_analysis/Mottled Owl_song/0.0094_21_p17_sn9.wav\n",
      "Saved: /mnt/d/night_recordings_analysis/Mottled Owl_song/0.0094_33_p19_sn10.wav\n",
      "Saved: /mnt/d/night_recordings_analysis/Mottled Owl_song/0.0094_114_p31_sn19.wav\n",
      "Saved: /mnt/d/night_recordings_analysis/Mottled Owl_song/0.0094_87_m41_sn8.wav\n",
      "Saved: /mnt/d/night_recordings_analysis/Mottled Owl_song/0.0094_33_ch5_sn14.wav\n",
      "Saved: /mnt/d/night_recordings_analysis/Mottled Owl_song/0.0093_33_p39_sn3.wav\n",
      "Saved: /mnt/d/night_recordings_analysis/Mottled Owl_song/0.0093_3_m3_sn2.wav\n",
      "Saved: /mnt/d/night_recordings_analysis/Mottled Owl_song/0.0093_72_ch5_sn13.wav\n",
      "Saved: /mnt/d/night_recordings_analysis/Mottled Owl_song/0.0093_69_ch41_sn9.wav\n",
      "Saved: /mnt/d/night_recordings_analysis/Mottled Owl_song/0.0093_48_ch16_sn11.wav\n",
      "Saved: /mnt/d/night_recordings_analysis/Mottled Owl_song/0.0093_60_ch14_sn14.wav\n",
      "Saved: /mnt/d/night_recordings_analysis/Mottled Owl_song/0.0092_39_m9_sn10.wav\n",
      "Saved: /mnt/d/night_recordings_analysis/Mottled Owl_song/0.0092_39_m20_sn13.wav\n",
      "Saved: /mnt/d/night_recordings_analysis/Mottled Owl_song/0.0092_57_m21_sn20.wav\n",
      "Saved: /mnt/d/night_recordings_analysis/Mottled Owl_song/0.0092_36_ch37_sn6.wav\n",
      "Saved: /mnt/d/night_recordings_analysis/Mottled Owl_song/0.0092_15_m40_sn12.wav\n",
      "Saved: /mnt/d/night_recordings_analysis/Mottled Owl_song/0.0091_105_m37_sn8.wav\n",
      "Saved: /mnt/d/night_recordings_analysis/Mottled Owl_song/0.0091_33_ch23_sn6.wav\n",
      "Saved: /mnt/d/night_recordings_analysis/Mottled Owl_song/0.0091_30_ch14_sn13.wav\n",
      "Saved: /mnt/d/night_recordings_analysis/Mottled Owl_song/0.0091_78_ch44_sn11.wav\n",
      "Saved: /mnt/d/night_recordings_analysis/Mottled Owl_song/0.0090_6_m23_sn6.wav\n",
      "Saved: /mnt/d/night_recordings_analysis/Mottled Owl_song/0.0090_36_ch42_sn4.wav\n",
      "Saved: /mnt/d/night_recordings_analysis/Mottled Owl_song/0.0090_90_m7_sn1.wav\n",
      "Saved: /mnt/d/night_recordings_analysis/Mottled Owl_song/0.0089_60_ch23_sn25.wav\n",
      "Saved: /mnt/d/night_recordings_analysis/Mottled Owl_song/0.0089_45_p14_sn31.wav\n",
      "Saved: /mnt/d/night_recordings_analysis/Mottled Owl_song/0.0089_75_m6_sn1.wav\n",
      "Saved: /mnt/d/night_recordings_analysis/Mottled Owl_song/0.0089_81_m17_sn13.wav\n",
      "Saved: /mnt/d/night_recordings_analysis/Mottled Owl_song/0.0089_72_p47_sn12.wav\n",
      "Saved: /mnt/d/night_recordings_analysis/Mottled Owl_song/0.0089_99_m33_sn15.wav\n",
      "Saved: /mnt/d/night_recordings_analysis/Mottled Owl_song/0.0089_33_m26_sn16.wav\n",
      "Saved: /mnt/d/night_recordings_analysis/Mottled Owl_song/0.0088_105_m4_sn9.wav\n",
      "Saved: /mnt/d/night_recordings_analysis/Mottled Owl_song/0.0088_84_ch17_sn12.wav\n"
     ]
    },
    {
     "name": "stderr",
     "output_type": "stream",
     "text": [
      "/home/agosjuncosa/anaconda3/envs/opensoundscape/lib/python3.9/site-packages/opensoundscape/audio.py:340: UserWarning: Audio object is shorter than requested duration: 2.0 sec instead of 3 sec\n",
      "  warnings.warn(error_msg)\n"
     ]
    },
    {
     "name": "stdout",
     "output_type": "stream",
     "text": [
      "Saved: /mnt/d/night_recordings_analysis/Mottled Owl_song/0.0088_117_m17_sn23.wav\n",
      "Saved: /mnt/d/night_recordings_analysis/Mottled Owl_song/0.0088_12_p47_sn6.wav\n",
      "Saved: /mnt/d/night_recordings_analysis/Mottled Owl_song/0.0087_33_m44_sn14.wav\n",
      "Saved: /mnt/d/night_recordings_analysis/Mottled Owl_song/0.0087_102_ch36_sn14.wav\n",
      "Saved: /mnt/d/night_recordings_analysis/Mottled Owl_song/0.0087_111_ch22_sn20.wav\n",
      "Saved: /mnt/d/night_recordings_analysis/Mottled Owl_song/0.0087_6_m7_sn11.wav\n",
      "Saved: /mnt/d/night_recordings_analysis/Mottled Owl_song/0.0087_93_ch36_sn5.wav\n",
      "Saved: /mnt/d/night_recordings_analysis/Mottled Owl_song/0.0087_12_m43_sn18.wav\n",
      "Saved: /mnt/d/night_recordings_analysis/Mottled Owl_song/0.0087_72_ch22_sn14.wav\n",
      "Saved: /mnt/d/night_recordings_analysis/Mottled Owl_song/0.0086_75_ch46_sn19.wav\n",
      "Saved: /mnt/d/night_recordings_analysis/Mottled Owl_song/0.0086_39_ch15_sn12.wav\n",
      "Saved: /mnt/d/night_recordings_analysis/Mottled Owl_song/0.0086_78_m24_sn4.wav\n",
      "Saved: /mnt/d/night_recordings_analysis/Mottled Owl_song/0.0086_3_m43_sn17.wav\n",
      "Saved: /mnt/d/night_recordings_analysis/Mottled Owl_song/0.0086_87_m16_sn20.wav\n",
      "Saved: /mnt/d/night_recordings_analysis/Mottled Owl_song/0.0086_87_m5_sn4.wav\n",
      "Saved: /mnt/d/night_recordings_analysis/Mottled Owl_song/0.0086_48_p18_sn13.wav\n",
      "Saved: /mnt/d/night_recordings_analysis/Mottled Owl_song/0.0085_69_m37_sn26.wav\n",
      "Saved: /mnt/d/night_recordings_analysis/Mottled Owl_song/0.0085_6_m4_sn12.wav\n",
      "Saved: /mnt/d/night_recordings_analysis/Mottled Owl_song/0.0085_117_m37_sn24.wav\n"
     ]
    },
    {
     "name": "stderr",
     "output_type": "stream",
     "text": [
      "/home/agosjuncosa/anaconda3/envs/opensoundscape/lib/python3.9/site-packages/opensoundscape/audio.py:340: UserWarning: Audio object is shorter than requested duration: 2.0 sec instead of 3 sec\n",
      "  warnings.warn(error_msg)\n"
     ]
    },
    {
     "name": "stdout",
     "output_type": "stream",
     "text": [
      "Saved: /mnt/d/night_recordings_analysis/Mottled Owl_song/0.0085_69_p17_sn11.wav\n",
      "Saved: /mnt/d/night_recordings_analysis/Mottled Owl_song/0.0085_105_ch35_sn3.wav\n",
      "Saved: /mnt/d/night_recordings_analysis/Mottled Owl_song/0.0085_63_ch12_sn1.wav\n",
      "Saved: /mnt/d/night_recordings_analysis/Mottled Owl_song/0.0084_0_p36_sn1.wav\n",
      "Saved: /mnt/d/night_recordings_analysis/Mottled Owl_song/0.0084_6_m5_sn6.wav\n",
      "Saved: /mnt/d/night_recordings_analysis/Mottled Owl_song/0.0084_66_ch30_sn12.wav\n",
      "Saved: /mnt/d/night_recordings_analysis/Mottled Owl_song/0.0084_90_m35_sn16.wav\n",
      "Saved: /mnt/d/night_recordings_analysis/Mottled Owl_song/0.0084_96_p15_sn5.wav\n",
      "Saved: /mnt/d/night_recordings_analysis/Mottled Owl_song/0.0083_90_ch29_sn9.wav\n",
      "Saved: /mnt/d/night_recordings_analysis/Mottled Owl_song/0.0083_60_m7_sn16.wav\n",
      "Saved: /mnt/d/night_recordings_analysis/Mottled Owl_song/0.0083_108_p14_sn20.wav\n",
      "Saved: /mnt/d/night_recordings_analysis/Mottled Owl_song/0.0083_33_m20_sn5.wav\n",
      "Saved: /mnt/d/night_recordings_analysis/Mottled Owl_song/0.0083_39_p30_sn8.wav\n",
      "Saved: /mnt/d/night_recordings_analysis/Mottled Owl_song/0.0083_45_ch21_sn5.wav\n",
      "Saved: /mnt/d/night_recordings_analysis/Mottled Owl_song/0.0083_99_ch27_sn14.wav\n",
      "Saved: /mnt/d/night_recordings_analysis/Mottled Owl_song/0.0083_21_m43_sn14.wav\n",
      "Saved: /mnt/d/night_recordings_analysis/Mottled Owl_song/0.0083_90_ch47_sn10.wav\n",
      "Saved: /mnt/d/night_recordings_analysis/Mottled Owl_song/0.0083_63_p14_sn4.wav\n",
      "Saved: /mnt/d/night_recordings_analysis/Mottled Owl_song/0.0083_30_p14_sn2.wav\n",
      "Saved: /mnt/d/night_recordings_analysis/Mottled Owl_song/0.0083_66_p22_sn5.wav\n",
      "Saved: /mnt/d/night_recordings_analysis/Mottled Owl_song/0.0082_81_m42_sn13.wav\n",
      "Saved: /mnt/d/night_recordings_analysis/Mottled Owl_song/0.0082_75_m26_sn4.wav\n",
      "Saved: /mnt/d/night_recordings_analysis/Mottled Owl_song/0.0082_30_ch37_sn7.wav\n",
      "Saved: /mnt/d/night_recordings_analysis/Mottled Owl_song/0.0082_99_m42_sn2.wav\n",
      "Saved: /mnt/d/night_recordings_analysis/Mottled Owl_song/0.0082_105_ch23_sn17.wav\n",
      "Saved: /mnt/d/night_recordings_analysis/Mottled Owl_song/0.0082_12_m28_sn21.wav\n",
      "Saved: /mnt/d/night_recordings_analysis/Mottled Owl_song/0.0082_111_m26_sn15.wav\n",
      "Saved: /mnt/d/night_recordings_analysis/Mottled Owl_song/0.0082_90_p39_sn11.wav\n",
      "Saved: /mnt/d/night_recordings_analysis/Mottled Owl_song/0.0082_81_m25_sn21.wav\n",
      "Saved: /mnt/d/night_recordings_analysis/Mottled Owl_song/0.0082_102_ch22_sn6.wav\n",
      "Saved: /mnt/d/night_recordings_analysis/Mottled Owl_song/0.0082_66_m16_sn17.wav\n",
      "Saved: /mnt/d/night_recordings_analysis/Mottled Owl_song/0.0081_0_ch1_sn10.wav\n",
      "Saved: /mnt/d/night_recordings_analysis/Mottled Owl_song/0.0081_78_ch2_sn1.wav\n",
      "Saved: /mnt/d/night_recordings_analysis/Mottled Owl_song/0.0081_12_m44_sn12.wav\n",
      "Saved: /mnt/d/night_recordings_analysis/Mottled Owl_song/0.0081_114_ch23_sn10.wav\n",
      "Saved: /mnt/d/night_recordings_analysis/Mottled Owl_song/0.0081_3_ch36_sn8.wav\n",
      "Saved: /mnt/d/night_recordings_analysis/Mottled Owl_song/0.0081_66_p14_sn25.wav\n",
      "Saved: /mnt/d/night_recordings_analysis/Mottled Owl_song/0.0081_60_p42_sn8.wav\n",
      "Saved: /mnt/d/night_recordings_analysis/Mottled Owl_song/0.0080_63_p12_sn8.wav\n",
      "Saved: /mnt/d/night_recordings_analysis/Mottled Owl_song/0.0080_66_m2_sn12.wav\n",
      "Saved: /mnt/d/night_recordings_analysis/Mottled Owl_song/0.0080_108_ch12_sn6.wav\n",
      "Saved: /mnt/d/night_recordings_analysis/Mottled Owl_song/0.0080_108_p37_sn14.wav\n",
      "Saved: /mnt/d/night_recordings_analysis/Mottled Owl_song/0.0080_3_m6_sn7.wav\n",
      "Saved: /mnt/d/night_recordings_analysis/Mottled Owl_song/0.0080_99_p37_sn13.wav\n",
      "Saved: /mnt/d/night_recordings_analysis/Mottled Owl_song/0.0080_57_m19_sn5.wav\n",
      "Saved: /mnt/d/night_recordings_analysis/Mottled Owl_song/0.0079_18_p24_sn13.wav\n",
      "Saved: /mnt/d/night_recordings_analysis/Mottled Owl_song/0.0079_72_m1_sn11.wav\n",
      "Saved: /mnt/d/night_recordings_analysis/Mottled Owl_song/0.0079_90_ch29_sn10.wav\n",
      "Saved: /mnt/d/night_recordings_analysis/Mottled Owl_song/0.0079_36_m45_sn9.wav\n",
      "Saved: /mnt/d/night_recordings_analysis/Mottled Owl_song/0.0079_93_p32_sn8.wav\n",
      "Saved: /mnt/d/night_recordings_analysis/Mottled Owl_song/0.0079_96_ch5_sn11.wav\n",
      "Saved: /mnt/d/night_recordings_analysis/Mottled Owl_song/0.0079_51_m37_sn3.wav\n",
      "Saved: /mnt/d/night_recordings_analysis/Mottled Owl_song/0.0079_27_m9_sn15.wav\n",
      "Saved: /mnt/d/night_recordings_analysis/Mottled Owl_song/0.0079_111_p36_sn9.wav\n",
      "Saved: /mnt/d/night_recordings_analysis/Mottled Owl_song/0.0078_69_ch9_sn11.wav\n",
      "Saved: /mnt/d/night_recordings_analysis/Mottled Owl_song/0.0078_36_ch30_sn4.wav\n",
      "Saved: /mnt/d/night_recordings_analysis/Mottled Owl_song/0.0078_27_m31_sn4.wav\n",
      "Saved: /mnt/d/night_recordings_analysis/Mottled Owl_song/0.0078_87_p14_sn17.wav\n",
      "Saved: /mnt/d/night_recordings_analysis/Mottled Owl_song/0.0078_87_p14_sn26.wav\n",
      "Saved: /mnt/d/night_recordings_analysis/Mottled Owl_song/0.0077_87_m19_sn12.wav\n",
      "Saved: /mnt/d/night_recordings_analysis/Mottled Owl_song/0.0077_3_ch15_sn6.wav\n",
      "Saved: /mnt/d/night_recordings_analysis/Mottled Owl_song/0.0077_57_ch12_sn8.wav\n",
      "Saved: /mnt/d/night_recordings_analysis/Mottled Owl_song/0.0077_3_m8_sn5.wav\n",
      "Saved: /mnt/d/night_recordings_analysis/Mottled Owl_song/0.0077_75_ch14_sn12.wav\n",
      "Saved: /mnt/d/night_recordings_analysis/Mottled Owl_song/0.0077_90_m16_sn7.wav\n",
      "Saved: /mnt/d/night_recordings_analysis/Mottled Owl_song/0.0076_3_m43_sn20.wav\n",
      "Saved: /mnt/d/night_recordings_analysis/Mottled Owl_song/0.0076_111_m16_sn3.wav\n",
      "Saved: /mnt/d/night_recordings_analysis/Mottled Owl_song/0.0076_57_ch17_sn4.wav\n",
      "Saved: /mnt/d/night_recordings_analysis/Mottled Owl_song/0.0076_39_m45_sn13.wav\n",
      "Saved: /mnt/d/night_recordings_analysis/Mottled Owl_song/0.0076_78_m19_sn6.wav\n",
      "Saved: /mnt/d/night_recordings_analysis/Mottled Owl_song/0.0075_57_p31_sn9.wav\n",
      "Saved: /mnt/d/night_recordings_analysis/Mottled Owl_song/0.0075_84_ch5_sn5.wav\n",
      "Saved: /mnt/d/night_recordings_analysis/Mottled Owl_song/0.0075_117_p14_sn14.wav\n",
      "Saved: /mnt/d/night_recordings_analysis/Mottled Owl_song/0.0075_60_ch37_sn16.wav\n",
      "Saved: /mnt/d/night_recordings_analysis/Mottled Owl_song/0.0075_102_ch12_sn10.wav\n",
      "Saved: /mnt/d/night_recordings_analysis/Mottled Owl_song/0.0075_3_m44_sn18.wav\n"
     ]
    },
    {
     "name": "stderr",
     "output_type": "stream",
     "text": [
      "/home/agosjuncosa/anaconda3/envs/opensoundscape/lib/python3.9/site-packages/opensoundscape/audio.py:340: UserWarning: Audio object is shorter than requested duration: 2.45625 sec instead of 3 sec\n",
      "  warnings.warn(error_msg)\n"
     ]
    },
    {
     "name": "stdout",
     "output_type": "stream",
     "text": [
      "Saved: /mnt/d/night_recordings_analysis/Mottled Owl_song/0.0074_51_m20_sn20.wav\n",
      "Saved: /mnt/d/night_recordings_analysis/Mottled Owl_song/0.0074_36_ch22_sn17.wav\n",
      "Saved: /mnt/d/night_recordings_analysis/Mottled Owl_song/0.0074_99_m47_sn1.wav\n",
      "Saved: /mnt/d/night_recordings_analysis/Mottled Owl_song/0.0074_108_ch22_sn19.wav\n",
      "Saved: /mnt/d/night_recordings_analysis/Mottled Owl_song/0.0074_30_ch16_sn5.wav\n",
      "Saved: /mnt/d/night_recordings_analysis/Mottled Owl_song/0.0074_66_p31_sn15.wav\n",
      "Saved: /mnt/d/night_recordings_analysis/Mottled Owl_song/0.0073_27_ch30_sn11.wav\n",
      "Saved: /mnt/d/night_recordings_analysis/Mottled Owl_song/0.0073_75_ch19_sn2.wav\n",
      "Saved: /mnt/d/night_recordings_analysis/Mottled Owl_song/0.0073_111_ch36_sn7.wav\n",
      "Saved: /mnt/d/night_recordings_analysis/Mottled Owl_song/0.0073_21_p32_sn13.wav\n",
      "Saved: /mnt/d/night_recordings_analysis/Mottled Owl_song/0.0072_39_ch38_sn5.wav\n",
      "Saved: /mnt/d/night_recordings_analysis/Mottled Owl_song/0.0072_81_ch41_sn13.wav\n",
      "Saved: /mnt/d/night_recordings_analysis/Mottled Owl_song/0.0072_81_m6_sn13.wav\n",
      "Saved: /mnt/d/night_recordings_analysis/Mottled Owl_song/0.0072_18_ch27_sn5.wav\n",
      "Saved: /mnt/d/night_recordings_analysis/Mottled Owl_song/0.0071_75_m21_sn8.wav\n",
      "Saved: /mnt/d/night_recordings_analysis/Mottled Owl_song/0.0071_57_ch31_sn14.wav\n",
      "Saved: /mnt/d/night_recordings_analysis/Mottled Owl_song/0.0071_69_m14_sn12.wav\n",
      "Saved: /mnt/d/night_recordings_analysis/Mottled Owl_song/0.0070_15_m6_sn3.wav\n",
      "Saved: /mnt/d/night_recordings_analysis/Mottled Owl_song/0.0070_78_p41_sn21.wav\n",
      "Saved: /mnt/d/night_recordings_analysis/Mottled Owl_song/0.0070_99_p36_sn5.wav\n",
      "Saved: /mnt/d/night_recordings_analysis/Mottled Owl_song/0.0070_111_m15_sn8.wav\n",
      "Saved: /mnt/d/night_recordings_analysis/Mottled Owl_song/0.0069_36_ch13_sn2.wav\n",
      "Saved: /mnt/d/night_recordings_analysis/Mottled Owl_song/0.0069_66_p47_sn8.wav\n",
      "Saved: /mnt/d/night_recordings_analysis/Mottled Owl_song/0.0069_81_m44_sn11.wav\n",
      "Saved: /mnt/d/night_recordings_analysis/Mottled Owl_song/0.0069_6_ch38_sn18.wav\n",
      "Saved: /mnt/d/night_recordings_analysis/Mottled Owl_song/0.0069_84_m6_sn14.wav\n",
      "Saved: /mnt/d/night_recordings_analysis/Mottled Owl_song/0.0069_66_ch5_sn1.wav\n",
      "Saved: /mnt/d/night_recordings_analysis/Mottled Owl_song/0.0069_117_m7_sn14.wav\n"
     ]
    },
    {
     "name": "stderr",
     "output_type": "stream",
     "text": [
      "/home/agosjuncosa/anaconda3/envs/opensoundscape/lib/python3.9/site-packages/opensoundscape/audio.py:340: UserWarning: Audio object is shorter than requested duration: 2.0 sec instead of 3 sec\n",
      "  warnings.warn(error_msg)\n"
     ]
    },
    {
     "name": "stdout",
     "output_type": "stream",
     "text": [
      "Saved: /mnt/d/night_recordings_analysis/Mottled Owl_song/0.0069_9_ch20_sn7.wav\n",
      "Saved: /mnt/d/night_recordings_analysis/Mottled Owl_song/0.0069_3_p36_sn4.wav\n",
      "Saved: /mnt/d/night_recordings_analysis/Mottled Owl_song/0.0069_0_p45_sn3.wav\n",
      "Saved: /mnt/d/night_recordings_analysis/Mottled Owl_song/0.0069_15_ch2_sn13.wav\n",
      "Saved: /mnt/d/night_recordings_analysis/Mottled Owl_song/0.0069_51_ch7_sn5.wav\n",
      "Saved: /mnt/d/night_recordings_analysis/Mottled Owl_song/0.0068_117_ch21_sn8.wav\n",
      "Saved: /mnt/d/night_recordings_analysis/Mottled Owl_song/0.0068_33_m11_sn10.wav\n",
      "Saved: /mnt/d/night_recordings_analysis/Mottled Owl_song/0.0068_24_ch29_sn14.wav\n",
      "Saved: /mnt/d/night_recordings_analysis/Mottled Owl_song/0.0068_114_m2_sn3.wav\n",
      "Saved: /mnt/d/night_recordings_analysis/Mottled Owl_song/0.0068_111_m37_sn25.wav\n",
      "Saved: /mnt/d/night_recordings_analysis/Mottled Owl_song/0.0068_69_ch20_sn11.wav\n",
      "Saved: /mnt/d/night_recordings_analysis/Mottled Owl_song/0.0068_51_m5_sn9.wav\n",
      "Saved: /mnt/d/night_recordings_analysis/Mottled Owl_song/0.0068_105_ch22_sn27.wav\n",
      "Saved: /mnt/d/night_recordings_analysis/Mottled Owl_song/0.0068_27_p46_sn1.wav\n",
      "Saved: /mnt/d/night_recordings_analysis/Mottled Owl_song/0.0067_66_m35_sn10.wav\n",
      "Saved: /mnt/d/night_recordings_analysis/Mottled Owl_song/0.0067_51_m20_sn8.wav\n",
      "Saved: /mnt/d/night_recordings_analysis/Mottled Owl_song/0.0067_30_ch19_sn10.wav\n",
      "Saved: /mnt/d/night_recordings_analysis/Mottled Owl_song/0.0067_0_p12_sn6.wav\n",
      "Saved: /mnt/d/night_recordings_analysis/Mottled Owl_song/0.0067_42_p45_sn5.wav\n",
      "Saved: /mnt/d/night_recordings_analysis/Mottled Owl_song/0.0067_81_ch13_sn3.wav\n",
      "Saved: /mnt/d/night_recordings_analysis/Mottled Owl_song/0.0067_84_m26_sn7.wav\n",
      "Saved: /mnt/d/night_recordings_analysis/Mottled Owl_song/0.0066_0_m6_sn20.wav\n",
      "Saved: /mnt/d/night_recordings_analysis/Mottled Owl_song/0.0066_81_m31_sn3.wav\n",
      "Saved: /mnt/d/night_recordings_analysis/Mottled Owl_song/0.0066_66_ch17_sn6.wav\n",
      "Saved: /mnt/d/night_recordings_analysis/Mottled Owl_song/0.0066_24_m44_sn1.wav\n",
      "Saved: /mnt/d/night_recordings_analysis/Mottled Owl_song/0.0066_48_p23_sn9.wav\n",
      "Saved: /mnt/d/night_recordings_analysis/Mottled Owl_song/0.0066_69_p38_sn8.wav\n",
      "Saved: /mnt/d/night_recordings_analysis/Mottled Owl_song/0.0065_108_ch29_sn12.wav\n",
      "Saved: /mnt/d/night_recordings_analysis/Mottled Owl_song/0.0065_99_ch4_sn2.wav\n",
      "Saved: /mnt/d/night_recordings_analysis/Mottled Owl_song/0.0065_0_ch23_sn19.wav\n",
      "Saved: /mnt/d/night_recordings_analysis/Mottled Owl_song/0.0065_60_m21_sn10.wav\n",
      "Saved: /mnt/d/night_recordings_analysis/Mottled Owl_song/0.0065_24_ch27_sn9.wav\n",
      "Saved: /mnt/d/night_recordings_analysis/Mottled Owl_song/0.0065_36_m27_sn5.wav\n",
      "Saved: /mnt/d/night_recordings_analysis/Mottled Owl_song/0.0065_72_m39_sn9.wav\n",
      "Saved: /mnt/d/night_recordings_analysis/Mottled Owl_song/0.0065_6_m41_sn3.wav\n",
      "Saved: /mnt/d/night_recordings_analysis/Mottled Owl_song/0.0065_45_ch27_sn17.wav\n",
      "Saved: /mnt/d/night_recordings_analysis/Mottled Owl_song/0.0065_54_ch25_sn4.wav\n",
      "Saved: /mnt/d/night_recordings_analysis/Mottled Owl_song/0.0065_21_ch32_sn21.wav\n"
     ]
    },
    {
     "name": "stderr",
     "output_type": "stream",
     "text": [
      "/home/agosjuncosa/anaconda3/envs/opensoundscape/lib/python3.9/site-packages/opensoundscape/audio.py:340: UserWarning: Audio object is shorter than requested duration: 2.2055833333333332 sec instead of 3 sec\n",
      "  warnings.warn(error_msg)\n"
     ]
    },
    {
     "name": "stdout",
     "output_type": "stream",
     "text": [
      "Saved: /mnt/d/night_recordings_analysis/Mottled Owl_song/0.0065_114_ch45_sn21.wav\n",
      "Saved: /mnt/d/night_recordings_analysis/Mottled Owl_song/0.0065_72_m4_sn11.wav\n",
      "Saved: /mnt/d/night_recordings_analysis/Mottled Owl_song/0.0065_42_ch31_sn6.wav\n",
      "Saved: /mnt/d/night_recordings_analysis/Mottled Owl_song/0.0064_96_m40_sn8.wav\n",
      "Saved: /mnt/d/night_recordings_analysis/Mottled Owl_song/0.0064_96_m42_sn1.wav\n",
      "Saved: /mnt/d/night_recordings_analysis/Mottled Owl_song/0.0064_15_ch8_sn10.wav\n",
      "Saved: /mnt/d/night_recordings_analysis/Mottled Owl_song/0.0064_0_p45_sn7.wav\n",
      "Saved: /mnt/d/night_recordings_analysis/Mottled Owl_song/0.0064_69_m16_sn18.wav\n",
      "Saved: /mnt/d/night_recordings_analysis/Mottled Owl_song/0.0063_0_ch42_sn9.wav\n",
      "Saved: /mnt/d/night_recordings_analysis/Mottled Owl_song/0.0063_27_ch32_sn19.wav\n",
      "Saved: /mnt/d/night_recordings_analysis/Mottled Owl_song/0.0063_81_ch36_sn11.wav\n",
      "Saved: /mnt/d/night_recordings_analysis/Mottled Owl_song/0.0063_57_m40_sn23.wav\n",
      "Saved: /mnt/d/night_recordings_analysis/Mottled Owl_song/0.0063_6_m37_sn21.wav\n",
      "Saved: /mnt/d/night_recordings_analysis/Mottled Owl_song/0.0063_105_m24_sn8.wav\n",
      "Saved: /mnt/d/night_recordings_analysis/Mottled Owl_song/0.0063_0_m11_sn8.wav\n",
      "Saved: /mnt/d/night_recordings_analysis/Mottled Owl_song/0.0063_102_m9_sn16.wav\n",
      "Saved: /mnt/d/night_recordings_analysis/Mottled Owl_song/0.0063_90_ch19_sn1.wav\n",
      "Saved: /mnt/d/night_recordings_analysis/Mottled Owl_song/0.0062_84_p32_sn4.wav\n",
      "Saved: /mnt/d/night_recordings_analysis/Mottled Owl_song/0.0062_63_p1_sn7.wav\n",
      "Saved: /mnt/d/night_recordings_analysis/Mottled Owl_song/0.0062_78_m41_sn2.wav\n",
      "Saved: /mnt/d/night_recordings_analysis/Mottled Owl_song/0.0062_51_p34_sn5.wav\n",
      "Saved: /mnt/d/night_recordings_analysis/Mottled Owl_song/0.0062_36_ch29_sn5.wav\n",
      "Saved: /mnt/d/night_recordings_analysis/Mottled Owl_song/0.0062_69_p12_sn18.wav\n",
      "Saved: /mnt/d/night_recordings_analysis/Mottled Owl_song/0.0062_111_p36_sn18.wav\n",
      "Saved: /mnt/d/night_recordings_analysis/Mottled Owl_song/0.0062_0_ch21_sn18.wav\n",
      "Saved: /mnt/d/night_recordings_analysis/Mottled Owl_song/0.0062_18_ch36_sn9.wav\n",
      "Saved: /mnt/d/night_recordings_analysis/Mottled Owl_song/0.0062_66_ch42_sn15.wav\n",
      "Saved: /mnt/d/night_recordings_analysis/Mottled Owl_song/0.0062_3_m24_sn6.wav\n",
      "Saved: /mnt/d/night_recordings_analysis/Mottled Owl_song/0.0062_84_ch38_sn15.wav\n",
      "Saved: /mnt/d/night_recordings_analysis/Mottled Owl_song/0.0061_57_p18_sn10.wav\n",
      "Saved: /mnt/d/night_recordings_analysis/Mottled Owl_song/0.0061_69_ch46_sn2.wav\n",
      "Saved: /mnt/d/night_recordings_analysis/Mottled Owl_song/0.0061_117_m1_sn9.wav\n",
      "Saved: /mnt/d/night_recordings_analysis/Mottled Owl_song/0.0061_0_m9_sn17.wav\n",
      "Saved: /mnt/d/night_recordings_analysis/Mottled Owl_song/0.0061_66_ch6_sn10.wav\n",
      "Saved: /mnt/d/night_recordings_analysis/Mottled Owl_song/0.0061_93_ch1_sn1.wav\n",
      "Saved: /mnt/d/night_recordings_analysis/Mottled Owl_song/0.0061_27_p5_sn2.wav\n",
      "Saved: /mnt/d/night_recordings_analysis/Mottled Owl_song/0.0061_75_ch14_sn7.wav\n",
      "Saved: /mnt/d/night_recordings_analysis/Mottled Owl_song/0.0061_24_ch1_sn13.wav\n",
      "Saved: /mnt/d/night_recordings_analysis/Mottled Owl_song/0.0060_6_p42_sn7.wav\n",
      "Saved: /mnt/d/night_recordings_analysis/Mottled Owl_song/0.0060_18_m16_sn10.wav\n",
      "Saved: /mnt/d/night_recordings_analysis/Mottled Owl_song/0.0060_36_m9_sn12.wav\n",
      "Saved: /mnt/d/night_recordings_analysis/Mottled Owl_song/0.0060_3_m44_sn17.wav\n",
      "Saved: /mnt/d/night_recordings_analysis/Mottled Owl_song/0.0060_57_m11_sn5.wav\n",
      "Saved: /mnt/d/night_recordings_analysis/Mottled Owl_song/0.0060_3_ch46_sn11.wav\n",
      "Saved: /mnt/d/night_recordings_analysis/Mottled Owl_song/0.0060_105_m20_sn10.wav\n",
      "Saved: /mnt/d/night_recordings_analysis/Mottled Owl_song/0.0060_33_ch14_sn9.wav\n",
      "Saved: /mnt/d/night_recordings_analysis/Mottled Owl_song/0.0060_81_p46_sn12.wav\n",
      "Saved: /mnt/d/night_recordings_analysis/Mottled Owl_song/0.0060_72_m23_sn1.wav\n",
      "Saved: /mnt/d/night_recordings_analysis/Mottled Owl_song/0.0060_36_p2_sn6.wav\n",
      "Saved: /mnt/d/night_recordings_analysis/Mottled Owl_song/0.0060_81_p19_sn15.wav\n",
      "Saved: /mnt/d/night_recordings_analysis/Mottled Owl_song/0.0060_33_ch12_sn3.wav\n",
      "Saved: /mnt/d/night_recordings_analysis/Mottled Owl_song/0.0059_15_p12_sn19.wav\n",
      "Saved: /mnt/d/night_recordings_analysis/Mottled Owl_song/0.0059_33_ch27_sn6.wav\n",
      "Saved: /mnt/d/night_recordings_analysis/Mottled Owl_song/0.0059_117_m28_sn26.wav\n"
     ]
    },
    {
     "name": "stderr",
     "output_type": "stream",
     "text": [
      "/home/agosjuncosa/anaconda3/envs/opensoundscape/lib/python3.9/site-packages/opensoundscape/audio.py:340: UserWarning: Audio object is shorter than requested duration: 2.0 sec instead of 3 sec\n",
      "  warnings.warn(error_msg)\n"
     ]
    },
    {
     "name": "stdout",
     "output_type": "stream",
     "text": [
      "Saved: /mnt/d/night_recordings_analysis/Mottled Owl_song/0.0059_9_m26_sn17.wav\n",
      "Saved: /mnt/d/night_recordings_analysis/Mottled Owl_song/0.0059_6_ch18_sn14.wav\n",
      "Saved: /mnt/d/night_recordings_analysis/Mottled Owl_song/0.0059_0_m14_sn4.wav\n"
     ]
    },
    {
     "name": "stderr",
     "output_type": "stream",
     "text": [
      "/home/agosjuncosa/anaconda3/envs/opensoundscape/lib/python3.9/site-packages/opensoundscape/audio.py:340: UserWarning: Audio object is shorter than requested duration: 2.0 sec instead of 3 sec\n",
      "  warnings.warn(error_msg)\n"
     ]
    },
    {
     "name": "stdout",
     "output_type": "stream",
     "text": [
      "Saved: /mnt/d/night_recordings_analysis/Mottled Owl_song/0.0058_117_p18_sn9.wav\n",
      "Saved: /mnt/d/night_recordings_analysis/Mottled Owl_song/0.0058_6_p26_sn16.wav\n",
      "Saved: /mnt/d/night_recordings_analysis/Mottled Owl_song/0.0058_39_p7_sn14.wav\n",
      "Saved: /mnt/d/night_recordings_analysis/Mottled Owl_song/0.0058_48_ch15_sn7.wav\n",
      "Saved: /mnt/d/night_recordings_analysis/Mottled Owl_song/0.0058_84_ch20_sn13.wav\n",
      "Saved: /mnt/d/night_recordings_analysis/Mottled Owl_song/0.0058_66_ch39_sn5.wav\n",
      "Saved: /mnt/d/night_recordings_analysis/Mottled Owl_song/0.0058_54_m35_sn21.wav\n",
      "Saved: /mnt/d/night_recordings_analysis/Mottled Owl_song/0.0058_3_p39_sn13.wav\n",
      "Saved: /mnt/d/night_recordings_analysis/Mottled Owl_song/0.0057_84_m40_sn16.wav\n",
      "Saved: /mnt/d/night_recordings_analysis/Mottled Owl_song/0.0057_108_p32_sn6.wav\n",
      "Saved: /mnt/d/night_recordings_analysis/Mottled Owl_song/0.0057_66_ch38_sn7.wav\n",
      "Saved: /mnt/d/night_recordings_analysis/Mottled Owl_song/0.0057_99_p30_sn11.wav\n",
      "Saved: /mnt/d/night_recordings_analysis/Mottled Owl_song/0.0057_111_ch36_sn1.wav\n",
      "Saved: /mnt/d/night_recordings_analysis/Mottled Owl_song/0.0057_21_ch6_sn6.wav\n",
      "Saved: /mnt/d/night_recordings_analysis/Mottled Owl_song/0.0057_60_ch21_sn16.wav\n",
      "Saved: /mnt/d/night_recordings_analysis/Mottled Owl_song/0.0057_81_m17_sn12.wav\n",
      "Saved: /mnt/d/night_recordings_analysis/Mottled Owl_song/0.0057_93_ch8_sn1.wav\n",
      "Saved: /mnt/d/night_recordings_analysis/Mottled Owl_song/0.0057_54_m10_sn9.wav\n"
     ]
    },
    {
     "name": "stderr",
     "output_type": "stream",
     "text": [
      "/home/agosjuncosa/anaconda3/envs/opensoundscape/lib/python3.9/site-packages/opensoundscape/audio.py:340: UserWarning: Audio object is shorter than requested duration: 1.9735833333333332 sec instead of 3 sec\n",
      "  warnings.warn(error_msg)\n"
     ]
    },
    {
     "name": "stdout",
     "output_type": "stream",
     "text": [
      "Saved: /mnt/d/night_recordings_analysis/Mottled Owl_song/0.0057_54_m39_sn14.wav\n",
      "Saved: /mnt/d/night_recordings_analysis/Mottled Owl_song/0.0057_87_m18_sn2.wav\n",
      "Saved: /mnt/d/night_recordings_analysis/Mottled Owl_song/0.0057_48_m45_sn6.wav\n",
      "Saved: /mnt/d/night_recordings_analysis/Mottled Owl_song/0.0056_117_m30_sn26.wav\n"
     ]
    },
    {
     "name": "stderr",
     "output_type": "stream",
     "text": [
      "/home/agosjuncosa/anaconda3/envs/opensoundscape/lib/python3.9/site-packages/opensoundscape/audio.py:340: UserWarning: Audio object is shorter than requested duration: 2.0 sec instead of 3 sec\n",
      "  warnings.warn(error_msg)\n"
     ]
    },
    {
     "name": "stdout",
     "output_type": "stream",
     "text": [
      "Saved: /mnt/d/night_recordings_analysis/Mottled Owl_song/0.0056_72_ch23_sn14.wav\n",
      "Saved: /mnt/d/night_recordings_analysis/Mottled Owl_song/0.0056_108_ch32_sn3.wav\n",
      "Saved: /mnt/d/night_recordings_analysis/Mottled Owl_song/0.0056_15_p23_sn3.wav\n",
      "Saved: /mnt/d/night_recordings_analysis/Mottled Owl_song/0.0056_36_p12_sn10.wav\n",
      "Saved: /mnt/d/night_recordings_analysis/Mottled Owl_song/0.0056_21_m9_sn8.wav\n",
      "Saved: /mnt/d/night_recordings_analysis/Mottled Owl_song/0.0056_78_ch44_sn7.wav\n",
      "Saved: /mnt/d/night_recordings_analysis/Mottled Owl_song/0.0056_54_m26_sn5.wav\n",
      "Saved: /mnt/d/night_recordings_analysis/Mottled Owl_song/0.0056_15_m8_sn9.wav\n",
      "Saved: /mnt/d/night_recordings_analysis/Mottled Owl_song/0.0056_54_m37_sn11.wav\n",
      "Saved: /mnt/d/night_recordings_analysis/Mottled Owl_song/0.0055_15_ch46_sn14.wav\n",
      "Saved: /mnt/d/night_recordings_analysis/Mottled Owl_song/0.0055_66_m3_sn7.wav\n",
      "Saved: /mnt/d/night_recordings_analysis/Mottled Owl_song/0.0055_21_m27_sn4.wav\n",
      "Saved: /mnt/d/night_recordings_analysis/Mottled Owl_song/0.0055_36_p35_sn14.wav\n",
      "Saved: /mnt/d/night_recordings_analysis/Mottled Owl_song/0.0055_117_ch27_sn12.wav\n",
      "Saved: /mnt/d/night_recordings_analysis/Mottled Owl_song/0.0055_78_ch18_sn2.wav\n",
      "Saved: /mnt/d/night_recordings_analysis/Mottled Owl_song/0.0055_27_ch42_sn5.wav\n",
      "Saved: /mnt/d/night_recordings_analysis/Mottled Owl_song/0.0055_24_ch22_sn10.wav\n",
      "Saved: /mnt/d/night_recordings_analysis/Mottled Owl_song/0.0055_117_p42_sn4.wav\n",
      "Saved: /mnt/d/night_recordings_analysis/Mottled Owl_song/0.0055_48_ch13_sn5.wav\n",
      "Saved: /mnt/d/night_recordings_analysis/Mottled Owl_song/0.0055_15_ch31_sn10.wav\n",
      "Saved: /mnt/d/night_recordings_analysis/Mottled Owl_song/0.0055_75_ch37_sn4.wav\n",
      "Saved: /mnt/d/night_recordings_analysis/Mottled Owl_song/0.0054_96_ch21_sn6.wav\n",
      "Saved: /mnt/d/night_recordings_analysis/Mottled Owl_song/0.0054_6_m35_sn19.wav\n",
      "Saved: /mnt/d/night_recordings_analysis/Mottled Owl_song/0.0054_96_ch46_sn15.wav\n",
      "Saved: /mnt/d/night_recordings_analysis/Mottled Owl_song/0.0054_21_p42_sn3.wav\n",
      "Saved: /mnt/d/night_recordings_analysis/Mottled Owl_song/0.0054_105_m41_sn5.wav\n",
      "Saved: /mnt/d/night_recordings_analysis/Mottled Owl_song/0.0054_54_p12_sn9.wav\n",
      "Saved: /mnt/d/night_recordings_analysis/Mottled Owl_song/0.0054_36_p36_sn8.wav\n",
      "Saved: /mnt/d/night_recordings_analysis/Mottled Owl_song/0.0053_117_m28_sn18.wav\n",
      "Saved: /mnt/d/night_recordings_analysis/Mottled Owl_song/0.0053_24_ch14_sn6.wav\n",
      "Saved: /mnt/d/night_recordings_analysis/Mottled Owl_song/0.0053_102_ch19_sn11.wav\n",
      "Saved: /mnt/d/night_recordings_analysis/Mottled Owl_song/0.0053_39_ch38_sn6.wav\n",
      "Saved: /mnt/d/night_recordings_analysis/Mottled Owl_song/0.0053_48_m11_sn3.wav\n",
      "Saved: /mnt/d/night_recordings_analysis/Mottled Owl_song/0.0053_24_p6_sn1.wav\n",
      "Saved: /mnt/d/night_recordings_analysis/Mottled Owl_song/0.0053_117_m17_sn14.wav\n",
      "Saved: /mnt/d/night_recordings_analysis/Mottled Owl_song/0.0053_45_m16_sn8.wav\n",
      "Saved: /mnt/d/night_recordings_analysis/Mottled Owl_song/0.0053_36_ch35_sn19.wav\n",
      "Saved: /mnt/d/night_recordings_analysis/Mottled Owl_song/0.0053_48_ch22_sn3.wav\n",
      "Saved: /mnt/d/night_recordings_analysis/Mottled Owl_song/0.0053_102_ch2_sn3.wav\n",
      "Saved: /mnt/d/night_recordings_analysis/Mottled Owl_song/0.0052_39_p15_sn7.wav\n",
      "Saved: /mnt/d/night_recordings_analysis/Mottled Owl_song/0.0052_42_m11_sn7.wav\n",
      "Saved: /mnt/d/night_recordings_analysis/Mottled Owl_song/0.0052_57_ch25_sn13.wav\n",
      "Saved: /mnt/d/night_recordings_analysis/Mottled Owl_song/0.0052_18_p32_sn3.wav\n",
      "Saved: /mnt/d/night_recordings_analysis/Mottled Owl_song/0.0052_6_ch43_sn10.wav\n",
      "Saved: /mnt/d/night_recordings_analysis/Mottled Owl_song/0.0052_51_ch45_sn7.wav\n"
     ]
    },
    {
     "name": "stderr",
     "output_type": "stream",
     "text": [
      "/home/agosjuncosa/anaconda3/envs/opensoundscape/lib/python3.9/site-packages/opensoundscape/audio.py:340: UserWarning: Audio object is shorter than requested duration: 1.5949166666666668 sec instead of 3 sec\n",
      "  warnings.warn(error_msg)\n"
     ]
    },
    {
     "name": "stdout",
     "output_type": "stream",
     "text": [
      "Saved: /mnt/d/night_recordings_analysis/Mottled Owl_song/0.0052_24_p42_sn16.wav\n",
      "Saved: /mnt/d/night_recordings_analysis/Mottled Owl_song/0.0052_48_m28_sn11.wav\n",
      "Saved: /mnt/d/night_recordings_analysis/Mottled Owl_song/0.0052_9_ch14_sn11.wav\n",
      "Saved: /mnt/d/night_recordings_analysis/Mottled Owl_song/0.0051_39_ch36_sn12.wav\n",
      "Saved: /mnt/d/night_recordings_analysis/Mottled Owl_song/0.0051_48_ch4_sn12.wav\n",
      "Saved: /mnt/d/night_recordings_analysis/Mottled Owl_song/0.0051_3_m14_sn1.wav\n",
      "Saved: /mnt/d/night_recordings_analysis/Mottled Owl_song/0.0051_57_ch42_sn13.wav\n",
      "Saved: /mnt/d/night_recordings_analysis/Mottled Owl_song/0.0051_117_ch14_sn10.wav\n",
      "Saved: /mnt/d/night_recordings_analysis/Mottled Owl_song/0.0051_0_m26_sn13.wav\n",
      "Saved: /mnt/d/night_recordings_analysis/Mottled Owl_song/0.0051_21_ch44_sn9.wav\n",
      "Saved: /mnt/d/night_recordings_analysis/Mottled Owl_song/0.0051_117_p9_sn17.wav\n"
     ]
    },
    {
     "name": "stderr",
     "output_type": "stream",
     "text": [
      "/home/agosjuncosa/anaconda3/envs/opensoundscape/lib/python3.9/site-packages/opensoundscape/audio.py:340: UserWarning: Audio object is shorter than requested duration: 2.0 sec instead of 3 sec\n",
      "  warnings.warn(error_msg)\n"
     ]
    },
    {
     "name": "stdout",
     "output_type": "stream",
     "text": [
      "Saved: /mnt/d/night_recordings_analysis/Mottled Owl_song/0.0050_96_ch29_sn2.wav\n",
      "Saved: /mnt/d/night_recordings_analysis/Mottled Owl_song/0.0050_111_p12_sn16.wav\n",
      "Saved: /mnt/d/night_recordings_analysis/Mottled Owl_song/0.0050_12_ch38_sn4.wav\n",
      "Saved: /mnt/d/night_recordings_analysis/Mottled Owl_song/0.0050_12_p39_sn7.wav\n",
      "Saved: /mnt/d/night_recordings_analysis/Mottled Owl_song/0.0050_72_ch6_sn1.wav\n",
      "Saved: /mnt/d/night_recordings_analysis/Mottled Owl_song/0.0050_21_ch8_sn8.wav\n",
      "Saved: /mnt/d/night_recordings_analysis/Mottled Owl_song/0.0050_57_p37_sn16.wav\n",
      "Saved: /mnt/d/night_recordings_analysis/Mottled Owl_song/0.0050_69_ch27_sn15.wav\n",
      "Saved: /mnt/d/night_recordings_analysis/Mottled Owl_song/0.0050_6_p45_sn11.wav\n",
      "Saved: /mnt/d/night_recordings_analysis/Mottled Owl_song/0.0049_24_ch40_sn8.wav\n",
      "Saved: /mnt/d/night_recordings_analysis/Mottled Owl_song/0.0049_24_ch17_sn2.wav\n",
      "Saved: /mnt/d/night_recordings_analysis/Mottled Owl_song/0.0049_21_ch14_sn2.wav\n",
      "Saved: /mnt/d/night_recordings_analysis/Mottled Owl_song/0.0049_69_ch22_sn2.wav\n",
      "Saved: /mnt/d/night_recordings_analysis/Mottled Owl_song/0.0049_36_ch41_sn3.wav\n",
      "Saved: /mnt/d/night_recordings_analysis/Mottled Owl_song/0.0049_18_ch23_sn5.wav\n",
      "Saved: /mnt/d/night_recordings_analysis/Mottled Owl_song/0.0049_66_ch23_sn15.wav\n",
      "Saved: /mnt/d/night_recordings_analysis/Mottled Owl_song/0.0049_21_ch20_sn6.wav\n",
      "Saved: /mnt/d/night_recordings_analysis/Mottled Owl_song/0.0049_90_m8_sn2.wav\n",
      "Saved: /mnt/d/night_recordings_analysis/Mottled Owl_song/0.0049_39_ch12_sn4.wav\n",
      "Saved: /mnt/d/night_recordings_analysis/Mottled Owl_song/0.0049_30_ch2_sn15.wav\n",
      "Saved: /mnt/d/night_recordings_analysis/Mottled Owl_song/0.0049_63_ch20_sn14.wav\n",
      "Saved: /mnt/d/night_recordings_analysis/Mottled Owl_song/0.0049_30_m1_sn13.wav\n",
      "Saved: /mnt/d/night_recordings_analysis/Mottled Owl_song/0.0048_108_p17_sn6.wav\n",
      "Saved: /mnt/d/night_recordings_analysis/Mottled Owl_song/0.0048_48_m26_sn22.wav\n",
      "Saved: /mnt/d/night_recordings_analysis/Mottled Owl_song/0.0048_21_ch36_sn4.wav\n",
      "Saved: /mnt/d/night_recordings_analysis/Mottled Owl_song/0.0048_72_ch14_sn4.wav\n",
      "Saved: /mnt/d/night_recordings_analysis/Mottled Owl_song/0.0048_102_ch32_sn12.wav\n",
      "Saved: /mnt/d/night_recordings_analysis/Mottled Owl_song/0.0048_45_ch29_sn11.wav\n",
      "Saved: /mnt/d/night_recordings_analysis/Mottled Owl_song/0.0048_75_m46_sn13.wav\n",
      "Saved: /mnt/d/night_recordings_analysis/Mottled Owl_song/0.0048_114_ch47_sn1.wav\n",
      "Saved: /mnt/d/night_recordings_analysis/Mottled Owl_song/0.0048_84_ch6_sn3.wav\n",
      "Saved: /mnt/d/night_recordings_analysis/Mottled Owl_song/0.0048_48_m1_sn16.wav\n",
      "Saved: /mnt/d/night_recordings_analysis/Mottled Owl_song/0.0048_75_m35_sn20.wav\n",
      "Saved: /mnt/d/night_recordings_analysis/Mottled Owl_song/0.0047_24_p12_sn13.wav\n",
      "Saved: /mnt/d/night_recordings_analysis/Mottled Owl_song/0.0047_72_m21_sn6.wav\n",
      "Saved: /mnt/d/night_recordings_analysis/Mottled Owl_song/0.0047_33_m35_sn9.wav\n",
      "Saved: /mnt/d/night_recordings_analysis/Mottled Owl_song/0.0047_51_ch42_sn22.wav\n",
      "Saved: /mnt/d/night_recordings_analysis/Mottled Owl_song/0.0047_72_p39_sn10.wav\n",
      "Saved: /mnt/d/night_recordings_analysis/Mottled Owl_song/0.0047_105_ch40_sn5.wav\n",
      "Saved: /mnt/d/night_recordings_analysis/Mottled Owl_song/0.0047_27_p36_sn17.wav\n",
      "Saved: /mnt/d/night_recordings_analysis/Mottled Owl_song/0.0047_90_ch40_sn3.wav\n",
      "Saved: /mnt/d/night_recordings_analysis/Mottled Owl_song/0.0047_87_ch40_sn7.wav\n",
      "Saved: /mnt/d/night_recordings_analysis/Mottled Owl_song/0.0047_21_p42_sn14.wav\n",
      "Saved: /mnt/d/night_recordings_analysis/Mottled Owl_song/0.0047_102_ch27_sn3.wav\n",
      "Saved: /mnt/d/night_recordings_analysis/Mottled Owl_song/0.0047_108_p32_sn5.wav\n",
      "Saved: /mnt/d/night_recordings_analysis/Mottled Owl_song/0.0047_69_ch36_sn10.wav\n",
      "Saved: /mnt/d/night_recordings_analysis/Mottled Owl_song/0.0047_6_ch17_sn11.wav\n",
      "Saved: /mnt/d/night_recordings_analysis/Mottled Owl_song/0.0047_117_ch15_sn5.wav\n",
      "Saved: /mnt/d/night_recordings_analysis/Mottled Owl_song/0.0047_117_ch27_sn8.wav\n",
      "Saved: /mnt/d/night_recordings_analysis/Mottled Owl_song/0.0047_111_ch39_sn3.wav\n",
      "Saved: /mnt/d/night_recordings_analysis/Mottled Owl_song/0.0047_24_ch37_sn17.wav\n",
      "Saved: /mnt/d/night_recordings_analysis/Mottled Owl_song/0.0046_117_m22_sn20.wav\n"
     ]
    },
    {
     "name": "stderr",
     "output_type": "stream",
     "text": [
      "/home/agosjuncosa/anaconda3/envs/opensoundscape/lib/python3.9/site-packages/opensoundscape/audio.py:340: UserWarning: Audio object is shorter than requested duration: 2.0 sec instead of 3 sec\n",
      "  warnings.warn(error_msg)\n"
     ]
    },
    {
     "name": "stdout",
     "output_type": "stream",
     "text": [
      "Saved: /mnt/d/night_recordings_analysis/Mottled Owl_song/0.0046_33_ch3_sn1.wav\n",
      "Saved: /mnt/d/night_recordings_analysis/Mottled Owl_song/0.0046_78_ch35_sn2.wav\n",
      "Saved: /mnt/d/night_recordings_analysis/Mottled Owl_song/0.0046_9_m27_sn10.wav\n",
      "Saved: /mnt/d/night_recordings_analysis/Mottled Owl_song/0.0046_60_m31_sn17.wav\n",
      "Saved: /mnt/d/night_recordings_analysis/Mottled Owl_song/0.0046_15_ch42_sn20.wav\n",
      "Saved: /mnt/d/night_recordings_analysis/Mottled Owl_song/0.0046_111_ch45_sn2.wav\n",
      "Saved: /mnt/d/night_recordings_analysis/Mottled Owl_song/0.0046_66_m10_sn11.wav\n",
      "Saved: /mnt/d/night_recordings_analysis/Mottled Owl_song/0.0046_12_ch27_sn13.wav\n",
      "Saved: /mnt/d/night_recordings_analysis/Mottled Owl_song/0.0046_69_m18_sn23.wav\n",
      "Saved: /mnt/d/night_recordings_analysis/Mottled Owl_song/0.0046_0_m6_sn9.wav\n",
      "Saved: /mnt/d/night_recordings_analysis/Mottled Owl_song/0.0046_111_p32_sn2.wav\n",
      "Saved: /mnt/d/night_recordings_analysis/Mottled Owl_song/0.0046_39_ch23_sn18.wav\n",
      "Saved: /mnt/d/night_recordings_analysis/Mottled Owl_song/0.0045_93_ch22_sn9.wav\n",
      "Saved: /mnt/d/night_recordings_analysis/Mottled Owl_song/0.0045_63_ch27_sn10.wav\n",
      "Saved: /mnt/d/night_recordings_analysis/Mottled Owl_song/0.0045_33_m35_sn23.wav\n",
      "Saved: /mnt/d/night_recordings_analysis/Mottled Owl_song/0.0045_48_ch19_sn13.wav\n",
      "Saved: /mnt/d/night_recordings_analysis/Mottled Owl_song/0.0045_60_m11_sn11.wav\n",
      "Saved: /mnt/d/night_recordings_analysis/Mottled Owl_song/0.0045_84_ch41_sn4.wav\n",
      "Saved: /mnt/d/night_recordings_analysis/Mottled Owl_song/0.0045_54_m5_sn5.wav\n",
      "Saved: /mnt/d/night_recordings_analysis/Mottled Owl_song/0.0045_66_p30_sn9.wav\n",
      "Saved: /mnt/d/night_recordings_analysis/Mottled Owl_song/0.0045_69_ch4_sn9.wav\n",
      "Saved: /mnt/d/night_recordings_analysis/Mottled Owl_song/0.0045_51_p39_sn4.wav\n",
      "Saved: /mnt/d/night_recordings_analysis/Mottled Owl_song/0.0045_0_ch31_sn4.wav\n",
      "Saved: /mnt/d/night_recordings_analysis/Mottled Owl_song/0.0045_99_m6_sn16.wav\n",
      "Saved: /mnt/d/night_recordings_analysis/Mottled Owl_song/0.0045_114_ch31_sn20.wav\n",
      "Saved: /mnt/d/night_recordings_analysis/Mottled Owl_song/0.0045_90_ch42_sn3.wav\n",
      "Saved: /mnt/d/night_recordings_analysis/Mottled Owl_song/0.0045_51_m18_sn24.wav\n",
      "Saved: /mnt/d/night_recordings_analysis/Mottled Owl_song/0.0045_114_ch14_sn5.wav\n",
      "Saved: /mnt/d/night_recordings_analysis/Mottled Owl_song/0.0045_6_ch42_sn6.wav\n",
      "Saved: /mnt/d/night_recordings_analysis/Mottled Owl_song/0.0045_105_p35_sn9.wav\n",
      "Saved: /mnt/d/night_recordings_analysis/Mottled Owl_song/0.0045_81_ch37_sn2.wav\n",
      "Saved: /mnt/d/night_recordings_analysis/Mottled Owl_song/0.0045_15_m28_sn14.wav\n",
      "Saved: /mnt/d/night_recordings_analysis/Mottled Owl_song/0.0045_24_ch20_sn9.wav\n",
      "Saved: /mnt/d/night_recordings_analysis/Mottled Owl_song/0.0045_3_m16_sn27.wav\n",
      "Saved: /mnt/d/night_recordings_analysis/Mottled Owl_song/0.0045_75_ch1_sn7.wav\n",
      "Saved: /mnt/d/night_recordings_analysis/Mottled Owl_song/0.0045_90_m18_sn14.wav\n",
      "Saved: /mnt/d/night_recordings_analysis/Mottled Owl_song/0.0044_105_m28_sn1.wav\n",
      "Saved: /mnt/d/night_recordings_analysis/Mottled Owl_song/0.0044_114_p38_sn3.wav\n",
      "Saved: /mnt/d/night_recordings_analysis/Mottled Owl_song/0.0044_78_m20_sn18.wav\n",
      "Saved: /mnt/d/night_recordings_analysis/Mottled Owl_song/0.0044_114_ch6_sn7.wav\n",
      "Saved: /mnt/d/night_recordings_analysis/Mottled Owl_song/0.0044_114_ch16_sn6.wav\n",
      "Saved: /mnt/d/night_recordings_analysis/Mottled Owl_song/0.0044_117_m22_sn15.wav\n"
     ]
    },
    {
     "name": "stderr",
     "output_type": "stream",
     "text": [
      "/home/agosjuncosa/anaconda3/envs/opensoundscape/lib/python3.9/site-packages/opensoundscape/audio.py:340: UserWarning: Audio object is shorter than requested duration: 2.0 sec instead of 3 sec\n",
      "  warnings.warn(error_msg)\n",
      "/home/agosjuncosa/anaconda3/envs/opensoundscape/lib/python3.9/site-packages/opensoundscape/audio.py:340: UserWarning: Audio object is shorter than requested duration: 2.0 sec instead of 3 sec\n",
      "  warnings.warn(error_msg)\n"
     ]
    },
    {
     "name": "stdout",
     "output_type": "stream",
     "text": [
      "Saved: /mnt/d/night_recordings_analysis/Mottled Owl_song/0.0044_117_ch22_sn25.wav\n",
      "Saved: /mnt/d/night_recordings_analysis/Mottled Owl_song/0.0044_9_ch23_sn8.wav\n",
      "Saved: /mnt/d/night_recordings_analysis/Mottled Owl_song/0.0044_51_ch23_sn9.wav\n",
      "Saved: /mnt/d/night_recordings_analysis/Mottled Owl_song/0.0044_90_ch19_sn14.wav\n",
      "Saved: /mnt/d/night_recordings_analysis/Mottled Owl_song/0.0044_54_m40_sn18.wav\n",
      "Saved: /mnt/d/night_recordings_analysis/Mottled Owl_song/0.0044_105_m8_sn14.wav\n",
      "Saved: /mnt/d/night_recordings_analysis/Mottled Owl_song/0.0044_96_ch5_sn4.wav\n",
      "Saved: /mnt/d/night_recordings_analysis/Mottled Owl_song/0.0044_72_m9_sn13.wav\n",
      "Saved: /mnt/d/night_recordings_analysis/Mottled Owl_song/0.0043_60_m34_sn2.wav\n",
      "Saved: /mnt/d/night_recordings_analysis/Mottled Owl_song/0.0043_105_m34_sn6.wav\n",
      "Saved: /mnt/d/night_recordings_analysis/Mottled Owl_song/0.0043_9_p13_sn5.wav\n",
      "Saved: /mnt/d/night_recordings_analysis/Mottled Owl_song/0.0043_90_ch27_sn4.wav\n",
      "Saved: /mnt/d/night_recordings_analysis/Mottled Owl_song/0.0043_57_p46_sn16.wav\n",
      "Saved: /mnt/d/night_recordings_analysis/Mottled Owl_song/0.0043_84_p18_sn11.wav\n",
      "Saved: /mnt/d/night_recordings_analysis/Mottled Owl_song/0.0043_60_p30_sn5.wav\n",
      "Saved: /mnt/d/night_recordings_analysis/Mottled Owl_song/0.0043_18_m25_sn19.wav\n",
      "Saved: /mnt/d/night_recordings_analysis/Mottled Owl_song/0.0043_6_ch31_sn3.wav\n",
      "Saved: /mnt/d/night_recordings_analysis/Mottled Owl_song/0.0043_15_ch30_sn10.wav\n",
      "Saved: /mnt/d/night_recordings_analysis/Mottled Owl_song/0.0043_6_m6_sn8.wav\n",
      "Saved: /mnt/d/night_recordings_analysis/Mottled Owl_song/0.0042_75_p45_sn26.wav\n",
      "Saved: /mnt/d/night_recordings_analysis/Mottled Owl_song/0.0042_57_ch4_sn3.wav\n",
      "Saved: /mnt/d/night_recordings_analysis/Mottled Owl_song/0.0042_45_m2_sn18.wav\n",
      "Saved: /mnt/d/night_recordings_analysis/Mottled Owl_song/0.0042_51_ch37_sn14.wav\n",
      "Saved: /mnt/d/night_recordings_analysis/Mottled Owl_song/0.0042_111_ch47_sn12.wav\n",
      "Saved: /mnt/d/night_recordings_analysis/Mottled Owl_song/0.0042_78_m41_sn15.wav\n",
      "Saved: /mnt/d/night_recordings_analysis/Mottled Owl_song/0.0042_36_ch19_sn8.wav\n",
      "Saved: /mnt/d/night_recordings_analysis/Mottled Owl_song/0.0042_90_p30_sn10.wav\n",
      "Saved: /mnt/d/night_recordings_analysis/Mottled Owl_song/0.0042_51_ch4_sn7.wav\n",
      "Saved: /mnt/d/night_recordings_analysis/Mottled Owl_song/0.0041_51_ch8_sn9.wav\n",
      "Saved: /mnt/d/night_recordings_analysis/Mottled Owl_song/0.0041_60_p34_sn9.wav\n",
      "Saved: /mnt/d/night_recordings_analysis/Mottled Owl_song/0.0041_93_ch30_sn6.wav\n",
      "Saved: /mnt/d/night_recordings_analysis/Mottled Owl_song/0.0041_111_p13_sn12.wav\n",
      "Saved: /mnt/d/night_recordings_analysis/Mottled Owl_song/0.0041_87_m40_sn17.wav\n",
      "Saved: /mnt/d/night_recordings_analysis/Mottled Owl_song/0.0041_87_ch27_sn1.wav\n",
      "Saved: /mnt/d/night_recordings_analysis/Mottled Owl_song/0.0041_114_p14_sn29.wav\n",
      "Saved: /mnt/d/night_recordings_analysis/Mottled Owl_song/0.0041_93_ch21_sn7.wav\n",
      "Saved: /mnt/d/night_recordings_analysis/Mottled Owl_song/0.0041_27_ch44_sn6.wav\n",
      "Saved: /mnt/d/night_recordings_analysis/Mottled Owl_song/0.0041_51_p1_sn9.wav\n",
      "Saved: /mnt/d/night_recordings_analysis/Mottled Owl_song/0.0041_69_ch46_sn5.wav\n",
      "Saved: /mnt/d/night_recordings_analysis/Mottled Owl_song/0.0041_18_p45_sn2.wav\n",
      "Saved: /mnt/d/night_recordings_analysis/Mottled Owl_song/0.0041_48_p18_sn8.wav\n",
      "Saved: /mnt/d/night_recordings_analysis/Mottled Owl_song/0.0041_21_ch12_sn11.wav\n",
      "Saved: /mnt/d/night_recordings_analysis/Mottled Owl_song/0.0041_36_m1_sn15.wav\n",
      "Saved: /mnt/d/night_recordings_analysis/Mottled Owl_song/0.0041_0_m41_sn18.wav\n",
      "Saved: /mnt/d/night_recordings_analysis/Mottled Owl_song/0.0041_33_ch44_sn19.wav\n",
      "Saved: /mnt/d/night_recordings_analysis/Mottled Owl_song/0.0041_15_m41_sn7.wav\n",
      "Saved: /mnt/d/night_recordings_analysis/Mottled Owl_song/0.0041_96_ch25_sn6.wav\n",
      "Saved: /mnt/d/night_recordings_analysis/Mottled Owl_song/0.0041_78_m45_sn12.wav\n",
      "Saved: /mnt/d/night_recordings_analysis/Mottled Owl_song/0.0041_24_ch4_sn1.wav\n",
      "Saved: /mnt/d/night_recordings_analysis/Mottled Owl_song/0.0041_63_m3_sn6.wav\n",
      "Saved: /mnt/d/night_recordings_analysis/Mottled Owl_song/0.0041_57_ch43_sn12.wav\n",
      "Saved: /mnt/d/night_recordings_analysis/Mottled Owl_song/0.0040_0_ch47_sn5.wav\n",
      "Saved: /mnt/d/night_recordings_analysis/Mottled Owl_song/0.0040_42_m40_sn3.wav\n",
      "Saved: /mnt/d/night_recordings_analysis/Mottled Owl_song/0.0040_78_ch47_sn9.wav\n",
      "Saved: /mnt/d/night_recordings_analysis/Mottled Owl_song/0.0040_6_m2_sn14.wav\n",
      "Saved: /mnt/d/night_recordings_analysis/Mottled Owl_song/0.0040_6_ch21_sn10.wav\n",
      "Saved: /mnt/d/night_recordings_analysis/Mottled Owl_song/0.0040_99_m31_sn2.wav\n",
      "Saved: /mnt/d/night_recordings_analysis/Mottled Owl_song/0.0040_72_ch6_sn16.wav\n",
      "Saved: /mnt/d/night_recordings_analysis/Mottled Owl_song/0.0040_69_m8_sn19.wav\n",
      "Saved: /mnt/d/night_recordings_analysis/Mottled Owl_song/0.0040_117_ch29_sn13.wav\n",
      "Saved: /mnt/d/night_recordings_analysis/Mottled Owl_song/0.0040_93_ch42_sn14.wav\n",
      "Saved: /mnt/d/night_recordings_analysis/Mottled Owl_song/0.0040_111_ch7_sn3.wav\n",
      "Saved: /mnt/d/night_recordings_analysis/Mottled Owl_song/0.0040_6_p37_sn7.wav\n",
      "Saved: /mnt/d/night_recordings_analysis/Mottled Owl_song/0.0040_21_ch23_sn4.wav\n",
      "Saved: /mnt/d/night_recordings_analysis/Mottled Owl_song/0.0039_102_m16_sn15.wav\n",
      "Saved: /mnt/d/night_recordings_analysis/Mottled Owl_song/0.0039_99_m47_sn6.wav\n",
      "Saved: /mnt/d/night_recordings_analysis/Mottled Owl_song/0.0039_72_ch1_sn9.wav\n",
      "Saved: /mnt/d/night_recordings_analysis/Mottled Owl_song/0.0039_93_m43_sn19.wav\n",
      "Saved: /mnt/d/night_recordings_analysis/Mottled Owl_song/0.0039_111_ch18_sn5.wav\n",
      "Saved: /mnt/d/night_recordings_analysis/Mottled Owl_song/0.0039_12_ch35_sn8.wav\n",
      "Saved: /mnt/d/night_recordings_analysis/Mottled Owl_song/0.0039_15_ch31_sn15.wav\n",
      "Saved: /mnt/d/night_recordings_analysis/Mottled Owl_song/0.0039_93_m41_sn16.wav\n",
      "Saved: /mnt/d/night_recordings_analysis/Mottled Owl_song/0.0039_36_m37_sn19.wav\n",
      "Saved: /mnt/d/night_recordings_analysis/Mottled Owl_song/0.0039_45_ch42_sn1.wav\n"
     ]
    },
    {
     "name": "stderr",
     "output_type": "stream",
     "text": [
      "/home/agosjuncosa/anaconda3/envs/opensoundscape/lib/python3.9/site-packages/opensoundscape/audio.py:340: UserWarning: Audio object is shorter than requested duration: 2.0 sec instead of 3 sec\n",
      "  warnings.warn(error_msg)\n"
     ]
    },
    {
     "name": "stdout",
     "output_type": "stream",
     "text": [
      "Saved: /mnt/d/night_recordings_analysis/Mottled Owl_song/0.0039_117_m30_sn27.wav\n",
      "Saved: /mnt/d/night_recordings_analysis/Mottled Owl_song/0.0039_15_ch41_sn1.wav\n",
      "Saved: /mnt/d/night_recordings_analysis/Mottled Owl_song/0.0039_84_m17_sn22.wav\n",
      "Saved: /mnt/d/night_recordings_analysis/Mottled Owl_song/0.0039_36_ch34_sn19.wav\n",
      "Saved: /mnt/d/night_recordings_analysis/Mottled Owl_song/0.0039_3_m9_sn4.wav\n",
      "Saved: /mnt/d/night_recordings_analysis/Mottled Owl_song/0.0038_45_m26_sn18.wav\n",
      "Saved: /mnt/d/night_recordings_analysis/Mottled Owl_song/0.0038_12_ch32_sn5.wav\n",
      "Saved: /mnt/d/night_recordings_analysis/Mottled Owl_song/0.0038_72_ch46_sn10.wav\n",
      "Saved: /mnt/d/night_recordings_analysis/Mottled Owl_song/0.0038_78_ch7_sn15.wav\n",
      "Saved: /mnt/d/night_recordings_analysis/Mottled Owl_song/0.0038_60_m17_sn24.wav\n",
      "Saved: /mnt/d/night_recordings_analysis/Mottled Owl_song/0.0038_6_ch26_sn13.wav\n",
      "Saved: /mnt/d/night_recordings_analysis/Mottled Owl_song/0.0038_108_p4_sn2.wav\n",
      "Saved: /mnt/d/night_recordings_analysis/Mottled Owl_song/0.0038_3_m19_sn19.wav\n",
      "Saved: /mnt/d/night_recordings_analysis/Mottled Owl_song/0.0038_18_m1_sn1.wav\n",
      "Saved: /mnt/d/night_recordings_analysis/Mottled Owl_song/0.0038_66_m2_sn5.wav\n",
      "Saved: /mnt/d/night_recordings_analysis/Mottled Owl_song/0.0037_9_ch42_sn7.wav\n",
      "Saved: /mnt/d/night_recordings_analysis/Mottled Owl_song/0.0037_96_ch32_sn2.wav\n",
      "Saved: /mnt/d/night_recordings_analysis/Mottled Owl_song/0.0037_18_p23_sn13.wav\n",
      "Saved: /mnt/d/night_recordings_analysis/Mottled Owl_song/0.0037_9_m16_sn28.wav\n",
      "Saved: /mnt/d/night_recordings_analysis/Mottled Owl_song/0.0037_111_m17_sn2.wav\n",
      "Saved: /mnt/d/night_recordings_analysis/Mottled Owl_song/0.0037_117_m28_sn30.wav\n"
     ]
    },
    {
     "name": "stderr",
     "output_type": "stream",
     "text": [
      "/home/agosjuncosa/anaconda3/envs/opensoundscape/lib/python3.9/site-packages/opensoundscape/audio.py:340: UserWarning: Audio object is shorter than requested duration: 2.0 sec instead of 3 sec\n",
      "  warnings.warn(error_msg)\n"
     ]
    },
    {
     "name": "stdout",
     "output_type": "stream",
     "text": [
      "Saved: /mnt/d/night_recordings_analysis/Mottled Owl_song/0.0037_6_ch17_sn1.wav\n",
      "Saved: /mnt/d/night_recordings_analysis/Mottled Owl_song/0.0037_63_ch17_sn9.wav\n",
      "Saved: /mnt/d/night_recordings_analysis/Mottled Owl_song/0.0037_99_m45_sn2.wav\n",
      "Saved: /mnt/d/night_recordings_analysis/Mottled Owl_song/0.0037_114_ch21_sn22.wav\n",
      "Saved: /mnt/d/night_recordings_analysis/Mottled Owl_song/0.0037_117_ch23_sn21.wav\n"
     ]
    },
    {
     "name": "stderr",
     "output_type": "stream",
     "text": [
      "/home/agosjuncosa/anaconda3/envs/opensoundscape/lib/python3.9/site-packages/opensoundscape/audio.py:340: UserWarning: Audio object is shorter than requested duration: 2.0 sec instead of 3 sec\n",
      "  warnings.warn(error_msg)\n"
     ]
    },
    {
     "name": "stdout",
     "output_type": "stream",
     "text": [
      "Saved: /mnt/d/night_recordings_analysis/Mottled Owl_song/0.0037_75_ch32_sn16.wav\n",
      "Saved: /mnt/d/night_recordings_analysis/Mottled Owl_song/0.0037_93_ch45_sn5.wav\n",
      "Saved: /mnt/d/night_recordings_analysis/Mottled Owl_song/0.0037_96_p11_sn11.wav\n",
      "Saved: /mnt/d/night_recordings_analysis/Mottled Owl_song/0.0037_114_ch44_sn2.wav\n",
      "Saved: /mnt/d/night_recordings_analysis/Mottled Owl_song/0.0036_54_ch31_sn21.wav\n",
      "Saved: /mnt/d/night_recordings_analysis/Mottled Owl_song/0.0036_21_ch14_sn3.wav\n",
      "Saved: /mnt/d/night_recordings_analysis/Mottled Owl_song/0.0036_117_m33_sn12.wav\n"
     ]
    },
    {
     "name": "stderr",
     "output_type": "stream",
     "text": [
      "/home/agosjuncosa/anaconda3/envs/opensoundscape/lib/python3.9/site-packages/opensoundscape/audio.py:340: UserWarning: Audio object is shorter than requested duration: 2.0 sec instead of 3 sec\n",
      "  warnings.warn(error_msg)\n"
     ]
    },
    {
     "name": "stdout",
     "output_type": "stream",
     "text": [
      "Saved: /mnt/d/night_recordings_analysis/Mottled Owl_song/0.0036_18_m37_sn10.wav\n",
      "Saved: /mnt/d/night_recordings_analysis/Mottled Owl_song/0.0036_33_m38_sn12.wav\n",
      "Saved: /mnt/d/night_recordings_analysis/Mottled Owl_song/0.0036_24_p9_sn14.wav\n",
      "Saved: /mnt/d/night_recordings_analysis/Mottled Owl_song/0.0036_60_ch31_sn9.wav\n",
      "Saved: /mnt/d/night_recordings_analysis/Mottled Owl_song/0.0036_6_p22_sn3.wav\n",
      "Saved: /mnt/d/night_recordings_analysis/Mottled Owl_song/0.0036_108_m17_sn6.wav\n",
      "Saved: /mnt/d/night_recordings_analysis/Mottled Owl_song/0.0036_93_p29_sn26.wav\n",
      "Saved: /mnt/d/night_recordings_analysis/Mottled Owl_song/0.0036_72_m47_sn10.wav\n",
      "Saved: /mnt/d/night_recordings_analysis/Mottled Owl_song/0.0036_36_ch37_sn15.wav\n",
      "Saved: /mnt/d/night_recordings_analysis/Mottled Owl_song/0.0036_57_ch35_sn4.wav\n",
      "Saved: /mnt/d/night_recordings_analysis/Mottled Owl_song/0.0036_84_p35_sn19.wav\n",
      "Saved: /mnt/d/night_recordings_analysis/Mottled Owl_song/0.0036_87_m28_sn25.wav\n",
      "Saved: /mnt/d/night_recordings_analysis/Mottled Owl_song/0.0036_60_ch24_sn14.wav\n",
      "Saved: /mnt/d/night_recordings_analysis/Mottled Owl_song/0.0036_42_m6_sn15.wav\n",
      "Saved: /mnt/d/night_recordings_analysis/Mottled Owl_song/0.0035_6_m24_sn7.wav\n",
      "Saved: /mnt/d/night_recordings_analysis/Mottled Owl_song/0.0035_87_ch31_sn13.wav\n",
      "Saved: /mnt/d/night_recordings_analysis/Mottled Owl_song/0.0035_66_m40_sn9.wav\n",
      "Saved: /mnt/d/night_recordings_analysis/Mottled Owl_song/0.0035_117_p14_sn30.wav\n"
     ]
    },
    {
     "name": "stderr",
     "output_type": "stream",
     "text": [
      "/home/agosjuncosa/anaconda3/envs/opensoundscape/lib/python3.9/site-packages/opensoundscape/audio.py:340: UserWarning: Audio object is shorter than requested duration: 2.0 sec instead of 3 sec\n",
      "  warnings.warn(error_msg)\n"
     ]
    },
    {
     "name": "stdout",
     "output_type": "stream",
     "text": [
      "Saved: /mnt/d/night_recordings_analysis/Mottled Owl_song/0.0035_60_p44_sn21.wav\n",
      "Saved: /mnt/d/night_recordings_analysis/Mottled Owl_song/0.0035_0_p18_sn15.wav\n",
      "Saved: /mnt/d/night_recordings_analysis/Mottled Owl_song/0.0035_102_m8_sn18.wav\n",
      "Saved: /mnt/d/night_recordings_analysis/Mottled Owl_song/0.0035_99_ch21_sn13.wav\n",
      "Saved: /mnt/d/night_recordings_analysis/Mottled Owl_song/0.0035_108_p5_sn1.wav\n",
      "Saved: /mnt/d/night_recordings_analysis/Mottled Owl_song/0.0035_96_m15_sn15.wav\n",
      "Saved: /mnt/d/night_recordings_analysis/Mottled Owl_song/0.0035_0_ch6_sn14.wav\n",
      "Saved: /mnt/d/night_recordings_analysis/Mottled Owl_song/0.0035_54_m31_sn18.wav\n",
      "Saved: /mnt/d/night_recordings_analysis/Mottled Owl_song/0.0035_15_ch32_sn8.wav\n",
      "Saved: /mnt/d/night_recordings_analysis/Mottled Owl_song/0.0035_102_m31_sn1.wav\n",
      "Saved: /mnt/d/night_recordings_analysis/Mottled Owl_song/0.0035_15_m21_sn18.wav\n",
      "Saved: /mnt/d/night_recordings_analysis/Mottled Owl_song/0.0034_30_m9_sn14.wav\n",
      "Saved: /mnt/d/night_recordings_analysis/Mottled Owl_song/0.0034_66_ch46_sn4.wav\n",
      "Saved: /mnt/d/night_recordings_analysis/Mottled Owl_song/0.0034_63_ch35_sn5.wav\n",
      "Saved: /mnt/d/night_recordings_analysis/Mottled Owl_song/0.0034_51_ch31_sn1.wav\n",
      "Saved: /mnt/d/night_recordings_analysis/Mottled Owl_song/0.0034_117_m10_sn1.wav\n",
      "Saved: /mnt/d/night_recordings_analysis/Mottled Owl_song/0.0034_117_ch8_sn4.wav\n",
      "Saved: /mnt/d/night_recordings_analysis/Mottled Owl_song/0.0034_105_p9_sn7.wav\n",
      "Saved: /mnt/d/night_recordings_analysis/Mottled Owl_song/0.0034_45_p9_sn10.wav\n",
      "Saved: /mnt/d/night_recordings_analysis/Mottled Owl_song/0.0034_24_m45_sn4.wav\n",
      "Saved: /mnt/d/night_recordings_analysis/Mottled Owl_song/0.0034_24_p45_sn6.wav\n",
      "Saved: /mnt/d/night_recordings_analysis/Mottled Owl_song/0.0034_78_p23_sn12.wav\n",
      "Saved: /mnt/d/night_recordings_analysis/Mottled Owl_song/0.0034_6_m24_sn14.wav\n",
      "Saved: /mnt/d/night_recordings_analysis/Mottled Owl_song/0.0034_18_ch41_sn5.wav\n",
      "Saved: /mnt/d/night_recordings_analysis/Mottled Owl_song/0.0034_105_m14_sn3.wav\n",
      "Saved: /mnt/d/night_recordings_analysis/Mottled Owl_song/0.0034_39_m40_sn6.wav\n",
      "Saved: /mnt/d/night_recordings_analysis/Mottled Owl_song/0.0034_18_p17_sn7.wav\n",
      "Saved: /mnt/d/night_recordings_analysis/Mottled Owl_song/0.0034_93_p16_sn5.wav\n",
      "Saved: /mnt/d/night_recordings_analysis/Mottled Owl_song/0.0034_90_ch4_sn14.wav\n",
      "Saved: /mnt/d/night_recordings_analysis/Mottled Owl_song/0.0034_117_m26_sn11.wav\n",
      "Saved: /mnt/d/night_recordings_analysis/Mottled Owl_song/0.0034_24_m43_sn16.wav\n",
      "Saved: /mnt/d/night_recordings_analysis/Mottled Owl_song/0.0034_114_ch43_sn18.wav\n",
      "Saved: /mnt/d/night_recordings_analysis/Mottled Owl_song/0.0034_69_m21_sn11.wav\n",
      "Saved: /mnt/d/night_recordings_analysis/Mottled Owl_song/0.0034_27_p39_sn5.wav\n",
      "Saved: /mnt/d/night_recordings_analysis/Mottled Owl_song/0.0034_114_m35_sn14.wav\n",
      "Saved: /mnt/d/night_recordings_analysis/Mottled Owl_song/0.0034_0_ch17_sn5.wav\n",
      "Saved: /mnt/d/night_recordings_analysis/Mottled Owl_song/0.0034_3_ch34_sn2.wav\n",
      "Saved: /mnt/d/night_recordings_analysis/Mottled Owl_song/0.0034_51_m19_sn13.wav\n",
      "Saved: /mnt/d/night_recordings_analysis/Mottled Owl_song/0.0034_99_ch42_sn10.wav\n",
      "Saved: /mnt/d/night_recordings_analysis/Mottled Owl_song/0.0033_87_p16_sn3.wav\n",
      "Saved: /mnt/d/night_recordings_analysis/Mottled Owl_song/0.0033_108_p38_sn7.wav\n",
      "Saved: /mnt/d/night_recordings_analysis/Mottled Owl_song/0.0033_99_p13_sn10.wav\n",
      "Saved: /mnt/d/night_recordings_analysis/Mottled Owl_song/0.0033_87_m44_sn8.wav\n",
      "Saved: /mnt/d/night_recordings_analysis/Mottled Owl_song/0.0033_9_ch20_sn8.wav\n",
      "Saved: /mnt/d/night_recordings_analysis/Mottled Owl_song/0.0033_99_ch22_sn13.wav\n",
      "Saved: /mnt/d/night_recordings_analysis/Mottled Owl_song/0.0033_48_m42_sn4.wav\n",
      "Saved: /mnt/d/night_recordings_analysis/Mottled Owl_song/0.0033_63_ch21_sn20.wav\n",
      "Saved: /mnt/d/night_recordings_analysis/Mottled Owl_song/0.0033_111_ch21_sn9.wav\n",
      "Saved: /mnt/d/night_recordings_analysis/Mottled Owl_song/0.0033_99_ch37_sn10.wav\n",
      "Saved: /mnt/d/night_recordings_analysis/Mottled Owl_song/0.0033_114_p36_sn7.wav\n",
      "Saved: /mnt/d/night_recordings_analysis/Mottled Owl_song/0.0033_0_p26_sn2.wav\n",
      "Saved: /mnt/d/night_recordings_analysis/Mottled Owl_song/0.0033_99_p2_sn12.wav\n",
      "Saved: /mnt/d/night_recordings_analysis/Mottled Owl_song/0.0033_3_m2_sn4.wav\n",
      "Saved: /mnt/d/night_recordings_analysis/Mottled Owl_song/0.0033_114_m3_sn13.wav\n",
      "Saved: /mnt/d/night_recordings_analysis/Mottled Owl_song/0.0033_69_p27_sn15.wav\n",
      "Saved: /mnt/d/night_recordings_analysis/Mottled Owl_song/0.0033_15_m38_sn20.wav\n",
      "Saved: /mnt/d/night_recordings_analysis/Mottled Owl_song/0.0033_42_ch34_sn16.wav\n",
      "Saved: /mnt/d/night_recordings_analysis/Mottled Owl_song/0.0033_84_p9_sn18.wav\n",
      "Saved: /mnt/d/night_recordings_analysis/Mottled Owl_song/0.0033_39_ch46_sn8.wav\n",
      "Saved: /mnt/d/night_recordings_analysis/Mottled Owl_song/0.0032_42_p6_sn2.wav\n",
      "Saved: /mnt/d/night_recordings_analysis/Mottled Owl_song/0.0032_30_ch21_sn11.wav\n",
      "Saved: /mnt/d/night_recordings_analysis/Mottled Owl_song/0.0032_84_m35_sn11.wav\n",
      "Saved: /mnt/d/night_recordings_analysis/Mottled Owl_song/0.0032_63_ch21_sn14.wav\n",
      "Saved: /mnt/d/night_recordings_analysis/Mottled Owl_song/0.0032_12_ch7_sn1.wav\n",
      "Saved: /mnt/d/night_recordings_analysis/Mottled Owl_song/0.0032_30_m40_sn2.wav\n",
      "Saved: /mnt/d/night_recordings_analysis/Mottled Owl_song/0.0032_0_m28_sn3.wav\n",
      "Saved: /mnt/d/night_recordings_analysis/Mottled Owl_song/0.0032_111_p24_sn2.wav\n",
      "Saved: /mnt/d/night_recordings_analysis/Mottled Owl_song/0.0032_21_ch34_sn11.wav\n",
      "Saved: /mnt/d/night_recordings_analysis/Mottled Owl_song/0.0032_102_m37_sn2.wav\n",
      "Saved: /mnt/d/night_recordings_analysis/Mottled Owl_song/0.0032_21_m14_sn6.wav\n",
      "Saved: /mnt/d/night_recordings_analysis/Mottled Owl_song/0.0032_60_m32_sn7.wav\n",
      "Saved: /mnt/d/night_recordings_analysis/Mottled Owl_song/0.0032_114_ch34_sn5.wav\n",
      "Saved: /mnt/d/night_recordings_analysis/Mottled Owl_song/0.0032_105_p2_sn18.wav\n",
      "Saved: /mnt/d/night_recordings_analysis/Mottled Owl_song/0.0032_48_m8_sn13.wav\n",
      "Saved: /mnt/d/night_recordings_analysis/Mottled Owl_song/0.0032_21_p19_sn14.wav\n",
      "Saved: /mnt/d/night_recordings_analysis/Mottled Owl_song/0.0032_18_ch31_sn11.wav\n",
      "Saved: /mnt/d/night_recordings_analysis/Mottled Owl_song/0.0032_3_ch40_sn13.wav\n",
      "Saved: /mnt/d/night_recordings_analysis/Mottled Owl_song/0.0032_93_m26_sn12.wav\n",
      "Saved: /mnt/d/night_recordings_analysis/Mottled Owl_song/0.0031_111_m14_sn13.wav\n",
      "Saved: /mnt/d/night_recordings_analysis/Mottled Owl_song/0.0031_9_m30_sn3.wav\n",
      "Saved: /mnt/d/night_recordings_analysis/Mottled Owl_song/0.0031_60_m18_sn6.wav\n",
      "Saved: /mnt/d/night_recordings_analysis/Mottled Owl_song/0.0031_21_m41_sn6.wav\n",
      "Saved: /mnt/d/night_recordings_analysis/Mottled Owl_song/0.0031_9_p26_sn5.wav\n",
      "Saved: /mnt/d/night_recordings_analysis/Mottled Owl_song/0.0031_81_p38_sn2.wav\n",
      "Saved: /mnt/d/night_recordings_analysis/Mottled Owl_song/0.0031_90_ch47_sn3.wav\n",
      "Saved: /mnt/d/night_recordings_analysis/Mottled Owl_song/0.0031_33_p46_sn13.wav\n",
      "Saved: /mnt/d/night_recordings_analysis/Mottled Owl_song/0.0031_63_m31_sn11.wav\n",
      "Saved: /mnt/d/night_recordings_analysis/Mottled Owl_song/0.0031_117_m47_sn7.wav\n",
      "Saved: /mnt/d/night_recordings_analysis/Mottled Owl_song/0.0031_69_ch1_sn12.wav\n",
      "Saved: /mnt/d/night_recordings_analysis/Mottled Owl_song/0.0031_48_ch1_sn14.wav\n",
      "Saved: /mnt/d/night_recordings_analysis/Mottled Owl_song/0.0031_51_m8_sn10.wav\n",
      "Saved: /mnt/d/night_recordings_analysis/Mottled Owl_song/0.0031_81_ch1_sn3.wav\n",
      "Saved: /mnt/d/night_recordings_analysis/Mottled Owl_song/0.0031_93_ch11_sn10.wav\n",
      "Saved: /mnt/d/night_recordings_analysis/Mottled Owl_song/0.0031_30_p34_sn13.wav\n",
      "Saved: /mnt/d/night_recordings_analysis/Mottled Owl_song/0.0031_90_ch8_sn11.wav\n",
      "Saved: /mnt/d/night_recordings_analysis/Mottled Owl_song/0.0031_105_p32_sn9.wav\n",
      "Saved: /mnt/d/night_recordings_analysis/Mottled Owl_song/0.0031_78_ch7_sn8.wav\n",
      "Saved: /mnt/d/night_recordings_analysis/Mottled Owl_song/0.0031_108_p4_sn10.wav\n",
      "Saved: /mnt/d/night_recordings_analysis/Mottled Owl_song/0.0030_39_m14_sn10.wav\n",
      "Saved: /mnt/d/night_recordings_analysis/Mottled Owl_song/0.0030_96_p41_sn9.wav\n",
      "Saved: /mnt/d/night_recordings_analysis/Mottled Owl_song/0.0030_102_m20_sn2.wav\n",
      "Saved: /mnt/d/night_recordings_analysis/Mottled Owl_song/0.0030_21_m16_sn4.wav\n",
      "Saved: /mnt/d/night_recordings_analysis/Mottled Owl_song/0.0030_111_ch37_sn18.wav\n",
      "Saved: /mnt/d/night_recordings_analysis/Mottled Owl_song/0.0030_36_ch5_sn12.wav\n",
      "Saved: /mnt/d/night_recordings_analysis/Mottled Owl_song/0.0030_45_m2_sn6.wav\n",
      "Saved: /mnt/d/night_recordings_analysis/Mottled Owl_song/0.0030_66_m6_sn19.wav\n",
      "Saved: /mnt/d/night_recordings_analysis/Mottled Owl_song/0.0030_42_m30_sn1.wav\n",
      "Saved: /mnt/d/night_recordings_analysis/Mottled Owl_song/0.0030_99_m3_sn1.wav\n",
      "Saved: /mnt/d/night_recordings_analysis/Mottled Owl_song/0.0030_105_ch35_sn13.wav\n",
      "Saved: /mnt/d/night_recordings_analysis/Mottled Owl_song/0.0030_93_m8_sn3.wav\n",
      "Saved: /mnt/d/night_recordings_analysis/Mottled Owl_song/0.0030_108_ch37_sn13.wav\n",
      "Saved: /mnt/d/night_recordings_analysis/Mottled Owl_song/0.0030_15_m17_sn21.wav\n",
      "Saved: /mnt/d/night_recordings_analysis/Mottled Owl_song/0.0030_0_m45_sn14.wav\n",
      "Saved: /mnt/d/night_recordings_analysis/Mottled Owl_song/0.0030_45_m26_sn6.wav\n",
      "Saved: /mnt/d/night_recordings_analysis/Mottled Owl_song/0.0030_69_p30_sn19.wav\n",
      "Saved: /mnt/d/night_recordings_analysis/Mottled Owl_song/0.0030_12_m25_sn7.wav\n",
      "Saved: /mnt/d/night_recordings_analysis/Mottled Owl_song/0.0030_57_m25_sn18.wav\n",
      "Saved: /mnt/d/night_recordings_analysis/Mottled Owl_song/0.0030_48_m36_sn18.wav\n",
      "Saved: /mnt/d/night_recordings_analysis/Mottled Owl_song/0.0030_60_m17_sn1.wav\n",
      "Saved: /mnt/d/night_recordings_analysis/Mottled Owl_song/0.0030_117_p23_sn4.wav\n",
      "Saved: /mnt/d/night_recordings_analysis/Mottled Owl_song/0.0030_27_p2_sn9.wav\n",
      "Saved: /mnt/d/night_recordings_analysis/Mottled Owl_song/0.0030_90_m41_sn17.wav\n",
      "Saved: /mnt/d/night_recordings_analysis/Mottled Owl_song/0.0030_63_ch22_sn12.wav\n",
      "Saved: /mnt/d/night_recordings_analysis/Mottled Owl_song/0.0030_60_m32_sn20.wav\n",
      "Saved: /mnt/d/night_recordings_analysis/Mottled Owl_song/0.0030_33_ch21_sn12.wav\n",
      "Saved: /mnt/d/night_recordings_analysis/Mottled Owl_song/0.0029_108_ch37_sn5.wav\n",
      "Saved: /mnt/d/night_recordings_analysis/Mottled Owl_song/0.0029_87_ch19_sn9.wav\n",
      "Saved: /mnt/d/night_recordings_analysis/Mottled Owl_song/0.0029_6_p20_sn15.wav\n",
      "Saved: /mnt/d/night_recordings_analysis/Mottled Owl_song/0.0029_45_ch21_sn3.wav\n",
      "Saved: /mnt/d/night_recordings_analysis/Mottled Owl_song/0.0029_36_ch22_sn4.wav\n",
      "Saved: /mnt/d/night_recordings_analysis/Mottled Owl_song/0.0029_18_m29_sn21.wav\n",
      "Saved: /mnt/d/night_recordings_analysis/Mottled Owl_song/0.0029_63_m3_sn3.wav\n",
      "Saved: /mnt/d/night_recordings_analysis/Mottled Owl_song/0.0029_96_p15_sn1.wav\n",
      "Saved: /mnt/d/night_recordings_analysis/Mottled Owl_song/0.0029_30_m30_sn13.wav\n",
      "Saved: /mnt/d/night_recordings_analysis/Mottled Owl_song/0.0029_30_p44_sn11.wav\n",
      "Saved: /mnt/d/night_recordings_analysis/Mottled Owl_song/0.0029_48_ch26_sn6.wav\n",
      "Saved: /mnt/d/night_recordings_analysis/Mottled Owl_song/0.0029_15_m34_sn10.wav\n",
      "Saved: /mnt/d/night_recordings_analysis/Mottled Owl_song/0.0029_105_m21_sn14.wav\n",
      "Saved: /mnt/d/night_recordings_analysis/Mottled Owl_song/0.0029_3_m47_sn21.wav\n",
      "Saved: /mnt/d/night_recordings_analysis/Mottled Owl_song/0.0029_15_ch44_sn8.wav\n",
      "Saved: /mnt/d/night_recordings_analysis/Mottled Owl_song/0.0029_27_p18_sn7.wav\n",
      "Saved: /mnt/d/night_recordings_analysis/Mottled Owl_song/0.0029_24_m37_sn12.wav\n",
      "Saved: /mnt/d/night_recordings_analysis/Mottled Owl_song/0.0029_60_ch45_sn9.wav\n",
      "Saved: /mnt/d/night_recordings_analysis/Mottled Owl_song/0.0029_54_p28_sn7.wav\n",
      "Saved: /mnt/d/night_recordings_analysis/Mottled Owl_song/0.0029_57_p26_sn9.wav\n",
      "Saved: /mnt/d/night_recordings_analysis/Mottled Owl_song/0.0029_90_ch29_sn8.wav\n",
      "Saved: /mnt/d/night_recordings_analysis/Mottled Owl_song/0.0029_93_p3_sn10.wav\n",
      "Saved: /mnt/d/night_recordings_analysis/Mottled Owl_song/0.0029_105_m14_sn2.wav\n",
      "Saved: /mnt/d/night_recordings_analysis/Mottled Owl_song/0.0029_72_ch35_sn14.wav\n",
      "Saved: /mnt/d/night_recordings_analysis/Mottled Owl_song/0.0029_99_m43_sn23.wav\n",
      "Saved: /mnt/d/night_recordings_analysis/Mottled Owl_song/0.0028_54_p3_sn5.wav\n",
      "Saved: /mnt/d/night_recordings_analysis/Mottled Owl_song/0.0028_117_p23_sn14.wav\n",
      "Saved: /mnt/d/night_recordings_analysis/Mottled Owl_song/0.0028_81_m45_sn7.wav\n",
      "Saved: /mnt/d/night_recordings_analysis/Mottled Owl_song/0.0028_108_m19_sn7.wav\n",
      "Saved: /mnt/d/night_recordings_analysis/Mottled Owl_song/0.0028_21_ch4_sn11.wav\n",
      "Saved: /mnt/d/night_recordings_analysis/Mottled Owl_song/0.0028_93_p46_sn3.wav\n",
      "Saved: /mnt/d/night_recordings_analysis/Mottled Owl_song/0.0028_15_m1_sn2.wav\n",
      "Saved: /mnt/d/night_recordings_analysis/Mottled Owl_song/0.0028_72_m47_sn14.wav\n",
      "Saved: /mnt/d/night_recordings_analysis/Mottled Owl_song/0.0028_81_ch21_sn17.wav\n",
      "Saved: /mnt/d/night_recordings_analysis/Mottled Owl_song/0.0028_117_m35_sn24.wav\n"
     ]
    },
    {
     "name": "stderr",
     "output_type": "stream",
     "text": [
      "/home/agosjuncosa/anaconda3/envs/opensoundscape/lib/python3.9/site-packages/opensoundscape/audio.py:340: UserWarning: Audio object is shorter than requested duration: 2.0 sec instead of 3 sec\n",
      "  warnings.warn(error_msg)\n"
     ]
    },
    {
     "name": "stdout",
     "output_type": "stream",
     "text": [
      "Saved: /mnt/d/night_recordings_analysis/Mottled Owl_song/0.0028_0_p13_sn7.wav\n",
      "Saved: /mnt/d/night_recordings_analysis/Mottled Owl_song/0.0028_48_ch29_sn7.wav\n",
      "Saved: /mnt/d/night_recordings_analysis/Mottled Owl_song/0.0028_117_m21_sn21.wav\n",
      "Saved: /mnt/d/night_recordings_analysis/Mottled Owl_song/0.0028_12_p9_sn1.wav\n",
      "Saved: /mnt/d/night_recordings_analysis/Mottled Owl_song/0.0028_87_ch13_sn4.wav\n",
      "Saved: /mnt/d/night_recordings_analysis/Mottled Owl_song/0.0028_81_ch31_sn5.wav\n",
      "Saved: /mnt/d/night_recordings_analysis/Mottled Owl_song/0.0028_36_p37_sn11.wav\n",
      "Saved: /mnt/d/night_recordings_analysis/Mottled Owl_song/0.0028_87_ch20_sn5.wav\n",
      "Saved: /mnt/d/night_recordings_analysis/Mottled Owl_song/0.0028_63_ch34_sn9.wav\n",
      "Saved: /mnt/d/night_recordings_analysis/Mottled Owl_song/0.0028_111_ch34_sn18.wav\n",
      "Saved: /mnt/d/night_recordings_analysis/Mottled Owl_song/0.0027_87_p31_sn20.wav\n",
      "Saved: /mnt/d/night_recordings_analysis/Mottled Owl_song/0.0027_3_ch43_sn17.wav\n",
      "Saved: /mnt/d/night_recordings_analysis/Mottled Owl_song/0.0027_117_m43_sn11.wav\n",
      "Saved: /mnt/d/night_recordings_analysis/Mottled Owl_song/0.0027_33_ch17_sn10.wav\n",
      "Saved: /mnt/d/night_recordings_analysis/Mottled Owl_song/0.0027_93_m2_sn16.wav\n",
      "Saved: /mnt/d/night_recordings_analysis/Mottled Owl_song/0.0027_30_m6_sn21.wav\n",
      "Saved: /mnt/d/night_recordings_analysis/Mottled Owl_song/0.0027_33_ch23_sn23.wav\n",
      "Saved: /mnt/d/night_recordings_analysis/Mottled Owl_song/0.0027_63_ch20_sn10.wav\n",
      "Saved: /mnt/d/night_recordings_analysis/Mottled Owl_song/0.0027_21_p21_sn6.wav\n",
      "Saved: /mnt/d/night_recordings_analysis/Mottled Owl_song/0.0027_78_ch31_sn2.wav\n",
      "Saved: /mnt/d/night_recordings_analysis/Mottled Owl_song/0.0027_51_m41_sn4.wav\n",
      "Saved: /mnt/d/night_recordings_analysis/Mottled Owl_song/0.0027_6_ch4_sn5.wav\n",
      "Saved: /mnt/d/night_recordings_analysis/Mottled Owl_song/0.0027_3_p18_sn12.wav\n",
      "Saved: /mnt/d/night_recordings_analysis/Mottled Owl_song/0.0027_42_ch46_sn3.wav\n",
      "Saved: /mnt/d/night_recordings_analysis/Mottled Owl_song/0.0027_114_p16_sn12.wav\n",
      "Saved: /mnt/d/night_recordings_analysis/Mottled Owl_song/0.0027_90_ch14_sn1.wav\n",
      "Saved: /mnt/d/night_recordings_analysis/Mottled Owl_song/0.0027_57_ch21_sn2.wav\n",
      "Saved: /mnt/d/night_recordings_analysis/Mottled Owl_song/0.0027_75_m18_sn18.wav\n",
      "Saved: /mnt/d/night_recordings_analysis/Mottled Owl_song/0.0027_84_p1_sn17.wav\n",
      "Saved: /mnt/d/night_recordings_analysis/Mottled Owl_song/0.0027_69_p46_sn14.wav\n"
     ]
    },
    {
     "name": "stderr",
     "output_type": "stream",
     "text": [
      "/home/agosjuncosa/anaconda3/envs/opensoundscape/lib/python3.9/site-packages/opensoundscape/audio.py:340: UserWarning: Audio object is shorter than requested duration: 2.0 sec instead of 3 sec\n",
      "  warnings.warn(error_msg)\n"
     ]
    },
    {
     "name": "stdout",
     "output_type": "stream",
     "text": [
      "Saved: /mnt/d/night_recordings_analysis/Mottled Owl_song/0.0027_117_ch42_sn17.wav\n",
      "Saved: /mnt/d/night_recordings_analysis/Mottled Owl_song/0.0027_72_ch42_sn19.wav\n",
      "Saved: /mnt/d/night_recordings_analysis/Mottled Owl_song/0.0027_117_m5_sn18.wav\n"
     ]
    },
    {
     "name": "stderr",
     "output_type": "stream",
     "text": [
      "/home/agosjuncosa/anaconda3/envs/opensoundscape/lib/python3.9/site-packages/opensoundscape/audio.py:340: UserWarning: Audio object is shorter than requested duration: 2.0 sec instead of 3 sec\n",
      "  warnings.warn(error_msg)\n"
     ]
    },
    {
     "name": "stdout",
     "output_type": "stream",
     "text": [
      "Saved: /mnt/d/night_recordings_analysis/Mottled Owl_song/0.0026_117_m45_sn10.wav\n",
      "Saved: /mnt/d/night_recordings_analysis/Mottled Owl_song/0.0026_6_ch46_sn17.wav\n",
      "Saved: /mnt/d/night_recordings_analysis/Mottled Owl_song/0.0026_117_p15_sn9.wav\n",
      "Saved: /mnt/d/night_recordings_analysis/Mottled Owl_song/0.0026_57_m46_sn12.wav\n",
      "Saved: /mnt/d/night_recordings_analysis/Mottled Owl_song/0.0026_114_m35_sn17.wav\n",
      "Saved: /mnt/d/night_recordings_analysis/Mottled Owl_song/0.0026_18_p24_sn4.wav\n",
      "Saved: /mnt/d/night_recordings_analysis/Mottled Owl_song/0.0026_99_p14_sn5.wav\n",
      "Saved: /mnt/d/night_recordings_analysis/Mottled Owl_song/0.0026_87_m5_sn10.wav\n",
      "Saved: /mnt/d/night_recordings_analysis/Mottled Owl_song/0.0026_78_p12_sn17.wav\n",
      "Saved: /mnt/d/night_recordings_analysis/Mottled Owl_song/0.0026_114_ch30_sn3.wav\n",
      "Saved: /mnt/d/night_recordings_analysis/Mottled Owl_song/0.0026_3_ch40_sn2.wav\n",
      "Saved: /mnt/d/night_recordings_analysis/Mottled Owl_song/0.0026_9_p42_sn15.wav\n",
      "Saved: /mnt/d/night_recordings_analysis/Mottled Owl_song/0.0026_36_m30_sn12.wav\n",
      "Saved: /mnt/d/night_recordings_analysis/Mottled Owl_song/0.0026_117_m28_sn27.wav\n"
     ]
    },
    {
     "name": "stderr",
     "output_type": "stream",
     "text": [
      "/home/agosjuncosa/anaconda3/envs/opensoundscape/lib/python3.9/site-packages/opensoundscape/audio.py:340: UserWarning: Audio object is shorter than requested duration: 2.0 sec instead of 3 sec\n",
      "  warnings.warn(error_msg)\n"
     ]
    },
    {
     "name": "stdout",
     "output_type": "stream",
     "text": [
      "Saved: /mnt/d/night_recordings_analysis/Mottled Owl_song/0.0026_117_p45_sn22.wav\n",
      "Saved: /mnt/d/night_recordings_analysis/Mottled Owl_song/0.0026_111_m19_sn3.wav\n",
      "Saved: /mnt/d/night_recordings_analysis/Mottled Owl_song/0.0026_12_m2_sn19.wav\n",
      "Saved: /mnt/d/night_recordings_analysis/Mottled Owl_song/0.0026_60_m2_sn8.wav\n",
      "Saved: /mnt/d/night_recordings_analysis/Mottled Owl_song/0.0026_48_p39_sn9.wav\n",
      "Saved: /mnt/d/night_recordings_analysis/Mottled Owl_song/0.0026_45_p30_sn18.wav\n",
      "Saved: /mnt/d/night_recordings_analysis/Mottled Owl_song/0.0026_63_ch7_sn11.wav\n",
      "Saved: /mnt/d/night_recordings_analysis/Mottled Owl_song/0.0026_63_p12_sn3.wav\n",
      "Saved: /mnt/d/night_recordings_analysis/Mottled Owl_song/0.0026_15_p1_sn18.wav\n"
     ]
    },
    {
     "name": "stderr",
     "output_type": "stream",
     "text": [
      "/home/agosjuncosa/anaconda3/envs/opensoundscape/lib/python3.9/site-packages/opensoundscape/audio.py:340: UserWarning: Audio object is shorter than requested duration: 1.3789166666666666 sec instead of 3 sec\n",
      "  warnings.warn(error_msg)\n",
      "/home/agosjuncosa/anaconda3/envs/opensoundscape/lib/python3.9/site-packages/opensoundscape/audio.py:340: UserWarning: Audio object is shorter than requested duration: 2.0 sec instead of 3 sec\n",
      "  warnings.warn(error_msg)\n"
     ]
    },
    {
     "name": "stdout",
     "output_type": "stream",
     "text": [
      "Saved: /mnt/d/night_recordings_analysis/Mottled Owl_song/0.0025_117_m33_sn11.wav\n",
      "Saved: /mnt/d/night_recordings_analysis/Mottled Owl_song/0.0025_36_m32_sn12.wav\n",
      "Saved: /mnt/d/night_recordings_analysis/Mottled Owl_song/0.0025_30_ch12_sn5.wav\n",
      "Saved: /mnt/d/night_recordings_analysis/Mottled Owl_song/0.0025_108_ch13_sn1.wav\n",
      "Saved: /mnt/d/night_recordings_analysis/Mottled Owl_song/0.0025_9_m36_sn26.wav\n",
      "Saved: /mnt/d/night_recordings_analysis/Mottled Owl_song/0.0025_24_m36_sn10.wav\n",
      "Saved: /mnt/d/night_recordings_analysis/Mottled Owl_song/0.0025_81_m45_sn16.wav\n",
      "Saved: /mnt/d/night_recordings_analysis/Mottled Owl_song/0.0025_21_p31_sn8.wav\n",
      "Saved: /mnt/d/night_recordings_analysis/Mottled Owl_song/0.0025_51_ch46_sn18.wav\n",
      "Saved: /mnt/d/night_recordings_analysis/Mottled Owl_song/0.0025_87_m40_sn19.wav\n",
      "Saved: /mnt/d/night_recordings_analysis/Mottled Owl_song/0.0025_27_m18_sn9.wav\n",
      "Saved: /mnt/d/night_recordings_analysis/Mottled Owl_song/0.0025_33_ch21_sn19.wav\n",
      "Saved: /mnt/d/night_recordings_analysis/Mottled Owl_song/0.0025_108_m6_sn5.wav\n",
      "Saved: /mnt/d/night_recordings_analysis/Mottled Owl_song/0.0025_84_m2_sn2.wav\n",
      "Saved: /mnt/d/night_recordings_analysis/Mottled Owl_song/0.0025_117_m30_sn23.wav\n"
     ]
    },
    {
     "name": "stderr",
     "output_type": "stream",
     "text": [
      "/home/agosjuncosa/anaconda3/envs/opensoundscape/lib/python3.9/site-packages/opensoundscape/audio.py:340: UserWarning: Audio object is shorter than requested duration: 2.0 sec instead of 3 sec\n",
      "  warnings.warn(error_msg)\n",
      "/home/agosjuncosa/anaconda3/envs/opensoundscape/lib/python3.9/site-packages/opensoundscape/audio.py:340: UserWarning: Audio object is shorter than requested duration: 2.0 sec instead of 3 sec\n",
      "  warnings.warn(error_msg)\n"
     ]
    },
    {
     "name": "stdout",
     "output_type": "stream",
     "text": [
      "Saved: /mnt/d/night_recordings_analysis/Mottled Owl_song/0.0025_117_m29_sn20.wav\n",
      "Saved: /mnt/d/night_recordings_analysis/Mottled Owl_song/0.0025_30_ch17_sn8.wav\n",
      "Saved: /mnt/d/night_recordings_analysis/Mottled Owl_song/0.0025_96_p42_sn12.wav\n",
      "Saved: /mnt/d/night_recordings_analysis/Mottled Owl_song/0.0025_90_p42_sn10.wav\n",
      "Saved: /mnt/d/night_recordings_analysis/Mottled Owl_song/0.0025_117_ch31_sn12.wav\n",
      "Saved: /mnt/d/night_recordings_analysis/Mottled Owl_song/0.0025_117_m7_sn6.wav\n",
      "Saved: /mnt/d/night_recordings_analysis/Mottled Owl_song/0.0025_48_p16_sn2.wav\n",
      "Saved: /mnt/d/night_recordings_analysis/Mottled Owl_song/0.0025_60_m47_sn13.wav\n",
      "Saved: /mnt/d/night_recordings_analysis/Mottled Owl_song/0.0025_117_m22_sn13.wav\n"
     ]
    },
    {
     "name": "stderr",
     "output_type": "stream",
     "text": [
      "/home/agosjuncosa/anaconda3/envs/opensoundscape/lib/python3.9/site-packages/opensoundscape/audio.py:340: UserWarning: Audio object is shorter than requested duration: 2.0 sec instead of 3 sec\n",
      "  warnings.warn(error_msg)\n"
     ]
    },
    {
     "name": "stdout",
     "output_type": "stream",
     "text": [
      "Saved: /mnt/d/night_recordings_analysis/Mottled Owl_song/0.0025_96_p16_sn17.wav\n",
      "Saved: /mnt/d/night_recordings_analysis/Mottled Owl_song/0.0025_18_ch4_sn8.wav\n",
      "Saved: /mnt/d/night_recordings_analysis/Mottled Owl_song/0.0025_57_m18_sn3.wav\n"
     ]
    },
    {
     "name": "stderr",
     "output_type": "stream",
     "text": [
      "/home/agosjuncosa/anaconda3/envs/opensoundscape/lib/python3.9/site-packages/opensoundscape/audio.py:340: UserWarning: Audio object is shorter than requested duration: 1.3975833333333334 sec instead of 3 sec\n",
      "  warnings.warn(error_msg)\n"
     ]
    },
    {
     "name": "stdout",
     "output_type": "stream",
     "text": [
      "Saved: /mnt/d/night_recordings_analysis/Mottled Owl_song/0.0024_30_m39_sn15.wav\n",
      "Saved: /mnt/d/night_recordings_analysis/Mottled Owl_song/0.0024_57_m40_sn1.wav\n",
      "Saved: /mnt/d/night_recordings_analysis/Mottled Owl_song/0.0024_45_m5_sn19.wav\n",
      "Saved: /mnt/d/night_recordings_analysis/Mottled Owl_song/0.0024_33_p34_sn8.wav\n",
      "Saved: /mnt/d/night_recordings_analysis/Mottled Owl_song/0.0024_72_ch21_sn15.wav\n",
      "Saved: /mnt/d/night_recordings_analysis/Mottled Owl_song/0.0024_60_m38_sn15.wav\n",
      "Saved: /mnt/d/night_recordings_analysis/Mottled Owl_song/0.0024_21_p24_sn16.wav\n",
      "Saved: /mnt/d/night_recordings_analysis/Mottled Owl_song/0.0024_117_p31_sn22.wav\n"
     ]
    },
    {
     "name": "stderr",
     "output_type": "stream",
     "text": [
      "/home/agosjuncosa/anaconda3/envs/opensoundscape/lib/python3.9/site-packages/opensoundscape/audio.py:340: UserWarning: Audio object is shorter than requested duration: 2.0 sec instead of 3 sec\n",
      "  warnings.warn(error_msg)\n"
     ]
    },
    {
     "name": "stdout",
     "output_type": "stream",
     "text": [
      "Saved: /mnt/d/night_recordings_analysis/Mottled Owl_song/0.0024_27_ch35_sn18.wav\n",
      "Saved: /mnt/d/night_recordings_analysis/Mottled Owl_song/0.0024_117_m41_sn11.wav\n",
      "Saved: /mnt/d/night_recordings_analysis/Mottled Owl_song/0.0024_63_p47_sn15.wav\n",
      "Saved: /mnt/d/night_recordings_analysis/Mottled Owl_song/0.0024_111_ch15_sn11.wav\n",
      "Saved: /mnt/d/night_recordings_analysis/Mottled Owl_song/0.0024_36_p16_sn1.wav\n"
     ]
    },
    {
     "name": "stderr",
     "output_type": "stream",
     "text": [
      "/home/agosjuncosa/anaconda3/envs/opensoundscape/lib/python3.9/site-packages/opensoundscape/audio.py:340: UserWarning: Audio object is shorter than requested duration: 1.0 sec instead of 3 sec\n",
      "  warnings.warn(error_msg)\n"
     ]
    },
    {
     "name": "stdout",
     "output_type": "stream",
     "text": [
      "Saved: /mnt/d/night_recordings_analysis/Mottled Owl_song/0.0024_78_p38_sn5.wav\n",
      "Saved: /mnt/d/night_recordings_analysis/Mottled Owl_song/0.0024_42_p18_sn5.wav\n",
      "Saved: /mnt/d/night_recordings_analysis/Mottled Owl_song/0.0024_6_m37_sn1.wav\n",
      "Saved: /mnt/d/night_recordings_analysis/Mottled Owl_song/0.0024_102_p16_sn8.wav\n",
      "Saved: /mnt/d/night_recordings_analysis/Mottled Owl_song/0.0024_117_m28_sn24.wav\n"
     ]
    },
    {
     "name": "stderr",
     "output_type": "stream",
     "text": [
      "/home/agosjuncosa/anaconda3/envs/opensoundscape/lib/python3.9/site-packages/opensoundscape/audio.py:340: UserWarning: Audio object is shorter than requested duration: 2.0 sec instead of 3 sec\n",
      "  warnings.warn(error_msg)\n"
     ]
    },
    {
     "name": "stdout",
     "output_type": "stream",
     "text": [
      "Saved: /mnt/d/night_recordings_analysis/Mottled Owl_song/0.0024_6_m29_sn17.wav\n",
      "Saved: /mnt/d/night_recordings_analysis/Mottled Owl_song/0.0024_33_p14_sn3.wav\n",
      "Saved: /mnt/d/night_recordings_analysis/Mottled Owl_song/0.0024_12_ch13_sn9.wav\n",
      "Saved: /mnt/d/night_recordings_analysis/Mottled Owl_song/0.0023_15_ch6_sn9.wav\n",
      "Saved: /mnt/d/night_recordings_analysis/Mottled Owl_song/0.0023_24_p32_sn12.wav\n",
      "Saved: /mnt/d/night_recordings_analysis/Mottled Owl_song/0.0023_66_ch22_sn18.wav\n",
      "Saved: /mnt/d/night_recordings_analysis/Mottled Owl_song/0.0023_54_p16_sn18.wav\n",
      "Saved: /mnt/d/night_recordings_analysis/Mottled Owl_song/0.0023_54_ch35_sn12.wav\n",
      "Saved: /mnt/d/night_recordings_analysis/Mottled Owl_song/0.0023_9_ch7_sn10.wav\n",
      "Saved: /mnt/d/night_recordings_analysis/Mottled Owl_song/0.0023_15_ch40_sn10.wav\n",
      "Saved: /mnt/d/night_recordings_analysis/Mottled Owl_song/0.0023_36_m16_sn11.wav\n",
      "Saved: /mnt/d/night_recordings_analysis/Mottled Owl_song/0.0023_105_p42_sn9.wav\n"
     ]
    },
    {
     "name": "stderr",
     "output_type": "stream",
     "text": [
      "/home/agosjuncosa/anaconda3/envs/opensoundscape/lib/python3.9/site-packages/opensoundscape/audio.py:340: UserWarning: Audio object is shorter than requested duration: 2.0 sec instead of 3 sec\n",
      "  warnings.warn(error_msg)\n"
     ]
    },
    {
     "name": "stdout",
     "output_type": "stream",
     "text": [
      "Saved: /mnt/d/night_recordings_analysis/Mottled Owl_song/0.0023_117_p29_sn27.wav\n",
      "Saved: /mnt/d/night_recordings_analysis/Mottled Owl_song/0.0023_81_p30_sn12.wav\n",
      "Saved: /mnt/d/night_recordings_analysis/Mottled Owl_song/0.0023_111_p27_sn6.wav\n",
      "Saved: /mnt/d/night_recordings_analysis/Mottled Owl_song/0.0023_117_p37_sn21.wav\n"
     ]
    },
    {
     "name": "stderr",
     "output_type": "stream",
     "text": [
      "/home/agosjuncosa/anaconda3/envs/opensoundscape/lib/python3.9/site-packages/opensoundscape/audio.py:340: UserWarning: Audio object is shorter than requested duration: 2.0 sec instead of 3 sec\n",
      "  warnings.warn(error_msg)\n"
     ]
    },
    {
     "name": "stdout",
     "output_type": "stream",
     "text": [
      "Saved: /mnt/d/night_recordings_analysis/Mottled Owl_song/0.0023_6_m21_sn16.wav\n",
      "Saved: /mnt/d/night_recordings_analysis/Mottled Owl_song/0.0023_87_m11_sn6.wav\n",
      "Saved: /mnt/d/night_recordings_analysis/Mottled Owl_song/0.0023_60_p2_sn7.wav\n",
      "Saved: /mnt/d/night_recordings_analysis/Mottled Owl_song/0.0023_36_ch2_sn10.wav\n",
      "Saved: /mnt/d/night_recordings_analysis/Mottled Owl_song/0.0023_42_p37_sn4.wav\n",
      "Saved: /mnt/d/night_recordings_analysis/Mottled Owl_song/0.0023_84_m38_sn2.wav\n",
      "Saved: /mnt/d/night_recordings_analysis/Mottled Owl_song/0.0023_54_ch47_sn17.wav\n",
      "Saved: /mnt/d/night_recordings_analysis/Mottled Owl_song/0.0023_6_m6_sn11.wav\n",
      "Saved: /mnt/d/night_recordings_analysis/Mottled Owl_song/0.0023_12_p23_sn10.wav\n",
      "Saved: /mnt/d/night_recordings_analysis/Mottled Owl_song/0.0023_39_m34_sn29.wav\n",
      "Saved: /mnt/d/night_recordings_analysis/Mottled Owl_song/0.0023_96_m6_sn4.wav\n",
      "Saved: /mnt/d/night_recordings_analysis/Mottled Owl_song/0.0023_9_m7_sn10.wav\n",
      "Saved: /mnt/d/night_recordings_analysis/Mottled Owl_song/0.0023_42_m20_sn7.wav\n",
      "Saved: /mnt/d/night_recordings_analysis/Mottled Owl_song/0.0023_96_m38_sn6.wav\n",
      "Saved: /mnt/d/night_recordings_analysis/Mottled Owl_song/0.0023_87_m39_sn2.wav\n",
      "Saved: /mnt/d/night_recordings_analysis/Mottled Owl_song/0.0023_84_m19_sn4.wav\n",
      "Saved: /mnt/d/night_recordings_analysis/Mottled Owl_song/0.0023_75_m45_sn3.wav\n",
      "Saved: /mnt/d/night_recordings_analysis/Mottled Owl_song/0.0023_3_p3_sn12.wav\n",
      "Saved: /mnt/d/night_recordings_analysis/Mottled Owl_song/0.0023_48_ch30_sn2.wav\n",
      "Saved: /mnt/d/night_recordings_analysis/Mottled Owl_song/0.0022_99_p18_sn2.wav\n",
      "Saved: /mnt/d/night_recordings_analysis/Mottled Owl_song/0.0022_48_ch31_sn17.wav\n",
      "Saved: /mnt/d/night_recordings_analysis/Mottled Owl_song/0.0022_96_m11_sn4.wav\n",
      "Saved: /mnt/d/night_recordings_analysis/Mottled Owl_song/0.0022_117_m16_sn29.wav\n"
     ]
    },
    {
     "name": "stderr",
     "output_type": "stream",
     "text": [
      "/home/agosjuncosa/anaconda3/envs/opensoundscape/lib/python3.9/site-packages/opensoundscape/audio.py:340: UserWarning: Audio object is shorter than requested duration: 2.0 sec instead of 3 sec\n",
      "  warnings.warn(error_msg)\n"
     ]
    },
    {
     "name": "stdout",
     "output_type": "stream",
     "text": [
      "Saved: /mnt/d/night_recordings_analysis/Mottled Owl_song/0.0022_12_ch2_sn2.wav\n",
      "Saved: /mnt/d/night_recordings_analysis/Mottled Owl_song/0.0022_75_p28_sn3.wav\n",
      "Saved: /mnt/d/night_recordings_analysis/Mottled Owl_song/0.0022_36_m32_sn23.wav\n",
      "Saved: /mnt/d/night_recordings_analysis/Mottled Owl_song/0.0022_105_m25_sn14.wav\n",
      "Saved: /mnt/d/night_recordings_analysis/Mottled Owl_song/0.0022_99_p24_sn3.wav\n",
      "Saved: /mnt/d/night_recordings_analysis/Mottled Owl_song/0.0022_36_ch45_sn11.wav\n",
      "Saved: /mnt/d/night_recordings_analysis/Mottled Owl_song/0.0022_0_p45_sn24.wav\n",
      "Saved: /mnt/d/night_recordings_analysis/Mottled Owl_song/0.0022_72_p24_sn15.wav\n"
     ]
    },
    {
     "name": "stderr",
     "output_type": "stream",
     "text": [
      "/home/agosjuncosa/anaconda3/envs/opensoundscape/lib/python3.9/site-packages/opensoundscape/audio.py:340: UserWarning: Audio object is shorter than requested duration: 2.0 sec instead of 3 sec\n",
      "  warnings.warn(error_msg)\n"
     ]
    },
    {
     "name": "stdout",
     "output_type": "stream",
     "text": [
      "Saved: /mnt/d/night_recordings_analysis/Mottled Owl_song/0.0022_117_p46_sn19.wav\n",
      "Saved: /mnt/d/night_recordings_analysis/Mottled Owl_song/0.0022_111_m45_sn17.wav\n",
      "Saved: /mnt/d/night_recordings_analysis/Mottled Owl_song/0.0022_57_m35_sn7.wav\n"
     ]
    },
    {
     "name": "stderr",
     "output_type": "stream",
     "text": [
      "/home/agosjuncosa/anaconda3/envs/opensoundscape/lib/python3.9/site-packages/opensoundscape/audio.py:340: UserWarning: Audio object is shorter than requested duration: 2.0 sec instead of 3 sec\n",
      "  warnings.warn(error_msg)\n"
     ]
    },
    {
     "name": "stdout",
     "output_type": "stream",
     "text": [
      "Saved: /mnt/d/night_recordings_analysis/Mottled Owl_song/0.0022_117_p46_sn21.wav\n",
      "Saved: /mnt/d/night_recordings_analysis/Mottled Owl_song/0.0022_99_p20_sn9.wav\n",
      "Saved: /mnt/d/night_recordings_analysis/Mottled Owl_song/0.0022_39_m34_sn13.wav\n",
      "Saved: /mnt/d/night_recordings_analysis/Mottled Owl_song/0.0022_42_p2_sn10.wav\n",
      "Saved: /mnt/d/night_recordings_analysis/Mottled Owl_song/0.0022_84_ch13_sn10.wav\n",
      "Saved: /mnt/d/night_recordings_analysis/Mottled Owl_song/0.0022_15_m40_sn10.wav\n",
      "Saved: /mnt/d/night_recordings_analysis/Mottled Owl_song/0.0022_48_p37_sn6.wav\n",
      "Saved: /mnt/d/night_recordings_analysis/Mottled Owl_song/0.0022_111_p35_sn3.wav\n",
      "Saved: /mnt/d/night_recordings_analysis/Mottled Owl_song/0.0022_3_m18_sn12.wav\n",
      "Saved: /mnt/d/night_recordings_analysis/Mottled Owl_song/0.0022_18_ch6_sn5.wav\n",
      "Saved: /mnt/d/night_recordings_analysis/Mottled Owl_song/0.0022_39_m17_sn16.wav\n",
      "Saved: /mnt/d/night_recordings_analysis/Mottled Owl_song/0.0022_108_ch4_sn4.wav\n",
      "Saved: /mnt/d/night_recordings_analysis/Mottled Owl_song/0.0021_84_ch20_sn1.wav\n",
      "Saved: /mnt/d/night_recordings_analysis/Mottled Owl_song/0.0021_12_p23_sn11.wav\n",
      "Saved: /mnt/d/night_recordings_analysis/Mottled Owl_song/0.0021_27_p21_sn3.wav\n",
      "Saved: /mnt/d/night_recordings_analysis/Mottled Owl_song/0.0021_63_m6_sn17.wav\n",
      "Saved: /mnt/d/night_recordings_analysis/Mottled Owl_song/0.0021_30_ch41_sn14.wav\n",
      "Saved: /mnt/d/night_recordings_analysis/Mottled Owl_song/0.0021_27_p26_sn1.wav\n",
      "Saved: /mnt/d/night_recordings_analysis/Mottled Owl_song/0.0021_72_p19_sn13.wav\n",
      "Saved: /mnt/d/night_recordings_analysis/Mottled Owl_song/0.0021_102_ch34_sn17.wav\n",
      "Saved: /mnt/d/night_recordings_analysis/Mottled Owl_song/0.0021_60_m21_sn9.wav\n",
      "Saved: /mnt/d/night_recordings_analysis/Mottled Owl_song/0.0021_90_p16_sn14.wav\n",
      "Saved: /mnt/d/night_recordings_analysis/Mottled Owl_song/0.0021_105_p1_sn5.wav\n",
      "Saved: /mnt/d/night_recordings_analysis/Mottled Owl_song/0.0021_66_m18_sn16.wav\n",
      "Saved: /mnt/d/night_recordings_analysis/Mottled Owl_song/0.0021_3_ch44_sn1.wav\n",
      "Saved: /mnt/d/night_recordings_analysis/Mottled Owl_song/0.0021_72_ch5_sn9.wav\n",
      "Saved: /mnt/d/night_recordings_analysis/Mottled Owl_song/0.0021_75_m30_sn8.wav\n",
      "Saved: /mnt/d/night_recordings_analysis/Mottled Owl_song/0.0021_78_m30_sn2.wav\n",
      "Saved: /mnt/d/night_recordings_analysis/Mottled Owl_song/0.0021_51_ch29_sn6.wav\n",
      "Saved: /mnt/d/night_recordings_analysis/Mottled Owl_song/0.0021_42_m29_sn31.wav\n",
      "Saved: /mnt/d/night_recordings_analysis/Mottled Owl_song/0.0021_21_ch40_sn12.wav\n",
      "Saved: /mnt/d/night_recordings_analysis/Mottled Owl_song/0.0021_87_m28_sn10.wav\n",
      "Saved: /mnt/d/night_recordings_analysis/Mottled Owl_song/0.0021_69_ch40_sn14.wav\n"
     ]
    },
    {
     "name": "stderr",
     "output_type": "stream",
     "text": [
      "/home/agosjuncosa/anaconda3/envs/opensoundscape/lib/python3.9/site-packages/opensoundscape/audio.py:340: UserWarning: Audio object is shorter than requested duration: 1.6509166666666666 sec instead of 3 sec\n",
      "  warnings.warn(error_msg)\n"
     ]
    },
    {
     "name": "stdout",
     "output_type": "stream",
     "text": [
      "Saved: /mnt/d/night_recordings_analysis/Mottled Owl_song/0.0021_111_m12_sn5.wav\n",
      "Saved: /mnt/d/night_recordings_analysis/Mottled Owl_song/0.0021_54_ch43_sn20.wav\n",
      "Saved: /mnt/d/night_recordings_analysis/Mottled Owl_song/0.0021_24_m14_sn5.wav\n",
      "Saved: /mnt/d/night_recordings_analysis/Mottled Owl_song/0.0021_24_ch29_sn3.wav\n",
      "Saved: /mnt/d/night_recordings_analysis/Mottled Owl_song/0.0021_81_ch4_sn6.wav\n",
      "Saved: /mnt/d/night_recordings_analysis/Mottled Owl_song/0.0020_24_m47_sn3.wav\n",
      "Saved: /mnt/d/night_recordings_analysis/Mottled Owl_song/0.0020_69_p47_sn9.wav\n",
      "Saved: /mnt/d/night_recordings_analysis/Mottled Owl_song/0.0020_96_ch17_sn13.wav\n",
      "Saved: /mnt/d/night_recordings_analysis/Mottled Owl_song/0.0020_21_ch26_sn2.wav\n",
      "Saved: /mnt/d/night_recordings_analysis/Mottled Owl_song/0.0020_102_ch41_sn2.wav\n",
      "Saved: /mnt/d/night_recordings_analysis/Mottled Owl_song/0.0020_90_ch26_sn18.wav\n",
      "Saved: /mnt/d/night_recordings_analysis/Mottled Owl_song/0.0020_63_p24_sn7.wav\n",
      "Saved: /mnt/d/night_recordings_analysis/Mottled Owl_song/0.0020_78_p24_sn5.wav\n",
      "Saved: /mnt/d/night_recordings_analysis/Mottled Owl_song/0.0020_21_p30_sn7.wav\n",
      "Saved: /mnt/d/night_recordings_analysis/Mottled Owl_song/0.0020_117_m33_sn17.wav\n"
     ]
    },
    {
     "name": "stderr",
     "output_type": "stream",
     "text": [
      "/home/agosjuncosa/anaconda3/envs/opensoundscape/lib/python3.9/site-packages/opensoundscape/audio.py:340: UserWarning: Audio object is shorter than requested duration: 2.0 sec instead of 3 sec\n",
      "  warnings.warn(error_msg)\n"
     ]
    },
    {
     "name": "stdout",
     "output_type": "stream",
     "text": [
      "Saved: /mnt/d/night_recordings_analysis/Mottled Owl_song/0.0020_84_m33_sn19.wav\n",
      "Saved: /mnt/d/night_recordings_analysis/Mottled Owl_song/0.0020_117_p1_sn15.wav\n",
      "Saved: /mnt/d/night_recordings_analysis/Mottled Owl_song/0.0020_117_p4_sn5.wav\n",
      "Saved: /mnt/d/night_recordings_analysis/Mottled Owl_song/0.0020_81_m32_sn10.wav\n",
      "Saved: /mnt/d/night_recordings_analysis/Mottled Owl_song/0.0020_78_ch32_sn1.wav\n",
      "Saved: /mnt/d/night_recordings_analysis/Mottled Owl_song/0.0020_42_ch23_sn12.wav\n",
      "Saved: /mnt/d/night_recordings_analysis/Mottled Owl_song/0.0020_84_m22_sn6.wav\n",
      "Saved: /mnt/d/night_recordings_analysis/Mottled Owl_song/0.0020_42_p8_sn1.wav\n",
      "Saved: /mnt/d/night_recordings_analysis/Mottled Owl_song/0.0020_105_p29_sn24.wav\n",
      "Saved: /mnt/d/night_recordings_analysis/Mottled Owl_song/0.0020_117_p5_sn8.wav\n",
      "Saved: /mnt/d/night_recordings_analysis/Mottled Owl_song/0.0020_87_ch45_sn12.wav\n",
      "Saved: /mnt/d/night_recordings_analysis/Mottled Owl_song/0.0020_12_ch45_sn14.wav\n",
      "Saved: /mnt/d/night_recordings_analysis/Mottled Owl_song/0.0020_27_p27_sn4.wav\n",
      "Saved: /mnt/d/night_recordings_analysis/Mottled Owl_song/0.0020_48_ch44_sn10.wav\n",
      "Saved: /mnt/d/night_recordings_analysis/Mottled Owl_song/0.0020_45_m26_sn14.wav\n",
      "Saved: /mnt/d/night_recordings_analysis/Mottled Owl_song/0.0020_0_p9_sn5.wav\n"
     ]
    },
    {
     "name": "stderr",
     "output_type": "stream",
     "text": [
      "/home/agosjuncosa/anaconda3/envs/opensoundscape/lib/python3.9/site-packages/opensoundscape/audio.py:340: UserWarning: Audio object is shorter than requested duration: 2.0 sec instead of 3 sec\n",
      "  warnings.warn(error_msg)\n"
     ]
    },
    {
     "name": "stdout",
     "output_type": "stream",
     "text": [
      "Saved: /mnt/d/night_recordings_analysis/Mottled Owl_song/0.0020_117_p9_sn12.wav\n",
      "Saved: /mnt/d/night_recordings_analysis/Mottled Owl_song/0.0020_60_ch43_sn15.wav\n",
      "Saved: /mnt/d/night_recordings_analysis/Mottled Owl_song/0.0020_111_m14_sn7.wav\n",
      "Saved: /mnt/d/night_recordings_analysis/Mottled Owl_song/0.0020_87_m14_sn8.wav\n",
      "Saved: /mnt/d/night_recordings_analysis/Mottled Owl_song/0.0020_18_m41_sn10.wav\n",
      "Saved: /mnt/d/night_recordings_analysis/Mottled Owl_song/0.0020_75_ch35_sn16.wav\n",
      "Saved: /mnt/d/night_recordings_analysis/Mottled Owl_song/0.0020_15_ch29_sn4.wav\n",
      "Saved: /mnt/d/night_recordings_analysis/Mottled Owl_song/0.0020_48_p20_sn8.wav\n",
      "Saved: /mnt/d/night_recordings_analysis/Mottled Owl_song/0.0020_45_p20_sn13.wav\n",
      "Saved: /mnt/d/night_recordings_analysis/Mottled Owl_song/0.0020_12_m34_sn14.wav\n",
      "Saved: /mnt/d/night_recordings_analysis/Mottled Owl_song/0.0020_48_p31_sn16.wav\n",
      "Saved: /mnt/d/night_recordings_analysis/Mottled Owl_song/0.0020_42_p40_sn20.wav\n",
      "Saved: /mnt/d/night_recordings_analysis/Mottled Owl_song/0.0020_66_m24_sn5.wav\n",
      "Saved: /mnt/d/night_recordings_analysis/Mottled Owl_song/0.0019_15_ch2_sn12.wav\n",
      "Saved: /mnt/d/night_recordings_analysis/Mottled Owl_song/0.0019_114_p7_sn13.wav\n",
      "Saved: /mnt/d/night_recordings_analysis/Mottled Owl_song/0.0019_114_m2_sn13.wav\n",
      "Saved: /mnt/d/night_recordings_analysis/Mottled Owl_song/0.0019_18_p44_sn20.wav\n",
      "Saved: /mnt/d/night_recordings_analysis/Mottled Owl_song/0.0019_36_m47_sn16.wav\n",
      "Saved: /mnt/d/night_recordings_analysis/Mottled Owl_song/0.0019_0_p30_sn21.wav\n",
      "Saved: /mnt/d/night_recordings_analysis/Mottled Owl_song/0.0019_69_ch45_sn3.wav\n",
      "Saved: /mnt/d/night_recordings_analysis/Mottled Owl_song/0.0019_6_p36_sn6.wav\n",
      "Saved: /mnt/d/night_recordings_analysis/Mottled Owl_song/0.0019_66_m16_sn25.wav\n",
      "Saved: /mnt/d/night_recordings_analysis/Mottled Owl_song/0.0019_99_p41_sn12.wav\n",
      "Saved: /mnt/d/night_recordings_analysis/Mottled Owl_song/0.0019_24_p28_sn4.wav\n",
      "Saved: /mnt/d/night_recordings_analysis/Mottled Owl_song/0.0019_63_p27_sn8.wav\n",
      "Saved: /mnt/d/night_recordings_analysis/Mottled Owl_song/0.0019_63_p9_sn16.wav\n",
      "Saved: /mnt/d/night_recordings_analysis/Mottled Owl_song/0.0019_96_p9_sn9.wav\n",
      "Saved: /mnt/d/night_recordings_analysis/Mottled Owl_song/0.0019_51_p24_sn1.wav\n",
      "Saved: /mnt/d/night_recordings_analysis/Mottled Owl_song/0.0019_81_p26_sn14.wav\n",
      "Saved: /mnt/d/night_recordings_analysis/Mottled Owl_song/0.0019_42_ch46_sn6.wav\n",
      "Saved: /mnt/d/night_recordings_analysis/Mottled Owl_song/0.0019_54_m19_sn16.wav\n",
      "Saved: /mnt/d/night_recordings_analysis/Mottled Owl_song/0.0019_12_m20_sn19.wav\n",
      "Saved: /mnt/d/night_recordings_analysis/Mottled Owl_song/0.0019_99_ch25_sn3.wav\n",
      "Saved: /mnt/d/night_recordings_analysis/Mottled Owl_song/0.0019_90_m30_sn21.wav\n",
      "Saved: /mnt/d/night_recordings_analysis/Mottled Owl_song/0.0019_12_m29_sn23.wav\n",
      "Saved: /mnt/d/night_recordings_analysis/Mottled Owl_song/0.0019_3_m18_sn15.wav\n",
      "Saved: /mnt/d/night_recordings_analysis/Mottled Owl_song/0.0019_27_p47_sn13.wav\n",
      "Saved: /mnt/d/night_recordings_analysis/Mottled Owl_song/0.0019_93_m17_sn20.wav\n",
      "Saved: /mnt/d/night_recordings_analysis/Mottled Owl_song/0.0019_90_p34_sn6.wav\n",
      "Saved: /mnt/d/night_recordings_analysis/Mottled Owl_song/0.0019_117_m35_sn27.wav\n"
     ]
    },
    {
     "name": "stderr",
     "output_type": "stream",
     "text": [
      "/home/agosjuncosa/anaconda3/envs/opensoundscape/lib/python3.9/site-packages/opensoundscape/audio.py:340: UserWarning: Audio object is shorter than requested duration: 2.0 sec instead of 3 sec\n",
      "  warnings.warn(error_msg)\n"
     ]
    },
    {
     "name": "stdout",
     "output_type": "stream",
     "text": [
      "Saved: /mnt/d/night_recordings_analysis/Mottled Owl_song/0.0019_6_ch42_sn18.wav\n",
      "Saved: /mnt/d/night_recordings_analysis/Mottled Owl_song/0.0019_27_m38_sn1.wav\n",
      "Saved: /mnt/d/night_recordings_analysis/Mottled Owl_song/0.0019_105_m16_sn16.wav\n",
      "Saved: /mnt/d/night_recordings_analysis/Mottled Owl_song/0.0019_6_m6_sn6.wav\n",
      "Saved: /mnt/d/night_recordings_analysis/Mottled Owl_song/0.0019_33_ch47_sn8.wav\n",
      "Saved: /mnt/d/night_recordings_analysis/Mottled Owl_song/0.0018_75_ch22_sn5.wav\n",
      "Saved: /mnt/d/night_recordings_analysis/Mottled Owl_song/0.0018_69_ch39_sn6.wav\n",
      "Saved: /mnt/d/night_recordings_analysis/Mottled Owl_song/0.0018_84_m27_sn19.wav\n",
      "Saved: /mnt/d/night_recordings_analysis/Mottled Owl_song/0.0018_33_m29_sn12.wav\n"
     ]
    },
    {
     "name": "stderr",
     "output_type": "stream",
     "text": [
      "/home/agosjuncosa/anaconda3/envs/opensoundscape/lib/python3.9/site-packages/opensoundscape/audio.py:340: UserWarning: Audio object is shorter than requested duration: 2.0 sec instead of 3 sec\n",
      "  warnings.warn(error_msg)\n"
     ]
    },
    {
     "name": "stdout",
     "output_type": "stream",
     "text": [
      "Saved: /mnt/d/night_recordings_analysis/Mottled Owl_song/0.0018_117_m29_sn25.wav\n",
      "Saved: /mnt/d/night_recordings_analysis/Mottled Owl_song/0.0018_105_ch40_sn9.wav\n",
      "Saved: /mnt/d/night_recordings_analysis/Mottled Owl_song/0.0018_117_m28_sn28.wav\n"
     ]
    },
    {
     "name": "stderr",
     "output_type": "stream",
     "text": [
      "/home/agosjuncosa/anaconda3/envs/opensoundscape/lib/python3.9/site-packages/opensoundscape/audio.py:340: UserWarning: Audio object is shorter than requested duration: 2.0 sec instead of 3 sec\n",
      "  warnings.warn(error_msg)\n",
      "/home/agosjuncosa/anaconda3/envs/opensoundscape/lib/python3.9/site-packages/opensoundscape/audio.py:340: UserWarning: Audio object is shorter than requested duration: 2.0 sec instead of 3 sec\n",
      "  warnings.warn(error_msg)\n"
     ]
    },
    {
     "name": "stdout",
     "output_type": "stream",
     "text": [
      "Saved: /mnt/d/night_recordings_analysis/Mottled Owl_song/0.0018_117_m28_sn31.wav\n",
      "Saved: /mnt/d/night_recordings_analysis/Mottled Owl_song/0.0018_33_ch41_sn10.wav\n",
      "Saved: /mnt/d/night_recordings_analysis/Mottled Owl_song/0.0018_33_p3_sn6.wav\n",
      "Saved: /mnt/d/night_recordings_analysis/Mottled Owl_song/0.0018_105_ch42_sn21.wav\n",
      "Saved: /mnt/d/night_recordings_analysis/Mottled Owl_song/0.0018_6_m47_sn15.wav\n",
      "Saved: /mnt/d/night_recordings_analysis/Mottled Owl_song/0.0018_105_ch10_sn15.wav\n",
      "Saved: /mnt/d/night_recordings_analysis/Mottled Owl_song/0.0018_93_m24_sn9.wav\n",
      "Saved: /mnt/d/night_recordings_analysis/Mottled Owl_song/0.0018_84_m38_sn4.wav\n",
      "Saved: /mnt/d/night_recordings_analysis/Mottled Owl_song/0.0018_75_m36_sn11.wav\n",
      "Saved: /mnt/d/night_recordings_analysis/Mottled Owl_song/0.0018_18_p19_sn12.wav\n",
      "Saved: /mnt/d/night_recordings_analysis/Mottled Owl_song/0.0018_108_ch42_sn16.wav\n",
      "Saved: /mnt/d/night_recordings_analysis/Mottled Owl_song/0.0018_111_p19_sn6.wav\n"
     ]
    },
    {
     "name": "stderr",
     "output_type": "stream",
     "text": [
      "/home/agosjuncosa/anaconda3/envs/opensoundscape/lib/python3.9/site-packages/opensoundscape/audio.py:340: UserWarning: Audio object is shorter than requested duration: 2.0 sec instead of 3 sec\n",
      "  warnings.warn(error_msg)\n"
     ]
    },
    {
     "name": "stdout",
     "output_type": "stream",
     "text": [
      "Saved: /mnt/d/night_recordings_analysis/Mottled Owl_song/0.0018_117_p30_sn20.wav\n",
      "Saved: /mnt/d/night_recordings_analysis/Mottled Owl_song/0.0018_3_p25_sn1.wav\n",
      "Saved: /mnt/d/night_recordings_analysis/Mottled Owl_song/0.0018_93_ch44_sn21.wav\n",
      "Saved: /mnt/d/night_recordings_analysis/Mottled Owl_song/0.0018_54_ch44_sn20.wav\n",
      "Saved: /mnt/d/night_recordings_analysis/Mottled Owl_song/0.0018_60_m2_sn15.wav\n",
      "Saved: /mnt/d/night_recordings_analysis/Mottled Owl_song/0.0018_21_ch45_sn4.wav\n",
      "Saved: /mnt/d/night_recordings_analysis/Mottled Owl_song/0.0018_114_p45_sn21.wav\n"
     ]
    },
    {
     "name": "stderr",
     "output_type": "stream",
     "text": [
      "/home/agosjuncosa/anaconda3/envs/opensoundscape/lib/python3.9/site-packages/opensoundscape/audio.py:340: UserWarning: Audio object is shorter than requested duration: 2.0 sec instead of 3 sec\n",
      "  warnings.warn(error_msg)\n"
     ]
    },
    {
     "name": "stdout",
     "output_type": "stream",
     "text": [
      "Saved: /mnt/d/night_recordings_analysis/Mottled Owl_song/0.0018_117_p29_sn25.wav\n",
      "Saved: /mnt/d/night_recordings_analysis/Mottled Owl_song/0.0018_90_m40_sn24.wav\n",
      "Saved: /mnt/d/night_recordings_analysis/Mottled Owl_song/0.0018_81_p30_sn6.wav\n",
      "Saved: /mnt/d/night_recordings_analysis/Mottled Owl_song/0.0018_60_p12_sn5.wav\n",
      "Saved: /mnt/d/night_recordings_analysis/Mottled Owl_song/0.0018_93_m35_sn5.wav\n",
      "Saved: /mnt/d/night_recordings_analysis/Mottled Owl_song/0.0018_93_m21_sn13.wav\n"
     ]
    },
    {
     "name": "stderr",
     "output_type": "stream",
     "text": [
      "/home/agosjuncosa/anaconda3/envs/opensoundscape/lib/python3.9/site-packages/opensoundscape/audio.py:340: UserWarning: Audio object is shorter than requested duration: 2.0 sec instead of 3 sec\n",
      "  warnings.warn(error_msg)\n"
     ]
    },
    {
     "name": "stdout",
     "output_type": "stream",
     "text": [
      "Saved: /mnt/d/night_recordings_analysis/Mottled Owl_song/0.0018_117_m32_sn22.wav\n",
      "Saved: /mnt/d/night_recordings_analysis/Mottled Owl_song/0.0018_84_ch35_sn9.wav\n",
      "Saved: /mnt/d/night_recordings_analysis/Mottled Owl_song/0.0018_15_m32_sn17.wav\n",
      "Saved: /mnt/d/night_recordings_analysis/Mottled Owl_song/0.0018_42_ch35_sn15.wav\n",
      "Saved: /mnt/d/night_recordings_analysis/Mottled Owl_song/0.0018_30_p40_sn9.wav\n",
      "Saved: /mnt/d/night_recordings_analysis/Mottled Owl_song/0.0018_51_ch34_sn12.wav\n",
      "Saved: /mnt/d/night_recordings_analysis/Mottled Owl_song/0.0018_24_ch22_sn24.wav\n",
      "Saved: /mnt/d/night_recordings_analysis/Mottled Owl_song/0.0018_39_ch18_sn9.wav\n",
      "Saved: /mnt/d/night_recordings_analysis/Mottled Owl_song/0.0018_60_m26_sn10.wav\n"
     ]
    },
    {
     "name": "stderr",
     "output_type": "stream",
     "text": [
      "/home/agosjuncosa/anaconda3/envs/opensoundscape/lib/python3.9/site-packages/opensoundscape/audio.py:340: UserWarning: Audio object is shorter than requested duration: 2.0 sec instead of 3 sec\n",
      "  warnings.warn(error_msg)\n"
     ]
    },
    {
     "name": "stdout",
     "output_type": "stream",
     "text": [
      "Saved: /mnt/d/night_recordings_analysis/Mottled Owl_song/0.0017_117_m35_sn26.wav\n",
      "Saved: /mnt/d/night_recordings_analysis/Mottled Owl_song/0.0017_27_p14_sn28.wav\n"
     ]
    },
    {
     "name": "stderr",
     "output_type": "stream",
     "text": [
      "/home/agosjuncosa/anaconda3/envs/opensoundscape/lib/python3.9/site-packages/opensoundscape/audio.py:340: UserWarning: Audio object is shorter than requested duration: 2.0 sec instead of 3 sec\n",
      "  warnings.warn(error_msg)\n"
     ]
    },
    {
     "name": "stdout",
     "output_type": "stream",
     "text": [
      "Saved: /mnt/d/night_recordings_analysis/Mottled Owl_song/0.0017_117_m41_sn14.wav\n",
      "Saved: /mnt/d/night_recordings_analysis/Mottled Owl_song/0.0017_36_ch44_sn13.wav\n",
      "Saved: /mnt/d/night_recordings_analysis/Mottled Owl_song/0.0017_60_p35_sn5.wav\n",
      "Saved: /mnt/d/night_recordings_analysis/Mottled Owl_song/0.0017_96_ch39_sn2.wav\n",
      "Saved: /mnt/d/night_recordings_analysis/Mottled Owl_song/0.0017_45_ch45_sn10.wav\n",
      "Saved: /mnt/d/night_recordings_analysis/Mottled Owl_song/0.0017_18_p27_sn14.wav\n",
      "Saved: /mnt/d/night_recordings_analysis/Mottled Owl_song/0.0017_0_p26_sn7.wav\n",
      "Saved: /mnt/d/night_recordings_analysis/Mottled Owl_song/0.0017_48_p25_sn8.wav\n",
      "Saved: /mnt/d/night_recordings_analysis/Mottled Owl_song/0.0017_117_ch34_sn3.wav\n",
      "Saved: /mnt/d/night_recordings_analysis/Mottled Owl_song/0.0017_6_ch32_sn10.wav\n",
      "Saved: /mnt/d/night_recordings_analysis/Mottled Owl_song/0.0017_60_m22_sn8.wav\n",
      "Saved: /mnt/d/night_recordings_analysis/Mottled Owl_song/0.0017_111_m30_sn29.wav\n",
      "Saved: /mnt/d/night_recordings_analysis/Mottled Owl_song/0.0017_81_m13_sn4.wav\n",
      "Saved: /mnt/d/night_recordings_analysis/Mottled Owl_song/0.0017_114_ch25_sn8.wav\n",
      "Saved: /mnt/d/night_recordings_analysis/Mottled Owl_song/0.0017_63_m18_sn22.wav\n",
      "Saved: /mnt/d/night_recordings_analysis/Mottled Owl_song/0.0017_117_m28_sn29.wav\n"
     ]
    },
    {
     "name": "stderr",
     "output_type": "stream",
     "text": [
      "/home/agosjuncosa/anaconda3/envs/opensoundscape/lib/python3.9/site-packages/opensoundscape/audio.py:340: UserWarning: Audio object is shorter than requested duration: 2.0 sec instead of 3 sec\n",
      "  warnings.warn(error_msg)\n"
     ]
    },
    {
     "name": "stdout",
     "output_type": "stream",
     "text": [
      "Saved: /mnt/d/night_recordings_analysis/Mottled Owl_song/0.0017_36_p44_sn4.wav\n",
      "Saved: /mnt/d/night_recordings_analysis/Mottled Owl_song/0.0017_45_p1_sn10.wav\n",
      "Saved: /mnt/d/night_recordings_analysis/Mottled Owl_song/0.0017_27_ch21_sn1.wav\n",
      "Saved: /mnt/d/night_recordings_analysis/Mottled Owl_song/0.0017_75_ch23_sn13.wav\n",
      "Saved: /mnt/d/night_recordings_analysis/Mottled Owl_song/0.0017_63_ch2_sn6.wav\n",
      "Saved: /mnt/d/night_recordings_analysis/Mottled Owl_song/0.0017_42_ch1_sn4.wav\n",
      "Saved: /mnt/d/night_recordings_analysis/Mottled Owl_song/0.0017_69_ch1_sn5.wav\n",
      "Saved: /mnt/d/night_recordings_analysis/Mottled Owl_song/0.0017_78_ch1_sn6.wav\n",
      "Saved: /mnt/d/night_recordings_analysis/Mottled Owl_song/0.0017_105_p40_sn15.wav\n",
      "Saved: /mnt/d/night_recordings_analysis/Mottled Owl_song/0.0017_24_p40_sn17.wav\n",
      "Saved: /mnt/d/night_recordings_analysis/Mottled Owl_song/0.0017_63_m34_sn20.wav\n",
      "Saved: /mnt/d/night_recordings_analysis/Mottled Owl_song/0.0017_57_ch12_sn13.wav\n",
      "Saved: /mnt/d/night_recordings_analysis/Mottled Owl_song/0.0017_69_ch42_sn11.wav\n",
      "Saved: /mnt/d/night_recordings_analysis/Mottled Owl_song/0.0017_45_m31_sn13.wav\n",
      "Saved: /mnt/d/night_recordings_analysis/Mottled Owl_song/0.0017_75_m40_sn4.wav\n",
      "Saved: /mnt/d/night_recordings_analysis/Mottled Owl_song/0.0017_15_p16_sn4.wav\n",
      "Saved: /mnt/d/night_recordings_analysis/Mottled Owl_song/0.0016_0_p46_sn2.wav\n",
      "Saved: /mnt/d/night_recordings_analysis/Mottled Owl_song/0.0016_63_p40_sn1.wav\n",
      "Saved: /mnt/d/night_recordings_analysis/Mottled Owl_song/0.0016_102_ch24_sn12.wav\n",
      "Saved: /mnt/d/night_recordings_analysis/Mottled Owl_song/0.0016_78_ch7_sn6.wav\n",
      "Saved: /mnt/d/night_recordings_analysis/Mottled Owl_song/0.0016_9_ch7_sn9.wav\n",
      "Saved: /mnt/d/night_recordings_analysis/Mottled Owl_song/0.0016_81_m13_sn9.wav\n",
      "Saved: /mnt/d/night_recordings_analysis/Mottled Owl_song/0.0016_69_m17_sn3.wav\n",
      "Saved: /mnt/d/night_recordings_analysis/Mottled Owl_song/0.0016_117_m30_sn31.wav\n"
     ]
    },
    {
     "name": "stderr",
     "output_type": "stream",
     "text": [
      "/home/agosjuncosa/anaconda3/envs/opensoundscape/lib/python3.9/site-packages/opensoundscape/audio.py:340: UserWarning: Audio object is shorter than requested duration: 2.0 sec instead of 3 sec\n",
      "  warnings.warn(error_msg)\n"
     ]
    },
    {
     "name": "stdout",
     "output_type": "stream",
     "text": [
      "Saved: /mnt/d/night_recordings_analysis/Mottled Owl_song/0.0016_84_m29_sn14.wav\n",
      "Saved: /mnt/d/night_recordings_analysis/Mottled Owl_song/0.0016_36_p7_sn1.wav\n",
      "Saved: /mnt/d/night_recordings_analysis/Mottled Owl_song/0.0016_69_ch1_sn2.wav\n",
      "Saved: /mnt/d/night_recordings_analysis/Mottled Owl_song/0.0016_24_m7_sn8.wav\n",
      "Saved: /mnt/d/night_recordings_analysis/Mottled Owl_song/0.0016_18_p18_sn1.wav\n"
     ]
    },
    {
     "name": "stderr",
     "output_type": "stream",
     "text": [
      "/home/agosjuncosa/anaconda3/envs/opensoundscape/lib/python3.9/site-packages/opensoundscape/audio.py:340: UserWarning: Audio object is shorter than requested duration: 2.0 sec instead of 3 sec\n",
      "  warnings.warn(error_msg)\n"
     ]
    },
    {
     "name": "stdout",
     "output_type": "stream",
     "text": [
      "Saved: /mnt/d/night_recordings_analysis/Mottled Owl_song/0.0016_117_p14_sn32.wav\n"
     ]
    },
    {
     "name": "stderr",
     "output_type": "stream",
     "text": [
      "/home/agosjuncosa/anaconda3/envs/opensoundscape/lib/python3.9/site-packages/opensoundscape/audio.py:340: UserWarning: Audio object is shorter than requested duration: 2.0 sec instead of 3 sec\n",
      "  warnings.warn(error_msg)\n",
      "/home/agosjuncosa/anaconda3/envs/opensoundscape/lib/python3.9/site-packages/opensoundscape/audio.py:340: UserWarning: Audio object is shorter than requested duration: 2.0 sec instead of 3 sec\n",
      "  warnings.warn(error_msg)\n"
     ]
    },
    {
     "name": "stdout",
     "output_type": "stream",
     "text": [
      "Saved: /mnt/d/night_recordings_analysis/Mottled Owl_song/0.0016_117_m33_sn13.wav\n",
      "Saved: /mnt/d/night_recordings_analysis/Mottled Owl_song/0.0016_117_m33_sn2.wav\n",
      "Saved: /mnt/d/night_recordings_analysis/Mottled Owl_song/0.0016_114_m35_sn13.wav\n",
      "Saved: /mnt/d/night_recordings_analysis/Mottled Owl_song/0.0016_84_m4_sn10.wav\n",
      "Saved: /mnt/d/night_recordings_analysis/Mottled Owl_song/0.0016_12_m37_sn22.wav\n",
      "Saved: /mnt/d/night_recordings_analysis/Mottled Owl_song/0.0016_42_p22_sn4.wav\n",
      "Saved: /mnt/d/night_recordings_analysis/Mottled Owl_song/0.0016_117_p22_sn9.wav\n",
      "Saved: /mnt/d/night_recordings_analysis/Mottled Owl_song/0.0016_81_p23_sn5.wav\n",
      "Saved: /mnt/d/night_recordings_analysis/Mottled Owl_song/0.0016_21_ch14_sn8.wav\n",
      "Saved: /mnt/d/night_recordings_analysis/Mottled Owl_song/0.0016_18_p4_sn8.wav\n",
      "Saved: /mnt/d/night_recordings_analysis/Mottled Owl_song/0.0016_21_p12_sn11.wav\n",
      "Saved: /mnt/d/night_recordings_analysis/Mottled Owl_song/0.0016_117_m8_sn11.wav\n"
     ]
    },
    {
     "name": "stderr",
     "output_type": "stream",
     "text": [
      "/home/agosjuncosa/anaconda3/envs/opensoundscape/lib/python3.9/site-packages/opensoundscape/audio.py:340: UserWarning: Audio object is shorter than requested duration: 2.0 sec instead of 3 sec\n",
      "  warnings.warn(error_msg)\n",
      "/home/agosjuncosa/anaconda3/envs/opensoundscape/lib/python3.9/site-packages/opensoundscape/audio.py:340: UserWarning: Audio object is shorter than requested duration: 2.0 sec instead of 3 sec\n",
      "  warnings.warn(error_msg)\n"
     ]
    },
    {
     "name": "stdout",
     "output_type": "stream",
     "text": [
      "Saved: /mnt/d/night_recordings_analysis/Mottled Owl_song/0.0016_117_m8_sn6.wav\n",
      "Saved: /mnt/d/night_recordings_analysis/Mottled Owl_song/0.0016_96_ch35_sn11.wav\n",
      "Saved: /mnt/d/night_recordings_analysis/Mottled Owl_song/0.0016_36_p9_sn13.wav\n",
      "Saved: /mnt/d/night_recordings_analysis/Mottled Owl_song/0.0016_45_m21_sn19.wav\n",
      "Saved: /mnt/d/night_recordings_analysis/Mottled Owl_song/0.0016_54_m40_sn15.wav\n",
      "Saved: /mnt/d/night_recordings_analysis/Mottled Owl_song/0.0016_42_p42_sn6.wav\n",
      "Saved: /mnt/d/night_recordings_analysis/Mottled Owl_song/0.0016_99_ch23_sn2.wav\n",
      "Saved: /mnt/d/night_recordings_analysis/Mottled Owl_song/0.0016_60_p44_sn2.wav\n",
      "Saved: /mnt/d/night_recordings_analysis/Mottled Owl_song/0.0016_57_ch23_sn20.wav\n",
      "Saved: /mnt/d/night_recordings_analysis/Mottled Owl_song/0.0016_54_p24_sn12.wav\n"
     ]
    },
    {
     "name": "stderr",
     "output_type": "stream",
     "text": [
      "/home/agosjuncosa/anaconda3/envs/opensoundscape/lib/python3.9/site-packages/opensoundscape/audio.py:340: UserWarning: Audio object is shorter than requested duration: 2.0 sec instead of 3 sec\n",
      "  warnings.warn(error_msg)\n"
     ]
    },
    {
     "name": "stdout",
     "output_type": "stream",
     "text": [
      "Saved: /mnt/d/night_recordings_analysis/Mottled Owl_song/0.0016_117_m47_sn18.wav\n",
      "Saved: /mnt/d/night_recordings_analysis/Mottled Owl_song/0.0016_81_m34_sn19.wav\n",
      "Saved: /mnt/d/night_recordings_analysis/Mottled Owl_song/0.0016_27_m34_sn17.wav\n",
      "Saved: /mnt/d/night_recordings_analysis/Mottled Owl_song/0.0016_3_m34_sn7.wav\n"
     ]
    },
    {
     "name": "stderr",
     "output_type": "stream",
     "text": [
      "/home/agosjuncosa/anaconda3/envs/opensoundscape/lib/python3.9/site-packages/opensoundscape/audio.py:340: UserWarning: Audio object is shorter than requested duration: 2.0 sec instead of 3 sec\n",
      "  warnings.warn(error_msg)\n"
     ]
    },
    {
     "name": "stdout",
     "output_type": "stream",
     "text": [
      "Saved: /mnt/d/night_recordings_analysis/Mottled Owl_song/0.0016_117_p31_sn14.wav\n"
     ]
    },
    {
     "name": "stderr",
     "output_type": "stream",
     "text": [
      "/home/agosjuncosa/anaconda3/envs/opensoundscape/lib/python3.9/site-packages/opensoundscape/audio.py:340: UserWarning: Audio object is shorter than requested duration: 2.0 sec instead of 3 sec\n",
      "  warnings.warn(error_msg)\n"
     ]
    },
    {
     "name": "stdout",
     "output_type": "stream",
     "text": [
      "Saved: /mnt/d/night_recordings_analysis/Mottled Owl_song/0.0016_117_ch44_sn17.wav\n",
      "Saved: /mnt/d/night_recordings_analysis/Mottled Owl_song/0.0016_21_ch45_sn8.wav\n",
      "Saved: /mnt/d/night_recordings_analysis/Mottled Owl_song/0.0016_15_p30_sn4.wav\n",
      "Saved: /mnt/d/night_recordings_analysis/Mottled Owl_song/0.0016_93_ch46_sn9.wav\n",
      "Saved: /mnt/d/night_recordings_analysis/Mottled Owl_song/0.0016_90_p32_sn14.wav\n",
      "Saved: /mnt/d/night_recordings_analysis/Mottled Owl_song/0.0016_12_p34_sn14.wav\n",
      "Saved: /mnt/d/night_recordings_analysis/Mottled Owl_song/0.0016_0_p32_sn7.wav\n",
      "Saved: /mnt/d/night_recordings_analysis/Mottled Owl_song/0.0016_45_m26_sn20.wav\n",
      "Saved: /mnt/d/night_recordings_analysis/Mottled Owl_song/0.0016_81_p21_sn5.wav\n",
      "Saved: /mnt/d/night_recordings_analysis/Mottled Owl_song/0.0015_117_m37_sn23.wav\n"
     ]
    },
    {
     "name": "stderr",
     "output_type": "stream",
     "text": [
      "/home/agosjuncosa/anaconda3/envs/opensoundscape/lib/python3.9/site-packages/opensoundscape/audio.py:340: UserWarning: Audio object is shorter than requested duration: 2.0 sec instead of 3 sec\n",
      "  warnings.warn(error_msg)\n",
      "/home/agosjuncosa/anaconda3/envs/opensoundscape/lib/python3.9/site-packages/opensoundscape/audio.py:340: UserWarning: Audio object is shorter than requested duration: 2.0 sec instead of 3 sec\n",
      "  warnings.warn(error_msg)\n"
     ]
    },
    {
     "name": "stdout",
     "output_type": "stream",
     "text": [
      "Saved: /mnt/d/night_recordings_analysis/Mottled Owl_song/0.0015_117_m33_sn14.wav\n",
      "Saved: /mnt/d/night_recordings_analysis/Mottled Owl_song/0.0015_15_ch43_sn9.wav\n",
      "Saved: /mnt/d/night_recordings_analysis/Mottled Owl_song/0.0015_6_m42_sn14.wav\n",
      "Saved: /mnt/d/night_recordings_analysis/Mottled Owl_song/0.0015_75_m32_sn19.wav\n",
      "Saved: /mnt/d/night_recordings_analysis/Mottled Owl_song/0.0015_96_m33_sn4.wav\n",
      "Saved: /mnt/d/night_recordings_analysis/Mottled Owl_song/0.0015_57_p39_sn14.wav\n",
      "Saved: /mnt/d/night_recordings_analysis/Mottled Owl_song/0.0015_51_m36_sn24.wav\n",
      "Saved: /mnt/d/night_recordings_analysis/Mottled Owl_song/0.0015_117_m31_sn24.wav\n",
      "Saved: /mnt/d/night_recordings_analysis/Mottled Owl_song/0.0015_96_ch45_sn19.wav\n",
      "Saved: /mnt/d/night_recordings_analysis/Mottled Owl_song/0.0015_3_ch45_sn18.wav\n",
      "Saved: /mnt/d/night_recordings_analysis/Mottled Owl_song/0.0015_21_ch46_sn1.wav\n",
      "Saved: /mnt/d/night_recordings_analysis/Mottled Owl_song/0.0015_33_m38_sn19.wav\n"
     ]
    },
    {
     "name": "stderr",
     "output_type": "stream",
     "text": [
      "/home/agosjuncosa/anaconda3/envs/opensoundscape/lib/python3.9/site-packages/opensoundscape/audio.py:340: UserWarning: Audio object is shorter than requested duration: 2.0 sec instead of 3 sec\n",
      "  warnings.warn(error_msg)\n"
     ]
    },
    {
     "name": "stdout",
     "output_type": "stream",
     "text": [
      "Saved: /mnt/d/night_recordings_analysis/Mottled Owl_song/0.0015_117_m38_sn21.wav\n",
      "Saved: /mnt/d/night_recordings_analysis/Mottled Owl_song/0.0015_117_m30_sn28.wav\n"
     ]
    },
    {
     "name": "stderr",
     "output_type": "stream",
     "text": [
      "/home/agosjuncosa/anaconda3/envs/opensoundscape/lib/python3.9/site-packages/opensoundscape/audio.py:340: UserWarning: Audio object is shorter than requested duration: 2.0 sec instead of 3 sec\n",
      "  warnings.warn(error_msg)\n",
      "/home/agosjuncosa/anaconda3/envs/opensoundscape/lib/python3.9/site-packages/opensoundscape/audio.py:340: UserWarning: Audio object is shorter than requested duration: 2.0 sec instead of 3 sec\n",
      "  warnings.warn(error_msg)\n"
     ]
    },
    {
     "name": "stdout",
     "output_type": "stream",
     "text": [
      "Saved: /mnt/d/night_recordings_analysis/Mottled Owl_song/0.0015_117_m30_sn14.wav\n",
      "Saved: /mnt/d/night_recordings_analysis/Mottled Owl_song/0.0015_9_m29_sn29.wav\n",
      "Saved: /mnt/d/night_recordings_analysis/Mottled Owl_song/0.0015_39_ch24_sn15.wav\n",
      "Saved: /mnt/d/night_recordings_analysis/Mottled Owl_song/0.0015_78_m25_sn5.wav\n",
      "Saved: /mnt/d/night_recordings_analysis/Mottled Owl_song/0.0015_114_m27_sn18.wav\n",
      "Saved: /mnt/d/night_recordings_analysis/Mottled Owl_song/0.0015_27_ch26_sn17.wav\n",
      "Saved: /mnt/d/night_recordings_analysis/Mottled Owl_song/0.0015_0_p45_sn13.wav\n",
      "Saved: /mnt/d/night_recordings_analysis/Mottled Owl_song/0.0015_102_p24_sn11.wav\n",
      "Saved: /mnt/d/night_recordings_analysis/Mottled Owl_song/0.0015_87_p24_sn9.wav\n",
      "Saved: /mnt/d/night_recordings_analysis/Mottled Owl_song/0.0015_51_m40_sn11.wav\n"
     ]
    },
    {
     "name": "stderr",
     "output_type": "stream",
     "text": [
      "/home/agosjuncosa/anaconda3/envs/opensoundscape/lib/python3.9/site-packages/opensoundscape/audio.py:340: UserWarning: Audio object is shorter than requested duration: 2.0 sec instead of 3 sec\n",
      "  warnings.warn(error_msg)\n",
      "/home/agosjuncosa/anaconda3/envs/opensoundscape/lib/python3.9/site-packages/opensoundscape/audio.py:340: UserWarning: Audio object is shorter than requested duration: 2.0 sec instead of 3 sec\n",
      "  warnings.warn(error_msg)\n"
     ]
    },
    {
     "name": "stdout",
     "output_type": "stream",
     "text": [
      "Saved: /mnt/d/night_recordings_analysis/Mottled Owl_song/0.0015_117_p26_sn10.wav\n",
      "Saved: /mnt/d/night_recordings_analysis/Mottled Owl_song/0.0015_117_p26_sn12.wav\n",
      "Saved: /mnt/d/night_recordings_analysis/Mottled Owl_song/0.0015_33_ch12_sn12.wav\n",
      "Saved: /mnt/d/night_recordings_analysis/Mottled Owl_song/0.0015_12_p9_sn15.wav\n",
      "Saved: /mnt/d/night_recordings_analysis/Mottled Owl_song/0.0015_90_p28_sn15.wav\n",
      "Saved: /mnt/d/night_recordings_analysis/Mottled Owl_song/0.0015_72_p36_sn10.wav\n",
      "Saved: /mnt/d/night_recordings_analysis/Mottled Owl_song/0.0015_54_p34_sn3.wav\n",
      "Saved: /mnt/d/night_recordings_analysis/Mottled Owl_song/0.0015_27_ch42_sn2.wav\n",
      "Saved: /mnt/d/night_recordings_analysis/Mottled Owl_song/0.0015_39_ch35_sn17.wav\n",
      "Saved: /mnt/d/night_recordings_analysis/Mottled Owl_song/0.0015_117_ch6_sn2.wav\n",
      "Saved: /mnt/d/night_recordings_analysis/Mottled Owl_song/0.0015_114_p30_sn1.wav\n",
      "Saved: /mnt/d/night_recordings_analysis/Mottled Owl_song/0.0015_117_m34_sn33.wav\n"
     ]
    },
    {
     "name": "stderr",
     "output_type": "stream",
     "text": [
      "/home/agosjuncosa/anaconda3/envs/opensoundscape/lib/python3.9/site-packages/opensoundscape/audio.py:340: UserWarning: Audio object is shorter than requested duration: 2.0 sec instead of 3 sec\n",
      "  warnings.warn(error_msg)\n"
     ]
    },
    {
     "name": "stdout",
     "output_type": "stream",
     "text": [
      "Saved: /mnt/d/night_recordings_analysis/Mottled Owl_song/0.0015_18_ch35_sn1.wav\n",
      "Saved: /mnt/d/night_recordings_analysis/Mottled Owl_song/0.0015_0_ch34_sn13.wav\n",
      "Saved: /mnt/d/night_recordings_analysis/Mottled Owl_song/0.0015_0_m34_sn4.wav\n",
      "Saved: /mnt/d/night_recordings_analysis/Mottled Owl_song/0.0015_72_m3_sn14.wav\n",
      "Saved: /mnt/d/night_recordings_analysis/Mottled Owl_song/0.0015_78_p15_sn16.wav\n",
      "Saved: /mnt/d/night_recordings_analysis/Mottled Owl_song/0.0015_111_p1_sn3.wav\n",
      "Saved: /mnt/d/night_recordings_analysis/Mottled Owl_song/0.0015_54_m2_sn10.wav\n",
      "Saved: /mnt/d/night_recordings_analysis/Mottled Owl_song/0.0015_66_m5_sn15.wav\n",
      "Saved: /mnt/d/night_recordings_analysis/Mottled Owl_song/0.0014_78_m47_sn8.wav\n",
      "Saved: /mnt/d/night_recordings_analysis/Mottled Owl_song/0.0014_99_m47_sn11.wav\n",
      "Saved: /mnt/d/night_recordings_analysis/Mottled Owl_song/0.0014_108_m47_sn20.wav\n",
      "Saved: /mnt/d/night_recordings_analysis/Mottled Owl_song/0.0014_21_p22_sn13.wav\n",
      "Saved: /mnt/d/night_recordings_analysis/Mottled Owl_song/0.0014_60_p19_sn7.wav\n",
      "Saved: /mnt/d/night_recordings_analysis/Mottled Owl_song/0.0014_81_p8_sn5.wav\n",
      "Saved: /mnt/d/night_recordings_analysis/Mottled Owl_song/0.0014_48_p39_sn6.wav\n",
      "Saved: /mnt/d/night_recordings_analysis/Mottled Owl_song/0.0014_21_p15_sn10.wav\n",
      "Saved: /mnt/d/night_recordings_analysis/Mottled Owl_song/0.0014_36_p42_sn2.wav\n",
      "Saved: /mnt/d/night_recordings_analysis/Mottled Owl_song/0.0014_93_p15_sn14.wav\n",
      "Saved: /mnt/d/night_recordings_analysis/Mottled Owl_song/0.0014_6_p15_sn8.wav\n"
     ]
    },
    {
     "name": "stderr",
     "output_type": "stream",
     "text": [
      "/home/agosjuncosa/anaconda3/envs/opensoundscape/lib/python3.9/site-packages/opensoundscape/audio.py:340: UserWarning: Audio object is shorter than requested duration: 2.0 sec instead of 3 sec\n",
      "  warnings.warn(error_msg)\n"
     ]
    },
    {
     "name": "stdout",
     "output_type": "stream",
     "text": [
      "Saved: /mnt/d/night_recordings_analysis/Mottled Owl_song/0.0014_117_m30_sn20.wav\n",
      "Saved: /mnt/d/night_recordings_analysis/Mottled Owl_song/0.0014_117_m29_sn30.wav\n"
     ]
    },
    {
     "name": "stderr",
     "output_type": "stream",
     "text": [
      "/home/agosjuncosa/anaconda3/envs/opensoundscape/lib/python3.9/site-packages/opensoundscape/audio.py:340: UserWarning: Audio object is shorter than requested duration: 2.0 sec instead of 3 sec\n",
      "  warnings.warn(error_msg)\n"
     ]
    },
    {
     "name": "stdout",
     "output_type": "stream",
     "text": [
      "Saved: /mnt/d/night_recordings_analysis/Mottled Owl_song/0.0014_27_m28_sn23.wav\n",
      "Saved: /mnt/d/night_recordings_analysis/Mottled Owl_song/0.0014_30_m19_sn14.wav\n",
      "Saved: /mnt/d/night_recordings_analysis/Mottled Owl_song/0.0014_72_m24_sn15.wav\n",
      "Saved: /mnt/d/night_recordings_analysis/Mottled Owl_song/0.0014_102_m24_sn13.wav\n",
      "Saved: /mnt/d/night_recordings_analysis/Mottled Owl_song/0.0014_45_ch34_sn8.wav\n",
      "Saved: /mnt/d/night_recordings_analysis/Mottled Owl_song/0.0014_105_ch34_sn15.wav\n",
      "Saved: /mnt/d/night_recordings_analysis/Mottled Owl_song/0.0014_87_m21_sn4.wav\n",
      "Saved: /mnt/d/night_recordings_analysis/Mottled Owl_song/0.0014_93_ch17_sn14.wav\n",
      "Saved: /mnt/d/night_recordings_analysis/Mottled Owl_song/0.0014_93_ch20_sn2.wav\n",
      "Saved: /mnt/d/night_recordings_analysis/Mottled Owl_song/0.0014_63_m26_sn21.wav\n",
      "Saved: /mnt/d/night_recordings_analysis/Mottled Owl_song/0.0014_39_p28_sn5.wav\n",
      "Saved: /mnt/d/night_recordings_analysis/Mottled Owl_song/0.0014_27_m36_sn27.wav\n",
      "Saved: /mnt/d/night_recordings_analysis/Mottled Owl_song/0.0014_69_p30_sn14.wav\n",
      "Saved: /mnt/d/night_recordings_analysis/Mottled Owl_song/0.0014_3_ch24_sn18.wav\n",
      "Saved: /mnt/d/night_recordings_analysis/Mottled Owl_song/0.0014_39_ch25_sn1.wav\n",
      "Saved: /mnt/d/night_recordings_analysis/Mottled Owl_song/0.0014_117_m35_sn18.wav\n"
     ]
    },
    {
     "name": "stderr",
     "output_type": "stream",
     "text": [
      "/home/agosjuncosa/anaconda3/envs/opensoundscape/lib/python3.9/site-packages/opensoundscape/audio.py:340: UserWarning: Audio object is shorter than requested duration: 2.0 sec instead of 3 sec\n",
      "  warnings.warn(error_msg)\n"
     ]
    },
    {
     "name": "stdout",
     "output_type": "stream",
     "text": [
      "Saved: /mnt/d/night_recordings_analysis/Mottled Owl_song/0.0014_105_m38_sn13.wav\n",
      "Saved: /mnt/d/night_recordings_analysis/Mottled Owl_song/0.0014_60_m38_sn9.wav\n",
      "Saved: /mnt/d/night_recordings_analysis/Mottled Owl_song/0.0014_9_ch45_sn15.wav\n",
      "Saved: /mnt/d/night_recordings_analysis/Mottled Owl_song/0.0014_33_ch45_sn17.wav\n",
      "Saved: /mnt/d/night_recordings_analysis/Mottled Owl_song/0.0014_96_ch45_sn13.wav\n",
      "Saved: /mnt/d/night_recordings_analysis/Mottled Owl_song/0.0014_51_p30_sn15.wav\n",
      "Saved: /mnt/d/night_recordings_analysis/Mottled Owl_song/0.0014_57_m32_sn1.wav\n",
      "Saved: /mnt/d/night_recordings_analysis/Mottled Owl_song/0.0014_39_p34_sn19.wav\n",
      "Saved: /mnt/d/night_recordings_analysis/Mottled Owl_song/0.0014_108_ch39_sn1.wav\n",
      "Saved: /mnt/d/night_recordings_analysis/Mottled Owl_song/0.0014_57_ch2_sn5.wav\n",
      "Saved: /mnt/d/night_recordings_analysis/Mottled Owl_song/0.0014_3_p31_sn21.wav\n",
      "Saved: /mnt/d/night_recordings_analysis/Mottled Owl_song/0.0014_117_p14_sn21.wav\n"
     ]
    },
    {
     "name": "stderr",
     "output_type": "stream",
     "text": [
      "/home/agosjuncosa/anaconda3/envs/opensoundscape/lib/python3.9/site-packages/opensoundscape/audio.py:340: UserWarning: Audio object is shorter than requested duration: 2.0 sec instead of 3 sec\n",
      "  warnings.warn(error_msg)\n"
     ]
    },
    {
     "name": "stdout",
     "output_type": "stream",
     "text": [
      "Saved: /mnt/d/night_recordings_analysis/Mottled Owl_song/0.0013_12_m33_sn7.wav\n",
      "Saved: /mnt/d/night_recordings_analysis/Mottled Owl_song/0.0013_48_m33_sn16.wav\n",
      "Saved: /mnt/d/night_recordings_analysis/Mottled Owl_song/0.0013_102_p9_sn2.wav\n",
      "Saved: /mnt/d/night_recordings_analysis/Mottled Owl_song/0.0013_57_ch26_sn16.wav\n",
      "Saved: /mnt/d/night_recordings_analysis/Mottled Owl_song/0.0013_93_p27_sn11.wav\n",
      "Saved: /mnt/d/night_recordings_analysis/Mottled Owl_song/0.0013_6_m25_sn1.wav\n",
      "Saved: /mnt/d/night_recordings_analysis/Mottled Owl_song/0.0013_108_p24_sn8.wav\n",
      "Saved: /mnt/d/night_recordings_analysis/Mottled Owl_song/0.0013_36_m25_sn17.wav\n",
      "Saved: /mnt/d/night_recordings_analysis/Mottled Owl_song/0.0013_48_p40_sn11.wav\n",
      "Saved: /mnt/d/night_recordings_analysis/Mottled Owl_song/0.0013_54_m18_sn4.wav\n",
      "Saved: /mnt/d/night_recordings_analysis/Mottled Owl_song/0.0013_117_p18_sn4.wav\n"
     ]
    },
    {
     "name": "stderr",
     "output_type": "stream",
     "text": [
      "/home/agosjuncosa/anaconda3/envs/opensoundscape/lib/python3.9/site-packages/opensoundscape/audio.py:340: UserWarning: Audio object is shorter than requested duration: 2.0 sec instead of 3 sec\n",
      "  warnings.warn(error_msg)\n"
     ]
    },
    {
     "name": "stdout",
     "output_type": "stream",
     "text": [
      "Saved: /mnt/d/night_recordings_analysis/Mottled Owl_song/0.0013_81_m24_sn3.wav\n",
      "Saved: /mnt/d/night_recordings_analysis/Mottled Owl_song/0.0013_0_m19_sn17.wav\n",
      "Saved: /mnt/d/night_recordings_analysis/Mottled Owl_song/0.0013_45_m29_sn18.wav\n",
      "Saved: /mnt/d/night_recordings_analysis/Mottled Owl_song/0.0013_33_m30_sn24.wav\n"
     ]
    },
    {
     "name": "stderr",
     "output_type": "stream",
     "text": [
      "/home/agosjuncosa/anaconda3/envs/opensoundscape/lib/python3.9/site-packages/opensoundscape/audio.py:340: UserWarning: Audio object is shorter than requested duration: 2.0 sec instead of 3 sec\n",
      "  warnings.warn(error_msg)\n"
     ]
    },
    {
     "name": "stdout",
     "output_type": "stream",
     "text": [
      "Saved: /mnt/d/night_recordings_analysis/Mottled Owl_song/0.0013_117_m30_sn25.wav\n",
      "Saved: /mnt/d/night_recordings_analysis/Mottled Owl_song/0.0013_3_m38_sn10.wav\n",
      "Saved: /mnt/d/night_recordings_analysis/Mottled Owl_song/0.0013_117_p30_sn16.wav\n",
      "Saved: /mnt/d/night_recordings_analysis/Mottled Owl_song/0.0013_66_ch22_sn1.wav\n",
      "Saved: /mnt/d/night_recordings_analysis/Mottled Owl_song/0.0013_60_m46_sn4.wav\n",
      "Saved: /mnt/d/night_recordings_analysis/Mottled Owl_song/0.0013_75_m34_sn5.wav\n",
      "Saved: /mnt/d/night_recordings_analysis/Mottled Owl_song/0.0013_87_m34_sn18.wav\n",
      "Saved: /mnt/d/night_recordings_analysis/Mottled Owl_song/0.0013_117_m34_sn32.wav\n"
     ]
    },
    {
     "name": "stderr",
     "output_type": "stream",
     "text": [
      "/home/agosjuncosa/anaconda3/envs/opensoundscape/lib/python3.9/site-packages/opensoundscape/audio.py:340: UserWarning: Audio object is shorter than requested duration: 2.0 sec instead of 3 sec\n",
      "  warnings.warn(error_msg)\n"
     ]
    },
    {
     "name": "stdout",
     "output_type": "stream",
     "text": [
      "Saved: /mnt/d/night_recordings_analysis/Mottled Owl_song/0.0013_105_p45_sn23.wav\n",
      "Saved: /mnt/d/night_recordings_analysis/Mottled Owl_song/0.0013_66_m41_sn19.wav\n",
      "Saved: /mnt/d/night_recordings_analysis/Mottled Owl_song/0.0013_84_p44_sn1.wav\n",
      "Saved: /mnt/d/night_recordings_analysis/Mottled Owl_song/0.0013_21_p15_sn13.wav\n",
      "Saved: /mnt/d/night_recordings_analysis/Mottled Owl_song/0.0013_3_m31_sn12.wav\n",
      "Saved: /mnt/d/night_recordings_analysis/Mottled Owl_song/0.0013_114_ch7_sn12.wav\n",
      "Saved: /mnt/d/night_recordings_analysis/Mottled Owl_song/0.0013_54_ch17_sn7.wav\n",
      "Saved: /mnt/d/night_recordings_analysis/Mottled Owl_song/0.0013_18_ch34_sn7.wav\n",
      "Saved: /mnt/d/night_recordings_analysis/Mottled Owl_song/0.0013_9_ch18_sn11.wav\n",
      "Saved: /mnt/d/night_recordings_analysis/Mottled Owl_song/0.0013_45_ch44_sn22.wav\n",
      "Saved: /mnt/d/night_recordings_analysis/Mottled Owl_song/0.0013_45_ch2_sn8.wav\n",
      "Saved: /mnt/d/night_recordings_analysis/Mottled Owl_song/0.0013_15_ch4_sn10.wav\n",
      "Saved: /mnt/d/night_recordings_analysis/Mottled Owl_song/0.0013_63_ch44_sn16.wav\n",
      "Saved: /mnt/d/night_recordings_analysis/Mottled Owl_song/0.0012_99_p16_sn13.wav\n",
      "Saved: /mnt/d/night_recordings_analysis/Mottled Owl_song/0.0012_96_m3_sn11.wav\n"
     ]
    },
    {
     "name": "stderr",
     "output_type": "stream",
     "text": [
      "/home/agosjuncosa/anaconda3/envs/opensoundscape/lib/python3.9/site-packages/opensoundscape/audio.py:340: UserWarning: Audio object is shorter than requested duration: 2.0 sec instead of 3 sec\n",
      "  warnings.warn(error_msg)\n"
     ]
    },
    {
     "name": "stdout",
     "output_type": "stream",
     "text": [
      "Saved: /mnt/d/night_recordings_analysis/Mottled Owl_song/0.0012_117_m18_sn21.wav\n",
      "Saved: /mnt/d/night_recordings_analysis/Mottled Owl_song/0.0012_81_ch1_sn8.wav\n",
      "Saved: /mnt/d/night_recordings_analysis/Mottled Owl_song/0.0012_117_p14_sn23.wav\n"
     ]
    },
    {
     "name": "stderr",
     "output_type": "stream",
     "text": [
      "/home/agosjuncosa/anaconda3/envs/opensoundscape/lib/python3.9/site-packages/opensoundscape/audio.py:340: UserWarning: Audio object is shorter than requested duration: 2.0 sec instead of 3 sec\n",
      "  warnings.warn(error_msg)\n"
     ]
    },
    {
     "name": "stdout",
     "output_type": "stream",
     "text": [
      "Saved: /mnt/d/night_recordings_analysis/Mottled Owl_song/0.0012_57_p14_sn24.wav\n",
      "Saved: /mnt/d/night_recordings_analysis/Mottled Owl_song/0.0012_45_p7_sn11.wav\n",
      "Saved: /mnt/d/night_recordings_analysis/Mottled Owl_song/0.0012_36_p12_sn14.wav\n",
      "Saved: /mnt/d/night_recordings_analysis/Mottled Owl_song/0.0012_81_ch4_sn13.wav\n",
      "Saved: /mnt/d/night_recordings_analysis/Mottled Owl_song/0.0012_108_p13_sn8.wav\n",
      "Saved: /mnt/d/night_recordings_analysis/Mottled Owl_song/0.0012_24_m18_sn10.wav\n",
      "Saved: /mnt/d/night_recordings_analysis/Mottled Owl_song/0.0012_54_p14_sn13.wav\n",
      "Saved: /mnt/d/night_recordings_analysis/Mottled Owl_song/0.0012_102_m36_sn16.wav\n",
      "Saved: /mnt/d/night_recordings_analysis/Mottled Owl_song/0.0012_33_m36_sn14.wav\n",
      "Saved: /mnt/d/night_recordings_analysis/Mottled Owl_song/0.0012_81_m33_sn8.wav\n",
      "Saved: /mnt/d/night_recordings_analysis/Mottled Owl_song/0.0012_33_m32_sn11.wav\n",
      "Saved: /mnt/d/night_recordings_analysis/Mottled Owl_song/0.0012_117_m33_sn3.wav\n"
     ]
    },
    {
     "name": "stderr",
     "output_type": "stream",
     "text": [
      "/home/agosjuncosa/anaconda3/envs/opensoundscape/lib/python3.9/site-packages/opensoundscape/audio.py:340: UserWarning: Audio object is shorter than requested duration: 2.0 sec instead of 3 sec\n",
      "  warnings.warn(error_msg)\n"
     ]
    },
    {
     "name": "stdout",
     "output_type": "stream",
     "text": [
      "Saved: /mnt/d/night_recordings_analysis/Mottled Owl_song/0.0012_45_m11_sn1.wav\n",
      "Saved: /mnt/d/night_recordings_analysis/Mottled Owl_song/0.0012_75_ch16_sn10.wav\n",
      "Saved: /mnt/d/night_recordings_analysis/Mottled Owl_song/0.0012_36_m29_sn27.wav\n",
      "Saved: /mnt/d/night_recordings_analysis/Mottled Owl_song/0.0012_84_m29_sn19.wav\n",
      "Saved: /mnt/d/night_recordings_analysis/Mottled Owl_song/0.0012_60_p19_sn3.wav\n",
      "Saved: /mnt/d/night_recordings_analysis/Mottled Owl_song/0.0012_33_m30_sn19.wav\n",
      "Saved: /mnt/d/night_recordings_analysis/Mottled Owl_song/0.0012_93_m1_sn4.wav\n",
      "Saved: /mnt/d/night_recordings_analysis/Mottled Owl_song/0.0012_66_ch11_sn16.wav\n",
      "Saved: /mnt/d/night_recordings_analysis/Mottled Owl_song/0.0012_87_m14_sn14.wav\n",
      "Saved: /mnt/d/night_recordings_analysis/Mottled Owl_song/0.0012_3_p22_sn7.wav\n",
      "Saved: /mnt/d/night_recordings_analysis/Mottled Owl_song/0.0012_21_p20_sn10.wav\n",
      "Saved: /mnt/d/night_recordings_analysis/Mottled Owl_song/0.0012_18_ch18_sn6.wav\n",
      "Saved: /mnt/d/night_recordings_analysis/Mottled Owl_song/0.0012_36_m13_sn12.wav\n",
      "Saved: /mnt/d/night_recordings_analysis/Mottled Owl_song/0.0012_93_p2_sn11.wav\n",
      "Saved: /mnt/d/night_recordings_analysis/Mottled Owl_song/0.0012_39_m12_sn3.wav\n",
      "Saved: /mnt/d/night_recordings_analysis/Mottled Owl_song/0.0012_63_m10_sn5.wav\n",
      "Saved: /mnt/d/night_recordings_analysis/Mottled Owl_song/0.0012_66_m47_sn12.wav\n",
      "Saved: /mnt/d/night_recordings_analysis/Mottled Owl_song/0.0012_3_m16_sn14.wav\n",
      "Saved: /mnt/d/night_recordings_analysis/Mottled Owl_song/0.0012_84_m40_sn7.wav\n",
      "Saved: /mnt/d/night_recordings_analysis/Mottled Owl_song/0.0012_117_p37_sn15.wav\n"
     ]
    },
    {
     "name": "stderr",
     "output_type": "stream",
     "text": [
      "/home/agosjuncosa/anaconda3/envs/opensoundscape/lib/python3.9/site-packages/opensoundscape/audio.py:340: UserWarning: Audio object is shorter than requested duration: 2.0 sec instead of 3 sec\n",
      "  warnings.warn(error_msg)\n"
     ]
    },
    {
     "name": "stdout",
     "output_type": "stream",
     "text": [
      "Saved: /mnt/d/night_recordings_analysis/Mottled Owl_song/0.0012_63_ch35_sn10.wav\n",
      "Saved: /mnt/d/night_recordings_analysis/Mottled Owl_song/0.0012_93_p44_sn3.wav\n"
     ]
    },
    {
     "name": "stderr",
     "output_type": "stream",
     "text": [
      "/home/agosjuncosa/anaconda3/envs/opensoundscape/lib/python3.9/site-packages/opensoundscape/audio.py:340: UserWarning: Audio object is shorter than requested duration: 2.0 sec instead of 3 sec\n",
      "  warnings.warn(error_msg)\n"
     ]
    },
    {
     "name": "stdout",
     "output_type": "stream",
     "text": [
      "Saved: /mnt/d/night_recordings_analysis/Mottled Owl_song/0.0012_117_p44_sn19.wav\n",
      "Saved: /mnt/d/night_recordings_analysis/Mottled Owl_song/0.0012_21_p42_sn13.wav\n",
      "Saved: /mnt/d/night_recordings_analysis/Mottled Owl_song/0.0012_102_p27_sn2.wav\n",
      "Saved: /mnt/d/night_recordings_analysis/Mottled Owl_song/0.0012_48_p28_sn2.wav\n",
      "Saved: /mnt/d/night_recordings_analysis/Mottled Owl_song/0.0012_63_m22_sn2.wav\n",
      "Saved: /mnt/d/night_recordings_analysis/Mottled Owl_song/0.0012_72_m21_sn7.wav\n",
      "Saved: /mnt/d/night_recordings_analysis/Mottled Owl_song/0.0012_69_p21_sn11.wav\n",
      "Saved: /mnt/d/night_recordings_analysis/Mottled Owl_song/0.0012_15_ch26_sn15.wav\n",
      "Saved: /mnt/d/night_recordings_analysis/Mottled Owl_song/0.0012_21_p9_sn8.wav\n",
      "Saved: /mnt/d/night_recordings_analysis/Mottled Owl_song/0.0012_102_m25_sn2.wav\n",
      "Saved: /mnt/d/night_recordings_analysis/Mottled Owl_song/0.0012_18_m26_sn9.wav\n",
      "Saved: /mnt/d/night_recordings_analysis/Mottled Owl_song/0.0012_93_m9_sn5.wav\n",
      "Saved: /mnt/d/night_recordings_analysis/Mottled Owl_song/0.0012_111_m46_sn11.wav\n",
      "Saved: /mnt/d/night_recordings_analysis/Mottled Owl_song/0.0012_99_ch46_sn13.wav\n",
      "Saved: /mnt/d/night_recordings_analysis/Mottled Owl_song/0.0012_45_p34_sn18.wav\n",
      "Saved: /mnt/d/night_recordings_analysis/Mottled Owl_song/0.0012_18_p34_sn10.wav\n",
      "Saved: /mnt/d/night_recordings_analysis/Mottled Owl_song/0.0012_87_ch41_sn8.wav\n",
      "Saved: /mnt/d/night_recordings_analysis/Mottled Owl_song/0.0012_66_ch40_sn11.wav\n",
      "Saved: /mnt/d/night_recordings_analysis/Mottled Owl_song/0.0012_24_ch44_sn15.wav\n",
      "Saved: /mnt/d/night_recordings_analysis/Mottled Owl_song/0.0012_117_p40_sn22.wav\n"
     ]
    },
    {
     "name": "stderr",
     "output_type": "stream",
     "text": [
      "/home/agosjuncosa/anaconda3/envs/opensoundscape/lib/python3.9/site-packages/opensoundscape/audio.py:340: UserWarning: Audio object is shorter than requested duration: 2.0 sec instead of 3 sec\n",
      "  warnings.warn(error_msg)\n"
     ]
    },
    {
     "name": "stdout",
     "output_type": "stream",
     "text": [
      "Saved: /mnt/d/night_recordings_analysis/Mottled Owl_song/0.0011_72_m32_sn2.wav\n",
      "Saved: /mnt/d/night_recordings_analysis/Mottled Owl_song/0.0011_111_m40_sn21.wav\n",
      "Saved: /mnt/d/night_recordings_analysis/Mottled Owl_song/0.0011_9_ch11_sn12.wav\n",
      "Saved: /mnt/d/night_recordings_analysis/Mottled Owl_song/0.0011_108_ch10_sn5.wav\n",
      "Saved: /mnt/d/night_recordings_analysis/Mottled Owl_song/0.0011_84_ch10_sn3.wav\n",
      "Saved: /mnt/d/night_recordings_analysis/Mottled Owl_song/0.0011_93_p8_sn6.wav\n",
      "Saved: /mnt/d/night_recordings_analysis/Mottled Owl_song/0.0011_36_p20_sn1.wav\n",
      "Saved: /mnt/d/night_recordings_analysis/Mottled Owl_song/0.0011_0_p19_sn11.wav\n",
      "Saved: /mnt/d/night_recordings_analysis/Mottled Owl_song/0.0011_51_p3_sn11.wav\n",
      "Saved: /mnt/d/night_recordings_analysis/Mottled Owl_song/0.0011_15_p23_sn8.wav\n"
     ]
    },
    {
     "name": "stderr",
     "output_type": "stream",
     "text": [
      "/home/agosjuncosa/anaconda3/envs/opensoundscape/lib/python3.9/site-packages/opensoundscape/audio.py:340: UserWarning: Audio object is shorter than requested duration: 2.0 sec instead of 3 sec\n",
      "  warnings.warn(error_msg)\n"
     ]
    },
    {
     "name": "stdout",
     "output_type": "stream",
     "text": [
      "Saved: /mnt/d/night_recordings_analysis/Mottled Owl_song/0.0011_117_m33_sn18.wav\n",
      "Saved: /mnt/d/night_recordings_analysis/Mottled Owl_song/0.0011_6_m38_sn14.wav\n",
      "Saved: /mnt/d/night_recordings_analysis/Mottled Owl_song/0.0011_9_ch2_sn4.wav\n",
      "Saved: /mnt/d/night_recordings_analysis/Mottled Owl_song/0.0011_66_ch2_sn11.wav\n",
      "Saved: /mnt/d/night_recordings_analysis/Mottled Owl_song/0.0011_84_m1_sn8.wav\n",
      "Saved: /mnt/d/night_recordings_analysis/Mottled Owl_song/0.0011_75_ch45_sn1.wav\n",
      "Saved: /mnt/d/night_recordings_analysis/Mottled Owl_song/0.0011_51_ch44_sn14.wav\n",
      "Saved: /mnt/d/night_recordings_analysis/Mottled Owl_song/0.0011_93_p13_sn14.wav\n",
      "Saved: /mnt/d/night_recordings_analysis/Mottled Owl_song/0.0011_9_p13_sn1.wav\n"
     ]
    },
    {
     "name": "stderr",
     "output_type": "stream",
     "text": [
      "/home/agosjuncosa/anaconda3/envs/opensoundscape/lib/python3.9/site-packages/opensoundscape/audio.py:340: UserWarning: Audio object is shorter than requested duration: 2.0 sec instead of 3 sec\n",
      "  warnings.warn(error_msg)\n"
     ]
    },
    {
     "name": "stdout",
     "output_type": "stream",
     "text": [
      "Saved: /mnt/d/night_recordings_analysis/Mottled Owl_song/0.0011_117_p45_sn25.wav\n",
      "Saved: /mnt/d/night_recordings_analysis/Mottled Owl_song/0.0011_51_m40_sn25.wav\n",
      "Saved: /mnt/d/night_recordings_analysis/Mottled Owl_song/0.0011_30_p15_sn17.wav\n",
      "Saved: /mnt/d/night_recordings_analysis/Mottled Owl_song/0.0011_105_p16_sn15.wav\n",
      "Saved: /mnt/d/night_recordings_analysis/Mottled Owl_song/0.0011_81_p44_sn14.wav\n",
      "Saved: /mnt/d/night_recordings_analysis/Mottled Owl_song/0.0011_93_p44_sn13.wav\n"
     ]
    },
    {
     "name": "stderr",
     "output_type": "stream",
     "text": [
      "/home/agosjuncosa/anaconda3/envs/opensoundscape/lib/python3.9/site-packages/opensoundscape/audio.py:340: UserWarning: Audio object is shorter than requested duration: 2.0 sec instead of 3 sec\n",
      "  warnings.warn(error_msg)\n"
     ]
    },
    {
     "name": "stdout",
     "output_type": "stream",
     "text": [
      "Saved: /mnt/d/night_recordings_analysis/Mottled Owl_song/0.0011_117_p44_sn15.wav\n",
      "Saved: /mnt/d/night_recordings_analysis/Mottled Owl_song/0.0011_54_p17_sn2.wav\n",
      "Saved: /mnt/d/night_recordings_analysis/Mottled Owl_song/0.0011_24_p44_sn22.wav\n",
      "Saved: /mnt/d/night_recordings_analysis/Mottled Owl_song/0.0011_48_m2_sn17.wav\n",
      "Saved: /mnt/d/night_recordings_analysis/Mottled Owl_song/0.0011_102_p11_sn13.wav\n",
      "Saved: /mnt/d/night_recordings_analysis/Mottled Owl_song/0.0011_87_m47_sn17.wav\n",
      "Saved: /mnt/d/night_recordings_analysis/Mottled Owl_song/0.0011_51_p46_sn18.wav\n"
     ]
    },
    {
     "name": "stderr",
     "output_type": "stream",
     "text": [
      "/home/agosjuncosa/anaconda3/envs/opensoundscape/lib/python3.9/site-packages/opensoundscape/audio.py:340: UserWarning: Audio object is shorter than requested duration: 2.0 sec instead of 3 sec\n",
      "  warnings.warn(error_msg)\n"
     ]
    },
    {
     "name": "stdout",
     "output_type": "stream",
     "text": [
      "Saved: /mnt/d/night_recordings_analysis/Mottled Owl_song/0.0011_117_m30_sn30.wav\n",
      "Saved: /mnt/d/night_recordings_analysis/Mottled Owl_song/0.0011_75_m30_sn9.wav\n",
      "Saved: /mnt/d/night_recordings_analysis/Mottled Owl_song/0.0011_117_m29_sn28.wav\n"
     ]
    },
    {
     "name": "stderr",
     "output_type": "stream",
     "text": [
      "/home/agosjuncosa/anaconda3/envs/opensoundscape/lib/python3.9/site-packages/opensoundscape/audio.py:340: UserWarning: Audio object is shorter than requested duration: 2.0 sec instead of 3 sec\n",
      "  warnings.warn(error_msg)\n"
     ]
    },
    {
     "name": "stdout",
     "output_type": "stream",
     "text": [
      "Saved: /mnt/d/night_recordings_analysis/Mottled Owl_song/0.0011_45_m14_sn9.wav\n",
      "Saved: /mnt/d/night_recordings_analysis/Mottled Owl_song/0.0011_24_p46_sn11.wav\n",
      "Saved: /mnt/d/night_recordings_analysis/Mottled Owl_song/0.0011_39_m12_sn8.wav\n",
      "Saved: /mnt/d/night_recordings_analysis/Mottled Owl_song/0.0011_48_m9_sn1.wav\n",
      "Saved: /mnt/d/night_recordings_analysis/Mottled Owl_song/0.0011_6_p14_sn6.wav\n",
      "Saved: /mnt/d/night_recordings_analysis/Mottled Owl_song/0.0011_30_ch38_sn8.wav\n",
      "Saved: /mnt/d/night_recordings_analysis/Mottled Owl_song/0.0011_96_m21_sn5.wav\n",
      "Saved: /mnt/d/night_recordings_analysis/Mottled Owl_song/0.0011_18_ch18_sn4.wav\n",
      "Saved: /mnt/d/night_recordings_analysis/Mottled Owl_song/0.0011_105_m36_sn19.wav\n",
      "Saved: /mnt/d/night_recordings_analysis/Mottled Owl_song/0.0011_60_p9_sn6.wav\n",
      "Saved: /mnt/d/night_recordings_analysis/Mottled Owl_song/0.0011_69_p24_sn14.wav\n",
      "Saved: /mnt/d/night_recordings_analysis/Mottled Owl_song/0.0011_81_p27_sn7.wav\n",
      "Saved: /mnt/d/night_recordings_analysis/Mottled Owl_song/0.0011_81_ch25_sn7.wav\n",
      "Saved: /mnt/d/night_recordings_analysis/Mottled Owl_song/0.0011_54_m25_sn8.wav\n",
      "Saved: /mnt/d/night_recordings_analysis/Mottled Owl_song/0.0011_90_m22_sn5.wav\n",
      "Saved: /mnt/d/night_recordings_analysis/Mottled Owl_song/0.0011_0_m25_sn3.wav\n",
      "Saved: /mnt/d/night_recordings_analysis/Mottled Owl_song/0.0011_111_m21_sn15.wav\n",
      "Saved: /mnt/d/night_recordings_analysis/Mottled Owl_song/0.0010_18_p36_sn11.wav\n",
      "Saved: /mnt/d/night_recordings_analysis/Mottled Owl_song/0.0010_15_p34_sn7.wav\n",
      "Saved: /mnt/d/night_recordings_analysis/Mottled Owl_song/0.0010_105_p41_sn15.wav\n",
      "Saved: /mnt/d/night_recordings_analysis/Mottled Owl_song/0.0010_108_ch26_sn1.wav\n",
      "Saved: /mnt/d/night_recordings_analysis/Mottled Owl_song/0.0010_81_ch26_sn8.wav\n"
     ]
    },
    {
     "name": "stderr",
     "output_type": "stream",
     "text": [
      "/home/agosjuncosa/anaconda3/envs/opensoundscape/lib/python3.9/site-packages/opensoundscape/audio.py:340: UserWarning: Audio object is shorter than requested duration: 2.0 sec instead of 3 sec\n",
      "  warnings.warn(error_msg)\n"
     ]
    },
    {
     "name": "stdout",
     "output_type": "stream",
     "text": [
      "Saved: /mnt/d/night_recordings_analysis/Mottled Owl_song/0.0010_117_m33_sn1.wav\n",
      "Saved: /mnt/d/night_recordings_analysis/Mottled Owl_song/0.0010_90_p40_sn5.wav\n",
      "Saved: /mnt/d/night_recordings_analysis/Mottled Owl_song/0.0010_78_p7_sn6.wav\n",
      "Saved: /mnt/d/night_recordings_analysis/Mottled Owl_song/0.0010_117_m25_sn16.wav\n",
      "Saved: /mnt/d/night_recordings_analysis/Mottled Owl_song/0.0010_45_p25_sn13.wav\n",
      "Saved: /mnt/d/night_recordings_analysis/Mottled Owl_song/0.0010_0_p25_sn9.wav\n",
      "Saved: /mnt/d/night_recordings_analysis/Mottled Owl_song/0.0010_6_p25_sn2.wav\n",
      "Saved: /mnt/d/night_recordings_analysis/Mottled Owl_song/0.0010_42_p25_sn5.wav\n",
      "Saved: /mnt/d/night_recordings_analysis/Mottled Owl_song/0.0010_51_p25_sn6.wav\n",
      "Saved: /mnt/d/night_recordings_analysis/Mottled Owl_song/0.0010_30_ch34_sn10.wav\n",
      "Saved: /mnt/d/night_recordings_analysis/Mottled Owl_song/0.0010_114_ch34_sn14.wav\n",
      "Saved: /mnt/d/night_recordings_analysis/Mottled Owl_song/0.0010_39_m29_sn3.wav\n",
      "Saved: /mnt/d/night_recordings_analysis/Mottled Owl_song/0.0010_51_m29_sn16.wav\n",
      "Saved: /mnt/d/night_recordings_analysis/Mottled Owl_song/0.0010_114_p15_sn2.wav\n",
      "Saved: /mnt/d/night_recordings_analysis/Mottled Owl_song/0.0010_87_ch45_sn16.wav\n",
      "Saved: /mnt/d/night_recordings_analysis/Mottled Owl_song/0.0010_0_m45_sn8.wav\n",
      "Saved: /mnt/d/night_recordings_analysis/Mottled Owl_song/0.0010_105_ch41_sn12.wav\n"
     ]
    },
    {
     "name": "stderr",
     "output_type": "stream",
     "text": [
      "/home/agosjuncosa/anaconda3/envs/opensoundscape/lib/python3.9/site-packages/opensoundscape/audio.py:340: UserWarning: Audio object is shorter than requested duration: 2.0 sec instead of 3 sec\n",
      "  warnings.warn(error_msg)\n"
     ]
    },
    {
     "name": "stdout",
     "output_type": "stream",
     "text": [
      "Saved: /mnt/d/night_recordings_analysis/Mottled Owl_song/0.0010_117_m34_sn24.wav\n",
      "Saved: /mnt/d/night_recordings_analysis/Mottled Owl_song/0.0010_114_ch16_sn15.wav\n",
      "Saved: /mnt/d/night_recordings_analysis/Mottled Owl_song/0.0010_117_p29_sn28.wav\n"
     ]
    },
    {
     "name": "stderr",
     "output_type": "stream",
     "text": [
      "/home/agosjuncosa/anaconda3/envs/opensoundscape/lib/python3.9/site-packages/opensoundscape/audio.py:340: UserWarning: Audio object is shorter than requested duration: 2.0 sec instead of 3 sec\n",
      "  warnings.warn(error_msg)\n"
     ]
    },
    {
     "name": "stdout",
     "output_type": "stream",
     "text": [
      "Saved: /mnt/d/night_recordings_analysis/Mottled Owl_song/0.0010_111_p22_sn12.wav\n",
      "Saved: /mnt/d/night_recordings_analysis/Mottled Owl_song/0.0010_30_p20_sn11.wav\n",
      "\n",
      " Done! Clips saved to: /mnt/d/night_recordings_analysis/Mottled Owl_song/\n"
     ]
    }
   ],
   "source": [
    "# STEP 3: Extract and save clips\n",
    "for idx, row in top_clips.iterrows():\n",
    "    site_id = row['Site_ID']\n",
    "    sn = row['SN']\n",
    "    offset = int(row['offset'])\n",
    "    score = row['score']\n",
    "    full_audio_path = Path(row['file_path'])\n",
    "    \n",
    "    # Construct subdirectory and filename\n",
    "    out_dir = Path(main_dir)\n",
    "    #site_dir.mkdir(parents=True, exist_ok=True)\n",
    "\n",
    "    # Format output filename\n",
    "    output_filename = f\"{score:.4f}_{offset}_{site_id}_SN{sn}.WAV\".lower() \n",
    "    output_path = out_dir / output_filename\n",
    "    \n",
    "    try:\n",
    "        # Load and extract clip\n",
    "        audio = Audio.from_file(full_audio_path, offset=offset, duration=clip_duration)\n",
    "        audio.save(output_path)\n",
    "        print(f\"Saved: {output_path}\")\n",
    "    except Exception as e:\n",
    "        print(f\"Error processing {full_audio_path} at offset {offset}: {e}\")\n",
    "\n",
    "print(f\"\\n Done! Clips saved to: {main_dir}\")"
   ]
  }
 ],
 "metadata": {
  "kernelspec": {
   "display_name": "OpenSoundscape",
   "language": "python",
   "name": "opensoundscape"
  },
  "language_info": {
   "codemirror_mode": {
    "name": "ipython",
    "version": 3
   },
   "file_extension": ".py",
   "mimetype": "text/x-python",
   "name": "python",
   "nbconvert_exporter": "python",
   "pygments_lexer": "ipython3",
   "version": "3.9.17"
  }
 },
 "nbformat": 4,
 "nbformat_minor": 5
}
