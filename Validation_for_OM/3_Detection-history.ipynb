{
 "cells": [
  {
   "cell_type": "markdown",
   "id": "6c47da4e-4c40-4872-9fb4-bd125ddda816",
   "metadata": {},
   "source": [
    "## Post Validation - Build detection History"
   ]
  },
  {
   "cell_type": "code",
   "execution_count": 1,
   "id": "01f4f5eb-9260-43e7-af76-4bd607226eb4",
   "metadata": {},
   "outputs": [],
   "source": [
    "import pandas as pd\n",
    "import os\n",
    "from pathlib import Path\n",
    "from natsort import natsorted  # Natural sorting"
   ]
  },
  {
   "cell_type": "code",
   "execution_count": 3,
   "id": "043bf507-cdb4-443b-94fe-4b3308247ca6",
   "metadata": {},
   "outputs": [],
   "source": [
    "# We indicte the paths\n",
    "main_dir = \"/mnt/d/night_recordings_analysis/\"\n",
    "validation_file = os.path.join(main_dir, \"Ferruginous Pygmy-Owl/fepowl_Validation.txt\")\n",
    "template_file = os.path.join(main_dir, \"detection_history_template.csv\")\n",
    "output_file = os.path.join(main_dir, \"Ferruginous Pygmy-Owl/fepowl_detection_history.csv\")\n"
   ]
  },
  {
   "cell_type": "code",
   "execution_count": 4,
   "id": "74bf1343-c646-46df-8ec4-c75594b1d9b0",
   "metadata": {},
   "outputs": [],
   "source": [
    "# We load the data\n",
    "val_df = pd.read_csv(validation_file, sep='\\t')\n",
    "template = pd.read_csv(template_file, index_col=0)  # Site_IDs as row index\n"
   ]
  },
  {
   "cell_type": "code",
   "execution_count": 5,
   "id": "baa92da1-b7a5-4b2a-8a4d-fd716a411377",
   "metadata": {},
   "outputs": [],
   "source": [
    "# Extract Site_ID and SN from file name\n",
    "def parse_site_sn(filename):\n",
    "    parts = Path(filename).stem.split('_')\n",
    "    try:\n",
    "        site_id = parts[-2]\n",
    "        sn = parts[-1].replace(\"sn\", \"\").zfill(2)  # Ensures consistent \"01\", \"02\", ..., \"35\" formatting\n",
    "        return pd.Series([site_id, sn])\n",
    "    except Exception as e:\n",
    "        print(f\"Failed to parse filename: {filename}\")\n",
    "        return pd.Series([None, None])\n"
   ]
  },
  {
   "cell_type": "code",
   "execution_count": 6,
   "id": "59bf361a-47d7-4bed-b7ae-14723645f260",
   "metadata": {},
   "outputs": [],
   "source": [
    "# Apply parsing\n",
    "val_df[['Site_ID', 'SN']] = val_df['Begin File'].apply(parse_site_sn)\n",
    "val_df['SN'] = val_df['SN'].astype(str).str.zfill(2)"
   ]
  },
  {
   "cell_type": "code",
   "execution_count": 7,
   "id": "2341d880-772f-456e-a20c-14f9752ccd31",
   "metadata": {},
   "outputs": [],
   "source": [
    "# Make sure Eval is numeric\n",
    "val_df['Eval'] = pd.to_numeric(val_df['Eval'], errors='coerce').astype(int)"
   ]
  },
  {
   "cell_type": "code",
   "execution_count": 8,
   "id": "68b406e7-6443-4209-8c37-2641498a195a",
   "metadata": {},
   "outputs": [],
   "source": [
    "# Start from template and insert 1s where Eval == 1\n",
    "\n",
    "detection_history = template.copy() #copy prevent altering original template\n",
    "\n",
    "for _, row in val_df.iterrows():\n",
    "    if row['Eval'] == 1:\n",
    "        site = row['Site_ID']\n",
    "        sn = row['SN']\n",
    "        if site in detection_history.index and sn in detection_history.columns:\n",
    "            detection_history.loc[site, sn] = 1  # Replace 0 with 1"
   ]
  },
  {
   "cell_type": "code",
   "execution_count": 9,
   "id": "8ab69083-8a82-4b66-83c6-57fa6a68e6d2",
   "metadata": {},
   "outputs": [],
   "source": [
    "# Natural Sort\n",
    "# natsorted prevents wrong order like 1, 10, 11, ..., 2\n",
    "detection_history = detection_history.reindex(natsorted(detection_history.index), axis=0)\n",
    "detection_history = detection_history[natsorted(detection_history.columns)]\n"
   ]
  },
  {
   "cell_type": "code",
   "execution_count": 10,
   "id": "2c6f56dd-c443-4fae-84b0-500a2d6a318a",
   "metadata": {},
   "outputs": [
    {
     "name": "stdout",
     "output_type": "stream",
     "text": [
      "✅ Detection history created and saved to: /mnt/d/night_recordings_analysis/Ferruginous Pygmy-Owl/fepowl_detection_history.csv\n"
     ]
    }
   ],
   "source": [
    "# Save\n",
    "detection_history.to_csv(output_file)\n",
    "\n",
    "print(\"✅ Detection history created and saved to:\", output_file)"
   ]
  },
  {
   "cell_type": "markdown",
   "id": "e00332c1-33c1-4a70-bdb9-116840b06757",
   "metadata": {},
   "source": []
  },
  {
   "cell_type": "code",
   "execution_count": null,
   "id": "d21532b3-4ea9-491b-9ffe-624b8422456b",
   "metadata": {},
   "outputs": [],
   "source": []
  }
 ],
 "metadata": {
  "kernelspec": {
   "display_name": "Python 3 (ipykernel)",
   "language": "python",
   "name": "python3"
  },
  "language_info": {
   "codemirror_mode": {
    "name": "ipython",
    "version": 3
   },
   "file_extension": ".py",
   "mimetype": "text/x-python",
   "name": "python",
   "nbconvert_exporter": "python",
   "pygments_lexer": "ipython3",
   "version": "3.9.17"
  }
 },
 "nbformat": 4,
 "nbformat_minor": 5
}
