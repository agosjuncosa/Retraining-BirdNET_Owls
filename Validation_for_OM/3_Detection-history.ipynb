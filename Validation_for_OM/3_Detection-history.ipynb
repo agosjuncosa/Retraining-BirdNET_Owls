{
 "cells": [
  {
   "cell_type": "markdown",
   "id": "6c47da4e-4c40-4872-9fb4-bd125ddda816",
   "metadata": {},
   "source": [
    "## Post Validation - Build detection History"
   ]
  },
  {
   "cell_type": "code",
   "execution_count": 7,
   "id": "01f4f5eb-9260-43e7-af76-4bd607226eb4",
   "metadata": {},
   "outputs": [],
   "source": [
    "import pandas as pd\n",
    "import os\n",
    "from pathlib import Path"
   ]
  },
  {
   "cell_type": "code",
   "execution_count": 3,
   "id": "043bf507-cdb4-443b-94fe-4b3308247ca6",
   "metadata": {},
   "outputs": [],
   "source": [
    "# Load Validation of Selection Table\n",
    "main_dir = \"/mnt/d/night_recordings_analysis/\"\n",
    "\n",
    "val_df = pd.read_csv(os.path.join(main_dir, \"Tropical_Screech-OWl/trsowl_Validation.txt\"), sep='\\t')"
   ]
  },
  {
   "cell_type": "code",
   "execution_count": 18,
   "id": "74bf1343-c646-46df-8ec4-c75594b1d9b0",
   "metadata": {},
   "outputs": [
    {
     "data": {
      "text/plain": [
       "0       0\n",
       "1       0\n",
       "2       0\n",
       "3       0\n",
       "4       0\n",
       "       ..\n",
       "2299    1\n",
       "2300    1\n",
       "2301    1\n",
       "2302    1\n",
       "2303    1\n",
       "Name: Eval, Length: 2304, dtype: int64"
      ]
     },
     "execution_count": 18,
     "metadata": {},
     "output_type": "execute_result"
    }
   ],
   "source": [
    "val_df['Eval']"
   ]
  },
  {
   "cell_type": "code",
   "execution_count": 8,
   "id": "baa92da1-b7a5-4b2a-8a4d-fd716a411377",
   "metadata": {},
   "outputs": [],
   "source": [
    "# Extract Site_ID and SN from file name\n",
    "def parse_site_sn(filename):\n",
    "    parts = Path(filename).stem.split('_')  # Remove .wav and split\n",
    "    try:\n",
    "        site_id = parts[-2]\n",
    "        sn = parts[-1].replace(\"sn\", \"\")\n",
    "        return pd.Series([site_id, sn])\n",
    "    except Exception as e:\n",
    "        print(f\"Failed to parse filename: {filename}\")\n",
    "        return pd.Series([None, None])"
   ]
  },
  {
   "cell_type": "code",
   "execution_count": 9,
   "id": "59bf361a-47d7-4bed-b7ae-14723645f260",
   "metadata": {},
   "outputs": [],
   "source": [
    "# Apply parsing\n",
    "val_df[['Site_ID', 'SN']] = val_df['Begin File'].apply(parse_site_sn)"
   ]
  },
  {
   "cell_type": "code",
   "execution_count": 11,
   "id": "2341d880-772f-456e-a20c-14f9752ccd31",
   "metadata": {},
   "outputs": [],
   "source": [
    "# Make sure Eval is numeric\n",
    "val_df['Eval'] = pd.to_numeric(val_df['Eval'], errors='coerce').fillna(0).astype(int)"
   ]
  },
  {
   "cell_type": "code",
   "execution_count": 19,
   "id": "762e3d32-f32c-4c29-888b-a7944c0a28fe",
   "metadata": {},
   "outputs": [],
   "source": [
    "# Pivot to detection history\n",
    "detection_history = val_df.groupby(['Site_ID', 'SN'])['Eval'].max().unstack(fill_value=0)"
   ]
  },
  {
   "cell_type": "code",
   "execution_count": 24,
   "id": "c35cfcd3-aebc-477c-a40c-4cac08775a5f",
   "metadata": {},
   "outputs": [
    {
     "data": {
      "text/html": [
       "<div>\n",
       "<style scoped>\n",
       "    .dataframe tbody tr th:only-of-type {\n",
       "        vertical-align: middle;\n",
       "    }\n",
       "\n",
       "    .dataframe tbody tr th {\n",
       "        vertical-align: top;\n",
       "    }\n",
       "\n",
       "    .dataframe thead th {\n",
       "        text-align: right;\n",
       "    }\n",
       "</style>\n",
       "<table border=\"1\" class=\"dataframe\">\n",
       "  <thead>\n",
       "    <tr style=\"text-align: right;\">\n",
       "      <th>SN</th>\n",
       "      <th>1</th>\n",
       "      <th>10</th>\n",
       "      <th>11</th>\n",
       "      <th>12</th>\n",
       "      <th>13</th>\n",
       "      <th>14</th>\n",
       "      <th>15</th>\n",
       "      <th>16</th>\n",
       "      <th>17</th>\n",
       "      <th>18</th>\n",
       "      <th>...</th>\n",
       "      <th>32</th>\n",
       "      <th>33</th>\n",
       "      <th>34</th>\n",
       "      <th>35</th>\n",
       "      <th>4</th>\n",
       "      <th>5</th>\n",
       "      <th>6</th>\n",
       "      <th>7</th>\n",
       "      <th>8</th>\n",
       "      <th>9</th>\n",
       "    </tr>\n",
       "    <tr>\n",
       "      <th>Site_ID</th>\n",
       "      <th></th>\n",
       "      <th></th>\n",
       "      <th></th>\n",
       "      <th></th>\n",
       "      <th></th>\n",
       "      <th></th>\n",
       "      <th></th>\n",
       "      <th></th>\n",
       "      <th></th>\n",
       "      <th></th>\n",
       "      <th></th>\n",
       "      <th></th>\n",
       "      <th></th>\n",
       "      <th></th>\n",
       "      <th></th>\n",
       "      <th></th>\n",
       "      <th></th>\n",
       "      <th></th>\n",
       "      <th></th>\n",
       "      <th></th>\n",
       "      <th></th>\n",
       "    </tr>\n",
       "  </thead>\n",
       "  <tbody>\n",
       "    <tr>\n",
       "      <th>ch1</th>\n",
       "      <td>0</td>\n",
       "      <td>0</td>\n",
       "      <td>0</td>\n",
       "      <td>0</td>\n",
       "      <td>0</td>\n",
       "      <td>0</td>\n",
       "      <td>0</td>\n",
       "      <td>0</td>\n",
       "      <td>0</td>\n",
       "      <td>0</td>\n",
       "      <td>...</td>\n",
       "      <td>0</td>\n",
       "      <td>0</td>\n",
       "      <td>0</td>\n",
       "      <td>0</td>\n",
       "      <td>0</td>\n",
       "      <td>0</td>\n",
       "      <td>0</td>\n",
       "      <td>0</td>\n",
       "      <td>0</td>\n",
       "      <td>0</td>\n",
       "    </tr>\n",
       "    <tr>\n",
       "      <th>ch10</th>\n",
       "      <td>0</td>\n",
       "      <td>0</td>\n",
       "      <td>0</td>\n",
       "      <td>0</td>\n",
       "      <td>0</td>\n",
       "      <td>0</td>\n",
       "      <td>1</td>\n",
       "      <td>0</td>\n",
       "      <td>0</td>\n",
       "      <td>0</td>\n",
       "      <td>...</td>\n",
       "      <td>0</td>\n",
       "      <td>0</td>\n",
       "      <td>0</td>\n",
       "      <td>0</td>\n",
       "      <td>1</td>\n",
       "      <td>1</td>\n",
       "      <td>0</td>\n",
       "      <td>0</td>\n",
       "      <td>1</td>\n",
       "      <td>1</td>\n",
       "    </tr>\n",
       "    <tr>\n",
       "      <th>ch11</th>\n",
       "      <td>0</td>\n",
       "      <td>0</td>\n",
       "      <td>0</td>\n",
       "      <td>0</td>\n",
       "      <td>0</td>\n",
       "      <td>0</td>\n",
       "      <td>0</td>\n",
       "      <td>0</td>\n",
       "      <td>0</td>\n",
       "      <td>0</td>\n",
       "      <td>...</td>\n",
       "      <td>0</td>\n",
       "      <td>0</td>\n",
       "      <td>0</td>\n",
       "      <td>0</td>\n",
       "      <td>0</td>\n",
       "      <td>0</td>\n",
       "      <td>0</td>\n",
       "      <td>0</td>\n",
       "      <td>0</td>\n",
       "      <td>0</td>\n",
       "    </tr>\n",
       "    <tr>\n",
       "      <th>ch12</th>\n",
       "      <td>0</td>\n",
       "      <td>0</td>\n",
       "      <td>0</td>\n",
       "      <td>0</td>\n",
       "      <td>0</td>\n",
       "      <td>0</td>\n",
       "      <td>0</td>\n",
       "      <td>0</td>\n",
       "      <td>0</td>\n",
       "      <td>0</td>\n",
       "      <td>...</td>\n",
       "      <td>0</td>\n",
       "      <td>0</td>\n",
       "      <td>0</td>\n",
       "      <td>0</td>\n",
       "      <td>0</td>\n",
       "      <td>0</td>\n",
       "      <td>0</td>\n",
       "      <td>0</td>\n",
       "      <td>0</td>\n",
       "      <td>0</td>\n",
       "    </tr>\n",
       "    <tr>\n",
       "      <th>ch13</th>\n",
       "      <td>0</td>\n",
       "      <td>1</td>\n",
       "      <td>0</td>\n",
       "      <td>0</td>\n",
       "      <td>0</td>\n",
       "      <td>0</td>\n",
       "      <td>0</td>\n",
       "      <td>0</td>\n",
       "      <td>0</td>\n",
       "      <td>0</td>\n",
       "      <td>...</td>\n",
       "      <td>0</td>\n",
       "      <td>0</td>\n",
       "      <td>0</td>\n",
       "      <td>0</td>\n",
       "      <td>0</td>\n",
       "      <td>0</td>\n",
       "      <td>1</td>\n",
       "      <td>0</td>\n",
       "      <td>0</td>\n",
       "      <td>0</td>\n",
       "    </tr>\n",
       "  </tbody>\n",
       "</table>\n",
       "<p>5 rows × 35 columns</p>\n",
       "</div>"
      ],
      "text/plain": [
       "SN       1  10  11  12  13  14  15  16  17  18  ...  32  33  34  35  4  5  6  \\\n",
       "Site_ID                                         ...                            \n",
       "ch1      0   0   0   0   0   0   0   0   0   0  ...   0   0   0   0  0  0  0   \n",
       "ch10     0   0   0   0   0   0   1   0   0   0  ...   0   0   0   0  1  1  0   \n",
       "ch11     0   0   0   0   0   0   0   0   0   0  ...   0   0   0   0  0  0  0   \n",
       "ch12     0   0   0   0   0   0   0   0   0   0  ...   0   0   0   0  0  0  0   \n",
       "ch13     0   1   0   0   0   0   0   0   0   0  ...   0   0   0   0  0  0  1   \n",
       "\n",
       "SN       7  8  9  \n",
       "Site_ID           \n",
       "ch1      0  0  0  \n",
       "ch10     0  1  1  \n",
       "ch11     0  0  0  \n",
       "ch12     0  0  0  \n",
       "ch13     0  0  0  \n",
       "\n",
       "[5 rows x 35 columns]"
      ]
     },
     "execution_count": 24,
     "metadata": {},
     "output_type": "execute_result"
    }
   ],
   "source": [
    "detection_history.head()"
   ]
  },
  {
   "cell_type": "code",
   "execution_count": 23,
   "id": "7a9fb34c-754e-45f4-a5ea-761c9faaf767",
   "metadata": {},
   "outputs": [],
   "source": [
    "# Sort columns (optional)\n",
    "detection_history = detection_history.reindex(sorted(detection_history.columns), axis=1)"
   ]
  },
  {
   "cell_type": "code",
   "execution_count": 26,
   "id": "ae6121d1-6460-4c96-9848-2eb1c1eae76d",
   "metadata": {},
   "outputs": [
    {
     "name": "stdout",
     "output_type": "stream",
     "text": [
      "✅ Detection history created and saved.\n"
     ]
    }
   ],
   "source": [
    "# Save\n",
    "detection_history.to_csv(os.path.join(main_dir, \"Tropical_Screech-Owl/detection_history_matrix.csv\"))\n",
    "\n",
    "print(\"✅ Detection history created and saved.\")\n"
   ]
  },
  {
   "cell_type": "markdown",
   "id": "7e0a0042-1013-4515-b102-bbb81ca04087",
   "metadata": {},
   "source": [
    "Need to add NA to every empty cell"
   ]
  },
  {
   "cell_type": "markdown",
   "id": "e00332c1-33c1-4a70-bdb9-116840b06757",
   "metadata": {},
   "source": [
    "I have manually removed extra zeros to match the number of surveyed nights per site, but maybe we can extract this data to do this automatically after creating the df right? Moreover I had to sort myself the survey nights and sites in the desired order. Survey nights should be treated as numeric to order them sequentially from 01 up to 35. The same with the values from column Site_ID, although they are composed of a letter and a number the letter choud be organized alphabetically and then use the number and sort it from lower to higher values"
   ]
  },
  {
   "cell_type": "code",
   "execution_count": null,
   "id": "d21532b3-4ea9-491b-9ffe-624b8422456b",
   "metadata": {},
   "outputs": [],
   "source": []
  }
 ],
 "metadata": {
  "kernelspec": {
   "display_name": "Python 3 (ipykernel)",
   "language": "python",
   "name": "python3"
  },
  "language_info": {
   "codemirror_mode": {
    "name": "ipython",
    "version": 3
   },
   "file_extension": ".py",
   "mimetype": "text/x-python",
   "name": "python",
   "nbconvert_exporter": "python",
   "pygments_lexer": "ipython3",
   "version": "3.9.17"
  }
 },
 "nbformat": 4,
 "nbformat_minor": 5
}
