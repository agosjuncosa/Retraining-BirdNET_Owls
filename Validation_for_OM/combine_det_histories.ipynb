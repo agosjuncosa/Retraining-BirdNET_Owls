{
 "cells": [
  {
   "cell_type": "markdown",
   "id": "85856b98-42cb-4316-bdee-91c32a272793",
   "metadata": {},
   "source": [
    "### Combine detection histories of different call types from the same sp"
   ]
  },
  {
   "cell_type": "code",
   "execution_count": 1,
   "id": "368a3d9a-a63e-486b-8047-c782de968ab8",
   "metadata": {},
   "outputs": [],
   "source": [
    "import pandas as pd\n",
    "import os"
   ]
  },
  {
   "cell_type": "code",
   "execution_count": 2,
   "id": "50aebd78-23ba-440c-a63e-edd3335ed0bb",
   "metadata": {},
   "outputs": [],
   "source": [
    "# Step 1: Load the data\n",
    "main_dir = \"/mnt/d/night_recordings_analysis/\"\n",
    "det_hist1 = os.path.join(main_dir, \"Rusty-barred Owl_call1/rubowl-call1_detection_history.csv\")\n",
    "det_hist2 = os.path.join(main_dir, \"Rusty-barred Owl_call/rubowl-call_detection_history.csv\")\n",
    "\n",
    "df1 = pd.read_csv(det_hist1, index_col=0)\n",
    "df2 = pd.read_csv(det_hist2, index_col=0)"
   ]
  },
  {
   "cell_type": "code",
   "execution_count": 3,
   "id": "b8da3357-7b8c-4821-959f-2b6bc19a8c64",
   "metadata": {},
   "outputs": [],
   "source": [
    "# Step 2: Create a copy to store results\n",
    "combined = df1.copy()"
   ]
  },
  {
   "cell_type": "code",
   "execution_count": 4,
   "id": "938981f0-6b89-4edf-b475-bc8279138eaf",
   "metadata": {},
   "outputs": [],
   "source": [
    "# Step 3: Iterate over each cell and apply rules\n",
    "for row in df1.index:\n",
    "    for col in df1.columns:\n",
    "        val1 = df1.at[row, col]\n",
    "        val2 = df2.at[row, col]\n",
    "        \n",
    "        # If both are empty, keep it empty\n",
    "        if pd.isna(val1) and pd.isna(val2):\n",
    "            combined.at[row, col] = ''\n",
    "        # If either is 1, result is 1\n",
    "        elif val1 == 1 or val2 == 1:\n",
    "            combined.at[row, col] = 1\n",
    "        # If both are 0 (or one is NaN and the other 0), result is 0\n",
    "        elif val1 == 0 and val2 == 0:\n",
    "            combined.at[row, col] = 0\n",
    "        # If one is blank and the other is 0, preserve blank\n",
    "        elif pd.isna(val1):\n",
    "            combined.at[row, col] = ''\n",
    "        elif pd.isna(val2):\n",
    "            combined.at[row, col] = ''\n"
   ]
  },
  {
   "cell_type": "code",
   "execution_count": 6,
   "id": "f5ee5f62-3aff-411f-ba93-1fa813235c21",
   "metadata": {},
   "outputs": [],
   "source": [
    "combined.to_csv(os.path.join(main_dir, \"combined_detection_history.csv\"))"
   ]
  }
 ],
 "metadata": {
  "kernelspec": {
   "display_name": "Python 3 (ipykernel)",
   "language": "python",
   "name": "python3"
  },
  "language_info": {
   "codemirror_mode": {
    "name": "ipython",
    "version": 3
   },
   "file_extension": ".py",
   "mimetype": "text/x-python",
   "name": "python",
   "nbconvert_exporter": "python",
   "pygments_lexer": "ipython3",
   "version": "3.9.17"
  }
 },
 "nbformat": 4,
 "nbformat_minor": 5
}
