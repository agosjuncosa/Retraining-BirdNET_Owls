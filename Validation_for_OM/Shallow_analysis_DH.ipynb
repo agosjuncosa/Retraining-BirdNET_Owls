{
 "cells": [
  {
   "cell_type": "markdown",
   "id": "f72c783e-ac61-434a-9cff-bcfa8772fe4d",
   "metadata": {},
   "source": [
    "## Detection histories summary for Tropical Screech-Owl & Ferruginous Pygmy-Owl"
   ]
  },
  {
   "cell_type": "code",
   "execution_count": 1,
   "id": "16d4427b-38c1-47b9-b365-730509e175dc",
   "metadata": {},
   "outputs": [],
   "source": [
    "import pandas as pd\n",
    "import os\n",
    "import re"
   ]
  },
  {
   "cell_type": "code",
   "execution_count": 2,
   "id": "b9642645-02ca-4940-9621-4d07e56268a7",
   "metadata": {},
   "outputs": [],
   "source": [
    "# Load the paths\n",
    "main_dir = \"/mnt/d/night_recordings_analysis/\"\n",
    "output_file_fepowl = os.path.join(main_dir, \"Ferruginous Pygmy-Owl/fepowl_detection_history.csv\")\n",
    "output_file_trsowl = os.path.join(main_dir, \"Tropical_Screech-Owl/detection_history_matrix.csv\")"
   ]
  },
  {
   "cell_type": "code",
   "execution_count": 3,
   "id": "ac1044fc-72fa-47d2-b463-ad2a1907aea5",
   "metadata": {},
   "outputs": [],
   "source": [
    "# Load detection history matrix\n",
    "df_fepowl = pd.read_csv(output_file_fepowl, index_col=0)\n",
    "df_trsowl = pd.read_csv(output_file_trsowl, index_col=0)"
   ]
  },
  {
   "cell_type": "markdown",
   "id": "7d1971a2-8acf-40ce-af1c-08b3f6a42b4a",
   "metadata": {},
   "source": [
    "### Count the number of sites with at least one detection"
   ]
  },
  {
   "cell_type": "code",
   "execution_count": 5,
   "id": "c9e15c55-b706-4539-abaa-52c709039505",
   "metadata": {},
   "outputs": [
    {
     "name": "stdout",
     "output_type": "stream",
     "text": [
      "Number of sites with at least one detection for Ferruginous Pygmy-Owl: 17\n",
      "Number of sites with at least one detection for Tropical Screech-Owl: 53\n"
     ]
    }
   ],
   "source": [
    "# Convert all values to numeric (just in case)\n",
    "df_numeric_fepowl = df_fepowl.apply(pd.to_numeric, errors='coerce')\n",
    "df_numeric_trsowl = df_trsowl.apply(pd.to_numeric, errors='coerce')\n",
    "\n",
    "\n",
    "# Sum rows → any row (site) with at least one 1\n",
    "detections_per_site_fepowl = (df_numeric_fepowl == 1).any(axis=1)\n",
    "num_sites_with_detections_fepowl = detections_per_site_fepowl.sum()\n",
    "\n",
    "detections_per_site_trsowl = (df_numeric_trsowl == 1).any(axis=1)\n",
    "num_sites_with_detections_trsowl = detections_per_site_trsowl.sum()\n",
    "\n",
    "print(f\"Number of sites with at least one detection for Ferruginous Pygmy-Owl: {num_sites_with_detections_fepowl}\")\n",
    "print(f\"Number of sites with at least one detection for Tropical Screech-Owl: {num_sites_with_detections_trsowl}\")"
   ]
  },
  {
   "cell_type": "markdown",
   "id": "4a013e14-8660-4422-9a19-679c0417a886",
   "metadata": {},
   "source": [
    "### Partition detecions across habitat types"
   ]
  },
  {
   "cell_type": "code",
   "execution_count": 6,
   "id": "e530faac-88f2-4d72-a317-6774cf1f3826",
   "metadata": {},
   "outputs": [],
   "source": [
    "# Add habitat type column\n",
    "# Extract habitat type: CH, M, or P (case-insensitive)\n",
    "habitat_types_fepowl = df_numeric_fepowl.index.to_series().str.extract(r'^([a-zA-Z]+)', expand=False).str.upper() #Gets letters from the start of each site name\n",
    "\n",
    "habitat_types_trsowl = df_numeric_trsowl.index.to_series().str.extract(r'^([a-zA-Z]+)', expand=False).str.upper()\n",
    "\n",
    "# Add this as a column\n",
    "df_numeric_fepowl['Habitat'] = habitat_types_fepowl\n",
    "df_numeric_trsowl['Habitat'] = habitat_types_trsowl"
   ]
  },
  {
   "cell_type": "code",
   "execution_count": 9,
   "id": "c4f12740-143f-4d56-97fd-c4c2a1537367",
   "metadata": {},
   "outputs": [
    {
     "name": "stdout",
     "output_type": "stream",
     "text": [
      "Number of sites with ≥1 detection by habitat: Ferruginous Pygmy-Owl\n",
      "Habitat\n",
      "CH     3\n",
      "M     11\n",
      "P      3\n",
      "Name: Detected, dtype: int64\n",
      "Number of sites with ≥1 detection by habitat: Tropical Screech-Owl\n",
      "Habitat\n",
      "CH    25\n",
      "M     10\n",
      "P     18\n",
      "Name: Detected, dtype: int64\n"
     ]
    }
   ],
   "source": [
    "# Boolean: True for sites with at least one detection\n",
    "has_detection_fepowl = (df_numeric_fepowl.drop(columns='Habitat') == 1).any(axis=1)\n",
    "has_detection_trsowl = (df_numeric_trsowl.drop(columns='Habitat') == 1).any(axis=1)\n",
    "\n",
    "# Combine into a DataFrame\n",
    "df_numeric_fepowl['Detected'] = has_detection_fepowl\n",
    "df_numeric_trsowl['Detected'] = has_detection_trsowl\n",
    "\n",
    "# Group by habitat and sum the True values\n",
    "summary_by_habitat_fepowl = df_numeric_fepowl.groupby('Habitat')['Detected'].sum()\n",
    "summary_by_habitat_trsowl = df_numeric_trsowl.groupby('Habitat')['Detected'].sum()\n",
    "\n",
    "print(\"Number of sites with ≥1 detection by habitat: Ferruginous Pygmy-Owl\")\n",
    "print(summary_by_habitat_fepowl)\n",
    "\n",
    "\n",
    "print(\"Number of sites with ≥1 detection by habitat: Tropical Screech-Owl\")\n",
    "print(summary_by_habitat_trsowl)\n"
   ]
  },
  {
   "cell_type": "code",
   "execution_count": 11,
   "id": "d5da85bc-f68b-4915-b2bd-2dd7ef15f274",
   "metadata": {},
   "outputs": [
    {
     "data": {
      "text/html": [
       "<div>\n",
       "<style scoped>\n",
       "    .dataframe tbody tr th:only-of-type {\n",
       "        vertical-align: middle;\n",
       "    }\n",
       "\n",
       "    .dataframe tbody tr th {\n",
       "        vertical-align: top;\n",
       "    }\n",
       "\n",
       "    .dataframe thead th {\n",
       "        text-align: right;\n",
       "    }\n",
       "</style>\n",
       "<table border=\"1\" class=\"dataframe\">\n",
       "  <thead>\n",
       "    <tr style=\"text-align: right;\">\n",
       "      <th></th>\n",
       "      <th>Ferruginous Pygmy-Owl</th>\n",
       "      <th>Tropical Screech-Owl</th>\n",
       "    </tr>\n",
       "    <tr>\n",
       "      <th>Habitat</th>\n",
       "      <th></th>\n",
       "      <th></th>\n",
       "    </tr>\n",
       "  </thead>\n",
       "  <tbody>\n",
       "    <tr>\n",
       "      <th>CH</th>\n",
       "      <td>3</td>\n",
       "      <td>25</td>\n",
       "    </tr>\n",
       "    <tr>\n",
       "      <th>M</th>\n",
       "      <td>11</td>\n",
       "      <td>10</td>\n",
       "    </tr>\n",
       "    <tr>\n",
       "      <th>P</th>\n",
       "      <td>3</td>\n",
       "      <td>18</td>\n",
       "    </tr>\n",
       "    <tr>\n",
       "      <th>Total</th>\n",
       "      <td>17</td>\n",
       "      <td>53</td>\n",
       "    </tr>\n",
       "  </tbody>\n",
       "</table>\n",
       "</div>"
      ],
      "text/plain": [
       "         Ferruginous Pygmy-Owl  Tropical Screech-Owl\n",
       "Habitat                                             \n",
       "CH                           3                    25\n",
       "M                           11                    10\n",
       "P                            3                    18\n",
       "Total                       17                    53"
      ]
     },
     "metadata": {},
     "output_type": "display_data"
    }
   ],
   "source": [
    "# Combine habitat-wise summaries into one DataFrame\n",
    "summary_combined = pd.DataFrame({\n",
    "    \"Ferruginous Pygmy-Owl\": summary_by_habitat_fepowl,\n",
    "    \"Tropical Screech-Owl\": summary_by_habitat_trsowl,\n",
    "}).fillna(0).astype(int)\n",
    "\n",
    "summary_combined.index.name = \"Habitat\"\n",
    "\n",
    "summary_combined.loc[\"Total\"] = summary_combined.sum()\n",
    "\n",
    "from IPython.display import display\n",
    "\n",
    "display(summary_combined)"
   ]
  },
  {
   "cell_type": "code",
   "execution_count": 13,
   "id": "da019b26-bda2-4d81-acf2-76fcc9ab0e84",
   "metadata": {},
   "outputs": [],
   "source": [
    "#main_dir = \"/mnt/d/night_recordings_analysis/\"\n",
    "summary_combined.to_csv(os.path.join(main_dir,\"detections_summary.csv\"))"
   ]
  }
 ],
 "metadata": {
  "kernelspec": {
   "display_name": "Python 3 (ipykernel)",
   "language": "python",
   "name": "python3"
  },
  "language_info": {
   "codemirror_mode": {
    "name": "ipython",
    "version": 3
   },
   "file_extension": ".py",
   "mimetype": "text/x-python",
   "name": "python",
   "nbconvert_exporter": "python",
   "pygments_lexer": "ipython3",
   "version": "3.9.17"
  }
 },
 "nbformat": 4,
 "nbformat_minor": 5
}
