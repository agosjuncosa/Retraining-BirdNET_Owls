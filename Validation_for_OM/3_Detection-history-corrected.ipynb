{
 "cells": [
  {
   "cell_type": "code",
   "execution_count": null,
   "id": "87e7ab8c-3134-476d-894a-c2511efd3910",
   "metadata": {},
   "outputs": [],
   "source": []
  },
  {
   "cell_type": "code",
   "execution_count": 9,
   "id": "b7c7cd07-56ae-4d31-b90c-ea0f92302d17",
   "metadata": {},
   "outputs": [],
   "source": [
    "import pandas as pd\n",
    "from pathlib import Path\n",
    "import re\n",
    "import os"
   ]
  },
  {
   "cell_type": "code",
   "execution_count": 31,
   "id": "91cb9a9e-d82c-4582-8b62-f076b7fc78a6",
   "metadata": {},
   "outputs": [],
   "source": [
    "# === Paths ===\n",
    "main_dir = \"/mnt/d/night_recordings_analysis/\"\n",
    "validation_path = os.path.join(main_dir, \"Barn Owl/brnowl_Validation.txt\")\n",
    "template_path = os.path.join(main_dir, \"detection_history_template.csv\")\n",
    "output_path = os.path.join(main_dir, \"Barn Owl/brnowl_detection_history.csv\")"
   ]
  },
  {
   "cell_type": "code",
   "execution_count": 32,
   "id": "f3f50018-f4c4-4779-ad4a-d61b0af08f6f",
   "metadata": {},
   "outputs": [],
   "source": [
    "# Load template and fix index & column formatting\n",
    "template = pd.read_csv(template_path)\n",
    "template.columns = [str(col).strip() for col in template.columns]\n",
    "template['site_id'] = template['site_id'].astype(str).str.strip().str.lower()\n",
    "template.set_index('site_id', inplace=True)\n",
    "\n",
    "# Ensure column names for survey nights are strings\n",
    "template.columns = template.columns.astype(str)\n"
   ]
  },
  {
   "cell_type": "code",
   "execution_count": 33,
   "id": "d419183d-d115-4d51-827f-15f72b63a18b",
   "metadata": {},
   "outputs": [],
   "source": [
    "# === Step 2: Load validation file ===\n",
    "val_df = pd.read_csv(validation_path, sep=\"\\t\")"
   ]
  },
  {
   "cell_type": "code",
   "execution_count": 34,
   "id": "4c29dee9-f91e-4160-9d6f-dfdca308d1bf",
   "metadata": {},
   "outputs": [],
   "source": [
    "# === Step 3: Parse site and sn from filename like: 0.0059_54_m47_sn5.wav\n",
    "def parse_site_sn(filename):\n",
    "    match = re.search(r'_(ch|m|p)\\d+_sn(\\d+)', filename.lower())\n",
    "    if match:\n",
    "        site = match.group(0).split('_')[1]    # e.g., ch32\n",
    "        sn = match.group(0).split('_')[2][2:]  # e.g., sn14 → 14\n",
    "        return pd.Series([site.lower(), sn.lstrip(\"0\")])  # site = lowercase, sn = \"14\"\n",
    "    else:\n",
    "        return pd.Series([None, None])\n",
    "\n",
    "val_df[['site_id', 'SN']] = val_df['Begin File'].apply(parse_site_sn)"
   ]
  },
  {
   "cell_type": "code",
   "execution_count": 35,
   "id": "3f02fcd8-c271-4427-af13-6ae8ddbbb33d",
   "metadata": {},
   "outputs": [],
   "source": [
    "# Ensure types match\n",
    "val_df['site_id'] = val_df['site_id'].astype(str).str.strip().str.lower()\n",
    "val_df['SN'] = val_df['SN'].astype(str).str.strip()"
   ]
  },
  {
   "cell_type": "code",
   "execution_count": 36,
   "id": "7603f208-5a0c-4ae4-8baa-85df151d39fc",
   "metadata": {},
   "outputs": [],
   "source": [
    "# Filter only Eval == 1\n",
    "val_df = val_df[val_df['Eval'] == 1]"
   ]
  },
  {
   "cell_type": "code",
   "execution_count": 37,
   "id": "1c93956b-aecd-4f03-b6e3-cd871a87a464",
   "metadata": {},
   "outputs": [
    {
     "name": "stdout",
     "output_type": "stream",
     "text": [
      "✅ All site/SN pairs successfully updated.\n",
      "✅ Detection history saved to: /mnt/d/night_recordings_analysis/Barn Owl/brnowl_detection_history.csv\n"
     ]
    }
   ],
   "source": [
    "# === Step 4: Update template ===\n",
    "missing = []\n",
    "\n",
    "for _, row in val_df.iterrows():\n",
    "    site = row['site_id']\n",
    "    sn = row['SN']\n",
    "    try:\n",
    "        if site in template.index and sn in template.columns:\n",
    "            if pd.notna(template.loc[site, sn]):  # Don't overwrite blanks\n",
    "                template.loc[site, sn] = 1\n",
    "        else:\n",
    "            missing.append((site, sn))\n",
    "    except Exception as e:\n",
    "        missing.append((site, sn))\n",
    "\n",
    "# Optional: report missing\n",
    "if missing:\n",
    "    print(\"⚠️ The following site/SN pairs were not found in the template:\")\n",
    "    for site, sn in missing:\n",
    "        print(f\"  → site={site}, sn={sn}\")\n",
    "else:\n",
    "    print(\"✅ All site/SN pairs successfully updated.\")\n",
    "\n",
    "# === Step 5: Save updated matrix\n",
    "template.reset_index().to_csv(output_path, index=False)\n",
    "print(f\"✅ Detection history saved to: {output_path}\")"
   ]
  }
 ],
 "metadata": {
  "kernelspec": {
   "display_name": "Python 3 (ipykernel)",
   "language": "python",
   "name": "python3"
  },
  "language_info": {
   "codemirror_mode": {
    "name": "ipython",
    "version": 3
   },
   "file_extension": ".py",
   "mimetype": "text/x-python",
   "name": "python",
   "nbconvert_exporter": "python",
   "pygments_lexer": "ipython3",
   "version": "3.9.17"
  }
 },
 "nbformat": 4,
 "nbformat_minor": 5
}
