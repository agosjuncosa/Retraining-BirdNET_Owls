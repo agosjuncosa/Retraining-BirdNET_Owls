{
 "cells": [
  {
   "cell_type": "markdown",
   "id": "b0b46845-fdfd-4d12-ad85-6564b6640955",
   "metadata": {},
   "source": [
    "### Count unique source files"
   ]
  },
  {
   "cell_type": "code",
   "execution_count": 79,
   "id": "a8041541-c931-42ec-a528-cca86709cbef",
   "metadata": {},
   "outputs": [
    {
     "name": "stdout",
     "output_type": "stream",
     "text": [
      "Number of different source files: 22\n"
     ]
    }
   ],
   "source": [
    "import os # import os module which provides a way of interacting with the operating system, \n",
    "# allowing me to access and manipulate the file system\n",
    "\n",
    "#The purpose of this function is to count the number of unique source files \n",
    "# in a given directory based on the filenames.\n",
    "\n",
    "def get_unique_sources(directory):\n",
    "    unique_sources = set() #This line initializes an empty set called unique_sources. \n",
    "    # A set is a collection type in Python that only stores unique items. It automatically handles duplicates.\n",
    "\n",
    "#loop that iterates over every file in the specified directory\n",
    "    for filename in os.listdir(directory):\n",
    "    # os.listdir(directory) function returns a list of all the files and subdirectories in the given directory    \n",
    "        if filename.lower().endswith('.wav'):\n",
    "            # Split the filename into parts based on underscores\n",
    "            parts = filename.split('_')\n",
    "            \n",
    "            # Ensure there are enough parts to access the required elements\n",
    "            if len(parts) > 1:\n",
    "                # Extract the relevant parts (3rd, 4th, 5th, and 6th)\n",
    "                source_id = f\"{parts[0]}_{parts[1]}\"#_{parts[2]}\"#_{parts[3]}\"\n",
    "                # creates a string source_id that concatenates the parts of the filename that follow the second \n",
    "                # underscore. The f\"{...}\" syntax is called an f-string, which allows you to embed expressions \n",
    "                #inside string literals. The variables inside the curly braces {} are evaluated and inserted into the\n",
    "                # string. Parts 2 here refer two the part with index 2, considering elements start being index with 0.\n",
    "                # Add the source identifier to the set\n",
    "                unique_sources.add(source_id)\n",
    "                #This line adds the source_id to the unique_sources set. Since sets only store unique items, \n",
    "                #any duplicate source_id values will automatically be ignored.\n",
    "            else:\n",
    "                print(f\"Skipping file with unexpected format: {filename}\")\n",
    "                #This line starts an else block, which is executed if the if condition (len(parts) > 2) is not met.\n",
    "    # Return the number of unique sources\n",
    "    return len(unique_sources)\n",
    "    # The len() function returns the number of elements in the unique_sources set, which corresponds to the number of\n",
    "    # unique source_id values\n",
    "# Example usage:\n",
    "directory_path = \"/mnt/d/retraining_BirdNET_2025/model_train/train_set/Athene cunicularia_Burrowing Owl_call/\"\n",
    "num_unique_sources = get_unique_sources(directory_path)\n",
    "print(f\"Number of different source files: {num_unique_sources}\")\n"
   ]
  },
  {
   "cell_type": "code",
   "execution_count": 11,
   "id": "a9aa88ef-e05f-4cb0-ae0b-b3bacbf84171",
   "metadata": {},
   "outputs": [
    {
     "name": "stdout",
     "output_type": "stream",
     "text": [
      "Number of unique source files: 96\n"
     ]
    }
   ],
   "source": [
    "import os\n",
    "\n",
    "def count_unique_sources(directory):\n",
    "    unique_names = set()\n",
    "\n",
    "    for filename in os.listdir(directory):\n",
    "        if filename.endswith('.wav'):\n",
    "            # Split the filename before the last underscore\n",
    "            unique_part = '_'.join(filename.split('_')[:-2])\n",
    "            unique_names.add(unique_part)\n",
    "    \n",
    "    return len(unique_names)\n",
    "\n",
    "# Specify your directory path here\n",
    "directory_path = \"/mnt/d/retraining_BirdNET_2025/model_train/train_set/Other/\"\n",
    "\n",
    "# Call the function and print the result\n",
    "unique_count = count_unique_sources(directory_path)\n",
    "print(f'Number of unique source files: {unique_count}')\n"
   ]
  },
  {
   "cell_type": "code",
   "execution_count": 12,
   "id": "39f5bda7-8b82-44db-9a0d-697f21319fcd",
   "metadata": {},
   "outputs": [
    {
     "ename": "FileNotFoundError",
     "evalue": "[Errno 2] No such file or directory: '/mnt/c/Users/agos-/OneDrive/Escritorio/ESCRITORIO/Doctorado/ANALISIS_DOCTORADO/procesamiento_audios/retraining_BirdNET/model_train/1st_model/Other/'",
     "output_type": "error",
     "traceback": [
      "\u001b[0;31m---------------------------------------------------------------------------\u001b[0m",
      "\u001b[0;31mFileNotFoundError\u001b[0m                         Traceback (most recent call last)",
      "Cell \u001b[0;32mIn[12], line 14\u001b[0m\n\u001b[1;32m     11\u001b[0m directory_path \u001b[38;5;241m=\u001b[39m \u001b[38;5;124m'\u001b[39m\u001b[38;5;124m/mnt/c/Users/agos-/OneDrive/Escritorio/ESCRITORIO/Doctorado/ANALISIS_DOCTORADO/procesamiento_audios/retraining_BirdNET/model_train/1st_model/Other/\u001b[39m\u001b[38;5;124m'\u001b[39m\n\u001b[1;32m     13\u001b[0m \u001b[38;5;66;03m# Call the function and print the result\u001b[39;00m\n\u001b[0;32m---> 14\u001b[0m xc_count \u001b[38;5;241m=\u001b[39m \u001b[43mcount_files_starting_with_xc\u001b[49m\u001b[43m(\u001b[49m\u001b[43mdirectory_path\u001b[49m\u001b[43m)\u001b[49m\n\u001b[1;32m     15\u001b[0m \u001b[38;5;28mprint\u001b[39m(\u001b[38;5;124mf\u001b[39m\u001b[38;5;124m'\u001b[39m\u001b[38;5;124mNumber of files starting with \u001b[39m\u001b[38;5;124m\"\u001b[39m\u001b[38;5;124mXC_\u001b[39m\u001b[38;5;124m\"\u001b[39m\u001b[38;5;124m: \u001b[39m\u001b[38;5;132;01m{\u001b[39;00mxc_count\u001b[38;5;132;01m}\u001b[39;00m\u001b[38;5;124m'\u001b[39m)\n",
      "Cell \u001b[0;32mIn[12], line 4\u001b[0m, in \u001b[0;36mcount_files_starting_with_xc\u001b[0;34m(directory)\u001b[0m\n\u001b[1;32m      1\u001b[0m \u001b[38;5;28;01mdef\u001b[39;00m \u001b[38;5;21mcount_files_starting_with_xc\u001b[39m(directory):\n\u001b[1;32m      2\u001b[0m     count \u001b[38;5;241m=\u001b[39m \u001b[38;5;241m0\u001b[39m\n\u001b[0;32m----> 4\u001b[0m     \u001b[38;5;28;01mfor\u001b[39;00m filename \u001b[38;5;129;01min\u001b[39;00m \u001b[43mos\u001b[49m\u001b[38;5;241;43m.\u001b[39;49m\u001b[43mlistdir\u001b[49m\u001b[43m(\u001b[49m\u001b[43mdirectory\u001b[49m\u001b[43m)\u001b[49m:\n\u001b[1;32m      5\u001b[0m         \u001b[38;5;28;01mif\u001b[39;00m filename\u001b[38;5;241m.\u001b[39mstartswith(\u001b[38;5;124m'\u001b[39m\u001b[38;5;124mXC_\u001b[39m\u001b[38;5;124m'\u001b[39m):\n\u001b[1;32m      6\u001b[0m             count \u001b[38;5;241m+\u001b[39m\u001b[38;5;241m=\u001b[39m \u001b[38;5;241m1\u001b[39m\n",
      "\u001b[0;31mFileNotFoundError\u001b[0m: [Errno 2] No such file or directory: '/mnt/c/Users/agos-/OneDrive/Escritorio/ESCRITORIO/Doctorado/ANALISIS_DOCTORADO/procesamiento_audios/retraining_BirdNET/model_train/1st_model/Other/'"
     ]
    }
   ],
   "source": [
    "\n",
    "def count_files_starting_with_xc(directory):\n",
    "    count = 0\n",
    "\n",
    "    for filename in os.listdir(directory):\n",
    "        if filename.startswith('XC_'):\n",
    "            count += 1\n",
    "    \n",
    "    return count\n",
    "\n",
    "# Specify your directory path here\n",
    "directory_path = '/mnt/c/Users/agos-/OneDrive/Escritorio/ESCRITORIO/Doctorado/ANALISIS_DOCTORADO/procesamiento_audios/retraining_BirdNET/model_train/1st_model/Other/'\n",
    "\n",
    "# Call the function and print the result\n",
    "xc_count = count_files_starting_with_xc(directory_path)\n",
    "print(f'Number of files starting with \"XC_\": {xc_count}')\n"
   ]
  },
  {
   "cell_type": "raw",
   "id": "5df245cf-5620-4ee4-96d4-bf1842b3eac6",
   "metadata": {},
   "source": [
    "To count all unique XC files based on the unique number between the first and second underscore in their names, you can use the following script"
   ]
  },
  {
   "cell_type": "code",
   "execution_count": 80,
   "id": "c82d0f35-f263-4bf7-a7fc-53207db3271b",
   "metadata": {},
   "outputs": [
    {
     "name": "stdout",
     "output_type": "stream",
     "text": [
      "Number of unique XC files: 0\n"
     ]
    }
   ],
   "source": [
    "import os\n",
    "\n",
    "def count_unique_xc_files(directory):\n",
    "    unique_numbers = set()\n",
    "\n",
    "    for filename in os.listdir(directory):\n",
    "        if filename.startswith('XC_'):\n",
    "            parts = filename.split('_')\n",
    "            if len(parts) > 2:  # Ensure there are enough parts to extract the unique number\n",
    "                unique_number = parts[1]\n",
    "                unique_numbers.add(unique_number)\n",
    "    \n",
    "    return len(unique_numbers)\n",
    "\n",
    "# Specify your directory path here\n",
    "directory_path = \"/mnt/d/retraining_BirdNET_2025/model_train/train_set/Athene cunicularia_Burrowing Owl_call/\"\n",
    "\n",
    "# Call the function and print the result\n",
    "unique_xc_count = count_unique_xc_files(directory_path)\n",
    "print(f'Number of unique XC files: {unique_xc_count}')\n"
   ]
  },
  {
   "cell_type": "raw",
   "id": "1a6e3b87-914f-4b7a-8a3e-371ca7d5db5b",
   "metadata": {},
   "source": [
    "Count all the other files that do not start with \"XC\" and have unique IDs, where the unique part is constructed from parts before the first underscore, between the first and second underscores, and after the second underscore."
   ]
  },
  {
   "cell_type": "code",
   "execution_count": 36,
   "id": "e2bb984a-a339-48a8-afee-fab5378c7a84",
   "metadata": {},
   "outputs": [
    {
     "name": "stdout",
     "output_type": "stream",
     "text": [
      "Number of unique non-XC files: 77\n"
     ]
    }
   ],
   "source": [
    "import os\n",
    "\n",
    "def count_unique_non_xc_files(directory):\n",
    "    unique_ids = set()\n",
    "\n",
    "    for filename in os.listdir(directory):\n",
    "        if not filename.startswith('XC_'):\n",
    "            parts = filename.split('_')\n",
    "            if len(parts) > 4:  # Ensure there are enough parts to construct the unique ID\n",
    "                unique_id = f\"{parts[0]}_{parts[1]}_{parts[3]}_{parts[4]}\"\n",
    "                unique_ids.add(unique_id)\n",
    "    \n",
    "    return len(unique_ids)\n",
    "\n",
    "# Specify your directory path here\n",
    "directory_path = \"/mnt/d/retraining_BirdNET_2025/model_train/train_set/Noise/\"\n",
    "\n",
    "# Call the function and print the result\n",
    "unique_non_xc_count = count_unique_non_xc_files(directory_path)\n",
    "print(f'Number of unique non-XC files: {unique_non_xc_count}')\n"
   ]
  },
  {
   "cell_type": "raw",
   "id": "7e9b9816-db32-4f66-8de9-334172c0764e",
   "metadata": {},
   "source": [
    "count the total number of unique file names that share the first four parts"
   ]
  },
  {
   "cell_type": "code",
   "execution_count": 34,
   "id": "83579328-bd24-4409-a57f-6c6d1b9461f7",
   "metadata": {},
   "outputs": [
    {
     "name": "stdout",
     "output_type": "stream",
     "text": [
      "20220909_034000\n",
      "20220919_050000\n",
      "20220909_210000\n",
      "20220909_064000\n",
      "20220909_201000\n",
      "20220910_204000\n",
      "20220909_200000\n",
      "20220909_185000\n",
      "20220909_180000\n",
      "20220909_051000\n",
      "20220909_213000\n",
      "20220909_050000\n",
      "20220909_195000\n",
      "20220715_034000\n",
      "20220917_011000\n",
      "20220712_032000\n",
      "M7_20220713\n",
      "ARD3_CO17\n",
      "20220711_202000\n",
      "20220713_051000\n",
      "20220909_070000\n",
      "20220712_003000\n",
      "20220909_193000\n",
      "20220909_032000\n",
      "20220714_032000\n",
      "20220922_052000\n",
      "20220714_070000\n",
      "20220712_000000\n",
      "20220909_222000\n",
      "20220909_063000\n",
      "20220909_015000\n",
      "M39_SN03\n",
      "20220909_041000\n",
      "20220909_040000\n",
      "20220910_051000\n",
      "20220910_194000\n",
      "20220910_060000\n",
      "20220715_234000\n",
      "20220910_042000\n",
      "20220910_043000\n",
      "20220919_064000\n",
      "20220910_041000\n",
      "20220909_024000\n",
      "ARD3_BO07\n",
      "20220713_061000\n",
      "20220716_202000\n",
      "20220909_182000\n",
      "20220910_014000\n",
      "20220910_033000\n",
      "20220909_205000\n",
      "20220714_051000\n",
      "20220910_054000\n",
      "20220909_035000\n",
      "M31_SN09\n",
      "20220909_060000\n",
      "20220716_170000\n",
      "20220909_194000\n",
      "20220910_005000\n",
      "20220910_193000\n",
      "M31_SN01\n",
      "20220910_050000\n",
      "20220713_054000\n",
      "20220909_044000\n",
      "20220909_203000\n",
      "20220909_045000\n",
      "20220715_232000\n",
      "20220910_011000\n",
      "20220909_052000\n",
      "20220713_055000\n",
      "M39_SN01\n",
      "20220909_030000\n",
      "20220711_235000\n",
      "20220909_231000\n",
      "20220909_223000\n",
      "20220909_192000\n",
      "20220909_031000\n",
      "FB_AM3020211021\n",
      "20220909_043000\n",
      "20220909_183000\n",
      "20220917_014000\n",
      "20220909_011000\n",
      "20220910_003000\n",
      "FB_AM3020211022\n",
      "20220909_065000\n",
      "20220909_033000\n",
      "20220909_061000\n",
      "Total number of unique file names: 86\n"
     ]
    }
   ],
   "source": [
    "import os\n",
    "from collections import Counter\n",
    "\n",
    "def count_unique_files(directory):\n",
    "    # Step 2: List files in the directory\n",
    "    files = os.listdir(directory)\n",
    "    \n",
    "    # Step 3: Extract the first four parts of the file names\n",
    "    key_parts = ['_'.join(f.split('_')[:2]) for f in files if '_' in f]\n",
    "    \n",
    "    # Step 4: Count occurrences of these key parts\n",
    "    counter = Counter(key_parts)\n",
    "    \n",
    "    # Step 5: Get the unique file names based on the first four parts\n",
    "    unique_files = set(key_parts)\n",
    "    \n",
    "    # Calculate the total number of unique file names\n",
    "    total_unique_files = len(unique_files)\n",
    "    \n",
    "    return unique_files, total_unique_files\n",
    "\n",
    "# Example usage:\n",
    "directory_path = \"/mnt/d/retraining_BirdNET_2025/model_train/train_set/Noise/\"# Replace with the path to your directory\n",
    "unique_files, total_unique_files = count_unique_files(directory_path)\n",
    "\n",
    "# Print the unique file names\n",
    "for unique_file in unique_files:\n",
    "    print(unique_file)\n",
    "\n",
    "# Print the total number of unique file names\n",
    "print(f\"Total number of unique file names: {total_unique_files}\")\n",
    "\n"
   ]
  }
 ],
 "metadata": {
  "kernelspec": {
   "display_name": "Python 3 (ipykernel)",
   "language": "python",
   "name": "python3"
  },
  "language_info": {
   "codemirror_mode": {
    "name": "ipython",
    "version": 3
   },
   "file_extension": ".py",
   "mimetype": "text/x-python",
   "name": "python",
   "nbconvert_exporter": "python",
   "pygments_lexer": "ipython3",
   "version": "3.9.17"
  }
 },
 "nbformat": 4,
 "nbformat_minor": 5
}
