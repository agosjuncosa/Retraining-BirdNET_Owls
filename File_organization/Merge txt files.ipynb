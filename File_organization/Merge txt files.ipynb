{
 "cells": [
  {
   "cell_type": "markdown",
   "id": "8b01023c-bd08-4e77-a2fe-ebd52d6b8985",
   "metadata": {},
   "source": [
    "### Merge two .txt files"
   ]
  },
  {
   "cell_type": "code",
   "execution_count": 1,
   "id": "610c2270-e147-4c8e-9281-20c6f8fa1bd5",
   "metadata": {},
   "outputs": [
    {
     "name": "stdout",
     "output_type": "stream",
     "text": [
      "Merged file saved at: /mnt/d/retraining_BirdNET_2025/iterative_training/input20%_1-2_WAV_file_list_merged.txt\n"
     ]
    }
   ],
   "source": [
    "from pathlib import Path\n",
    "\n",
    "# Define input paths\n",
    "file1 = Path(\"/mnt/d/retraining_BirdNET_2025/iterative_training/input_20%_1_WAV_file_list.txt\")\n",
    "file2 = Path(\"/mnt/d/retraining_BirdNET_2025/iterative_training/input_20%_2_WAV_file_list.txt\")\n",
    "\n",
    "# Define output path\n",
    "output_file = Path(\"/mnt/d/retraining_BirdNET_2025/iterative_training/input20%_1-2_WAV_file_list_merged.txt\")\n",
    "\n",
    "# Use a set to avoid duplicate paths\n",
    "all_paths = set()\n",
    "\n",
    "# Read and store all paths from file 1\n",
    "with file1.open(\"r\") as f:\n",
    "    for line in f:\n",
    "        all_paths.add(line.strip())\n",
    "\n",
    "# Read and store all paths from file 2\n",
    "with file2.open(\"r\") as f:\n",
    "    for line in f:\n",
    "        all_paths.add(line.strip())\n",
    "\n",
    "# Write the merged list to a new file\n",
    "with output_file.open(\"w\") as f:\n",
    "    for path in sorted(all_paths):  # optional: sort for easier reading\n",
    "        f.write(f\"{path}\\n\")\n",
    "\n",
    "print(f\"Merged file saved at: {output_file}\")\n"
   ]
  }
 ],
 "metadata": {
  "kernelspec": {
   "display_name": "Python 3 (ipykernel)",
   "language": "python",
   "name": "python3"
  },
  "language_info": {
   "codemirror_mode": {
    "name": "ipython",
    "version": 3
   },
   "file_extension": ".py",
   "mimetype": "text/x-python",
   "name": "python",
   "nbconvert_exporter": "python",
   "pygments_lexer": "ipython3",
   "version": "3.9.17"
  }
 },
 "nbformat": 4,
 "nbformat_minor": 5
}
