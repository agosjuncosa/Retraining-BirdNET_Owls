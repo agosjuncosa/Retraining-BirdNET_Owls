{
 "cells": [
  {
   "cell_type": "markdown",
   "id": "5a62ce6d-061d-4829-8feb-e89e135a8e4b",
   "metadata": {},
   "source": [
    "### Match already validated files with new files and update annotations"
   ]
  },
  {
   "cell_type": "markdown",
   "id": "b042945f-5285-40fd-a3af-7eef929111e0",
   "metadata": {},
   "source": [
    "I have made a mistake while analyzing the data and I have used the wrong parameters such as sensitivity and threshold. Sensitivity used was 0.5, lower to what I should have used which causes less target predictions and also more polarized scores, lower scoring clips will have even lower scores and higher scoring clips will have even higher scores. The threshold used was of 0.1 meaning the 10% which also caused to have fewer detections and some classes were not represented at all. That is why I need to reanalyze my data using the correct parameters of sensitivity 1.0 and threshold of 0.01. But as previously I have already validated the top scoring clips and those are likely to be the same, I want to avoid revalidating clips. That is what this code does"
   ]
  },
  {
   "cell_type": "markdown",
   "id": "ae24e081-7746-40f9-807f-9d22479d3ad4",
   "metadata": {},
   "source": [
    "**What This Code Does**\n",
    "* Finds the .txt file in each class folder from it1_s0.5_t0.1.\n",
    "* Loads previously validated clips & their annotations (Eval & Annotation).\n",
    "* Finds the same clips in it1_s1_t0.01, now with updated scores.\n",
    "* Replaces old filenames with updated filenames (new scores) but keeps Eval & Annotation.\n",
    "* Adds any new detections that weren’t validated before.\n",
    "* Sorts the .txt file by the new scores.\n",
    "* Saves the updated .txt file in the it1_s1_t0.01 folder."
   ]
  },
  {
   "cell_type": "code",
   "execution_count": 8,
   "id": "e3d3c74c-c7dd-4bd2-8d24-2d48b64eff82",
   "metadata": {},
   "outputs": [
    {
     "name": "stdout",
     "output_type": "stream",
     "text": [
      "✔ Updated /mnt/d/retraining_BirdNET_2025/iterative_training/segments_validation/it_1_s1_t0.01/uncertainty/Barn Owl/Barn Owl_Validation.txt with preserved validation data.\n",
      "✔ Updated /mnt/d/retraining_BirdNET_2025/iterative_training/segments_validation/it_1_s1_t0.01/uncertainty/Black-banded Owl/Black-banded Owl_Validation.txt with preserved validation data.\n",
      "✔ Updated /mnt/d/retraining_BirdNET_2025/iterative_training/segments_validation/it_1_s1_t0.01/uncertainty/Black-capped Screech-Owl/Black-capped Screech Owl_Validation.txt with preserved validation data.\n",
      "✔ Updated /mnt/d/retraining_BirdNET_2025/iterative_training/segments_validation/it_1_s1_t0.01/uncertainty/Brown Tinamou/Brown Tinamou_Validation.txt with preserved validation data.\n",
      "✔ Updated /mnt/d/retraining_BirdNET_2025/iterative_training/segments_validation/it_1_s1_t0.01/uncertainty/Buff-fronted Owl/Buff-fronted Owl_Validation.txt with preserved validation data.\n",
      "✔ Updated /mnt/d/retraining_BirdNET_2025/iterative_training/segments_validation/it_1_s1_t0.01/uncertainty/Burrowing Owl_call/Burrowing Owl-call_Validation.txt with preserved validation data.\n",
      "✔ Updated /mnt/d/retraining_BirdNET_2025/iterative_training/segments_validation/it_1_s1_t0.01/uncertainty/Burrowing Owl_song/Burrowing Owl-song_Validation.txt with preserved validation data.\n",
      "✔ Updated /mnt/d/retraining_BirdNET_2025/iterative_training/segments_validation/it_1_s1_t0.01/uncertainty/Common Pauraque/Common Pauraque_Validation.txt with preserved validation data.\n",
      "✔ Updated /mnt/d/retraining_BirdNET_2025/iterative_training/segments_validation/it_1_s1_t0.01/uncertainty/Common Potoo/Common Potoo_Validation.txt with preserved validation data.\n",
      "✔ Updated /mnt/d/retraining_BirdNET_2025/iterative_training/segments_validation/it_1_s1_t0.01/uncertainty/Ferruginous Pygmy-Owl/Ferruginous Pygmy-Owl_Validation.txt with preserved validation data.\n",
      "✔ Updated /mnt/d/retraining_BirdNET_2025/iterative_training/segments_validation/it_1_s1_t0.01/uncertainty/Little Nightjar/Little Nightjar_Validation.txt with preserved validation data.\n",
      "✔ Updated /mnt/d/retraining_BirdNET_2025/iterative_training/segments_validation/it_1_s1_t0.01/uncertainty/Long-tailed Potoo/Long-tailed Potoo_Validation.txt with preserved validation data.\n",
      "✔ Updated /mnt/d/retraining_BirdNET_2025/iterative_training/segments_validation/it_1_s1_t0.01/uncertainty/Long-tufted Screech-Owl/Long-tufted Screech-Owl_Validation.txt with preserved validation data.\n",
      "✔ Updated /mnt/d/retraining_BirdNET_2025/iterative_training/segments_validation/it_1_s1_t0.01/uncertainty/Mottled Owl_call/Mottled Owl-call_Validation.txt with preserved validation data.\n",
      "✔ Updated /mnt/d/retraining_BirdNET_2025/iterative_training/segments_validation/it_1_s1_t0.01/uncertainty/Mottled Owl_song/Mottled Owl-song_Validation.txt with preserved validation data.\n",
      "✔ Updated /mnt/d/retraining_BirdNET_2025/iterative_training/segments_validation/it_1_s1_t0.01/uncertainty/Ocellated Poorwill/Ocellated Poorwill_Validation.txt with preserved validation data.\n",
      "✔ Updated /mnt/d/retraining_BirdNET_2025/iterative_training/segments_validation/it_1_s1_t0.01/uncertainty/Red Junglefowl/Red Junglefowl_Validation.txt with preserved validation data.\n",
      "✔ Updated /mnt/d/retraining_BirdNET_2025/iterative_training/segments_validation/it_1_s1_t0.01/uncertainty/Rufous-capped Motmot/Rufous-capped Motmot_Validation.txt with preserved validation data.\n",
      "✔ Updated /mnt/d/retraining_BirdNET_2025/iterative_training/segments_validation/it_1_s1_t0.01/uncertainty/Rusty-barred Owl_call/Rusty-barred Owl-call_Validation.txt with preserved validation data.\n",
      "✔ Updated /mnt/d/retraining_BirdNET_2025/iterative_training/segments_validation/it_1_s1_t0.01/uncertainty/Rusty-barred Owl_call1/Rusty-barred Owl-call1_Validation.txt with preserved validation data.\n",
      "✔ Updated /mnt/d/retraining_BirdNET_2025/iterative_training/segments_validation/it_1_s1_t0.01/uncertainty/Rusty-barred Owl_song/Rusty-barred Owl-song_Validation.txt with preserved validation data.\n",
      "✔ Updated /mnt/d/retraining_BirdNET_2025/iterative_training/segments_validation/it_1_s1_t0.01/uncertainty/Short-tailed Nighthawk/Short-tailed Nighthawk_Validation.txt with preserved validation data.\n",
      "✔ Updated /mnt/d/retraining_BirdNET_2025/iterative_training/segments_validation/it_1_s1_t0.01/uncertainty/Silky-tailed Nightjar/Silky-tailed Nightjar_Validation.txt with preserved validation data.\n",
      "✔ Updated /mnt/d/retraining_BirdNET_2025/iterative_training/segments_validation/it_1_s1_t0.01/uncertainty/Spot-winged Wood-Quail/Spot-Winged Wood-Quail_Validation.txt with preserved validation data.\n",
      "✔ Updated /mnt/d/retraining_BirdNET_2025/iterative_training/segments_validation/it_1_s1_t0.01/uncertainty/Striped Owl_call/Striped Owl-call_Validation.txt with preserved validation data.\n",
      "✔ Updated /mnt/d/retraining_BirdNET_2025/iterative_training/segments_validation/it_1_s1_t0.01/uncertainty/Striped Owl_song/Striped Owl-song_Validation.txt with preserved validation data.\n",
      "✔ Updated /mnt/d/retraining_BirdNET_2025/iterative_training/segments_validation/it_1_s1_t0.01/uncertainty/Stygian Owl_call/Stygian Owl-call_Validation.txt with preserved validation data.\n",
      "✔ Updated /mnt/d/retraining_BirdNET_2025/iterative_training/segments_validation/it_1_s1_t0.01/uncertainty/Stygian Owl_song/Stygian Owl-song_Validation.txt with preserved validation data.\n",
      "✔ Updated /mnt/d/retraining_BirdNET_2025/iterative_training/segments_validation/it_1_s1_t0.01/uncertainty/Tawny-browed Owl/Tawny-browed Owl_Validation.txt with preserved validation data.\n",
      "✔ Updated /mnt/d/retraining_BirdNET_2025/iterative_training/segments_validation/it_1_s1_t0.01/uncertainty/Tropical Screech-Owl/Tropical Screech-Owl_Validation.txt with preserved validation data.\n",
      "✅ All annotation files updated successfully.\n"
     ]
    }
   ],
   "source": [
    "import os\n",
    "import pandas as pd\n",
    "from pathlib import Path\n",
    "import glob  # To find the `_Validation.txt` files dynamically\n",
    "\n",
    "# Paths\n",
    "prev_val_clips = \"/mnt/d/retraining_BirdNET_2025/iterative_training/segments_validation/it_1_s0.5_t0.1/uncertainty/\"\n",
    "new_clips_dir = \"/mnt/d/retraining_BirdNET_2025/iterative_training/segments_validation/it_1_s1_t0.01/uncertainty/\"\n",
    "\n",
    "# Function to extract core filename (ignoring score)\n",
    "def extract_core_filename(filename):\n",
    "    parts = Path(filename).stem.split('_')  # Remove extension and split filename\n",
    "    return '_'.join(parts[1:6])  # Extract offset, siteID, survey night, date, time\n",
    "\n",
    "# Iterate through each class folder in the previous validation clips\n",
    "for class_folder in os.listdir(prev_val_clips):\n",
    "    old_class_path = os.path.join(prev_val_clips, class_folder)\n",
    "    new_class_path = os.path.join(new_clips_dir, class_folder)\n",
    "\n",
    "    # Ensure the class exists in both directories\n",
    "    if not os.path.isdir(old_class_path) or not os.path.isdir(new_class_path):\n",
    "        continue\n",
    "\n",
    "    # Find the validation .txt file (assuming one per class)\n",
    "    old_txt_files = glob.glob(os.path.join(old_class_path, \"*_Validation.txt\"))\n",
    "    new_txt_files = glob.glob(os.path.join(new_class_path, \"*_Validation.txt\"))\n",
    "\n",
    "    if len(old_txt_files) == 0:\n",
    "        print(f\"⚠ No previous validation file found in {class_folder}, skipping...\")\n",
    "        continue\n",
    "    if len(new_txt_files) == 0:\n",
    "        print(f\"⚠ No new validation file found in {class_folder}, skipping...\")\n",
    "        continue\n",
    "\n",
    "    old_txt_file = old_txt_files[0]  # Pick the old validation file\n",
    "    new_txt_file = new_txt_files[0]  # Pick the new validation file\n",
    "\n",
    "    # Load old validation data\n",
    "    df_old = pd.read_csv(old_txt_file, delimiter='\\t', usecols=[\"Begin File\", \"Eval\", \"Annotation\"])\n",
    "\n",
    "    # Create a dictionary mapping core filenames to their Eval & Annotation\n",
    "    validated_clips = {\n",
    "        extract_core_filename(row[\"Begin File\"]): (row[\"Eval\"], row[\"Annotation\"])\n",
    "        for _, row in df_old.iterrows()\n",
    "    }\n",
    "\n",
    "    # Load new validation data\n",
    "    df_new = pd.read_csv(new_txt_file, delimiter='\\t')\n",
    "\n",
    "    # Ensure required columns exist\n",
    "    if \"Begin File\" not in df_new.columns:\n",
    "        print(f\"⚠ Skipping {class_folder} due to missing 'Begin File' column in new validation file.\")\n",
    "        continue\n",
    "\n",
    "    # Add Eval and Annotation columns if not present\n",
    "    if \"Eval\" not in df_new.columns:\n",
    "        df_new[\"Eval\"] = \"\"\n",
    "    if \"Annotation\" not in df_new.columns:\n",
    "        df_new[\"Annotation\"] = \"\"\n",
    "\n",
    "    # Update new validation file with matched Eval & Annotation values\n",
    "    for index, row in df_new.iterrows():\n",
    "        core_name = extract_core_filename(row[\"Begin File\"])\n",
    "        if core_name in validated_clips:\n",
    "            df_new.at[index, \"Eval\"] = validated_clips[core_name][0]  # Copy Eval\n",
    "            df_new.at[index, \"Annotation\"] = validated_clips[core_name][1]  # Copy Annotation\n",
    "\n",
    "    # Save the updated validation file\n",
    "    df_new.to_csv(new_txt_file, sep='\\t', index=False)\n",
    "\n",
    "    print(f\"✔ Updated {new_txt_file} with preserved validation data.\")\n",
    "\n",
    "print(\"✅ All annotation files updated successfully.\")\n"
   ]
  }
 ],
 "metadata": {
  "kernelspec": {
   "display_name": "Python 3 (ipykernel)",
   "language": "python",
   "name": "python3"
  },
  "language_info": {
   "codemirror_mode": {
    "name": "ipython",
    "version": 3
   },
   "file_extension": ".py",
   "mimetype": "text/x-python",
   "name": "python",
   "nbconvert_exporter": "python",
   "pygments_lexer": "ipython3",
   "version": "3.9.17"
  }
 },
 "nbformat": 4,
 "nbformat_minor": 5
}
