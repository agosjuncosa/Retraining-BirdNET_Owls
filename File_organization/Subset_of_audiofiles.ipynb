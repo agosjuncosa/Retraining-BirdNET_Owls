{
 "cells": [
  {
   "cell_type": "markdown",
   "id": "5af557ce-2918-4d41-aae8-85b07cff5908",
   "metadata": {},
   "source": [
    "### Subset audio files "
   ]
  },
  {
   "cell_type": "code",
   "execution_count": 1,
   "id": "ba09ef9f-e39b-4a1c-8db0-f0158c162359",
   "metadata": {},
   "outputs": [],
   "source": [
    "import os\n",
    "import shutil\n",
    "import random"
   ]
  },
  {
   "cell_type": "code",
   "execution_count": 2,
   "id": "a8d6db05-78c8-4ba0-b840-0ee46429ca18",
   "metadata": {},
   "outputs": [],
   "source": [
    "# Define paths\n",
    "source_folder = '/mnt/e/retraining_BirdNET/iterative_training/input/'\n",
    "destination_folder = '/mnt/e/retraining_BirdNET/try_embbedings/'"
   ]
  },
  {
   "cell_type": "code",
   "execution_count": 3,
   "id": "a092c00c-3c0d-4154-a56b-32a7f5bc46c1",
   "metadata": {},
   "outputs": [],
   "source": [
    "# Create the destination folder if it doesn't exist\n",
    "if not os.path.exists(destination_folder):\n",
    "    os.makedirs(destination_folder)"
   ]
  },
  {
   "cell_type": "code",
   "execution_count": 4,
   "id": "7842b35d-2b73-4292-8d0c-252f6f207a4a",
   "metadata": {},
   "outputs": [
    {
     "name": "stdout",
     "output_type": "stream",
     "text": [
      "Audio extraction completed.\n"
     ]
    }
   ],
   "source": [
    "# Dictionary to store audio files by site\n",
    "site_audio_dict = {}\n",
    "\n",
    "# Loop over all files in the source folder\n",
    "for filename in os.listdir(source_folder):\n",
    "    if filename.endswith('.WAV'):  # Assuming the audio files have a .wav extension\n",
    "        # Extract the site name (first part before the underscore)\n",
    "        site_name = filename.split('_')[0]\n",
    "        \n",
    "        # Add the filename to the corresponding site list\n",
    "        if site_name not in site_audio_dict:\n",
    "            site_audio_dict[site_name] = []\n",
    "        site_audio_dict[site_name].append(filename)\n",
    "\n",
    "# Randomly select two audio files for each site and copy them to the destination folder\n",
    "for site, audio_files in site_audio_dict.items():\n",
    "    if len(audio_files) >= 2:\n",
    "        selected_files = random.sample(audio_files, 2)\n",
    "        for audio_file in selected_files:\n",
    "            source_path = os.path.join(source_folder, audio_file)\n",
    "            destination_path = os.path.join(destination_folder, audio_file)\n",
    "            shutil.copy(source_path, destination_path)\n",
    "    else:\n",
    "        print(f\"Warning: Less than 2 audio files for site {site}\")\n",
    "\n",
    "print(\"Audio extraction completed.\")\n"
   ]
  }
 ],
 "metadata": {
  "kernelspec": {
   "display_name": "Python 3 (ipykernel)",
   "language": "python",
   "name": "python3"
  },
  "language_info": {
   "codemirror_mode": {
    "name": "ipython",
    "version": 3
   },
   "file_extension": ".py",
   "mimetype": "text/x-python",
   "name": "python",
   "nbconvert_exporter": "python",
   "pygments_lexer": "ipython3",
   "version": "3.9.17"
  }
 },
 "nbformat": 4,
 "nbformat_minor": 5
}
