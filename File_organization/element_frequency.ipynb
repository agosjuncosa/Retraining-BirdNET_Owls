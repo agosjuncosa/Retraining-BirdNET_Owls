{
 "cells": [
  {
   "cell_type": "code",
   "execution_count": 1,
   "id": "dfe0f4ee-023e-4c67-a7f7-1ac907b99512",
   "metadata": {},
   "outputs": [],
   "source": [
    "import os\n",
    "import pandas as pd"
   ]
  },
  {
   "cell_type": "code",
   "execution_count": 2,
   "id": "dbdfa349-180f-463c-ac97-88407a6cb04b",
   "metadata": {},
   "outputs": [],
   "source": [
    "csv_path = '/mnt/d/retraining_BirdNET/iterative_training_2025/output_results_2025/model_0/BirdNET_SelectionTable.txt'  # Replace with the path to your directory"
   ]
  },
  {
   "cell_type": "code",
   "execution_count": 4,
   "id": "a1fc8684-b837-44e1-920a-d586dd104923",
   "metadata": {},
   "outputs": [],
   "source": [
    "predictions = pd.read_csv(csv_path, sep='\\t')"
   ]
  },
  {
   "cell_type": "code",
   "execution_count": 21,
   "id": "435e6eb1-ee14-4afc-b25f-ebba4a32b506",
   "metadata": {},
   "outputs": [
    {
     "data": {
      "text/plain": [
       "Species Code\n",
       "bufowl1                                   58338\n",
       "bkcsco1                                   47203\n",
       "redjun                                    24613\n",
       "brotin1                                   19842\n",
       "lotsco1                                   19124\n",
       "fepowl                                    10014\n",
       "swwqua1                                    3809\n",
       "compot1                                    2873\n",
       "Ciccaba virgata_Mottled Owl_song           2755\n",
       "compau                                     1924\n",
       "trsowl                                     1262\n",
       "Strix hylophila_Rusty-barred Owl_song      1164\n",
       "rucmot2                                     851\n",
       "Athene cunicularia_Burrowing Owl_song       748\n",
       "tabowl1                                     345\n",
       "Asio clamator_Striped Owl_call              297\n",
       "Strix hylophila_Rusty-barred Owl_call1      201\n",
       "bkbowl1                                     139\n",
       "Ciccaba virgata_Mottled Owl_call            114\n",
       "brnowl                                      109\n",
       "Strix hylophila_Rusty-barred Owl_call        80\n",
       "shtnig1                                      77\n",
       "sitnig1                                      63\n",
       "litnig1                                      50\n",
       "Asio clamator_Striped Owl_song               48\n",
       "Athene cunicularia_Burrowing Owl_call        44\n",
       "Asio stygius_Stygian Owl_call                19\n",
       "ocepoo1                                      18\n",
       "Asio stygius_Stygian Owl_song                14\n",
       "lotpot1                                       2\n",
       "Name: count, dtype: int64"
      ]
     },
     "execution_count": 21,
     "metadata": {},
     "output_type": "execute_result"
    }
   ],
   "source": [
    "predictions['Species Code'].value_counts()#.get('redjun') .get returns only the value for specified element"
   ]
  }
 ],
 "metadata": {
  "kernelspec": {
   "display_name": "Python 3 (ipykernel)",
   "language": "python",
   "name": "python3"
  },
  "language_info": {
   "codemirror_mode": {
    "name": "ipython",
    "version": 3
   },
   "file_extension": ".py",
   "mimetype": "text/x-python",
   "name": "python",
   "nbconvert_exporter": "python",
   "pygments_lexer": "ipython3",
   "version": "3.9.17"
  }
 },
 "nbformat": 4,
 "nbformat_minor": 5
}
