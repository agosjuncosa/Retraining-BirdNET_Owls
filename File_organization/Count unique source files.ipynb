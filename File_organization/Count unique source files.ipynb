{
 "cells": [
  {
   "cell_type": "markdown",
   "id": "b0b46845-fdfd-4d12-ad85-6564b6640955",
   "metadata": {},
   "source": [
    "### Count unique source files"
   ]
  },
  {
   "cell_type": "code",
   "execution_count": null,
   "id": "a8041541-c931-42ec-a528-cca86709cbef",
   "metadata": {},
   "outputs": [],
   "source": [
    "import os # import os module which provides a way of interacting with the operating system, \n",
    "# allowing me to access and manipulate the file system\n",
    "\n",
    "#The purpose of this function is to count the number of unique source files \n",
    "# in a given directory based on the filenames.\n",
    "\n",
    "def get_unique_sources(directory):\n",
    "    unique_sources = set() #This line initializes an empty set called unique_sources. \n",
    "    # A set is a collection type in Python that only stores unique items. It automatically handles duplicates.\n",
    "\n",
    "#loop that iterates over every file in the specified directory\n",
    "    for filename in os.listdir(directory):\n",
    "    # os.listdir(directory) function returns a list of all the files and subdirectories in the given directory    \n",
    "        if filename.endswith(\".wav\"):\n",
    "            # Split the filename into parts based on underscores\n",
    "            parts = filename.split('_')\n",
    "            \n",
    "            # Ensure there are enough parts to access the required elements\n",
    "            if len(parts) > 2:\n",
    "                # Extract the relevant parts (3rd, 4th, 5th, and 6th)\n",
    "                source_id = f\"{parts[3]}_{parts[4]}_{parts[5]}_{parts[6]}\"\n",
    "                # creates a string source_id that concatenates the parts of the filename that follow the second \n",
    "                # underscore. The f\"{...}\" syntax is called an f-string, which allows you to embed expressions \n",
    "                #inside string literals. The variables inside the curly braces {} are evaluated and inserted into the\n",
    "                # string. Parts 2 here refer two the part with index 2, considering elements start being index with 0.\n",
    "                # Add the source identifier to the set\n",
    "                unique_sources.add(source_id)\n",
    "                #This line adds the source_id to the unique_sources set. Since sets only store unique items, \n",
    "                #any duplicate source_id values will automatically be ignored.\n",
    "            else:\n",
    "                print(f\"Skipping file with unexpected format: {filename}\")\n",
    "                #This line starts an else block, which is executed if the if condition (len(parts) > 2) is not met.\n",
    "    # Return the number of unique sources\n",
    "    return len(unique_sources)\n",
    "    # The len() function returns the number of elements in the unique_sources set, which corresponds to the number of\n",
    "    # unique source_id values\n",
    "# Example usage:\n",
    "directory_path = '/mnt/e/retraining_BirdNET/model_train/2nd_train/Background/'\n",
    "num_unique_sources = get_unique_sources(directory_path)\n",
    "print(f\"Number of different source files: {num_unique_sources}\")\n"
   ]
  },
  {
   "cell_type": "markdown",
   "id": "acb365c5-a5e8-449e-b653-d4d597d48d30",
   "metadata": {},
   "source": [
    "### Compare filenames to avoid duplicate validation"
   ]
  },
  {
   "cell_type": "code",
   "execution_count": 1,
   "id": "1d0c24c6-f037-418d-9e23-b170b40f66f8",
   "metadata": {},
   "outputs": [],
   "source": [
    "import os\n",
    "import shutil"
   ]
  },
  {
   "cell_type": "code",
   "execution_count": 2,
   "id": "c2383dab-689f-4e0b-9bb0-0edff7c94aef",
   "metadata": {},
   "outputs": [],
   "source": [
    "# Define the directories\n",
    "dir1= '/mnt/e/retraining_BirdNET/iterative_training/segments_validation/1st_model/Barn Owl/'\n",
    "dir2= '/mnt/e/retraining_BirdNET/iterative_training/segments_validation/2nd_model/Barn Owl/'"
   ]
  },
  {
   "cell_type": "code",
   "execution_count": 3,
   "id": "e2bb984a-a339-48a8-afee-fab5378c7a84",
   "metadata": {},
   "outputs": [],
   "source": [
    "def extract_relevant_parts(filename):\n",
    "    \"\"\"Extract parts indexed as 1, 2, 3, 4, 5, 6 from the filename.\"\"\"\n",
    "    parts = filename.split('_')\n",
    "    return '_'.join(parts[1:7])\n",
    "\n",
    "def move_previously_detected_files(dir1, dir2):\n",
    "    # Create a set to store the relevant parts of filenames from directory 1\n",
    "    dir1_filenames = set()\n",
    "\n",
    "    # Loop through all items in dir1\n",
    "    for filename in os.listdir(dir1):\n",
    "        filepath = os.path.join(dir1, filename)\n",
    "        \n",
    "        # Check if the item is a file (not a directory) and is a .wav file\n",
    "        if os.path.isfile(filepath) and filename.endswith(\".wav\"):\n",
    "            relevant_part = extract_relevant_parts(filename)\n",
    "            dir1_filenames.add(relevant_part)\n",
    "\n",
    "                                  \n",
    "    # Prepare the subdirectory in directory 2 for moving files\n",
    "    previously_detected_dir = os.path.join(dir2, 'previously_detected')\n",
    "    if not os.path.exists(previously_detected_dir):\n",
    "        os.makedirs(previously_detected_dir)\n",
    "\n",
    "    # Loop through all files in directory 2\n",
    "    for filename in os.listdir(dir2):\n",
    "        if filename.endswith(\".wav\"):\n",
    "            relevant_part = extract_relevant_parts(filename)\n",
    "            if relevant_part in dir1_filenames:\n",
    "                # Move the file to the 'previously_detected' directory\n",
    "                src_file_path = os.path.join(dir2, filename)\n",
    "                dest_file_path = os.path.join(previously_detected_dir, filename)\n",
    "                shutil.move(src_file_path, dest_file_path)\n",
    "\n",
    "    print(f\"Files moved to '{previously_detected_dir}'.\")\n"
   ]
  },
  {
   "cell_type": "code",
   "execution_count": 4,
   "id": "05932b32-7af6-4306-b147-92e5651ba83f",
   "metadata": {},
   "outputs": [
    {
     "name": "stdout",
     "output_type": "stream",
     "text": [
      "Files moved to '/mnt/e/retraining_BirdNET/iterative_training/segments_validation/2nd_model/Barn Owl/previously_detected'.\n"
     ]
    }
   ],
   "source": [
    "# Run the function\n",
    "move_previously_detected_files(dir1, dir2)"
   ]
  },
  {
   "cell_type": "code",
   "execution_count": null,
   "id": "d9bb98aa-943c-4f8e-b694-7b80434fd6e1",
   "metadata": {},
   "outputs": [],
   "source": []
  },
  {
   "cell_type": "code",
   "execution_count": 5,
   "id": "513856e6-f1cf-4ac1-bdbe-69883e518da4",
   "metadata": {},
   "outputs": [
    {
     "name": "stdout",
     "output_type": "stream",
     "text": [
      "Processing folder: Barn Owl\n",
      "Processing folder: Black-banded Owl\n",
      "Processing folder: Black-capped Screech-Owl\n",
      "Processing folder: Brown Tinamou\n",
      "Processing folder: Buff-fronted Owl\n",
      "Processing folder: Burrowing Owl\n",
      "Processing folder: Common Pauraque\n",
      "Processing folder: Common Potoo\n",
      "Processing folder: Ferruginous Pygmy-Owl\n",
      "Processing folder: Little Nightjar\n",
      "Processing folder: Long-tailed Potoo\n",
      "Processing folder: Long-tufted Screech-Owl\n",
      "Processing folder: Mottled Owl_call\n",
      "Processing folder: Mottled Owl_song\n",
      "Processing folder: Ocellated Poorwill\n",
      "Processing folder: Rufous Nightjar\n",
      "Processing folder: Rufous-capped Motmot\n",
      "Processing folder: Rusty-barred Owl_call\n",
      "Processing folder: Rusty-barred Owl_call1\n",
      "Processing folder: Rusty-barred Owl_song\n",
      "Processing folder: Short-tailed Nighthawk\n",
      "Processing folder: Silky-tailed Nightjar\n",
      "Processing folder: Spot-winged Wood-Quail\n",
      "Processing folder: Striped Owl_call\n",
      "Processing folder: Striped Owl_song\n",
      "Processing folder: Stygian Owl_call\n",
      "Processing folder: Stygian Owl_song\n",
      "Processing folder: Tawny-browed Owl\n",
      "Processing folder: Tropical Screech-Owl\n"
     ]
    }
   ],
   "source": [
    "import os\n",
    "import shutil\n",
    "\n",
    "def extract_relevant_parts(filename):\n",
    "    \"\"\"Extract parts indexed as 1, 2, 3, 4, 5, 6 from the filename.\"\"\"\n",
    "    parts = filename.split('_')\n",
    "    return '_'.join(parts[1:7])\n",
    "\n",
    "def move_previously_detected_files(subdir1, subdir2):\n",
    "    # Create a set to store the relevant parts of filenames from subdir1\n",
    "    subdir1_filenames = set()\n",
    "\n",
    "    # Loop through all files in subdir1 (ignoring further subdirectories)\n",
    "    for filename in os.listdir(subdir1):\n",
    "        filepath = os.path.join(subdir1, filename)\n",
    "        if os.path.isfile(filepath) and filename.endswith(\".wav\"):\n",
    "            relevant_part = extract_relevant_parts(filename)\n",
    "            subdir1_filenames.add(relevant_part)\n",
    "\n",
    "    # Prepare the subdirectory in subdir2 for moving files\n",
    "    previously_detected_dir = os.path.join(subdir2, 'previously_detected')\n",
    "    if not os.path.exists(previously_detected_dir):\n",
    "        os.makedirs(previously_detected_dir)\n",
    "\n",
    "    # Loop through all files in subdir2 (only .wav files should be here)\n",
    "    for filename in os.listdir(subdir2):\n",
    "        filepath = os.path.join(subdir2, filename)\n",
    "        if os.path.isfile(filepath) and filename.endswith(\".wav\"):\n",
    "            relevant_part = extract_relevant_parts(filename)\n",
    "            if relevant_part in subdir1_filenames:\n",
    "                # Move the file to the 'previously_detected' directory\n",
    "                src_file_path = os.path.join(subdir2, filename)\n",
    "                dest_file_path = os.path.join(previously_detected_dir, filename)\n",
    "                shutil.move(src_file_path, dest_file_path)\n",
    "\n",
    "def process_all_subdirectories(base_dir1, base_dir2):\n",
    "    # Loop through all subdirectories in dir1\n",
    "    for subdir in os.listdir(base_dir1):\n",
    "        subdir1 = os.path.join(base_dir1, subdir)\n",
    "        subdir2 = os.path.join(base_dir2, subdir)\n",
    "        \n",
    "        # Check if the corresponding subdirectory exists in dir2 and both are directories\n",
    "        if os.path.isdir(subdir1) and os.path.isdir(subdir2):\n",
    "            print(f\"Processing folder: {subdir}\")\n",
    "            move_previously_detected_files(subdir1, subdir2)\n",
    "        else:\n",
    "            print(f\"Skipping {subdir} because it is not a directory or does not exist in both locations.\")\n",
    "\n",
    "# Define the base directories\n",
    "base_dir1 = r'/mnt/e/retraining_BirdNET/iterative_training/segments_validation/1st_model/'\n",
    "base_dir2 = r'/mnt/e/retraining_BirdNET/iterative_training/segments_validation/2nd_model/'\n",
    "\n",
    "# Run the function to process all subdirectories\n",
    "process_all_subdirectories(base_dir1, base_dir2)\n"
   ]
  }
 ],
 "metadata": {
  "kernelspec": {
   "display_name": "Python 3 (ipykernel)",
   "language": "python",
   "name": "python3"
  },
  "language_info": {
   "codemirror_mode": {
    "name": "ipython",
    "version": 3
   },
   "file_extension": ".py",
   "mimetype": "text/x-python",
   "name": "python",
   "nbconvert_exporter": "python",
   "pygments_lexer": "ipython3",
   "version": "3.9.17"
  }
 },
 "nbformat": 4,
 "nbformat_minor": 5
}
