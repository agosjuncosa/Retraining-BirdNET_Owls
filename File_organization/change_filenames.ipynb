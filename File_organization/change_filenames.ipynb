{
 "cells": [
  {
   "cell_type": "code",
   "execution_count": 10,
   "id": "a2fffb80-4c4c-4747-8492-12ad928b675f",
   "metadata": {},
   "outputs": [
    {
     "name": "stdout",
     "output_type": "stream",
     "text": [
      "Renaming completed!\n"
     ]
    }
   ],
   "source": [
    "import os\n",
    "\n",
    "# Path to the directory with your .wav files\n",
    "dir_path = r\"/mnt/c/Users/agos-/OneDrive/Escritorio/ESCRITORIO/Doctorado/ANALISIS_DOCTORADO/procesamiento_audios/opsc_noise/new\"\n",
    "\n",
    "# Iterate through each file in the directory\n",
    "for filename in os.listdir(dir_path):\n",
    "    # Check if the file has a .wav extension\n",
    "    if filename.endswith(\".WAV\"):\n",
    "        # Create a new filename by adding \"CH31\" at the beginning\n",
    "        new_filename = \"M34_\" + filename\n",
    "        # Create absolute paths for the old and new filenames\n",
    "        old_path = os.path.join(dir_path, filename)\n",
    "        new_path = os.path.join(dir_path, new_filename)\n",
    "        # Rename the file\n",
    "        os.rename(old_path, new_path)\n",
    "\n",
    "print(\"Renaming completed!\")\n"
   ]
  },
  {
   "cell_type": "code",
   "execution_count": null,
   "id": "6c714f04-aa5b-4e46-8d9f-600fb2d51a80",
   "metadata": {},
   "outputs": [],
   "source": []
  }
 ],
 "metadata": {
  "kernelspec": {
   "display_name": "OpenSoundscape",
   "language": "python",
   "name": "opensoundscape"
  },
  "language_info": {
   "codemirror_mode": {
    "name": "ipython",
    "version": 3
   },
   "file_extension": ".py",
   "mimetype": "text/x-python",
   "name": "python",
   "nbconvert_exporter": "python",
   "pygments_lexer": "ipython3",
   "version": "3.9.17"
  }
 },
 "nbformat": 4,
 "nbformat_minor": 5
}
