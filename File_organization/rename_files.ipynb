{
 "cells": [
  {
   "cell_type": "markdown",
   "id": "809c56e8-c4ed-47c4-bc49-e0718a8d4717",
   "metadata": {},
   "source": [
    "### Different ways of renaming files"
   ]
  },
  {
   "cell_type": "code",
   "execution_count": null,
   "id": "eeb50345-955a-458b-8781-06cb954aec61",
   "metadata": {},
   "outputs": [],
   "source": [
    "import os\n",
    "# Para remover el score\n",
    "# Path to the base directory containing all the .wav files\n",
    "base_path = '/mnt/e/retraining_BirdNET/model_train/2nd_train/Megascops choliba_Tropical Screech-Owl/'\n",
    "\n",
    "# Loop through each file in the base directory\n",
    "for filename in os.listdir(base_path):\n",
    "    if filename.endswith('.wav'):\n",
    "        \n",
    "        # Split the filename at the first underscore\n",
    "        new_filename = filename.split('_', 1)[-1]  # Keep everything after the first underscore\n",
    "        \n",
    "        # Create absolute old path and new path\n",
    "        old_path = os.path.join(base_path, filename)\n",
    "        new_file_path = os.path.join(base_path, new_filename)\n",
    "        \n",
    "        # Rename the file\n",
    "        os.rename(old_path, new_file_path)\n",
    "\n",
    "print(\"Renaming completed!\")\n"
   ]
  },
  {
   "cell_type": "code",
   "execution_count": null,
   "id": "d0dc1715-6573-4f20-9d69-44029fbbc17a",
   "metadata": {},
   "outputs": [],
   "source": [
    "import os\n",
    "# To add a name at the end of the filename\n",
    "# Path to the base directory containing all the site folders\n",
    "base_path = '/mnt/d/retraining_BirdNET/model_train_2025/1st/Background/rename/'\n",
    "\n",
    "# Loop through each directory in the base directory\n",
    "for filename in os.listdir(base_path):\n",
    "    # Check if the file has the extension .WAV\n",
    "    if filename.lower().endswith('.wav'):\n",
    "        # Split the filename and extension\n",
    "        base_filename, extension = os.path.splitext(filename)\n",
    "        # Create a new filename by adding 'lluvia' before the extension\n",
    "        new_filename = f\"{base_filename}_insect{extension}\"\n",
    "        # Create absolute old path and new path\n",
    "        old_path = os.path.join(base_path, filename)\n",
    "        new_file_path = os.path.join(base_path, new_filename)\n",
    "        # Rename the file\n",
    "        os.rename(old_path, new_file_path)\n",
    "\n",
    "print(\"Renaming completed!\")\n"
   ]
  },
  {
   "cell_type": "code",
   "execution_count": null,
   "id": "75cf73e2-df9b-4e83-bf8d-57f1133e855e",
   "metadata": {},
   "outputs": [],
   "source": [
    "import os\n",
    "# To add a name at the begining of the old filename\n",
    "# Path to the base directory containing all the site folders\n",
    "base_path = '/mnt/e/rename/'\n",
    "\n",
    "# Loop through each directory in the base directory\n",
    "for filename in os.listdir(base_path):\n",
    "    # Check if the file has the extension .WAV\n",
    "    if filename.endswith('.txt'):\n",
    "        # Split the filename and extension\n",
    "        #base_filename, extension = os.path.splitext(filename)\n",
    "        # Create a new filename by adding 'lluvia' before the extension\n",
    "        new_filename = f\"overlaid_randomSNR_{filename}\"\n",
    "        # Create absolute old path and new path\n",
    "        old_path = os.path.join(base_path, filename)\n",
    "        new_file_path = os.path.join(base_path, new_filename)\n",
    "        # Rename the file\n",
    "        os.rename(old_path, new_file_path)\n",
    "\n",
    "print(\"Renaming completed!\")"
   ]
  },
  {
   "cell_type": "code",
   "execution_count": null,
   "id": "92005b24-6710-4b21-8112-5ed8538d2090",
   "metadata": {},
   "outputs": [],
   "source": [
    "import os\n",
    "\n",
    "# Adding a name between to parts of the old filname\n",
    "\n",
    "# Path to the base directory containing all the site folders\n",
    "base_path = '/mnt/e/Backup_trainingBirdNET/train_test_data_BirdNET/train_data_BirdNET/train_clips_ARUs/Rooster/edit/'\n",
    "\n",
    "# Loop through each directory in the base directory\n",
    "for filename in os.listdir(base_path):\n",
    "    # Check if the file has the extension .WAV\n",
    "    if filename.endswith('.wav'):\n",
    "        #Split the filename and extension\n",
    "        base_filename, extension = os.path.splitext(filename)\n",
    "        \n",
    "           \n",
    "        # Isolate the '1_' part and the rest of the filename\n",
    "        prefix = base_filename[:1]  # This captures the '1_'\n",
    "        rest_of_filename = base_filename[2:]\n",
    "    \n",
    "        # Create a new filename by appending the prefix before the extension, at the end of the remaining filename\n",
    "        new_filename = f\"{rest_of_filename}_{prefix}{extension}\"\n",
    "       \n",
    "        # Create absolute old path and new path\n",
    "        old_path = os.path.join(base_path, filename)\n",
    "        new_file_path = os.path.join(base_path, new_filename)\n",
    "        # Rename the file\n",
    "        os.rename(old_path, new_file_path)\n",
    "\n",
    "print(\"Renaming completed!\")"
   ]
  },
  {
   "cell_type": "code",
   "execution_count": 4,
   "id": "dedc488d-72f7-4328-ba02-d80a234c8b1d",
   "metadata": {},
   "outputs": [
    {
     "name": "stdout",
     "output_type": "stream",
     "text": [
      "Renaming completed!\n"
     ]
    }
   ],
   "source": [
    "import os\n",
    "\n",
    "# To retain only some of the first elements of the original filename\n",
    "# Path to the base directory containing all the site folders\n",
    "directory = '/mnt/d/retraining_BirdNET/model_train_2025/1st/Frog1/background/'\n",
    "\n",
    "# Loop through each directory in the base directory\n",
    "for filename in os.listdir(directory):\n",
    "    # Check if the file has the extension .WAV\n",
    "    if filename.lower().endswith('.wav'):\n",
    "        # Split the filename and extension\n",
    "        name, extension = os.path.splitext(filename)\n",
    "        # Split the name into parts using underscores\n",
    "        parts= name.split('_')\n",
    "        # Create a new filename by retaining the first four elements and join the parts using _\n",
    "        new_name = '_'.join(parts[:4]) + extension\n",
    "        \n",
    "        # Rename the files\n",
    "        old_path = os.path.join(directory, filename)\n",
    "        new_path = os.path.join(directory, new_name)\n",
    "        # Rename the file\n",
    "        os.rename(old_path, new_path)\n",
    "\n",
    "print(\"Renaming completed!\")"
   ]
  },
  {
   "cell_type": "code",
   "execution_count": null,
   "id": "56f6f97e-c6cc-4c86-8855-e44bf2c1fe8e",
   "metadata": {},
   "outputs": [],
   "source": [
    "import os\n",
    "\n",
    "# Path to the base directory containing all the site folders\n",
    "directory_path = '/mnt/d/night_rec/M23-ARU15-0908-1608/SN_02/'\n",
    "\n",
    "# Custom name to append\n",
    "custom_name = \"M23_SN02_\"\n",
    "\n",
    "# List all files in the directory\n",
    "all_files = os.listdir(directory_path)\n",
    "\n",
    "# Filter for only .wav files\n",
    "wav_files = [f for f in all_files if f.endswith('.WAV')]\n",
    "\n",
    "# Loop through each .wav file\n",
    "for wav_file in wav_files:\n",
    "    # Construct the full path to the file\n",
    "    full_path = os.path.join(directory_path, wav_file)\n",
    "    \n",
    "    # Append custom name to the original file name\n",
    "    new_name = custom_name + wav_file[9:]\n",
    "    #string[start:end]. If you omit the end, it will go till the end of the string.   \n",
    "    # Construct the full path to the renamed file\n",
    "    new_full_path = os.path.join(directory_path, new_name)\n",
    "    \n",
    "    # Rename the file\n",
    "    os.rename(full_path, new_full_path)\n",
    "\n",
    "print(\"File renaming complete.\")\n"
   ]
  },
  {
   "cell_type": "markdown",
   "id": "69d164f5-d4cd-4449-a228-56433d35377c",
   "metadata": {},
   "source": [
    "#### Rename recordings based on annotation file"
   ]
  },
  {
   "cell_type": "code",
   "execution_count": 4,
   "id": "9c68f244-c413-4fc0-b3ee-d473d07acc4b",
   "metadata": {},
   "outputs": [
    {
     "ename": "FileNotFoundError",
     "evalue": "[Errno 2] No such file or directory: '/mnt/d/retraining_BirdNET/iterative_training/segments_validation/it_9/uncertainty/extra/clipped/clipped_Validation.txt'",
     "output_type": "error",
     "traceback": [
      "\u001b[0;31m---------------------------------------------------------------------------\u001b[0m",
      "\u001b[0;31mFileNotFoundError\u001b[0m                         Traceback (most recent call last)",
      "Cell \u001b[0;32mIn[4], line 10\u001b[0m\n\u001b[1;32m      8\u001b[0m \u001b[38;5;66;03m# Read .txt file and store annotations in a list\u001b[39;00m\n\u001b[1;32m      9\u001b[0m annotations \u001b[38;5;241m=\u001b[39m []\n\u001b[0;32m---> 10\u001b[0m \u001b[38;5;28;01mwith\u001b[39;00m \u001b[38;5;28;43mopen\u001b[39;49m\u001b[43m(\u001b[49m\u001b[43mtxt_file\u001b[49m\u001b[43m,\u001b[49m\u001b[43m \u001b[49m\u001b[43mmode\u001b[49m\u001b[38;5;241;43m=\u001b[39;49m\u001b[38;5;124;43m'\u001b[39;49m\u001b[38;5;124;43mr\u001b[39;49m\u001b[38;5;124;43m'\u001b[39;49m\u001b[43m)\u001b[49m \u001b[38;5;28;01mas\u001b[39;00m file:\n\u001b[1;32m     11\u001b[0m     reader \u001b[38;5;241m=\u001b[39m csv\u001b[38;5;241m.\u001b[39mDictReader(file, delimiter\u001b[38;5;241m=\u001b[39m\u001b[38;5;124m'\u001b[39m\u001b[38;5;130;01m\\t\u001b[39;00m\u001b[38;5;124m'\u001b[39m)  \u001b[38;5;66;03m# assuming tab-delimited; change if needed\u001b[39;00m\n\u001b[1;32m     12\u001b[0m     \u001b[38;5;28;01mfor\u001b[39;00m row \u001b[38;5;129;01min\u001b[39;00m reader:\n",
      "File \u001b[0;32m~/anaconda3/envs/opensoundscape/lib/python3.9/site-packages/IPython/core/interactiveshell.py:284\u001b[0m, in \u001b[0;36m_modified_open\u001b[0;34m(file, *args, **kwargs)\u001b[0m\n\u001b[1;32m    277\u001b[0m \u001b[38;5;28;01mif\u001b[39;00m file \u001b[38;5;129;01min\u001b[39;00m {\u001b[38;5;241m0\u001b[39m, \u001b[38;5;241m1\u001b[39m, \u001b[38;5;241m2\u001b[39m}:\n\u001b[1;32m    278\u001b[0m     \u001b[38;5;28;01mraise\u001b[39;00m \u001b[38;5;167;01mValueError\u001b[39;00m(\n\u001b[1;32m    279\u001b[0m         \u001b[38;5;124mf\u001b[39m\u001b[38;5;124m\"\u001b[39m\u001b[38;5;124mIPython won\u001b[39m\u001b[38;5;124m'\u001b[39m\u001b[38;5;124mt let you open fd=\u001b[39m\u001b[38;5;132;01m{\u001b[39;00mfile\u001b[38;5;132;01m}\u001b[39;00m\u001b[38;5;124m by default \u001b[39m\u001b[38;5;124m\"\u001b[39m\n\u001b[1;32m    280\u001b[0m         \u001b[38;5;124m\"\u001b[39m\u001b[38;5;124mas it is likely to crash IPython. If you know what you are doing, \u001b[39m\u001b[38;5;124m\"\u001b[39m\n\u001b[1;32m    281\u001b[0m         \u001b[38;5;124m\"\u001b[39m\u001b[38;5;124myou can use builtins\u001b[39m\u001b[38;5;124m'\u001b[39m\u001b[38;5;124m open.\u001b[39m\u001b[38;5;124m\"\u001b[39m\n\u001b[1;32m    282\u001b[0m     )\n\u001b[0;32m--> 284\u001b[0m \u001b[38;5;28;01mreturn\u001b[39;00m \u001b[43mio_open\u001b[49m\u001b[43m(\u001b[49m\u001b[43mfile\u001b[49m\u001b[43m,\u001b[49m\u001b[43m \u001b[49m\u001b[38;5;241;43m*\u001b[39;49m\u001b[43margs\u001b[49m\u001b[43m,\u001b[49m\u001b[43m \u001b[49m\u001b[38;5;241;43m*\u001b[39;49m\u001b[38;5;241;43m*\u001b[39;49m\u001b[43mkwargs\u001b[49m\u001b[43m)\u001b[49m\n",
      "\u001b[0;31mFileNotFoundError\u001b[0m: [Errno 2] No such file or directory: '/mnt/d/retraining_BirdNET/iterative_training/segments_validation/it_9/uncertainty/extra/clipped/clipped_Validation.txt'"
     ]
    }
   ],
   "source": [
    "import os\n",
    "import csv\n",
    "\n",
    "# Initialize directories and files\n",
    "recs_directory = \"/mnt/d/retraining_BirdNET/iterative_training/segments_validation/it_9/uncertainty/extra/clipped/\"\n",
    "txt_file = \"/mnt/d/retraining_BirdNET/iterative_training/segments_validation/it_9/uncertainty/extra/clipped/clipped_Validation.txt\"\n",
    "\n",
    "# Read .txt file and store annotations in a list\n",
    "annotations = []\n",
    "with open(txt_file, mode='r') as file:\n",
    "    reader = csv.DictReader(file, delimiter='\\t')  # assuming tab-delimited; change if needed\n",
    "    for row in reader:\n",
    "        annotations.append(row)\n",
    "\n",
    "# Create a dictionary mapping 'Begin File' to 'Annotation' the keys are the filenames and values are the annotations\n",
    "annotation_map = {row['Begin File']: row['Annotation'] for row in annotations}\n",
    "\n",
    "# List all .wav files in the directory\n",
    "wav_files = [f for f in os.listdir(recs_directory) if f.lower().endswith('.wav')]\n",
    "\n",
    "# Loop through .wav files and rename them based on the annotation\n",
    "for wav_file in wav_files:\n",
    "    if wav_file in annotation_map:\n",
    "        annotation = annotation_map[wav_file]\n",
    "        new_name = f\"{os.path.splitext(wav_file)[0]}_{annotation}.wav\"\n",
    "        old_path = os.path.join(recs_directory, wav_file)\n",
    "        new_path = os.path.join(recs_directory, new_name)\n",
    "        os.rename(old_path, new_path)\n",
    "\n",
    "print(\"File renaming complete.\")\n",
    "\n"
   ]
  },
  {
   "cell_type": "markdown",
   "id": "e608ca6a-bdb4-43d0-8cab-8292d5896286",
   "metadata": {},
   "source": [
    "Retain only some elements of the name, spliting by the hyphen '-'"
   ]
  },
  {
   "cell_type": "code",
   "execution_count": 22,
   "id": "750e6b6d-2b1f-413d-8626-7d9a0f5e166e",
   "metadata": {},
   "outputs": [
    {
     "name": "stdout",
     "output_type": "stream",
     "text": [
      "File renaming complete.\n"
     ]
    }
   ],
   "source": [
    "import os\n",
    "\n",
    "# Initialize directories and files\n",
    "recs_directory = \"/mnt/d/retraining_BirdNET/model_train_2025/1st/Frog1/rename_2040/\"\n",
    "\n",
    "# List all .wav files in the directory\n",
    "wav_files = [f for f in os.listdir(recs_directory) if f.lower().endswith('.wav')]\n",
    "\n",
    "# Loop through .wav files and rename them based on the desired structure\n",
    "for wav_file in wav_files:\n",
    "    parts = wav_file.split('-') # Split the name by the hyphen \n",
    "    if len(parts) > 1: # Check if the split generated at least two parts (expected hyphen structure)\n",
    "        prefix = parts[0] # The first part is the part 0\n",
    "        suffix_parts = parts[1].split('_') # The second part is the 1, I want to split by _\n",
    "        new_suffix = '_'.join(suffix_parts[2:])  # Remove the first two elements of the second part or suffix.\n",
    "        new_name = f\"{prefix}-{new_suffix}\"\n",
    "        old_path = os.path.join(recs_directory, wav_file)\n",
    "        new_path = os.path.join(recs_directory, new_name)\n",
    "        os.rename(old_path, new_path)\n",
    "\n",
    "print(\"File renaming complete.\")"
   ]
  },
  {
   "cell_type": "code",
   "execution_count": 24,
   "id": "63f86131-dff8-4925-b7c1-92c32dd57255",
   "metadata": {},
   "outputs": [
    {
     "name": "stdout",
     "output_type": "stream",
     "text": [
      "Second elements after the hyphen removed from file names.\n"
     ]
    }
   ],
   "source": [
    "import os\n",
    "\n",
    "# Initialize directories and files\n",
    "recs_directory = \"/mnt/d/retraining_BirdNET/model_train_2025/1st/Frog2/\"\n",
    "\n",
    "# List all .wav files in the directory\n",
    "wav_files = [f for f in os.listdir(recs_directory) if f.lower().endswith('.wav')]\n",
    "\n",
    "# Loop through .wav files and rename them based on the desired structure\n",
    "for wav_file in wav_files:\n",
    "    parts = wav_file.split('-') # Split the name by the hyphen \n",
    "    if len(parts) > 1: # Check if the split generated at least two parts (expected hyphen structure)\n",
    "        prefix = parts[0] # The first part is the part 0\n",
    "        suffix_parts = parts[1].split('_') # The second part is the 1, I want to split by _\n",
    "        if len(suffix_parts) >= 3:\n",
    "            new_suffix = '_'.join([suffix_parts[0]] + suffix_parts[2:])  # Remove the second element ( I keep the 0, remove the 1 and keep from 2 onwards)\n",
    "            new_name = f\"{prefix}-{new_suffix}\"\n",
    "            old_path = os.path.join(recs_directory, wav_file)\n",
    "            new_path = os.path.join(recs_directory, new_name)\n",
    "            os.rename(old_path, new_path)\n",
    "\n",
    "print(\"Second elements after the hyphen removed from file names.\")"
   ]
  },
  {
   "cell_type": "markdown",
   "id": "281c0954-5652-4518-82e5-ddac7c590d0f",
   "metadata": {},
   "source": [
    "To remove an extra _ before the extension"
   ]
  },
  {
   "cell_type": "code",
   "execution_count": 18,
   "id": "34b42627-f25f-4864-9b1a-b2ee9b5af965",
   "metadata": {},
   "outputs": [
    {
     "name": "stdout",
     "output_type": "stream",
     "text": [
      "Extra underscores before extensions removed from file names.\n"
     ]
    }
   ],
   "source": [
    "import os\n",
    "\n",
    "directory = '/mnt/d/retraining_BirdNET/model_train_2025/1st/Frog1/background/'\n",
    "\n",
    "# List all .wav files in the directory\n",
    "wav_files = [f for f in os.listdir(directory) if f.lower().endswith('.wav')]\n",
    "\n",
    "# Loop through .wav files and rename them to remove extra underscores before the extension\n",
    "for wav_file in wav_files:\n",
    "    if '_.' in wav_file:\n",
    "        old_path = os.path.join(directory, wav_file)\n",
    "        new_name = wav_file.replace('_.', '.')  # Remove the extra underscore before the extension\n",
    "        new_path = os.path.join(directory, new_name)\n",
    "        os.rename(old_path, new_path)\n",
    "\n",
    "print(\"Extra underscores before extensions removed from file names.\")\n"
   ]
  }
 ],
 "metadata": {
  "kernelspec": {
   "display_name": "Python 3 (ipykernel)",
   "language": "python",
   "name": "python3"
  },
  "language_info": {
   "codemirror_mode": {
    "name": "ipython",
    "version": 3
   },
   "file_extension": ".py",
   "mimetype": "text/x-python",
   "name": "python",
   "nbconvert_exporter": "python",
   "pygments_lexer": "ipython3",
   "version": "3.9.17"
  }
 },
 "nbformat": 4,
 "nbformat_minor": 5
}
