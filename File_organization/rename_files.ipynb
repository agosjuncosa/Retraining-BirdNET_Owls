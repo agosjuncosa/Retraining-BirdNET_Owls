{
 "cells": [
  {
   "cell_type": "code",
   "execution_count": 67,
   "id": "eeb50345-955a-458b-8781-06cb954aec61",
   "metadata": {},
   "outputs": [
    {
     "name": "stdout",
     "output_type": "stream",
     "text": [
      "Renaming completed!\n"
     ]
    }
   ],
   "source": [
    "import os\n",
    "# Para remover el score\n",
    "# Path to the base directory containing all the .wav files\n",
    "base_path = '/mnt/e/retraining_BirdNET/model_train/2nd_train/Megascops choliba_Tropical Screech-Owl/'\n",
    "\n",
    "# Loop through each file in the base directory\n",
    "for filename in os.listdir(base_path):\n",
    "    if filename.endswith('.wav'):\n",
    "        \n",
    "        # Split the filename at the first underscore\n",
    "        new_filename = filename.split('_', 1)[-1]  # Keep everything after the first underscore\n",
    "        \n",
    "        # Create absolute old path and new path\n",
    "        old_path = os.path.join(base_path, filename)\n",
    "        new_file_path = os.path.join(base_path, new_filename)\n",
    "        \n",
    "        # Rename the file\n",
    "        os.rename(old_path, new_file_path)\n",
    "\n",
    "print(\"Renaming completed!\")\n"
   ]
  },
  {
   "cell_type": "code",
   "execution_count": 66,
   "id": "d0dc1715-6573-4f20-9d69-44029fbbc17a",
   "metadata": {},
   "outputs": [
    {
     "name": "stdout",
     "output_type": "stream",
     "text": [
      "Renaming completed!\n"
     ]
    }
   ],
   "source": [
    "import os\n",
    "# Para agregar un nombre al final\n",
    "# Path to the base directory containing all the site folders\n",
    "base_path = '/mnt/e/retraining_BirdNET/iterative_training/segments_validation/1st_model/Tropical Screech-Owl/dog/'\n",
    "\n",
    "# Loop through each directory in the base directory\n",
    "for filename in os.listdir(base_path):\n",
    "    # Check if the file has the extension .WAV\n",
    "    if filename.endswith('.wav'):\n",
    "        # Split the filename and extension\n",
    "        base_filename, extension = os.path.splitext(filename)\n",
    "        # Create a new filename by adding 'lluvia' before the extension\n",
    "        new_filename = f\"{base_filename}_dog{extension}\"\n",
    "        # Create absolute old path and new path\n",
    "        old_path = os.path.join(base_path, filename)\n",
    "        new_file_path = os.path.join(base_path, new_filename)\n",
    "        # Rename the file\n",
    "        os.rename(old_path, new_file_path)\n",
    "\n",
    "print(\"Renaming completed!\")\n"
   ]
  },
  {
   "cell_type": "code",
   "execution_count": 1,
   "id": "75cf73e2-df9b-4e83-bf8d-57f1133e855e",
   "metadata": {},
   "outputs": [
    {
     "name": "stdout",
     "output_type": "stream",
     "text": [
      "Renaming completed!\n"
     ]
    }
   ],
   "source": [
    "import os\n",
    "\n",
    "# Path to the base directory containing all the site folders\n",
    "base_path = '/mnt/e/rename/'\n",
    "\n",
    "# Loop through each directory in the base directory\n",
    "for filename in os.listdir(base_path):\n",
    "    # Check if the file has the extension .WAV\n",
    "    if filename.endswith('.txt'):\n",
    "        # Split the filename and extension\n",
    "        #base_filename, extension = os.path.splitext(filename)\n",
    "        # Create a new filename by adding 'lluvia' before the extension\n",
    "        new_filename = f\"overlaid_randomSNR_{filename}\"\n",
    "        # Create absolute old path and new path\n",
    "        old_path = os.path.join(base_path, filename)\n",
    "        new_file_path = os.path.join(base_path, new_filename)\n",
    "        # Rename the file\n",
    "        os.rename(old_path, new_file_path)\n",
    "\n",
    "print(\"Renaming completed!\")"
   ]
  },
  {
   "cell_type": "code",
   "execution_count": 19,
   "id": "92005b24-6710-4b21-8112-5ed8538d2090",
   "metadata": {},
   "outputs": [
    {
     "name": "stdout",
     "output_type": "stream",
     "text": [
      "Renaming completed!\n"
     ]
    }
   ],
   "source": [
    "import os\n",
    "\n",
    "# Path to the base directory containing all the site folders\n",
    "base_path = '/mnt/e/Backup_trainingBirdNET/train_test_data_BirdNET/train_data_BirdNET/train_clips_ARUs/Rooster/edit/'\n",
    "\n",
    "# Loop through each directory in the base directory\n",
    "for filename in os.listdir(base_path):\n",
    "    # Check if the file has the extension .WAV\n",
    "    if filename.endswith('.wav'):\n",
    "        #Split the filename and extension\n",
    "        base_filename, extension = os.path.splitext(filename)\n",
    "        \n",
    "           \n",
    "        # Isolate the '1_' part and the rest of the filename\n",
    "        prefix = base_filename[:1]  # This captures the '1_'\n",
    "        rest_of_filename = base_filename[2:]\n",
    "    \n",
    "        # Create a new filename by appending the prefix before the extension, at the end of the remaining filename\n",
    "        new_filename = f\"{rest_of_filename}_{prefix}{extension}\"\n",
    "       \n",
    "        # Create absolute old path and new path\n",
    "        old_path = os.path.join(base_path, filename)\n",
    "        new_file_path = os.path.join(base_path, new_filename)\n",
    "        # Rename the file\n",
    "        os.rename(old_path, new_file_path)\n",
    "\n",
    "print(\"Renaming completed!\")"
   ]
  },
  {
   "cell_type": "code",
   "execution_count": 1,
   "id": "dedc488d-72f7-4328-ba02-d80a234c8b1d",
   "metadata": {},
   "outputs": [
    {
     "name": "stdout",
     "output_type": "stream",
     "text": [
      "Renaming completed!\n"
     ]
    }
   ],
   "source": [
    "import os\n",
    "\n",
    "# Path to the base directory containing all the site folders\n",
    "base_path = '/mnt/e/Backup_trainingBirdNET/train_test_data2024/test_BirdNet/rename/'\n",
    "\n",
    "# Loop through each directory in the base directory\n",
    "for filename in os.listdir(base_path):\n",
    "    # Check if the file has the extension .WAV\n",
    "    if filename.endswith('.txt'):\n",
    "        # Split the filename and extension\n",
    "        #cbase_filename, extension = os.path.splitext(filename)\n",
    "        # Create a new filename by removing the first 8 elements of the filename\n",
    "        new_filename = filename[19:]\n",
    "        # Create absolute old path and new path\n",
    "        old_path = os.path.join(base_path, filename)\n",
    "        new_file_path = os.path.join(base_path, new_filename)\n",
    "        # Rename the file\n",
    "        os.rename(old_path, new_file_path)\n",
    "\n",
    "print(\"Renaming completed!\")"
   ]
  },
  {
   "cell_type": "code",
   "execution_count": 8,
   "id": "56f6f97e-c6cc-4c86-8855-e44bf2c1fe8e",
   "metadata": {},
   "outputs": [
    {
     "name": "stdout",
     "output_type": "stream",
     "text": [
      "File renaming complete.\n"
     ]
    }
   ],
   "source": [
    "import os\n",
    "\n",
    "# Path to the base directory containing all the site folders\n",
    "directory_path = '/mnt/d/night_rec/M23-ARU15-0908-1608/SN_02/'\n",
    "\n",
    "# Custom name to append\n",
    "custom_name = \"M23_SN02_\"\n",
    "\n",
    "# List all files in the directory\n",
    "all_files = os.listdir(directory_path)\n",
    "\n",
    "# Filter for only .wav files\n",
    "wav_files = [f for f in all_files if f.endswith('.WAV')]\n",
    "\n",
    "# Loop through each .wav file\n",
    "for wav_file in wav_files:\n",
    "    # Construct the full path to the file\n",
    "    full_path = os.path.join(directory_path, wav_file)\n",
    "    \n",
    "    # Append custom name to the original file name\n",
    "    new_name = custom_name + wav_file[9:]\n",
    "    #string[start:end]. If you omit the end, it will go till the end of the string.   \n",
    "    # Construct the full path to the renamed file\n",
    "    new_full_path = os.path.join(directory_path, new_name)\n",
    "    \n",
    "    # Rename the file\n",
    "    os.rename(full_path, new_full_path)\n",
    "\n",
    "print(\"File renaming complete.\")\n"
   ]
  }
 ],
 "metadata": {
  "kernelspec": {
   "display_name": "Python 3 (ipykernel)",
   "language": "python",
   "name": "python3"
  },
  "language_info": {
   "codemirror_mode": {
    "name": "ipython",
    "version": 3
   },
   "file_extension": ".py",
   "mimetype": "text/x-python",
   "name": "python",
   "nbconvert_exporter": "python",
   "pygments_lexer": "ipython3",
   "version": "3.9.17"
  }
 },
 "nbformat": 4,
 "nbformat_minor": 5
}
