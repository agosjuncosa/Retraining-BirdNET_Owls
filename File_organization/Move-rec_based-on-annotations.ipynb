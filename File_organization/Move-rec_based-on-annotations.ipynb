{
 "cells": [
  {
   "cell_type": "markdown",
   "id": "688b26a8-e10b-4601-8de3-31a23e4a84d6",
   "metadata": {},
   "source": [
    "### Moving specific .wav files base on annotation values"
   ]
  },
  {
   "cell_type": "code",
   "execution_count": 42,
   "id": "09a85fae-8940-4231-ac39-b950a1411ff4",
   "metadata": {},
   "outputs": [
    {
     "name": "stdout",
     "output_type": "stream",
     "text": [
      "File moving complete.\n"
     ]
    }
   ],
   "source": [
    "import os\n",
    "import csv\n",
    "import shutil\n",
    "\n",
    "# Initialize directories and files\n",
    "src_directory = \"/mnt/e/ARU_analisis/P14-ARU6(segundo-round)-2308-2409/detections_t0.3/Tropical Screech-Owl\"\n",
    "txt_file = \"/mnt/e/ARU_analisis/P14-ARU6(segundo-round)-2308-2409/detections_t0.3/Tropical Screech-Owl/t0.3TropicalScreechOwlEval.txt\"\n",
    "dest_directory = \"/mnt/e/ARU_analisis/P14-ARU6(segundo-round)-2308-2409/detections_t0.3/Tropical Screech-Owl/Vireo_chivi/\"\n",
    "\n",
    "# Create destination directory if it does not exist\n",
    "if not os.path.exists(dest_directory):\n",
    "    os.mkdir(dest_directory)\n",
    "\n",
    "# Read .txt file and store annotations in a list\n",
    "annotations = []\n",
    "with open(os.path.join(src_directory, txt_file), mode='r') as file:\n",
    "    reader = csv.DictReader(file, delimiter='\\t')  # assuming tab-delimited; change if needed\n",
    "    for row in reader:\n",
    "        annotations.append(row)\n",
    "\n",
    "# Filter annotations by desired value, e.g., 'noise'\n",
    "filtered_annotations = [a for a in annotations if a['Annotation'] == 'Vireo_chivi']\n",
    "\n",
    "# List all .wav files in the directory\n",
    "wav_files = [f for f in os.listdir(src_directory) if f.endswith('.wav')]\n",
    "\n",
    "# Loop through filtered annotations and copy matching .wav files\n",
    "\n",
    "# Loop through filtered annotations and move matching .wav files\n",
    "for annotation in filtered_annotations:\n",
    "    wav_name = annotation['Begin File']  # replace with your actual column name for the wav files\n",
    "    if wav_name in wav_files:\n",
    "        shutil.move(os.path.join(src_directory, wav_name), os.path.join(dest_directory, wav_name))\n",
    "\n",
    "print(\"File moving complete.\")\n"
   ]
  },
  {
   "cell_type": "markdown",
   "id": "4b9160ef-3c43-4c8b-a4ff-c0d069b0a19b",
   "metadata": {},
   "source": [
    "### Moving files based on substring in their filenames"
   ]
  },
  {
   "cell_type": "code",
   "execution_count": 4,
   "id": "3ece6bcb-bb2f-428c-940b-2c1355cd76f2",
   "metadata": {},
   "outputs": [],
   "source": [
    "import os\n",
    "import shutil\n",
    "\n",
    "def move_files_with_string(root_dir, dest_dir, search_string):\n",
    "    \"\"\"\n",
    "    Move WAV files containing a specific string in their filename to a destination directory.\n",
    "\n",
    "    Args:\n",
    "        root_dir (str): The root directory to search for files.\n",
    "        dest_dir (str): The directory to move matching files to.\n",
    "        search_string (str): The substring to search for in filenames.\n",
    "    \"\"\"\n",
    "    # Ensure the destination directory exists\n",
    "    os.makedirs(dest_dir, exist_ok=True)\n",
    "\n",
    "    # Walk through the directory\n",
    "    for dirpath, dirnames, filenames in os.walk(root_dir):\n",
    "        for filename in filenames:\n",
    "            # Check if the file is a WAV file and contains the search string\n",
    "            if filename.lower().endswith('.wav') and search_string.lower() in filename.lower():\n",
    "                # Construct full file path\n",
    "                source_path = os.path.join(dirpath, filename)\n",
    "                dest_path = os.path.join(dest_dir, filename)\n",
    "\n",
    "                # Move the file\n",
    "                shutil.move(source_path, dest_path)\n",
    "                print(f\"Moved: {source_path} -> {dest_path}\")\n"
   ]
  },
  {
   "cell_type": "code",
   "execution_count": 21,
   "id": "d9f22605-9e39-4e0d-9548-3a2c3219f055",
   "metadata": {},
   "outputs": [],
   "source": [
    "# Initialize directories and files\n",
    "root_dir = \"/mnt/d/retraining_BirdNET/model_train_2025/1st/Background/\"\n",
    "dest_dir = \"/mnt/d/retraining_BirdNET/model_train_2025/1st/Human vocal_Human vocal/\"\n",
    "search_string = \"human\" "
   ]
  },
  {
   "cell_type": "code",
   "execution_count": 22,
   "id": "5e8f0cd9-c1a5-42fb-942f-ac5d955b8c01",
   "metadata": {},
   "outputs": [
    {
     "name": "stdout",
     "output_type": "stream",
     "text": [
      "Moved: /mnt/d/retraining_BirdNET/model_train_2025/1st/Background/20220715_185000_human.wav -> /mnt/d/retraining_BirdNET/model_train_2025/1st/Human vocal_Human vocal/20220715_185000_human.wav\n"
     ]
    }
   ],
   "source": [
    "move_files_with_string(root_dir, dest_dir, search_string)"
   ]
  }
 ],
 "metadata": {
  "kernelspec": {
   "display_name": "Python 3 (ipykernel)",
   "language": "python",
   "name": "python3"
  },
  "language_info": {
   "codemirror_mode": {
    "name": "ipython",
    "version": 3
   },
   "file_extension": ".py",
   "mimetype": "text/x-python",
   "name": "python",
   "nbconvert_exporter": "python",
   "pygments_lexer": "ipython3",
   "version": "3.9.17"
  }
 },
 "nbformat": 4,
 "nbformat_minor": 5
}
