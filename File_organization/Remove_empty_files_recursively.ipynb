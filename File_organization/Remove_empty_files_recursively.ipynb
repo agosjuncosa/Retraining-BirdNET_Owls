{
 "cells": [
  {
   "cell_type": "markdown",
   "id": "5772ca6a-5342-4d7b-b146-9d9584210a0f",
   "metadata": {},
   "source": [
    "### Remove files with size ==  0 byte recursively"
   ]
  },
  {
   "cell_type": "code",
   "execution_count": 6,
   "id": "f2beb768-3de8-439d-930c-f5e0ddeb9220",
   "metadata": {},
   "outputs": [
    {
     "name": "stdout",
     "output_type": "stream",
     "text": [
      "The following 0-byte .wav files will be removed:\n",
      "/mnt/d/Disco6_Backup/night_rec/CH29-ARU7-2009-0410/SN_14/CH29_SN14_20221004_052000.WAV\n",
      "/mnt/d/Disco6_Backup/night_rec/CH29-ARU7-2009-0410/SN_14/CH29_SN14_20221004_061000.WAV\n",
      "/mnt/d/Disco6_Backup/night_rec/CH43-ARU29-0710-2810/SN_22/CH43_SN22_20221029_015000.WAV\n",
      "/mnt/d/Disco6_Backup/night_rec/CH43-ARU29-0710-2810/SN_22/CH43_SN22_20221029_020000.WAV\n",
      "/mnt/d/Disco6_Backup/night_rec/M38-ARU25-1509-0810/SN_22/M38_SN22_20221008_060000.WAV\n",
      "Total 0-byte files removed: 5\n"
     ]
    }
   ],
   "source": [
    "import os\n",
    "\n",
    "def remove_zero_byte_files(disk_folder):\n",
    "    \"\"\"\n",
    "    Scan all .wav files inside the specified folder and its subdirectories,\n",
    "    and remove files with a size of 0 bytes.\n",
    "    \n",
    "    Args:\n",
    "        disk_folder (str): Path to the disk folder to scan.\n",
    "    \"\"\"\n",
    "    # List to store files to be removed\n",
    "    zero_byte_files = []\n",
    "\n",
    "    # Walk through the directory recursively\n",
    "    for root, dirs, files in os.walk(disk_folder):\n",
    "        for file in files:\n",
    "            if file.lower().endswith('.wav'):  # Check for .wav files\n",
    "                file_path = os.path.join(root, file)\n",
    "                if os.path.getsize(file_path) == 0:  # Check if the file is 0 bytes\n",
    "                    zero_byte_files.append(file_path)\n",
    "\n",
    "    # Print and remove 0-byte files\n",
    "    if zero_byte_files:\n",
    "        print(\"The following 0-byte .wav files will be removed:\")\n",
    "        for file in zero_byte_files:\n",
    "            print(file)\n",
    "            os.remove(file)\n",
    "        print(f\"Total 0-byte files removed: {len(zero_byte_files)}\")\n",
    "    else:\n",
    "        print(\"No 0-byte .wav files found.\")\n",
    "\n",
    "# Example usage\n",
    "if __name__ == \"__main__\":\n",
    "    disk_folder = \"/mnt/d/Disco6_Backup/night_rec/\"  # Replace with the path to your disk folder\n",
    "    remove_zero_byte_files(disk_folder)\n"
   ]
  }
 ],
 "metadata": {
  "kernelspec": {
   "display_name": "Python 3 (ipykernel)",
   "language": "python",
   "name": "python3"
  },
  "language_info": {
   "codemirror_mode": {
    "name": "ipython",
    "version": 3
   },
   "file_extension": ".py",
   "mimetype": "text/x-python",
   "name": "python",
   "nbconvert_exporter": "python",
   "pygments_lexer": "ipython3",
   "version": "3.9.17"
  }
 },
 "nbformat": 4,
 "nbformat_minor": 5
}
