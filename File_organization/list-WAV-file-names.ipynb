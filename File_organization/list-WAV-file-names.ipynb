{
 "cells": [
  {
   "cell_type": "markdown",
   "id": "8f57d3d5-f2f5-427d-ba4e-765abe4bcd89",
   "metadata": {},
   "source": [
    "### Function to create a .txt with all .wav file names listed"
   ]
  },
  {
   "cell_type": "code",
   "execution_count": 1,
   "id": "c453e165-7b75-48c1-ab86-11df91e1f8b3",
   "metadata": {},
   "outputs": [],
   "source": [
    "import os\n",
    "import glob"
   ]
  },
  {
   "cell_type": "code",
   "execution_count": 2,
   "id": "a5e16b7a-7cda-4f99-81f2-c596c3ba22f0",
   "metadata": {},
   "outputs": [],
   "source": [
    "def list_wav_files_and_save(directory, output_file, ):\n",
    "    \"\"\"  \n",
    "    Recursively list all .WAV files under `directory` and save to `output_file`.\n",
    "    :param directory: The base directory to search for .WAV files.\n",
    "    :param output_file: Path of the .txt file to save the results.\n",
    "\n",
    "    \"\"\"\n",
    "    \n",
    "    # Print the directory to ensure it's correct\n",
    "    print(f'Searching for .WAV files in: {directory}')\n",
    "    \n",
    "    if not os.path.exists(directory):\n",
    "        print(f'The directory {directory} does not exist.')\n",
    "        return\n",
    "\n",
    "    # Find all .wav files recursively using .glob\n",
    "    wav_files = glob.glob(os.path.join(directory, '**', '*.WAV'), recursive=True)\n",
    "\n",
    "    # Convert to absolute paths\n",
    "\n",
    "    wav_files = [os.path.abspath(f) for f in wav_files]\n",
    "\n",
    "    # Save to file\n",
    "    with open(output_file, 'w') as f:\n",
    "        for path in wav_files:\n",
    "            f.write(f\"{path}\\n\")\n",
    "            \n",
    "    print(f\"Saved file list to: {output_file}\")\n"
   ]
  },
  {
   "cell_type": "code",
   "execution_count": 3,
   "id": "c7c2376f-d101-47c5-ac29-a2fdecdd6dac",
   "metadata": {},
   "outputs": [],
   "source": [
    "# Example usage\n",
    "root_dir = \"/mnt/d/retraining_BirdNET_2025/iterative_training/input_20%_2/\"\n",
    "output_txt = \"/mnt/d/retraining_BirdNET_2025/iterative_training/input_20%_2_WAV_file_list.txt\""
   ]
  },
  {
   "cell_type": "code",
   "execution_count": 4,
   "id": "9f9fc727-f894-42af-9fa9-c73473217a56",
   "metadata": {},
   "outputs": [
    {
     "name": "stdout",
     "output_type": "stream",
     "text": [
      "Searching for .WAV files in: /mnt/d/retraining_BirdNET_2025/iterative_training/input_20%_2/\n",
      "Saved file list to: /mnt/d/retraining_BirdNET_2025/iterative_training/input_20%_2_WAV_file_list.txt\n"
     ]
    }
   ],
   "source": [
    "list_wav_files_and_save(root_dir, output_txt)"
   ]
  }
 ],
 "metadata": {
  "kernelspec": {
   "display_name": "Python 3 (ipykernel)",
   "language": "python",
   "name": "python3"
  },
  "language_info": {
   "codemirror_mode": {
    "name": "ipython",
    "version": 3
   },
   "file_extension": ".py",
   "mimetype": "text/x-python",
   "name": "python",
   "nbconvert_exporter": "python",
   "pygments_lexer": "ipython3",
   "version": "3.9.17"
  }
 },
 "nbformat": 4,
 "nbformat_minor": 5
}
