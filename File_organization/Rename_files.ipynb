{
 "cells": [
  {
   "cell_type": "code",
   "execution_count": 5,
   "id": "627d7da0-6d9f-4509-931a-fbdcd2e4b2cf",
   "metadata": {},
   "outputs": [
    {
     "name": "stdout",
     "output_type": "stream",
     "text": [
      "File renaming complete.\n"
     ]
    }
   ],
   "source": [
    "import os\n",
    "\n",
    "# Directory containing the .wav files\n",
    "directory_path = \"/mnt/c/Users/agos-/OneDrive/Escritorio/ESCRITORIO/Doctorado/ANALISIS_DOCTORADO/procesamiento_audios/train_data_BirdNET/train_data_ready/Odontophorus capueira_Spot-winged Wood-Quail/\"\n",
    "\n",
    "# Custom name to append\n",
    "custom_name = \"_O.capueira\"\n",
    "\n",
    "# List all files in the directory\n",
    "all_files = os.listdir(directory_path)\n",
    "\n",
    "# Filter for only .wav files\n",
    "wav_files = [f for f in all_files if f.endswith('.wav')]\n",
    "\n",
    "# Loop through each .wav file\n",
    "for wav_file in wav_files:\n",
    "    # Construct the full path to the file\n",
    "    full_path = os.path.join(directory_path, wav_file)\n",
    "    \n",
    "    # Append custom name to the original file name (minus the .wav extension)\n",
    "    new_name = wav_file[:-4] + custom_name + \".wav\"\n",
    "    \n",
    "    # Construct the full path to the renamed file\n",
    "    new_full_path = os.path.join(directory_path, new_name)\n",
    "    \n",
    "    # Rename the file\n",
    "    os.rename(full_path, new_full_path)\n",
    "\n",
    "print(\"File renaming complete.\")\n"
   ]
  }
 ],
 "metadata": {
  "kernelspec": {
   "display_name": "Python 3 (ipykernel)",
   "language": "python",
   "name": "python3"
  },
  "language_info": {
   "codemirror_mode": {
    "name": "ipython",
    "version": 3
   },
   "file_extension": ".py",
   "mimetype": "text/x-python",
   "name": "python",
   "nbconvert_exporter": "python",
   "pygments_lexer": "ipython3",
   "version": "3.9.17"
  }
 },
 "nbformat": 4,
 "nbformat_minor": 5
}
