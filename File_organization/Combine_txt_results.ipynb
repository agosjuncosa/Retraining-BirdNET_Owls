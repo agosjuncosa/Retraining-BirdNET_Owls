{
 "cells": [
  {
   "cell_type": "code",
   "execution_count": 1,
   "id": "48eef238-dc2d-4267-90db-3f40aee086f9",
   "metadata": {},
   "outputs": [],
   "source": [
    "import os\n",
    "from pathlib import Path"
   ]
  },
  {
   "cell_type": "code",
   "execution_count": 2,
   "id": "22bcf630-cdb7-47db-997c-535f3d5875de",
   "metadata": {},
   "outputs": [
    {
     "name": "stdout",
     "output_type": "stream",
     "text": [
      "Successfully created: /mnt/d/retraining_BirdNET_2025/iterative_training/results/model_1/BirdNET_SelectionTable.txt\n"
     ]
    }
   ],
   "source": [
    "# Define directory containing all BirdNET .txt results\n",
    "txt_directory = \"/mnt/d/retraining_BirdNET_2025/iterative_training/results/model_1/\" \n",
    "\n",
    "# Output file path\n",
    "output_file = os.path.join(txt_directory, \"BirdNET_SelectionTable.txt\")\n",
    "\n",
    "# Get all .txt files in the directory (excluding previous combined file if it exists)\n",
    "txt_files = [f for f in Path(txt_directory).glob(\"*.txt\") if f.name != \"BirdNET_SelectionTable.txt\"]\n",
    "\n",
    "# Start merging process\n",
    "with open(output_file, \"w\", encoding=\"utf-8\") as outfile:\n",
    "    header_written = False\n",
    "    global_selection_id = 1  # 🔢 Start continuous numbering from 1\n",
    "\n",
    "    for txt_file in txt_files:\n",
    "        with open(txt_file, \"r\", encoding=\"utf-8\") as infile:\n",
    "            lines = infile.readlines()\n",
    "            \n",
    "            # Skip empty files\n",
    "            if len(lines) < 2:\n",
    "                continue  \n",
    "\n",
    "            # Write header only once\n",
    "            if not header_written:\n",
    "                outfile.write(lines[0])  # Write header from the first file\n",
    "                header_written = True\n",
    "\n",
    "            # Process each line (skip header)\n",
    "            for line in lines[1:]:\n",
    "                parts = line.strip().split(\"\\t\")  # Split line by tab\n",
    "                parts[0] = str(global_selection_id)  # Assign new continuous ID\n",
    "                global_selection_id += 1  # Increment ID\n",
    "                \n",
    "                # Write updated line to output file\n",
    "                outfile.write(\"\\t\".join(parts) + \"\\n\")  \n",
    "\n",
    "print(f\"Successfully created: {output_file}\")\n"
   ]
  }
 ],
 "metadata": {
  "kernelspec": {
   "display_name": "Python 3 (ipykernel)",
   "language": "python",
   "name": "python3"
  },
  "language_info": {
   "codemirror_mode": {
    "name": "ipython",
    "version": 3
   },
   "file_extension": ".py",
   "mimetype": "text/x-python",
   "name": "python",
   "nbconvert_exporter": "python",
   "pygments_lexer": "ipython3",
   "version": "3.9.17"
  }
 },
 "nbformat": 4,
 "nbformat_minor": 5
}
