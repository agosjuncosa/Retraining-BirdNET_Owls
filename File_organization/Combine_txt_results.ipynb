{
 "cells": [
  {
   "cell_type": "markdown",
   "id": "b8f4fd73-fdc3-40c0-9160-6e3ac547db66",
   "metadata": {},
   "source": [
    "### This code is intented to merge all the individuals .txt into one single BirdNET_Selection.txt. \n",
    "Normally originated by BirdNET when using `combine_results` option **but when process stop in the middle** and one has to reinitiate the process using the option `skip_existing_results` to avoid reanalizing already analyzed data the combines .txt updates and grenerates one having only the new .txt. "
   ]
  },
  {
   "cell_type": "code",
   "execution_count": 5,
   "id": "48eef238-dc2d-4267-90db-3f40aee086f9",
   "metadata": {},
   "outputs": [],
   "source": [
    "import os\n",
    "from pathlib import Path"
   ]
  },
  {
   "cell_type": "code",
   "execution_count": 6,
   "id": "4c5b4e2e-c77d-4658-a201-386dee0ba897",
   "metadata": {},
   "outputs": [],
   "source": [
    "# Define directory containing all BirdNET_SelectionTable*.txt files\n",
    "txt_directory = \"/mnt/d/night_recordings_analysis/\""
   ]
  },
  {
   "cell_type": "code",
   "execution_count": 7,
   "id": "22bcf630-cdb7-47db-997c-535f3d5875de",
   "metadata": {},
   "outputs": [
    {
     "name": "stdout",
     "output_type": "stream",
     "text": [
      "Successfully created: /mnt/d/night_recordings_analysis/BirdNET_GlobalSelectionTable.txt\n"
     ]
    }
   ],
   "source": [
    "# Output file path\n",
    "output_file = os.path.join(txt_directory, \"BirdNET_GlobalSelectionTable.txt\")\n",
    "\n",
    "# Get all relevant .txt files (only BirdNET_SelectionTable*.txt except the final output)\n",
    "txt_files = [\n",
    "    f for f in Path(txt_directory).glob(\"BirdNET_SelectionTable*.txt\")\n",
    "    if f.name != \"BirdNET_GlobalSelectionTable.txt\"\n",
    "]\n",
    "\n",
    "# Start merging process\n",
    "with open(output_file, \"w\", encoding=\"utf-8\") as outfile:\n",
    "    header_written = False\n",
    "    global_selection_id = 1  # Start continuous numbering from 1\n",
    "\n",
    "    for txt_file in txt_files:\n",
    "        with open(txt_file, \"r\", encoding=\"utf-8\") as infile:\n",
    "            lines = infile.readlines()\n",
    "\n",
    "            # Skip empty files\n",
    "            if len(lines) < 2:\n",
    "                continue\n",
    "\n",
    "            # Write header only once\n",
    "            if not header_written:\n",
    "                outfile.write(lines[0])  # Write header from the first file\n",
    "                header_written = True\n",
    "\n",
    "            # Process each line (skip header)\n",
    "            for line in lines[1:]:\n",
    "                parts = line.strip().split(\"\\t\")\n",
    "                parts[0] = str(global_selection_id)  # Assign new continuous ID\n",
    "                global_selection_id += 1\n",
    "                outfile.write(\"\\t\".join(parts) + \"\\n\")\n",
    "\n",
    "print(f\"Successfully created: {output_file}\")\n",
    "\n"
   ]
  },
  {
   "cell_type": "code",
   "execution_count": 12,
   "id": "f7adcfac-88d3-4e81-a1da-969ec8cc0cb0",
   "metadata": {},
   "outputs": [
    {
     "name": "stdout",
     "output_type": "stream",
     "text": [
      "Number of lines: 8145795\n"
     ]
    }
   ],
   "source": [
    "line_count = 0\n",
    "with open(output_file, 'r', encoding=\"utf-8\", errors='ignore') as t:\n",
    "    for _ in t:\n",
    "        line_count += 1\n",
    "\n",
    "print(f\"Number of lines: {line_count}\")"
   ]
  },
  {
   "cell_type": "markdown",
   "id": "3b918564-f0aa-4a1e-8bb4-701e580fde0f",
   "metadata": {},
   "source": [
    "### This code merge all .txt files with BirdNET selections recursviely from inner directories"
   ]
  },
  {
   "cell_type": "markdown",
   "id": "6e017b2f-f77c-43fb-96c4-8440466fc8c7",
   "metadata": {},
   "source": [
    "### Scanning subsidrectories manually"
   ]
  },
  {
   "cell_type": "code",
   "execution_count": 4,
   "id": "36d22925-8464-4a7c-ad6d-c6c85fa8fda8",
   "metadata": {},
   "outputs": [
    {
     "name": "stdout",
     "output_type": "stream",
     "text": [
      "Successfully created: /mnt/d/night_recordings_analysis/Disco4/BirdNET_SelectionTable.txt\n"
     ]
    }
   ],
   "source": [
    "import os\n",
    "from pathlib import Path\n",
    "\n",
    "root_dir = \"/mnt/d/night_recordings_analysis/Disco4/\" \n",
    "\n",
    "output_file = os.path.join(root_dir, \"BirdNET_SelectionTable.txt\")\n",
    "\n",
    "# Start merging process\n",
    "with open(output_file, \"w\", encoding=\"utf-8\") as outfile:\n",
    "    header_written = False\n",
    "    global_selection_id = 1  # Start continuous numbering from 1\n",
    "    \n",
    "    for site in os.listdir(root_dir):\n",
    "        site_dir = os.path.join(root_dir, site)\n",
    "        if os.path.isdir(site_dir):\n",
    "            # Loop through each survey night directory within the site\n",
    "            for survey_night in os.listdir(site_dir):\n",
    "                sn_dir = os.path.join(site_dir, survey_night)\n",
    "                if os.path.isdir(sn_dir):\n",
    "                    # Get all .txt files in the directory\n",
    "                    txt_files = [f for f in Path(sn_dir).glob(\"*.txt\")]\n",
    "                    \n",
    "                    for txt_file in txt_files:\n",
    "                        with open(txt_file, \"r\", encoding=\"utf-8\") as infile:\n",
    "                            lines = infile.readlines()\n",
    "                            \n",
    "                            # Skip empty files\n",
    "                            if len(lines) < 2:\n",
    "                                continue\n",
    "                                \n",
    "                            # Write header only once\n",
    "                            if not header_written:\n",
    "                                outfile.write(lines[0])  # Write header from the first file\n",
    "                                header_written = True\n",
    "                                \n",
    "                            # Write updated lines\n",
    "                            for line in lines[1:]:\n",
    "                                parts = line.strip().split(\"\\t\")  # Split line by tab\n",
    "                                parts[0] = str(global_selection_id)  # Assign new continuous ID\n",
    "                                global_selection_id += 1  # Increment ID\n",
    "                                outfile.write(\"\\t\".join(parts) + \"\\n\")  \n",
    "\n",
    "print(f\"Successfully created: {output_file}\")"
   ]
  },
  {
   "cell_type": "markdown",
   "id": "7dbdee11-fb79-45e6-85af-cd3a1ba8a753",
   "metadata": {},
   "source": [
    "### Using *rglob* to automatically and recursively scann all subdirectories"
   ]
  },
  {
   "cell_type": "code",
   "execution_count": 1,
   "id": "33f3a534-d1be-4d1c-ad4f-2286aec2d0ba",
   "metadata": {},
   "outputs": [],
   "source": [
    "import os\n",
    "from pathlib import Path"
   ]
  },
  {
   "cell_type": "code",
   "execution_count": 2,
   "id": "68d1ea55-4b93-4c37-9cd5-1f50a98be2d6",
   "metadata": {},
   "outputs": [],
   "source": [
    "# Root directory with multiple site/SN folders\n",
    "root_dir = \"/mnt/d/night_recordings_analysis/Disco4/\"\n",
    "\n",
    "# Output file path\n",
    "output_file = os.path.join(root_dir, \"BirdNET_SelectionTable.txt\")"
   ]
  },
  {
   "cell_type": "code",
   "execution_count": 3,
   "id": "9ba08cfb-96de-414f-99ab-9e09e0d233aa",
   "metadata": {},
   "outputs": [
    {
     "name": "stdout",
     "output_type": "stream",
     "text": [
      "Successfully created: /mnt/d/night_recordings_analysis/Disco4/BirdNET_SelectionTable.txt\n"
     ]
    }
   ],
   "source": [
    "# Prepare to write output just once\n",
    "with open(output_file, \"w\", encoding=\"utf-8\") as outfile:\n",
    "    header_written = False\n",
    "    global_selection_id = 1  # Continuous ID\n",
    "\n",
    "    # Recursively find all .txt files in subdirectories\n",
    "    for txt_file in Path(root_dir).rglob(\"*.txt\"):  # rglob recursively looks inside each subsirectory for .txt files.\n",
    "        if txt_file.name == \"BirdNET_SelectionTable.txt\":\n",
    "            continue  # Skip existing merged file if re-running\n",
    "\n",
    "        with open(txt_file, \"r\", encoding=\"utf-8\") as infile:\n",
    "            lines = infile.readlines()\n",
    "\n",
    "            if len(lines) < 2:\n",
    "                continue  # Skip empty or header-only files\n",
    "\n",
    "            # Write header only once (from first file)\n",
    "            if not header_written:\n",
    "                outfile.write(lines[0])\n",
    "                header_written = True\n",
    "\n",
    "            # Process the lines (skipping header line)\n",
    "            for line in lines[1:]:\n",
    "                parts = line.strip().split(\"\\t\")\n",
    "                parts[0] = str(global_selection_id)  # Set new ID\n",
    "                global_selection_id += 1\n",
    "                outfile.write(\"\\t\".join(parts) + \"\\n\")\n",
    "\n",
    "print(f\"Successfully created: {output_file}\")\n"
   ]
  },
  {
   "cell_type": "code",
   "execution_count": null,
   "id": "0bfde456-4651-4081-a693-5dad9ed3664a",
   "metadata": {},
   "outputs": [],
   "source": []
  }
 ],
 "metadata": {
  "kernelspec": {
   "display_name": "Python 3 (ipykernel)",
   "language": "python",
   "name": "python3"
  },
  "language_info": {
   "codemirror_mode": {
    "name": "ipython",
    "version": 3
   },
   "file_extension": ".py",
   "mimetype": "text/x-python",
   "name": "python",
   "nbconvert_exporter": "python",
   "pygments_lexer": "ipython3",
   "version": "3.9.17"
  }
 },
 "nbformat": 4,
 "nbformat_minor": 5
}
