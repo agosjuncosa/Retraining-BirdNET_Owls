{
 "cells": [
  {
   "cell_type": "markdown",
   "id": "02af9e80-f523-416f-b127-9215fa0d5bd9",
   "metadata": {},
   "source": [
    "###  Function to count the number of .WAV files in a directory, including all subdirectories."
   ]
  },
  {
   "cell_type": "code",
   "execution_count": 2,
   "id": "6a4f0b26-92e9-441b-95e2-75fcf66ce9da",
   "metadata": {},
   "outputs": [],
   "source": [
    "import os\n",
    "import glob\n",
    "\n",
    "def count_wav_files(directory):\n",
    "    \"\"\"  \n",
    "    :param directory: The base directory to search for .WAV files.\n",
    "    :return: The count of .WAV files.\n",
    "    \"\"\"\n",
    "    # Print the directory to ensure it's correct\n",
    "    print(f'Searching in directory: {directory}')\n",
    "    \n",
    "    # Ensure the directory exists\n",
    "    if not os.path.exists(directory):\n",
    "        print(f'The directory {directory} does not exist.')\n",
    "        return 0\n",
    "    \n",
    "    # Use glob to recursively find all .wav files\n",
    "    wav_files = glob.glob(os.path.join(directory, '**', '*.WAV'), recursive=True)\n",
    "      \n",
    "    # Return the count of .wav files\n",
    "    return len(wav_files)\n",
    "\n"
   ]
  },
  {
   "cell_type": "code",
   "execution_count": 3,
   "id": "825a0f43-87d2-467e-b1fe-8b1b651b65c1",
   "metadata": {},
   "outputs": [
    {
     "name": "stdout",
     "output_type": "stream",
     "text": [
      "Searching in directory: /mnt/d/night_recordings/\n",
      "Total number of .WAV files: 43325\n"
     ]
    }
   ],
   "source": [
    "# Example usage\n",
    "directory = '/mnt/d/night_recordings/'  # Replace with the path to your directory\n",
    "wav_file_count = count_wav_files(directory)\n",
    "print(f'Total number of .WAV files: {wav_file_count}')"
   ]
  },
  {
   "cell_type": "raw",
   "id": "9684316b-6f0b-41de-9436-3a2f81870724",
   "metadata": {},
   "source": [
    "En night recordings del disco 3 hay 43325 audios de 2 min lo que equivale a 1444 horas de grabacion. Si yo pensaba que mi subset sea de 105 horas eso sera cerca de 1/13, es muy poco...Asumiendno que los discos tienen todos la misma hora seria mas o menos un total de 7220 horas nocturnas. Algo representativo podria ser un 10% seria un total de 722 horas, puedo probar cuanto lleva eso. Seria aprox la mitas de audios de un disco, 21660. "
   ]
  },
  {
   "cell_type": "code",
   "execution_count": 7,
   "id": "71f1d112-dcc3-4084-baf6-801b15badd0c",
   "metadata": {},
   "outputs": [
    {
     "name": "stdout",
     "output_type": "stream",
     "text": [
      "Searching in directory: /mnt/d/night_recordings/count\n",
      "Total number of .WAV files: 21505\n"
     ]
    }
   ],
   "source": [
    "directory = '/mnt/d/night_recordings/count'  # Replace with the path to your directory\n",
    "wav_file_count = count_wav_files(directory)\n",
    "print(f'Total number of .WAV files: {wav_file_count}')"
   ]
  },
  {
   "cell_type": "code",
   "execution_count": null,
   "id": "abf2dedf-0abf-44d9-a309-dbdc5feaeefe",
   "metadata": {},
   "outputs": [],
   "source": []
  },
  {
   "cell_type": "code",
   "execution_count": null,
   "id": "75c34634-9b15-4033-8507-3c19be67a504",
   "metadata": {},
   "outputs": [],
   "source": []
  }
 ],
 "metadata": {
  "kernelspec": {
   "display_name": "Python 3 (ipykernel)",
   "language": "python",
   "name": "python3"
  },
  "language_info": {
   "codemirror_mode": {
    "name": "ipython",
    "version": 3
   },
   "file_extension": ".py",
   "mimetype": "text/x-python",
   "name": "python",
   "nbconvert_exporter": "python",
   "pygments_lexer": "ipython3",
   "version": "3.9.17"
  }
 },
 "nbformat": 4,
 "nbformat_minor": 5
}
