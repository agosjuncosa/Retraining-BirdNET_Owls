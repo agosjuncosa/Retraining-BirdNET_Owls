{
 "cells": [
  {
   "cell_type": "markdown",
   "id": "ce7393b4-8524-4db4-9d9d-e74d7b9ef9f8",
   "metadata": {},
   "source": [
    "### BirdNET Model B: Upsampled Data \n",
    "📌 Goal\n",
    "* **Shift low-frequency sounds into a higher frequency range (1-2 kHz) where BirdNET may be more sensitive.**\n",
    "* **Retain species-specific harmonic structure, avoiding unnatural distortions.**\n",
    "\n",
    "**-> Apply Pitch Shift (Upsampling) to Training Data**\n",
    "\n",
    "The target upsampling shift depends on the species:\n",
    "* 1 octave shift (n_steps=12) → Moves 300 Hz calls to ~600 Hz\n",
    "* 2 octaves shift (n_steps=24) → Moves 300 Hz calls to ~1.2 kHz\n",
    "* 3 octaves shift (n_steps=36) → Moves 300 Hz calls to ~2.4 kHz"
   ]
  },
  {
   "cell_type": "code",
   "execution_count": null,
   "id": "02f9dba8-0753-4510-ac1f-0fa5b80e5a72",
   "metadata": {},
   "outputs": [],
   "source": [
    "import librosa\n",
    "import soundfile as sf\n",
    "\n",
    "def upsample_audio(filename, n_steps=24):  # Default to 2 octaves\n",
    "    y, sr = librosa.load(filename, sr=None)\n",
    "    y_shifted = librosa.effects.pitch_shift(y, sr, n_steps=n_steps)\n",
    "    sf.write(filename.replace(\".wav\", \"_upsampled.wav\"), y_shifted, sr)\n",
    "\n",
    "# Example Usage:\n",
    "upsample_audio(\"low_freq_species.wav\", n_steps=24)  # Shift 2 octaves\n"
   ]
  }
 ],
 "metadata": {
  "kernelspec": {
   "display_name": "Python 3 (ipykernel)",
   "language": "python",
   "name": "python3"
  },
  "language_info": {
   "codemirror_mode": {
    "name": "ipython",
    "version": 3
   },
   "file_extension": ".py",
   "mimetype": "text/x-python",
   "name": "python",
   "nbconvert_exporter": "python",
   "pygments_lexer": "ipython3",
   "version": "3.9.17"
  }
 },
 "nbformat": 4,
 "nbformat_minor": 5
}
