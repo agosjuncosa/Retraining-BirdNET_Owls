{
 "cells": [
  {
   "cell_type": "code",
   "execution_count": 1,
   "id": "f199ed00-90fb-428a-8888-5d69b1de8af4",
   "metadata": {},
   "outputs": [],
   "source": [
    "import os\n",
    "import shutil\n",
    "import random"
   ]
  },
  {
   "cell_type": "code",
   "execution_count": 2,
   "id": "554806f7-65de-4144-be5b-25d77561f660",
   "metadata": {},
   "outputs": [],
   "source": [
    "# Define the root directory containing night recordings\n",
    "root_dir = '/mnt/d/night_recordings/'\n",
    "# Define the target directory to store the extracted files\n",
    "target_dir = '/mnt/e/retraining_BirdNET/model_validation/input/'\n"
   ]
  },
  {
   "cell_type": "code",
   "execution_count": 3,
   "id": "49a3e6bd-9416-4d94-ba7d-296d5ec8a17d",
   "metadata": {},
   "outputs": [],
   "source": [
    "# Define the night periods and their corresponding time ranges\n",
    "night_periods = {\n",
    "    'Late_night': ['000000', '033000'],\n",
    "    'Dawn': ['034000', '071000'],\n",
    "    'Dusk': ['180000', '213000'],\n",
    "    'Night': ['214000', '235000']\n",
    "}"
   ]
  },
  {
   "cell_type": "code",
   "execution_count": 4,
   "id": "564c405b-27dd-4f8c-9c05-b69b96d6538e",
   "metadata": {},
   "outputs": [],
   "source": [
    "# Function to check if a time string is within a specific period\n",
    "def is_within_period(time_str, period):\n",
    "    start, end = night_periods[period]\n",
    "    if start <= time_str <= end:\n",
    "        return True\n",
    "    return False"
   ]
  },
  {
   "cell_type": "code",
   "execution_count": 5,
   "id": "73903e0d-311a-4ae4-863d-0e1ab9c3bb04",
   "metadata": {},
   "outputs": [
    {
     "name": "stdout",
     "output_type": "stream",
     "text": [
      "Files have been successfully copied to the target directory.\n"
     ]
    }
   ],
   "source": [
    "# Loop through each site directory\n",
    "for site in os.listdir(root_dir):\n",
    "    site_dir = os.path.join(root_dir, site)\n",
    "    if os.path.isdir(site_dir):\n",
    "        # Initialize a dictionary to store files for each night period\n",
    "        period_files = {period: [] for period in night_periods}\n",
    "\n",
    "        # Loop through each survey night directory within the site\n",
    "        for survey_night in os.listdir(site_dir):\n",
    "            sn_dir = os.path.join(site_dir, survey_night)\n",
    "            if os.path.isdir(sn_dir):\n",
    "                # Loop through each audio file within the survey night directory\n",
    "                for audio_file in os.listdir(sn_dir):\n",
    "                    if audio_file.lower().endswith('.wav'):\n",
    "                        # Extract the time part from the audio file name\n",
    "                        time_part = audio_file.split('_')[-1][:6] #the [-1] select the last substring of the filename\n",
    "                        # Check which period the time part belongs to and add to the respective list\n",
    "                        for period in night_periods:\n",
    "                            if is_within_period(time_part, period):\n",
    "                                period_files[period].append(os.path.join(sn_dir, audio_file))\n",
    "        \n",
    "        # Randomly select 41 files from each period and copy them to the target directory\n",
    "        for period in period_files:\n",
    "            selected_files = random.sample(period_files[period], min(41, len(period_files[period])))\n",
    "            for file_path in selected_files:\n",
    "                shutil.copy(file_path, target_dir)\n",
    "\n",
    "print(\"Files have been successfully copied to the target directory.\")\n"
   ]
  },
  {
   "cell_type": "code",
   "execution_count": null,
   "id": "e1d56429-968c-4510-b40d-2633a8fdd933",
   "metadata": {},
   "outputs": [],
   "source": []
  },
  {
   "cell_type": "code",
   "execution_count": null,
   "id": "1d0b7594-ed24-4c69-bae7-10114139a936",
   "metadata": {},
   "outputs": [],
   "source": []
  }
 ],
 "metadata": {
  "kernelspec": {
   "display_name": "Python 3 (ipykernel)",
   "language": "python",
   "name": "python3"
  },
  "language_info": {
   "codemirror_mode": {
    "name": "ipython",
    "version": 3
   },
   "file_extension": ".py",
   "mimetype": "text/x-python",
   "name": "python",
   "nbconvert_exporter": "python",
   "pygments_lexer": "ipython3",
   "version": "3.9.17"
  }
 },
 "nbformat": 4,
 "nbformat_minor": 5
}
