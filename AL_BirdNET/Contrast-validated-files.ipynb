{
 "cells": [
  {
   "cell_type": "markdown",
   "id": "a8a8d147-5769-4a0b-a35b-a6697a1a854e",
   "metadata": {},
   "source": [
    "### Compare already validated but unused files with newly selected ones and copy-replace"
   ]
  },
  {
   "cell_type": "markdown",
   "id": "13c66d74-95f6-4405-9d62-7cb1fdf57829",
   "metadata": {},
   "source": [
    "This code is to be used in the process from iteration 3 onwards as from that point there will be validated clips coming form top scoring selections that were not yet been used for training. To avoid validating repeated clips, this code will read the files within the folder `unused_validated_clips` with the clips selected for each of the classes so it will recursively scan all the `class_folders` which are inside the `segments_validation/uncertainty/` folder. Inside this last directory will be lcoated the `class_folders` these could be the terminal folders in which case inside those there will be `.WAV`. It could also happen that if some classes are well-performing classes, then inside the `class_folder` there will be two other folders named `top_scoring` and `for_training`, in this case, the code should scan *only* the `for_training` folder."
   ]
  },
  {
   "cell_type": "markdown",
   "id": "5c81f251-e72b-484e-9484-ba597c91607a",
   "metadata": {},
   "source": [
    "I need two functions one to extract the core filename which is already defined as extract_core_filename. Then I need a function to move or replace files from validated_files directory into the corresponding folders in which there is a clips named like this one it is not move actually is copy and replace in the destin folder. "
   ]
  },
  {
   "cell_type": "code",
   "execution_count": 6,
   "id": "d5475766-cff8-4a5b-981c-3b500b4f5ea9",
   "metadata": {},
   "outputs": [],
   "source": [
    "import os\n",
    "import shutil\n",
    "import glob\n",
    "import pandas as pd\n",
    "from pathlib import Path"
   ]
  },
  {
   "cell_type": "code",
   "execution_count": 7,
   "id": "7d14871d-eda0-41b3-a860-55b06c3af8be",
   "metadata": {},
   "outputs": [],
   "source": [
    "# Load directories\n",
    "validated_clips_dir = '/mnt/d/retraining_BirdNET_2025/iterative_training/segments_validation/unused_validated_clips/'\n",
    "selected_uncertainty_dir = '/mnt/d/retraining_BirdNET_2025/iterative_training/segments_validation/it_3/uncertainty/not_validated/'\n",
    "\n",
    "# Path to tracker file\n",
    "tracker_path = os.path.join(validated_clips_dir, 'unused_validated_clips_tracker.csv')\n"
   ]
  },
  {
   "cell_type": "code",
   "execution_count": 8,
   "id": "4f002c54-550d-410c-be53-b9fabd8219f9",
   "metadata": {},
   "outputs": [],
   "source": [
    "# Function to extract elements 1 to 5 of the filename for comparison\n",
    "def extract_core_filename(filename):\n",
    "    parts = Path(filename).stem.split('_')  # Remove extension and split filename\n",
    "    return '_'.join(parts[1:6])  # Extract elements [1] to [5] "
   ]
  },
  {
   "cell_type": "code",
   "execution_count": 9,
   "id": "2be21d66-213a-4ef4-a855-6983694a5dad",
   "metadata": {},
   "outputs": [],
   "source": [
    "# Load tracker data and create mapping from core_filename to full filename\n",
    "if os.path.exists(tracker_path):\n",
    "    tracker_df = pd.read_csv(tracker_path)\n",
    "    validated_map = dict(zip(tracker_df['core_filename'], tracker_df['file']))\n",
    "else:\n",
    "    print(f\"Tracker file not found\")\n",
    "    exit()"
   ]
  },
  {
   "cell_type": "code",
   "execution_count": 10,
   "id": "ef6c5de9-aef9-41a0-99eb-a9c4296d6ada",
   "metadata": {},
   "outputs": [
    {
     "name": "stdout",
     "output_type": "stream",
     "text": [
      "Deleted existing file: /mnt/d/retraining_BirdNET_2025/iterative_training/segments_validation/test_contrast_files/uncertainty/Tropical Screech-Owl/top_scoring/1.0_84_CH18_SN13_20220805_013000.WAV\n",
      "Moved and replaced: /mnt/d/retraining_BirdNET_2025/iterative_training/segments_validation/test_contrast_files/unused_validated_clips/0.9999_84_CH18_SN13_20220805_013000_M.choliba.WAV → /mnt/d/retraining_BirdNET_2025/iterative_training/segments_validation/test_contrast_files/uncertainty/Tropical Screech-Owl/top_scoring/0.9999_84_CH18_SN13_20220805_013000_M.choliba.WAV\n",
      "Deleted existing file: /mnt/d/retraining_BirdNET_2025/iterative_training/segments_validation/test_contrast_files/uncertainty/Tropical Screech-Owl/top_scoring/1.0_42_CH18_SN07_20220729_201000.WAV\n",
      "Moved and replaced: /mnt/d/retraining_BirdNET_2025/iterative_training/segments_validation/test_contrast_files/unused_validated_clips/0.9999_42_CH18_SN07_20220729_201000_M.choliba.WAV → /mnt/d/retraining_BirdNET_2025/iterative_training/segments_validation/test_contrast_files/uncertainty/Tropical Screech-Owl/top_scoring/0.9999_42_CH18_SN07_20220729_201000_M.choliba.WAV\n",
      "Deleted existing file: /mnt/d/retraining_BirdNET_2025/iterative_training/segments_validation/test_contrast_files/uncertainty/Tropical Screech-Owl/top_scoring/0.9999_87_CH18_SN09_20220731_213000.WAV\n",
      "Moved and replaced: /mnt/d/retraining_BirdNET_2025/iterative_training/segments_validation/test_contrast_files/unused_validated_clips/0.9999_87_CH18_SN09_20220731_213000_M.choliba.WAV → /mnt/d/retraining_BirdNET_2025/iterative_training/segments_validation/test_contrast_files/uncertainty/Tropical Screech-Owl/top_scoring/0.9999_87_CH18_SN09_20220731_213000_M.choliba.WAV\n",
      "Deleted existing file: /mnt/d/retraining_BirdNET_2025/iterative_training/segments_validation/test_contrast_files/uncertainty/Tropical Screech-Owl/top_scoring/0.9999_54_CH23_SN17_20220919_223000.WAV\n",
      "Moved and replaced: /mnt/d/retraining_BirdNET_2025/iterative_training/segments_validation/test_contrast_files/unused_validated_clips/0.9999_54_CH23_SN17_20220919_223000_M.choliba.WAV → /mnt/d/retraining_BirdNET_2025/iterative_training/segments_validation/test_contrast_files/uncertainty/Tropical Screech-Owl/top_scoring/0.9999_54_CH23_SN17_20220919_223000_M.choliba.WAV\n",
      "Deleted existing file: /mnt/d/retraining_BirdNET_2025/iterative_training/segments_validation/test_contrast_files/uncertainty/Tropical Screech-Owl/top_scoring/0.9999_51_CH18_SN14_20220806_030000.WAV\n",
      "Moved and replaced: /mnt/d/retraining_BirdNET_2025/iterative_training/segments_validation/test_contrast_files/unused_validated_clips/0.9999_51_CH18_SN14_20220806_030000_M.choliba.WAV → /mnt/d/retraining_BirdNET_2025/iterative_training/segments_validation/test_contrast_files/uncertainty/Tropical Screech-Owl/top_scoring/0.9999_51_CH18_SN14_20220806_030000_M.choliba.WAV\n",
      "Deleted existing file: /mnt/d/retraining_BirdNET_2025/iterative_training/segments_validation/test_contrast_files/uncertainty/Tropical Screech-Owl/top_scoring/0.9999_42_CH18_SN13_20220805_013000.WAV\n",
      "Moved and replaced: /mnt/d/retraining_BirdNET_2025/iterative_training/segments_validation/test_contrast_files/unused_validated_clips/0.9999_42_CH18_SN13_20220805_013000_M.choliba.WAV → /mnt/d/retraining_BirdNET_2025/iterative_training/segments_validation/test_contrast_files/uncertainty/Tropical Screech-Owl/top_scoring/0.9999_42_CH18_SN13_20220805_013000_M.choliba.WAV\n",
      "Deleted existing file: /mnt/d/retraining_BirdNET_2025/iterative_training/segments_validation/test_contrast_files/uncertainty/Tropical Screech-Owl/top_scoring/0.9999_36_CH18_SN13_20220805_015000.WAV\n",
      "Moved and replaced: /mnt/d/retraining_BirdNET_2025/iterative_training/segments_validation/test_contrast_files/unused_validated_clips/1.0_36_CH18_SN13_20220805_015000_M.choliba.WAV → /mnt/d/retraining_BirdNET_2025/iterative_training/segments_validation/test_contrast_files/uncertainty/Tropical Screech-Owl/top_scoring/1.0_36_CH18_SN13_20220805_015000_M.choliba.WAV\n",
      "Deleted existing file: /mnt/d/retraining_BirdNET_2025/iterative_training/segments_validation/test_contrast_files/uncertainty/Tropical Screech-Owl/top_scoring/0.9998_105_CH18_SN13_20220805_013000.WAV\n",
      "Moved and replaced: /mnt/d/retraining_BirdNET_2025/iterative_training/segments_validation/test_contrast_files/unused_validated_clips/0.9999_105_CH18_SN13_20220805_013000_M.choliba.WAV → /mnt/d/retraining_BirdNET_2025/iterative_training/segments_validation/test_contrast_files/uncertainty/Tropical Screech-Owl/top_scoring/0.9999_105_CH18_SN13_20220805_013000_M.choliba.WAV\n",
      "Deleted existing file: /mnt/d/retraining_BirdNET_2025/iterative_training/segments_validation/test_contrast_files/uncertainty/Ferruginous Pygmy-Owl/for_training/0.9991_60_M19_SN10_20220814_033000.WAV\n",
      "Moved and replaced: /mnt/d/retraining_BirdNET_2025/iterative_training/segments_validation/test_contrast_files/unused_validated_clips/0.9987_60_M19_SN10_20220814_033000_G.brasilianum.WAV → /mnt/d/retraining_BirdNET_2025/iterative_training/segments_validation/test_contrast_files/uncertainty/Ferruginous Pygmy-Owl/for_training/0.9987_60_M19_SN10_20220814_033000_G.brasilianum.WAV\n",
      "Deleted existing file: /mnt/d/retraining_BirdNET_2025/iterative_training/segments_validation/test_contrast_files/uncertainty/Ferruginous Pygmy-Owl/for_training/0.9986_9_M19_SN10_20220814_033000.WAV\n",
      "Moved and replaced: /mnt/d/retraining_BirdNET_2025/iterative_training/segments_validation/test_contrast_files/unused_validated_clips/0.9983_9_M19_SN10_20220814_033000_G.brasilianum.WAV → /mnt/d/retraining_BirdNET_2025/iterative_training/segments_validation/test_contrast_files/uncertainty/Ferruginous Pygmy-Owl/for_training/0.9983_9_M19_SN10_20220814_033000_G.brasilianum.WAV\n",
      "Deleted existing file: /mnt/d/retraining_BirdNET_2025/iterative_training/segments_validation/test_contrast_files/uncertainty/Ferruginous Pygmy-Owl/top_scoring/1.0_42_M37_SN21_20220908_190000.WAV\n",
      "Moved and replaced: /mnt/d/retraining_BirdNET_2025/iterative_training/segments_validation/test_contrast_files/unused_validated_clips/0.9987_42_M37_SN21_20220908_190000_G.brasilianum.WAV → /mnt/d/retraining_BirdNET_2025/iterative_training/segments_validation/test_contrast_files/uncertainty/Ferruginous Pygmy-Owl/top_scoring/0.9987_42_M37_SN21_20220908_190000_G.brasilianum.WAV\n",
      "Deleted existing file: /mnt/d/retraining_BirdNET_2025/iterative_training/segments_validation/test_contrast_files/uncertainty/Ferruginous Pygmy-Owl/top_scoring/0.9999_90_M37_SN14_20220902_063000.WAV\n",
      "Moved and replaced: /mnt/d/retraining_BirdNET_2025/iterative_training/segments_validation/test_contrast_files/unused_validated_clips/0.9989_90_M37_SN14_20220902_063000_G.brasilianum.WAV → /mnt/d/retraining_BirdNET_2025/iterative_training/segments_validation/test_contrast_files/uncertainty/Ferruginous Pygmy-Owl/top_scoring/0.9989_90_M37_SN14_20220902_063000_G.brasilianum.WAV\n",
      "Deleted existing file: /mnt/d/retraining_BirdNET_2025/iterative_training/segments_validation/test_contrast_files/uncertainty/Ferruginous Pygmy-Owl/top_scoring/0.9999_54_M37_SN21_20220908_190000.WAV\n",
      "Moved and replaced: /mnt/d/retraining_BirdNET_2025/iterative_training/segments_validation/test_contrast_files/unused_validated_clips/0.9991_54_M37_SN21_20220908_190000_G.brasilianum.WAV → /mnt/d/retraining_BirdNET_2025/iterative_training/segments_validation/test_contrast_files/uncertainty/Ferruginous Pygmy-Owl/top_scoring/0.9991_54_M37_SN21_20220908_190000_G.brasilianum.WAV\n",
      "Deleted existing file: /mnt/d/retraining_BirdNET_2025/iterative_training/segments_validation/test_contrast_files/uncertainty/Ferruginous Pygmy-Owl/top_scoring/0.9998_69_M19_SN10_20220814_033000.WAV\n",
      "Moved and replaced: /mnt/d/retraining_BirdNET_2025/iterative_training/segments_validation/test_contrast_files/unused_validated_clips/0.9990_69_M19_SN10_20220814_033000_G.brasilianum.WAV → /mnt/d/retraining_BirdNET_2025/iterative_training/segments_validation/test_contrast_files/uncertainty/Ferruginous Pygmy-Owl/top_scoring/0.9990_69_M19_SN10_20220814_033000_G.brasilianum.WAV\n",
      "Deleted existing file: /mnt/d/retraining_BirdNET_2025/iterative_training/segments_validation/test_contrast_files/uncertainty/Ferruginous Pygmy-Owl/top_scoring/0.9997_108_M37_SN21_20220908_191000.WAV\n",
      "Moved and replaced: /mnt/d/retraining_BirdNET_2025/iterative_training/segments_validation/test_contrast_files/unused_validated_clips/0.9982_108_M37_SN21_20220908_191000_G.brasilianum.WAV → /mnt/d/retraining_BirdNET_2025/iterative_training/segments_validation/test_contrast_files/uncertainty/Ferruginous Pygmy-Owl/top_scoring/0.9982_108_M37_SN21_20220908_191000_G.brasilianum.WAV\n",
      "Deleted existing file: /mnt/d/retraining_BirdNET_2025/iterative_training/segments_validation/test_contrast_files/uncertainty/Ferruginous Pygmy-Owl/top_scoring/0.9997_87_M37_SN14_20220902_063000.WAV\n",
      "Moved and replaced: /mnt/d/retraining_BirdNET_2025/iterative_training/segments_validation/test_contrast_files/unused_validated_clips/0.9982_87_M37_SN14_20220902_063000_G.brasilianum.WAV → /mnt/d/retraining_BirdNET_2025/iterative_training/segments_validation/test_contrast_files/uncertainty/Ferruginous Pygmy-Owl/top_scoring/0.9982_87_M37_SN14_20220902_063000_G.brasilianum.WAV\n",
      "Deleted existing file: /mnt/d/retraining_BirdNET_2025/iterative_training/segments_validation/test_contrast_files/uncertainty/Ferruginous Pygmy-Owl/top_scoring/0.9997_63_M19_SN10_20220814_033000.WAV\n",
      "Moved and replaced: /mnt/d/retraining_BirdNET_2025/iterative_training/segments_validation/test_contrast_files/unused_validated_clips/0.9990_63_M19_SN10_20220814_033000_G.brasilianum.WAV → /mnt/d/retraining_BirdNET_2025/iterative_training/segments_validation/test_contrast_files/uncertainty/Ferruginous Pygmy-Owl/top_scoring/0.9990_63_M19_SN10_20220814_033000_G.brasilianum.WAV\n",
      "Deleted existing file: /mnt/d/retraining_BirdNET_2025/iterative_training/segments_validation/test_contrast_files/uncertainty/Ferruginous Pygmy-Owl/top_scoring/0.9997_27_M37_SN21_20220908_190000.WAV\n",
      "Moved and replaced: /mnt/d/retraining_BirdNET_2025/iterative_training/segments_validation/test_contrast_files/unused_validated_clips/0.9984_27_M37_SN21_20220908_190000_G.brasilianum.WAV → /mnt/d/retraining_BirdNET_2025/iterative_training/segments_validation/test_contrast_files/uncertainty/Ferruginous Pygmy-Owl/top_scoring/0.9984_27_M37_SN21_20220908_190000_G.brasilianum.WAV\n",
      "Deleted existing file: /mnt/d/retraining_BirdNET_2025/iterative_training/segments_validation/test_contrast_files/uncertainty/Ferruginous Pygmy-Owl/top_scoring/0.9997_24_M19_SN10_20220814_033000.WAV\n",
      "Moved and replaced: /mnt/d/retraining_BirdNET_2025/iterative_training/segments_validation/test_contrast_files/unused_validated_clips/0.9990_24_M19_SN10_20220814_033000_G.brasilianum.WAV → /mnt/d/retraining_BirdNET_2025/iterative_training/segments_validation/test_contrast_files/uncertainty/Ferruginous Pygmy-Owl/top_scoring/0.9990_24_M19_SN10_20220814_033000_G.brasilianum.WAV\n",
      "Deleted existing file: /mnt/d/retraining_BirdNET_2025/iterative_training/segments_validation/test_contrast_files/uncertainty/Ferruginous Pygmy-Owl/top_scoring/0.9996_66_M19_SN10_20220814_033000.WAV\n",
      "Moved and replaced: /mnt/d/retraining_BirdNET_2025/iterative_training/segments_validation/test_contrast_files/unused_validated_clips/0.9985_66_M19_SN10_20220814_033000_G.brasilianum.WAV → /mnt/d/retraining_BirdNET_2025/iterative_training/segments_validation/test_contrast_files/uncertainty/Ferruginous Pygmy-Owl/top_scoring/0.9985_66_M19_SN10_20220814_033000_G.brasilianum.WAV\n",
      "Deleted existing file: /mnt/d/retraining_BirdNET_2025/iterative_training/segments_validation/test_contrast_files/uncertainty/Ferruginous Pygmy-Owl/top_scoring/0.9996_21_M19_SN10_20220814_033000.WAV\n",
      "Moved and replaced: /mnt/d/retraining_BirdNET_2025/iterative_training/segments_validation/test_contrast_files/unused_validated_clips/0.9992_21_M19_SN10_20220814_033000_G.brasilianum.WAV → /mnt/d/retraining_BirdNET_2025/iterative_training/segments_validation/test_contrast_files/uncertainty/Ferruginous Pygmy-Owl/top_scoring/0.9992_21_M19_SN10_20220814_033000_G.brasilianum.WAV\n",
      "Deleted existing file: /mnt/d/retraining_BirdNET_2025/iterative_training/segments_validation/test_contrast_files/uncertainty/Ferruginous Pygmy-Owl/top_scoring/0.9993_108_M19_SN10_20220814_033000.WAV\n",
      "Moved and replaced: /mnt/d/retraining_BirdNET_2025/iterative_training/segments_validation/test_contrast_files/unused_validated_clips/0.9985_108_M19_SN10_20220814_033000_G.brasilianum.WAV → /mnt/d/retraining_BirdNET_2025/iterative_training/segments_validation/test_contrast_files/uncertainty/Ferruginous Pygmy-Owl/top_scoring/0.9985_108_M19_SN10_20220814_033000_G.brasilianum.WAV\n",
      "✅ All matching files have been replaced and moved successfully.\n"
     ]
    }
   ],
   "source": [
    "# Recursively scan all class folders or their subfolders\n",
    "for class_folder in os.listdir(selected_uncertainty_dir):\n",
    "    class_path = os.path.join(selected_uncertainty_dir, class_folder)\n",
    "    if not os.path.isdir(class_path):\n",
    "        continue\n",
    "    \n",
    "    # Look for subfolders 'for_training' and 'top_scoring'\n",
    "    subfolders = ['for_training', 'top_scoring']\n",
    "    search_paths = [os.path.join(class_path, subfolder) for subfolder in subfolders if os.path.isdir(os.path.join(class_path, subfolder))]\n",
    "\n",
    "    # If no subfolders, add the class folder itself\n",
    "    if not search_paths:\n",
    "        search_paths = [class_path]\n",
    "\n",
    "    # Compare core filenames and move-replace if a match\n",
    "    for search_path in search_paths:\n",
    "        selected_clips = glob.glob(os.path.join(search_path, '*.WAV'))\n",
    "\n",
    "        if not selected_clips:\n",
    "            continue\n",
    "\n",
    "        for selected_clip in selected_clips:\n",
    "            core_filename = extract_core_filename(Path(selected_clip).name)\n",
    "\n",
    "            if core_filename in validated_map:\n",
    "                validated_file = validated_map[core_filename]\n",
    "                src_path = os.path.join(validated_clips_dir, validated_file)\n",
    "\n",
    "                # Keep original filename (don't just use core_filename)\n",
    "                dest_path = os.path.join(search_path, Path(validated_file).name)\n",
    "                \n",
    "                # BEFORE MOVING: DELETE EXISTING MATCHING FILE (if any)\n",
    "                existing_files = glob.glob(os.path.join(search_path, f\"*{core_filename}*.WAV\"))\n",
    "                for existing_file in existing_files:\n",
    "                    try:\n",
    "                        os.remove(existing_file)\n",
    "                        print(f\"Deleted existing file: {existing_file}\")\n",
    "                    except Exception as e:\n",
    "                        print(f\"Error deleting {existing_file}: {e}\")\n",
    "\n",
    "                try:\n",
    "                    # Move the validated file to the destination folder\n",
    "                    shutil.move(src_path, dest_path)\n",
    "                    print(f\"Moved and replaced: {src_path} → {dest_path}\")\n",
    "                except Exception as e:\n",
    "                    print(f\"Error moving {src_path} to {dest_path}: {e}\")\n",
    "\n",
    "print(\"✅ All matching files have been replaced and moved successfully.\")\n",
    "                "
   ]
  },
  {
   "cell_type": "code",
   "execution_count": null,
   "id": "a4a2a0a5-549f-402a-bb71-04ae3128d278",
   "metadata": {},
   "outputs": [],
   "source": []
  },
  {
   "cell_type": "code",
   "execution_count": null,
   "id": "3849bf4e-4c0d-4c61-9d6c-dcc962d47c94",
   "metadata": {},
   "outputs": [],
   "source": [
    "\n"
   ]
  },
  {
   "cell_type": "code",
   "execution_count": null,
   "id": "6ba88f21-4555-4ef5-af4e-f15ffdd8bb2f",
   "metadata": {},
   "outputs": [],
   "source": []
  },
  {
   "cell_type": "code",
   "execution_count": null,
   "id": "2fc98ea0-91a2-4adb-9d6e-2b29e0a86b84",
   "metadata": {},
   "outputs": [],
   "source": []
  },
  {
   "cell_type": "code",
   "execution_count": null,
   "id": "cd861692-e700-4c65-836b-f8f06f624694",
   "metadata": {},
   "outputs": [],
   "source": []
  }
 ],
 "metadata": {
  "kernelspec": {
   "display_name": "Python 3 (ipykernel)",
   "language": "python",
   "name": "python3"
  },
  "language_info": {
   "codemirror_mode": {
    "name": "ipython",
    "version": 3
   },
   "file_extension": ".py",
   "mimetype": "text/x-python",
   "name": "python",
   "nbconvert_exporter": "python",
   "pygments_lexer": "ipython3",
   "version": "3.9.17"
  }
 },
 "nbformat": 4,
 "nbformat_minor": 5
}
