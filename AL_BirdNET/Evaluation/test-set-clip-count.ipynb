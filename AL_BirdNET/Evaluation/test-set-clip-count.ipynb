{
 "cells": [
  {
   "cell_type": "markdown",
   "id": "2e2bfb03-b08b-4e21-99d9-c2335e098736",
   "metadata": {},
   "source": [
    "### Test set clip count"
   ]
  },
  {
   "cell_type": "code",
   "execution_count": 1,
   "id": "cb83c6e8-5547-4370-85bd-f51ee995007f",
   "metadata": {},
   "outputs": [],
   "source": [
    "import pandas as pd\n",
    "from pathlib import Path"
   ]
  },
  {
   "cell_type": "code",
   "execution_count": 2,
   "id": "4cd1d154-6a1d-457c-93c2-33dfc86a2603",
   "metadata": {},
   "outputs": [],
   "source": [
    "# Set the root directory\n",
    "root_dir = Path( '/mnt/d/retraining_BirdNET_2025/model_test/input_ready')  # Replace with your actual root directory"
   ]
  },
  {
   "cell_type": "code",
   "execution_count": 3,
   "id": "1afd8967-28b6-4b51-9c66-cf71ec269a60",
   "metadata": {},
   "outputs": [],
   "source": [
    "# Load the .csv\n",
    "df_aru = pd.read_csv(root_dir / 'one-hot-encoded_validation1-ARUs.csv')"
   ]
  },
  {
   "cell_type": "code",
   "execution_count": 4,
   "id": "24bc0906-1bf1-46ac-8367-9197227fc38e",
   "metadata": {},
   "outputs": [],
   "source": [
    "# Drop the first three columns. df.iloc is used to select by position (integer-location based indexing).\n",
    "# [rows, colums]  \n",
    "# :  → Selects all rows (we are not filtering rows here).\n",
    "# 3: → Selects columns starting from index 3 up to the end (so drops 0,1,2 and keeps from 3 onwards)\n",
    "\n",
    "df_aru = df_aru.iloc[:,3:]"
   ]
  },
  {
   "cell_type": "code",
   "execution_count": 5,
   "id": "e69f61f8-fd61-462f-9ca9-20aa6ff305e5",
   "metadata": {},
   "outputs": [
    {
     "data": {
      "text/plain": [
       "Barn Owl                     7\n",
       "Rusty-barred Owl_song       37\n",
       "Rusty-barred Owl_call       10\n",
       "Rusty-barred Owl_call1      10\n",
       "Ferruginous Pygmy-Owl       49\n",
       "Tropical Screech-Owl        56\n",
       "Black-capped Screech-Owl    19\n",
       "Long-tufted Screech-Owl     38\n",
       "Buff-fronted Owl             5\n",
       "Rufous Nightjar              0\n",
       "Silky-tailed Nightjar       30\n",
       "Stygian Owl_song             0\n",
       "Stygian Owl_call             0\n",
       "Striped Owl_song             0\n",
       "Striped Owl_call            19\n",
       "Burrowing Owl_call          28\n",
       "Burrowing Owl_song           8\n",
       "Rufous-capped Motmot         0\n",
       "Black-banded Owl             0\n",
       "Mottled Owl_song            35\n",
       "Mottled Owl_call             0\n",
       "Brown Tinamou                9\n",
       "Ocellated Poorwill          14\n",
       "Long-tailed Potoo            4\n",
       "Common Potoo                25\n",
       "Common Pauraque             33\n",
       "Short-tailed Nighthawk      17\n",
       "Spot-winged Wood-Quail       0\n",
       "Tawny-browed Owl            10\n",
       "Little Nightjar              1\n",
       "dtype: int64"
      ]
     },
     "execution_count": 5,
     "metadata": {},
     "output_type": "execute_result"
    }
   ],
   "source": [
    "# Sum each column and save it as a new Series object. \n",
    "# Pandas will ignore non-numeric by default, giving a Series with owl class names as index.\n",
    "aru_clip_sums = df_aru.sum()\n",
    "aru_clip_sums"
   ]
  },
  {
   "cell_type": "code",
   "execution_count": 6,
   "id": "54dcea9c-2943-45ef-b990-c071710d019d",
   "metadata": {},
   "outputs": [],
   "source": [
    "# We then turn that Series into a proper 2-column DataFrame with .index as 'class' and .values as 'count'.\n",
    "aru_clips = pd.DataFrame({\n",
    "    'class': aru_clip_sums.index,\n",
    "    'count': aru_clip_sums.values\n",
    "})\n",
    "\n",
    "aru_clips.to_csv(root_dir / 'aru_all_clip-count.csv', index=False)"
   ]
  },
  {
   "cell_type": "markdown",
   "id": "aa0e1e53-7fd8-441b-ba99-86739abb1276",
   "metadata": {},
   "source": [
    "We will perform some opertaions on dataframes"
   ]
  },
  {
   "cell_type": "code",
   "execution_count": 7,
   "id": "33fbf68c-6622-4014-a8e6-ca405bed0a0b",
   "metadata": {},
   "outputs": [],
   "source": [
    "# Load CSVs using relative paths\n",
    "full_count = pd.read_csv(root_dir / 'all_clip-count.csv')\n",
    "aru_count = pd.read_csv(root_dir / 'aru_all_clip-count.csv')"
   ]
  },
  {
   "cell_type": "code",
   "execution_count": 8,
   "id": "447bd7c5-fabf-44da-b5fb-27dab77f5557",
   "metadata": {},
   "outputs": [
    {
     "name": "stdout",
     "output_type": "stream",
     "text": [
      "                       class  count_full  count_aru\n",
      "0                   Barn Owl          23          7\n",
      "1      Rusty-barred Owl_song          37         37\n",
      "2      Rusty-barred Owl_call          26         10\n",
      "3     Rusty-barred Owl_call1          15         10\n",
      "4      Ferruginous Pygmy-Owl          54         49\n",
      "5       Tropical Screech-Owl          56         56\n",
      "6   Black-capped Screech-Owl          19         19\n",
      "7    Long-tufted Screech-Owl          38         38\n",
      "8           Buff-fronted Owl          14          5\n",
      "9            Rufous Nightjar          10          0\n",
      "10     Silky-tailed Nightjar          30         30\n",
      "11          Stygian Owl_song          32          0\n",
      "12          Stygian Owl_call          24          0\n",
      "13          Striped Owl_song          36          0\n",
      "14          Striped Owl_call          19         19\n",
      "15        Burrowing Owl_call          28         28\n",
      "16        Burrowing Owl_song          41          8\n",
      "17      Rufous-capped Motmot          57          0\n",
      "18          Black-banded Owl          35          0\n",
      "19          Mottled Owl_song          35         35\n",
      "20          Mottled Owl_call          33          0\n",
      "21             Brown Tinamou          52          9\n",
      "22        Ocellated Poorwill          91         14\n",
      "23         Long-tailed Potoo          71          4\n",
      "24              Common Potoo          27         25\n",
      "25           Common Pauraque          50         33\n",
      "26    Short-tailed Nighthawk          25         17\n",
      "27    Spot-winged Wood-Quail          90          0\n",
      "28          Tawny-browed Owl          18         10\n",
      "29           Little Nightjar          42          1\n"
     ]
    }
   ],
   "source": [
    "merged_df = pd.merge(\n",
    "    full_count,\n",
    "    aru_count,\n",
    "    on = 'class',\n",
    "    how = 'outer', # 'inner' if want inly classes present in both\n",
    "    suffixes=('_full', '_aru')\n",
    ")\n",
    "\n",
    "print(merged_df)"
   ]
  },
  {
   "cell_type": "code",
   "execution_count": 9,
   "id": "3e95c473-b83f-42b8-aabc-cf26ec88817d",
   "metadata": {},
   "outputs": [],
   "source": [
    "merged_df= merged_df.assign(count_XC=merged_df[\"count_full\"] - merged_df[\"count_aru\"])\n",
    "\n",
    "merged_df.to_csv(root_dir /'test_all-classes_clip-count.csv', index=False)"
   ]
  }
 ],
 "metadata": {
  "kernelspec": {
   "display_name": "Python 3 (ipykernel)",
   "language": "python",
   "name": "python3"
  },
  "language_info": {
   "codemirror_mode": {
    "name": "ipython",
    "version": 3
   },
   "file_extension": ".py",
   "mimetype": "text/x-python",
   "name": "python",
   "nbconvert_exporter": "python",
   "pygments_lexer": "ipython3",
   "version": "3.9.17"
  }
 },
 "nbformat": 4,
 "nbformat_minor": 5
}
