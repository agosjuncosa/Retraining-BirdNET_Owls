{
 "cells": [
  {
   "cell_type": "markdown",
   "id": "8d05d8ba-ad08-435c-8194-3e2d3748c4a9",
   "metadata": {},
   "source": [
    "### Tracker Management\n",
    "\n",
    "Tracks down the clips incorporated to each class of the traiining set on each iteration"
   ]
  },
  {
   "cell_type": "code",
   "execution_count": 2,
   "id": "1065d295-8acd-4c71-9ae8-c5141be27383",
   "metadata": {},
   "outputs": [
    {
     "name": "stdout",
     "output_type": "stream",
     "text": [
      "Tracker updated. Total files in tracker: 4794\n"
     ]
    }
   ],
   "source": [
    "import os\n",
    "import pandas as pd\n",
    "\n",
    "def update_training_set_tracker(directory, tracker_path, current_iteration):\n",
    "    \"\"\"\n",
    "    Update the training set tracker with files from the training directory.\n",
    "    Each file is tracked by its filename and associated with the iteration and class.\n",
    "    \"\"\"\n",
    "    # List to hold new training clip data\n",
    "    training_clips = []\n",
    "\n",
    "    # Walk through each class folder in the directory\n",
    "    for class_folder in os.listdir(directory):\n",
    "        class_path = os.path.join(directory, class_folder)\n",
    "        if os.path.isdir(class_path):  # Ensure it's a directory\n",
    "            for clip in os.listdir(class_path):\n",
    "                if clip.endswith('.wav'):\n",
    "                    training_clips.append({\n",
    "                        \"file\": os.path.join(class_folder, clip),\n",
    "                        \"class\": class_folder\n",
    "                    })\n",
    "\n",
    "    # Create a DataFrame for new clips\n",
    "    new_clips_df = pd.DataFrame(training_clips)\n",
    "\n",
    "    # Check if tracker CSV exists\n",
    "    if os.path.exists(tracker_path):\n",
    "        tracker_df = pd.read_csv(tracker_path)\n",
    "    else:\n",
    "        # Initialize a new tracker DataFrame if it doesn't exist\n",
    "        tracker_df = pd.DataFrame(columns=[\"file\"] + list(new_clips_df[\"class\"].unique()))\n",
    "        tracker_df = tracker_df.fillna(0)  # Fill missing values with 0\n",
    "\n",
    "    # Merge new data into the tracker\n",
    "    for _, row in new_clips_df.iterrows():\n",
    "        file_path = row[\"file\"]\n",
    "        class_name = row[\"class\"]\n",
    "\n",
    "        if file_path not in tracker_df[\"file\"].values:\n",
    "            # Add new file entry (use pd.concat instead of .append)\n",
    "            new_row = pd.DataFrame({\"file\": [file_path]})\n",
    "            tracker_df = pd.concat([tracker_df, new_row], ignore_index=True)\n",
    "        \n",
    "        if class_name not in tracker_df.columns:\n",
    "            # Add new class column\n",
    "            tracker_df[class_name] = 0\n",
    "                        \n",
    "        # Update the iteration for the file and class\n",
    "        tracker_df.loc[tracker_df[\"file\"] == file_path, class_name] = current_iteration\n",
    "\n",
    "    # Save the updated tracker\n",
    "    tracker_df.to_csv(tracker_path, index=False)\n",
    "    print(f\"Tracker updated. Total files in tracker: {len(tracker_df)}\")\n",
    "\n",
    "\n",
    "# Specify the directory containing training clips\n",
    "training_directory = \"/mnt/d/retraining_BirdNET/model_train_2025/train_set\"\n",
    "\n",
    "# Specify the path to the tracker CSV\n",
    "tracker_csv_path = \"/mnt/d/retraining_BirdNET/model_train_2025/train_set/training-set_tracker.csv\"\n",
    "\n",
    "# Set the current iteration (update this for each iteration)\n",
    "current_iteration = 0  # Update this for each new iteration\n",
    "\n",
    "# Run the tracker update\n",
    "update_training_set_tracker(training_directory, tracker_csv_path, current_iteration)\n"
   ]
  }
 ],
 "metadata": {
  "kernelspec": {
   "display_name": "Python 3 (ipykernel)",
   "language": "python",
   "name": "python3"
  },
  "language_info": {
   "codemirror_mode": {
    "name": "ipython",
    "version": 3
   },
   "file_extension": ".py",
   "mimetype": "text/x-python",
   "name": "python",
   "nbconvert_exporter": "python",
   "pygments_lexer": "ipython3",
   "version": "3.9.17"
  }
 },
 "nbformat": 4,
 "nbformat_minor": 5
}
