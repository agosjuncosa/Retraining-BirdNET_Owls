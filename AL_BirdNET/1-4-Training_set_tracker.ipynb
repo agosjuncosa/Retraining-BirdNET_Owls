{
 "cells": [
  {
   "cell_type": "markdown",
   "id": "ced25ee9-5d16-45fe-91c0-7d53e2628367",
   "metadata": {},
   "source": [
    "### Long format training-set tracker df\n",
    "\n",
    "Plus we included a function to restore a training set back to any iteration"
   ]
  },
  {
   "cell_type": "code",
   "execution_count": 2,
   "id": "b46e85a2-1ee2-4088-b3f2-76efdbaae938",
   "metadata": {},
   "outputs": [
    {
     "name": "stdout",
     "output_type": "stream",
     "text": [
      "Tracker initialized with 4875 clips (Iteration 0).\n"
     ]
    }
   ],
   "source": [
    "import os\n",
    "import pandas as pd\n",
    "\n",
    "def update_training_set_tracker(directory, tracker_path, current_iteration):\n",
    "    \"\"\"\n",
    "    Update the training set tracker:\n",
    "    - Adds new rows for moved files with their new paths, classes, and iterations.\n",
    "    - Keeps the original row for the previous iteration to preserve history.\n",
    "    - Updates the 'Moved' column to reflect the previous class for moved files.\n",
    "    \"\"\"\n",
    "\n",
    "    # List to hold current training set file paths and class labels\n",
    "    current_training_clips = []\n",
    "\n",
    "    for class_folder in os.listdir(directory):\n",
    "        class_path = os.path.join(directory, class_folder)\n",
    "        if os.path.isdir(class_path):  # Ensure it's a directory\n",
    "            for clip in os.listdir(class_path):\n",
    "                if clip.endswith('.wav') or clip.endswith('.WAV'):\n",
    "                    current_training_clips.append({\n",
    "                        \"file\": os.path.join(class_folder, clip),  # Store relative path\n",
    "                        \"class\": class_folder,  # Store class name\n",
    "                        \"iteration\": current_iteration,  # Store current iteration number\n",
    "                        \"moved\": None  # Default for new files\n",
    "                    })\n",
    "\n",
    "    # Convert the current files to a DataFrame\n",
    "    current_df = pd.DataFrame(current_training_clips)\n",
    "\n",
    "    # Load the existing tracker if it exists\n",
    "    if os.path.exists(tracker_path):\n",
    "        tracker_df = pd.read_csv(tracker_path)\n",
    "    else:\n",
    "        # First-time initialization (Iteration 0)\n",
    "        tracker_df = current_df.copy()\n",
    "        tracker_df[\"moved\"] = None\n",
    "        tracker_df.to_csv(tracker_path, index=False)\n",
    "        print(f\"Tracker initialized with {len(tracker_df)} clips (Iteration 0).\")\n",
    "        return\n",
    "\n",
    "    # Prepare a list for rows to append (new or moved files)\n",
    "    rows_to_append = []\n",
    "\n",
    "    for _, current_row in current_df.iterrows():\n",
    "        current_file = current_row[\"file\"]\n",
    "        current_class = current_row[\"class\"]\n",
    "\n",
    "        # Check if the file already exists in the tracker\n",
    "        filename_only = os.path.basename(current_file)\n",
    "        matching_rows = tracker_df[tracker_df[\"file\"].str.contains(filename_only)]\n",
    "\n",
    "        if not matching_rows.empty:\n",
    "            # If the file exists, check if the path (class) has changed\n",
    "            previous_row = matching_rows.iloc[-1]\n",
    "            previous_class = previous_row[\"class\"]\n",
    "\n",
    "            if previous_class != current_class:\n",
    "                # File has been moved; create a new row with updated info\n",
    "                current_row[\"moved\"] = previous_class\n",
    "                rows_to_append.append(current_row)\n",
    "\n",
    "        else:\n",
    "            # If the file is new, append it as a new entry\n",
    "            rows_to_append.append(current_row)\n",
    "\n",
    "    # Append new/moved rows to the tracker\n",
    "    if rows_to_append:\n",
    "        rows_to_append_df = pd.DataFrame(rows_to_append)\n",
    "        tracker_df = pd.concat([tracker_df, rows_to_append_df], ignore_index=True)\n",
    "\n",
    "        # Sort valued by class\n",
    "        tracker_df = tracker_df.sort_values(['class', 'iteration'])\n",
    "    \n",
    "    # Save the updated tracker\n",
    "    tracker_df.to_csv(tracker_path, index=False)\n",
    "    print(f\"Tracker updated. Total files tracked: {len(tracker_df)}\")\n",
    "\n",
    "# Example: Running the tracker\n",
    "training_directory = \"/mnt/d/retraining_BirdNET_2025/model_train/train_set/\"\n",
    "tracker_csv_path = \"/mnt/d/retraining_BirdNET_2025/model_train/training_set_tracker.csv\"\n",
    "current_iteration = 0  # Update this for each new iteration\n",
    "\n",
    "update_training_set_tracker(training_directory, tracker_csv_path, current_iteration)\n"
   ]
  },
  {
   "cell_type": "markdown",
   "id": "8e5e5af8-1f39-4bfe-861b-c6fec404ff73",
   "metadata": {},
   "source": [
    "To See Class Distribution Per Iteration"
   ]
  },
  {
   "cell_type": "code",
   "execution_count": null,
   "id": "183ac2aa-e967-4b55-a829-ebd82b1400b3",
   "metadata": {},
   "outputs": [],
   "source": [
    "import pandas as pd\n",
    "\n",
    "tracker_df = pd.read_csv(\"/mnt/d/retraining_BirdNET_2025/model_train/training_set_tracker.csv\")\n",
    "summary = tracker_df.groupby([\"iteration\", \"class\"]).size().reset_index(name=\"clip_count\")\n",
    "print(summary)\n"
   ]
  },
  {
   "cell_type": "markdown",
   "id": "0d9d8053-f17c-4f0c-8149-4e70a353da09",
   "metadata": {},
   "source": [
    "To Restore a Training Set from a Specific Iteration:"
   ]
  },
  {
   "cell_type": "code",
   "execution_count": null,
   "id": "88f095ff-6d2e-4e3d-8fcf-54ab52bc08eb",
   "metadata": {},
   "outputs": [],
   "source": [
    "import pandas as pd\n",
    "import shutil\n",
    "import os\n",
    "\n",
    "def restore_training_set(tracker_path, restore_iteration, restore_dir):\n",
    "    \"\"\"\n",
    "    Restore the training set from a specific iteration.\n",
    "    - tracker_path: Path to the CSV tracking file\n",
    "    - restore_iteration: Iteration to restore\n",
    "    - restore_dir: Directory to copy the restored training set\n",
    "    \"\"\"\n",
    "    tracker_df = pd.read_csv(tracker_path)\n",
    "    restore_df = tracker_df[tracker_df[\"iteration\"] <= restore_iteration]\n",
    "\n",
    "    for _, row in restore_df.iterrows():\n",
    "        file_path = row[\"file\"]\n",
    "        class_folder = row[\"class\"]\n",
    "        dest_folder = os.path.join(restore_dir, class_folder)\n",
    "        os.makedirs(dest_folder, exist_ok=True)\n",
    "        shutil.copy(file_path, dest_folder)\n",
    "\n",
    "    print(f\"Training set for iteration {restore_iteration} has been restored in {restore_dir}\")\n",
    "\n",
    "# Example usage\n",
    "restore_training_set(\n",
    "    tracker_path=\"/path/to/training_set_tracker.csv\",\n",
    "    restore_iteration=2,\n",
    "    restore_dir=\"/path/to/restored_training_set\"\n",
    ")\n"
   ]
  }
 ],
 "metadata": {
  "kernelspec": {
   "display_name": "Python 3 (ipykernel)",
   "language": "python",
   "name": "python3"
  },
  "language_info": {
   "codemirror_mode": {
    "name": "ipython",
    "version": 3
   },
   "file_extension": ".py",
   "mimetype": "text/x-python",
   "name": "python",
   "nbconvert_exporter": "python",
   "pygments_lexer": "ipython3",
   "version": "3.9.17"
  }
 },
 "nbformat": 4,
 "nbformat_minor": 5
}
