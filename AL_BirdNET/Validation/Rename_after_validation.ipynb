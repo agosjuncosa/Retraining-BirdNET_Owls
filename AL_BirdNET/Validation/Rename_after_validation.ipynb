{
 "cells": [
  {
   "cell_type": "markdown",
   "id": "b3f3ea39-a756-4300-88a0-989e96618fb2",
   "metadata": {},
   "source": [
    "### Rename Files After Validation"
   ]
  },
  {
   "cell_type": "code",
   "execution_count": null,
   "id": "4d726d85-6ae5-4dfe-909e-f5b9c45ab994",
   "metadata": {},
   "outputs": [],
   "source": [
    "import os\n",
    "import csv\n",
    "\n",
    "# Initialize directories and files\n",
    "recs_directory = \"/mnt/d/retraining_BirdNET/model_train_2025/1st/Frog2/\"\n",
    "txt_file = \"/mnt/d/retraining_BirdNET/model_train_2025/1st/Frog2/M31_SN01_20220818_204000.txt\"\n",
    "\n",
    "# Read .txt file and store annotations in a list\n",
    "annotations = []\n",
    "with open(txt_file, mode='r') as file:\n",
    "    reader = csv.DictReader(file, delimiter='\\t')  # assuming tab-delimited; change if needed\n",
    "    for row in reader:\n",
    "        annotations.append(row)\n",
    "\n",
    "# Create a dictionary mapping 'Begin File' to 'Annotation' the keys are the filenames and values are the annotations\n",
    "annotation_map = {row['Begin File']: row['Annotation'] for row in annotations}\n",
    "\n",
    "# List all .wav files in the directory\n",
    "wav_files = [f for f in os.listdir(recs_directory) if f.lower().endswith('.wav')]\n",
    "\n",
    "# Loop through .wav files and rename them based on the annotation\n",
    "for wav_file in wav_files:\n",
    "    if wav_file in annotation_map:\n",
    "        annotation = annotation_map[wav_file]\n",
    "        new_name = f\"{os.path.splitext(wav_file)[0]}_{annotation}.wav\"\n",
    "        old_path = os.path.join(recs_directory, wav_file)\n",
    "        new_path = os.path.join(recs_directory, new_name)\n",
    "        os.rename(old_path, new_path)\n",
    "\n",
    "print(\"File renaming complete.\")"
   ]
  }
 ],
 "metadata": {
  "kernelspec": {
   "display_name": "Python 3 (ipykernel)",
   "language": "python",
   "name": "python3"
  },
  "language_info": {
   "codemirror_mode": {
    "name": "ipython",
    "version": 3
   },
   "file_extension": ".py",
   "mimetype": "text/x-python",
   "name": "python",
   "nbconvert_exporter": "python",
   "pygments_lexer": "ipython3",
   "version": "3.9.17"
  }
 },
 "nbformat": 4,
 "nbformat_minor": 5
}
