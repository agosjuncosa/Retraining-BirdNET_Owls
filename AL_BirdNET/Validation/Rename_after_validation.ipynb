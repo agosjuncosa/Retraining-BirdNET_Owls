{
 "cells": [
  {
   "cell_type": "markdown",
   "id": "b3f3ea39-a756-4300-88a0-989e96618fb2",
   "metadata": {},
   "source": [
    "### Recursively Rename Files After Validation"
   ]
  },
  {
   "cell_type": "markdown",
   "id": "e1198f60-f5ad-41c6-8471-ac2e47f837b3",
   "metadata": {},
   "source": [
    "### **Test before use on real data**"
   ]
  },
  {
   "cell_type": "code",
   "execution_count": null,
   "id": "4d726d85-6ae5-4dfe-909e-f5b9c45ab994",
   "metadata": {},
   "outputs": [],
   "source": [
    "import os\n",
    "import csv"
   ]
  },
  {
   "cell_type": "code",
   "execution_count": null,
   "id": "b7618783-a8fc-4ccc-8ee6-5cad9beb35b1",
   "metadata": {},
   "outputs": [],
   "source": [
    "# Initialize directory - CHANGE IT ACCORDINGLY\n",
    "recs_directory = \"/mnt/d/retraining_BirdNET_2025/segments_validation/it_1/uncertainty/\""
   ]
  },
  {
   "cell_type": "code",
   "execution_count": null,
   "id": "9333a742-495b-48dd-9027-dfa765b71a18",
   "metadata": {},
   "outputs": [],
   "source": [
    "# Loop though all class folders within a directory\n",
    "for class_folder in os.listdir(recs_directory):\n",
    "    class_path = os.path.join(recs_directory, class_folder)\n",
    "\n",
    "    # Find the annotation file within the class folder\n",
    "    txt_files = [f for f in os.listdir(class_path) if f.lower().endswith('.txt')]\n",
    "    txt_file = os.path.join(class_path, txt_files[0])\n",
    "\n",
    "    # Read the .txt file into a DataFrame\n",
    "    df_annotations = pd.read_csv(txt_file, delimiter='\\t')\n",
    "\n",
    "    # Convert to a dictionary {filename: annotation}\n",
    "    annotation_map = dict(zip(df_annotations['Begin File'], df_annotations['Annotation']))\n",
    "\n",
    "    # List all .wav files in the class folders\n",
    "    wav_files = [f for f in os.listdir(class_path) if f.lower().endswith('.wav')]\n",
    "\n",
    "    # Rename files based on the annotation map\n",
    "    for wav_file in wav_files:\n",
    "        if wav_file in annotation_map:\n",
    "            annotation = annotation_map[wav_file]\n",
    "            new_name = f\"{os.path.splitext(wav_file)[0]}_{annotation}.WAV\"\n",
    "            old_path = os.path.join(class_path, wav_file)\n",
    "            new_path = os.path.join(class_path, new_name)\n",
    "\n",
    "            # Rename the file\n",
    "            os.rename(old_path, new_path)\n",
    "            print(f\"✔ Renamed: {wav_file} → {new_name}\")\n",
    "\n",
    "print(\"✅ File renaming complete.\")    "
   ]
  }
 ],
 "metadata": {
  "kernelspec": {
   "display_name": "Python 3 (ipykernel)",
   "language": "python",
   "name": "python3"
  },
  "language_info": {
   "codemirror_mode": {
    "name": "ipython",
    "version": 3
   },
   "file_extension": ".py",
   "mimetype": "text/x-python",
   "name": "python",
   "nbconvert_exporter": "python",
   "pygments_lexer": "ipython3",
   "version": "3.9.17"
  }
 },
 "nbformat": 4,
 "nbformat_minor": 5
}
