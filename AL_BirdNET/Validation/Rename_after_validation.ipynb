{
 "cells": [
  {
   "cell_type": "markdown",
   "id": "b3f3ea39-a756-4300-88a0-989e96618fb2",
   "metadata": {},
   "source": [
    "### Recursively Rename Files After Validation"
   ]
  },
  {
   "cell_type": "markdown",
   "id": "e1198f60-f5ad-41c6-8471-ac2e47f837b3",
   "metadata": {},
   "source": [
    "### **Test before use on real data**"
   ]
  },
  {
   "cell_type": "code",
   "execution_count": 1,
   "id": "4d726d85-6ae5-4dfe-909e-f5b9c45ab994",
   "metadata": {},
   "outputs": [],
   "source": [
    "import os\n",
    "import pandas as pd"
   ]
  },
  {
   "cell_type": "code",
   "execution_count": 2,
   "id": "b7618783-a8fc-4ccc-8ee6-5cad9beb35b1",
   "metadata": {},
   "outputs": [],
   "source": [
    "# Define the root directory containing class folders\n",
    "recs_directory = \"/mnt/d/retraining_BirdNET_2025/iterative_training/segments_validation/it_9/random/\""
   ]
  },
  {
   "cell_type": "code",
   "execution_count": 3,
   "id": "9cc84c0a-6be2-4b41-9d3e-f234760872bf",
   "metadata": {},
   "outputs": [
    {
     "name": "stdout",
     "output_type": "stream",
     "text": [
      "No annotation file found in Rusty-barred Owl_song, skipping...\n",
      "File renaming complete.\n"
     ]
    }
   ],
   "source": [
    "# Function to rename clips based on the annotation map\n",
    "def rename_clips(directory, annotation_map):\n",
    "    # List all .wav files in the directory\n",
    "    wav_files = [f for f in os.listdir(directory) if f.lower().endswith('.wav')]\n",
    "\n",
    "    for wav_file in wav_files:\n",
    "        if wav_file in annotation_map:\n",
    "            annotation = annotation_map[wav_file]\n",
    "\n",
    "            # Skip if annotation is NaN or empty\n",
    "            if pd.isna(annotation) or str(annotation).strip() == \"\":\n",
    "                continue\n",
    "                \n",
    "            new_name = f\"{os.path.splitext(wav_file)[0]}_{annotation}.WAV\"\n",
    "            old_path = os.path.join(directory, wav_file)\n",
    "            new_path = os.path.join(directory, new_name)\n",
    "\n",
    "            try:\n",
    "                # Rename the file\n",
    "                os.rename(old_path, new_path)\n",
    "                #print(f\"Renamed: {wav_file} → {new_name}\")\n",
    "            except Exception as e:\n",
    "                print(f\"X Error renaming {wav_file}: {e}\")\n",
    "                \n",
    "\n",
    "# Loop through all class folders within the root directory\n",
    "for class_folder in os.listdir(recs_directory):\n",
    "    class_path = os.path.join(recs_directory, class_folder)\n",
    "    \n",
    "    # Ensure it's a directory before proceeding\n",
    "    if not os.path.isdir(class_path):\n",
    "        continue  \n",
    "\n",
    "    # Check for subfolders (`top_scoring` and `for_training`)\n",
    "    subfolders = [os.path.join(class_path, subfolder) \n",
    "                  for subfolder in os.listdir(class_path) \n",
    "                  if os.path.isdir(os.path.join(class_path, subfolder))]\n",
    "\n",
    "    if subfolders:\n",
    "        # If subfolders exist, process each one separately\n",
    "        for subfolder in subfolders:\n",
    "            # Find the `_Validation.txt` file within the subfolder\n",
    "            txt_files = [f for f in os.listdir(subfolder) if f.lower().endswith('_validation.txt')]\n",
    "            if len(txt_files) == 0:\n",
    "                print(f\"No annotation file found in {subfolder}, skipping...\")\n",
    "                continue\n",
    "            \n",
    "            txt_file = os.path.join(subfolder, txt_files[0])\n",
    "\n",
    "            try: \n",
    "                # Try to read the file and create an annotation map\n",
    "                df_annotations = pd.read_csv(txt_file, delimiter='\\t')\n",
    "                annotation_map = dict(zip(df_annotations['Begin File'], df_annotations['Annotation']))\n",
    "\n",
    "                # Rename files within the subfolder\n",
    "                rename_clips(subfolder, annotation_map)\n",
    "            except Exception as e:\n",
    "                print(f\"Error processing {txt_file}: {e}\")\n",
    "                continue\n",
    "    else:\n",
    "        # If no subfolders, look for the _Validation.txt directly in the class folder\n",
    "        txt_files = [f for f in os.listdir(class_path) if f.lower().endswith('_validation.txt')]\n",
    "        if len(txt_files) == 0:\n",
    "            print(f\"No annotation file found in {class_folder}, skipping...\")\n",
    "            continue\n",
    "        \n",
    "        txt_file = os.path.join(class_path, txt_files[0])\n",
    "\n",
    "        try: \n",
    "            # Try to read the annotations and create a mapping     \n",
    "            df_annotations = pd.read_csv(txt_file, delimiter='\\t')\n",
    "            annotation_map = dict(zip(df_annotations['Begin File'], df_annotations['Annotation']))\n",
    "\n",
    "            # Rename files directly in the class folder\n",
    "            rename_clips(class_path, annotation_map)\n",
    "        except Exception as e:\n",
    "            print(f\"Error processing {txt_file}: {e}\")\n",
    "            continue\n",
    "\n",
    "print(\"File renaming complete.\")\n"
   ]
  },
  {
   "cell_type": "code",
   "execution_count": null,
   "id": "58e03d4c-aa70-446d-81da-ffdf22358798",
   "metadata": {},
   "outputs": [],
   "source": []
  }
 ],
 "metadata": {
  "kernelspec": {
   "display_name": "Python 3 (ipykernel)",
   "language": "python",
   "name": "python3"
  },
  "language_info": {
   "codemirror_mode": {
    "name": "ipython",
    "version": 3
   },
   "file_extension": ".py",
   "mimetype": "text/x-python",
   "name": "python",
   "nbconvert_exporter": "python",
   "pygments_lexer": "ipython3",
   "version": "3.9.17"
  }
 },
 "nbformat": 4,
 "nbformat_minor": 5
}
