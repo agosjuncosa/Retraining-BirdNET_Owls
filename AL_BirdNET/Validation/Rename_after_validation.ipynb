{
 "cells": [
  {
   "cell_type": "markdown",
   "id": "b3f3ea39-a756-4300-88a0-989e96618fb2",
   "metadata": {},
   "source": [
    "### Recursively Rename Files After Validation"
   ]
  },
  {
   "cell_type": "markdown",
   "id": "e1198f60-f5ad-41c6-8471-ac2e47f837b3",
   "metadata": {},
   "source": [
    "### **Test before use on real data**"
   ]
  },
  {
   "cell_type": "code",
   "execution_count": null,
   "id": "4d726d85-6ae5-4dfe-909e-f5b9c45ab994",
   "metadata": {},
   "outputs": [],
   "source": [
    "import os\n",
    "import pandas as pd"
   ]
  },
  {
   "cell_type": "code",
   "execution_count": null,
   "id": "b7618783-a8fc-4ccc-8ee6-5cad9beb35b1",
   "metadata": {},
   "outputs": [],
   "source": [
    "# Define the root directory containing class folders\n",
    "recs_directory = \"/mnt/d/retraining_BirdNET_2025/iterative_training/segments_validation/it_1_s1_t0.01/random/\""
   ]
  },
  {
   "cell_type": "code",
   "execution_count": null,
   "id": "71f299ea-6d06-4858-85f7-bb70fde5b1fd",
   "metadata": {},
   "outputs": [],
   "source": [
    "# Loop through all class folders within the root directory\n",
    "for class_folder in os.listdir(recs_directory):\n",
    "    class_path = os.path.join(recs_directory, class_folder)\n",
    "    \n",
    "    # Ensure it's a directory before proceeding\n",
    "    if not os.path.isdir(class_path):\n",
    "        continue  \n",
    "\n",
    "    # Find the annotation file within the class folder\n",
    "    txt_files = [f for f in os.listdir(class_path) if f.lower().endswith('.txt')]\n",
    "    \n",
    "    if len(txt_files) == 0:\n",
    "        print(f\"⚠ No annotation file found in {class_folder}, skipping...\")\n",
    "        continue\n",
    "    #elif len(txt_files) > 1:\n",
    "        #print(f\"⚠ Multiple .txt files found in {class_folder}, using the first one: {txt_files[0]}\")\n",
    "\n",
    "    txt_file = os.path.join(class_path, txt_files[0])\n",
    "\n",
    "    # Read the .txt file into a DataFrame and create an annotation mapping\n",
    "    df_annotations = pd.read_csv(txt_file, delimiter='\\t')\n",
    "    annotation_map = dict(zip(df_annotations['Begin File'], df_annotations['Annotation']))\n",
    "\n",
    "    # List all .WAV files in the class folder\n",
    "    wav_files = [f for f in os.listdir(class_path) if f.lower().endswith('.wav')]\n",
    "\n",
    "    # Rename files based on the annotation map\n",
    "    for wav_file in wav_files:\n",
    "        if wav_file in annotation_map:\n",
    "            annotation = annotation_map[wav_file]\n",
    "            new_name = f\"{os.path.splitext(wav_file)[0]}_{annotation}.WAV\"\n",
    "            old_path = os.path.join(class_path, wav_file)\n",
    "            new_path = os.path.join(class_path, new_name)\n",
    "\n",
    "            # Rename the file\n",
    "            os.rename(old_path, new_path)\n",
    "            print(f\"✔ Renamed: {wav_file} → {new_name}\")\n",
    "\n",
    "print(\"✅ File renaming complete.\")\n"
   ]
  }
 ],
 "metadata": {
  "kernelspec": {
   "display_name": "Python 3 (ipykernel)",
   "language": "python",
   "name": "python3"
  },
  "language_info": {
   "codemirror_mode": {
    "name": "ipython",
    "version": 3
   },
   "file_extension": ".py",
   "mimetype": "text/x-python",
   "name": "python",
   "nbconvert_exporter": "python",
   "pygments_lexer": "ipython3",
   "version": "3.9.17"
  }
 },
 "nbformat": 4,
 "nbformat_minor": 5
}
