{
 "cells": [
  {
   "cell_type": "markdown",
   "id": "62aab385-aa6e-4a68-93ba-22bcb7ba6073",
   "metadata": {},
   "source": [
    "### Validated unused clips tracker"
   ]
  },
  {
   "cell_type": "code",
   "execution_count": 1,
   "id": "fb00db95-9ada-47c6-a725-b0c2305736be",
   "metadata": {},
   "outputs": [],
   "source": [
    "import os\n",
    "import pandas as pd\n",
    "from pathlib import Path"
   ]
  },
  {
   "cell_type": "code",
   "execution_count": 2,
   "id": "3da8ce51-cb11-4d2f-aeb0-8e3caed5caeb",
   "metadata": {},
   "outputs": [],
   "source": [
    "# Path to validated clips folder\n",
    "validated_clips_path = '/mnt/d/retraining_BirdNET_2025/iterative_training/segments_validation/unused_validated_clips/'\n",
    "# Tracker path generated dynamically\n",
    "tracker_path = os.path.join(validated_clips_path, 'unused_validated_clips_tracker.csv')"
   ]
  },
  {
   "cell_type": "code",
   "execution_count": 3,
   "id": "a76be6b2-6c25-47b4-b6f3-00b1a9a2cbfd",
   "metadata": {},
   "outputs": [],
   "source": [
    "def extract_core_filename(filename):\n",
    "    parts = Path(filename).stem.split('_')  # Remove extension and split filename\n",
    "    if len(parts) >= 6:\n",
    "        return '_'.join(parts[1:6])  # Ignore score and keep elements [1] to [5]\n",
    "    return None\n",
    "    "
   ]
  },
  {
   "cell_type": "code",
   "execution_count": 4,
   "id": "cf35601a-1dec-4e14-abc6-de8781ad0ea6",
   "metadata": {},
   "outputs": [
    {
     "name": "stdout",
     "output_type": "stream",
     "text": [
      "WARNING: The following core filenames appear more than once in the folder:\n",
      "   → 69_M17_SN24_20220824_190000\n",
      "Tracker created at /mnt/d/retraining_BirdNET_2025/iterative_training/segments_validation/unused_validated_clips/unused_validated_clips_tracker.csv\n",
      "Total files tracked: 2935\n"
     ]
    }
   ],
   "source": [
    "def update_validated_clips_tracker():\n",
    "    \"\"\"\n",
    "    Create a validated clips tracker.\n",
    "    \"\"\"\n",
    "    # Read all .WAV files in validated_clips_path\n",
    "    validated_clips = []\n",
    "    for clip in os.listdir(validated_clips_path):\n",
    "        if clip.lower().endswith('.wav'):\n",
    "            core_filename = extract_core_filename(clip)\n",
    "            if core_filename:\n",
    "                validated_clips.append({\n",
    "                    'file': os.path.join(validated_clips_path, clip),  # Full path\n",
    "                    'core_filename': core_filename\n",
    "                })\n",
    "\n",
    "    \n",
    "    # Create a DataFrame\n",
    "    tracker_df = pd.DataFrame(validated_clips)\n",
    "\n",
    "    if tracker_df.empty:\n",
    "        print(\"No validated files found. Nothing to update.\")\n",
    "        return\n",
    "\n",
    "    # Check for duplicates (based on core_filename)\n",
    "    duplicates = tracker_df['core_filename'].duplicated(keep=False)\n",
    "\n",
    "    if duplicates.any():\n",
    "        # Display a warning for duplicates\n",
    "        dupes = tracker_df.loc[duplicates, 'core_filename'].unique().tolist()\n",
    "        print(f\"WARNING: The following core filenames appear more than once in the folder:\")\n",
    "        for d in dupes:\n",
    "            print(f\"   → {d}\")\n",
    "            \n",
    "    else:\n",
    "        print(f\"No duplicates found\")\n",
    "\n",
    "    # Overwrite the old tracker with the updated one\n",
    "    tracker_df.to_csv(tracker_path, index=False)\n",
    "    print(f\"Tracker created at {tracker_path}\")\n",
    "    print(f\"Total files tracked: {len(tracker_df)}\")\n",
    "\n",
    "# Run the tracker update\n",
    "update_validated_clips_tracker()"
   ]
  },
  {
   "cell_type": "code",
   "execution_count": null,
   "id": "b2f07517-6570-4616-b02d-571eb94b8bd7",
   "metadata": {},
   "outputs": [],
   "source": [
    "\n",
    "\n",
    "    "
   ]
  }
 ],
 "metadata": {
  "kernelspec": {
   "display_name": "Python 3 (ipykernel)",
   "language": "python",
   "name": "python3"
  },
  "language_info": {
   "codemirror_mode": {
    "name": "ipython",
    "version": 3
   },
   "file_extension": ".py",
   "mimetype": "text/x-python",
   "name": "python",
   "nbconvert_exporter": "python",
   "pygments_lexer": "ipython3",
   "version": "3.9.17"
  }
 },
 "nbformat": 4,
 "nbformat_minor": 5
}
