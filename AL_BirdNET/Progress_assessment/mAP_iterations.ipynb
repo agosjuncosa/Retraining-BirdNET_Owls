{
 "cells": [
  {
   "cell_type": "code",
   "execution_count": 1,
   "id": "e2c9c7b6-4175-444d-96ac-3319f04ecca2",
   "metadata": {},
   "outputs": [],
   "source": [
    "import os\n",
    "import pandas as pd\n",
    "import matplotlib.pyplot as plt"
   ]
  },
  {
   "cell_type": "code",
   "execution_count": null,
   "id": "f3be3b09-ce0b-4f03-ba79-c790ac1d3e31",
   "metadata": {},
   "outputs": [],
   "source": [
    "data_path = ('/mnt/d/retraining_BirdNET_2025/model_test/results/AL_progress.csv')\n",
    "df = pd.read_csv(data_path)"
   ]
  },
  {
   "cell_type": "code",
   "execution_count": null,
   "id": "8f1950fd-6ae2-42d3-9139-e01cab021f6b",
   "metadata": {},
   "outputs": [],
   "source": [
    "# Separate models\n",
    "base_models = df.iloc[:4]  # BN to Model 2\n",
    "branch_models = df.iloc[4:]  # Model 3 options"
   ]
  },
  {
   "cell_type": "code",
   "execution_count": null,
   "id": "9f2f7175-aafa-4ee4-a1b1-8769f97d16b3",
   "metadata": {},
   "outputs": [],
   "source": [
    "# Set up x-axis positions\n",
    "x_positions = list(range(len(base_models)))  # [0, 1, 2, 3]\n",
    "x_model_3 = len(base_models)                 # position for \"Model 3\"\n",
    "x_all = x_positions + [x_model_3]\n",
    "x_labels = base_models['model'].tolist() + [\"Model 3\"]\n"
   ]
  },
  {
   "cell_type": "code",
   "execution_count": null,
   "id": "1cc625cd-fa49-4693-84d6-9e6dc328c3db",
   "metadata": {},
   "outputs": [],
   "source": [
    "# Plot base line\n",
    "plt.figure(figsize=(10, 6))\n",
    "plt.plot(x_positions, base_models[\"mAP_owls\"], marker='o', linewidth=2, color=\"coral\")\n",
    "\n",
    "\n",
    "\n",
    "# Connect each Model 3 variant from last base model\n",
    "last_x = x_positions[-1]\n",
    "last_y = base_models[\"mAP_owls\"].iloc[-1]\n",
    "colors = ['palevioletred', 'orange', 'cadetblue']\n",
    "\n",
    "for i, (idx, row) in enumerate(branch_models.iterrows()):\n",
    "    branch_y = row[\"mAP_owls\"]\n",
    "    offset = (i - 1) * 0.1  # Slight x offset for spacing\n",
    "    branch_x = x_model_3 + offset\n",
    "    plt.plot([last_x, branch_x], [last_y, branch_y], color=colors[i], alpha=0.7)\n",
    "    plt.scatter(branch_x, branch_y, color=colors[i], label=row[\"model\"], zorder=5)\n",
    "\n",
    "  \n",
    "\n",
    "# X-axis\n",
    "plt.xticks(x_all, x_labels, rotation=30)\n",
    "plt.xlabel(\"Model Iteration\", fontsize=14)\n",
    "plt.ylabel(\"Macro mAP\", fontsize=14)\n",
    "plt.title(\"Active Learning Progress (Owl classes)\", fontsize=16)\n",
    "plt.ylim(0.1, 0.6)\n",
    "plt.legend (loc= 'lower right',fontsize=10)\n",
    "plt.tight_layout()\n",
    "\n",
    "# Save before showing\n",
    "output_dir = os.path.dirname(data_path)\n",
    "plot_path = os.path.join(output_dir, \"AL_Process_Owls.png\")\n",
    "plt.savefig(plot_path, dpi=300)\n",
    "\n",
    "#Show plot\n",
    "plt.show()"
   ]
  },
  {
   "cell_type": "markdown",
   "id": "6903e46b-7f83-42ea-9a6f-dfbd5cecc8ce",
   "metadata": {},
   "source": [
    "Maybe later will be usefull to plot how many ARU clips does the training set contains...At least for the event classes. To show improvement due to the progress from adding more ARU clips. "
   ]
  },
  {
   "cell_type": "markdown",
   "id": "8b448a70-99e0-4140-ae9d-bd922f4e145c",
   "metadata": {},
   "source": [
    "### New plots after it4"
   ]
  },
  {
   "cell_type": "code",
   "execution_count": 2,
   "id": "5da0de18-c064-4c00-855e-16374587ea44",
   "metadata": {},
   "outputs": [],
   "source": [
    "import os\n",
    "import pandas as pd\n",
    "import matplotlib.pyplot as plt"
   ]
  },
  {
   "cell_type": "code",
   "execution_count": 3,
   "id": "5517e7d4-e1ad-40e7-b1d7-29d6aca7a76b",
   "metadata": {},
   "outputs": [],
   "source": [
    "data_path = ('/mnt/d/retraining_BirdNET_2025/model_test/results/AL_progress_latest_ARUs.csv')\n",
    "df = pd.read_csv(data_path)"
   ]
  },
  {
   "cell_type": "code",
   "execution_count": 4,
   "id": "40f28a22-660e-42e4-9edb-93a610a66793",
   "metadata": {},
   "outputs": [
    {
     "data": {
      "text/html": [
       "<div>\n",
       "<style scoped>\n",
       "    .dataframe tbody tr th:only-of-type {\n",
       "        vertical-align: middle;\n",
       "    }\n",
       "\n",
       "    .dataframe tbody tr th {\n",
       "        vertical-align: top;\n",
       "    }\n",
       "\n",
       "    .dataframe thead th {\n",
       "        text-align: right;\n",
       "    }\n",
       "</style>\n",
       "<table border=\"1\" class=\"dataframe\">\n",
       "  <thead>\n",
       "    <tr style=\"text-align: right;\">\n",
       "      <th></th>\n",
       "      <th>model</th>\n",
       "      <th>sensitivity</th>\n",
       "      <th>threshold</th>\n",
       "      <th>event classes</th>\n",
       "      <th>non-event classes</th>\n",
       "      <th>mAP_ARUs</th>\n",
       "      <th>mAP_ARUs_owls</th>\n",
       "    </tr>\n",
       "  </thead>\n",
       "  <tbody>\n",
       "    <tr>\n",
       "      <th>0</th>\n",
       "      <td>BN</td>\n",
       "      <td>1</td>\n",
       "      <td>0.01</td>\n",
       "      <td>31</td>\n",
       "      <td>3</td>\n",
       "      <td>0.1054</td>\n",
       "      <td>0.1117</td>\n",
       "    </tr>\n",
       "    <tr>\n",
       "      <th>1</th>\n",
       "      <td>Model-0</td>\n",
       "      <td>1</td>\n",
       "      <td>0.01</td>\n",
       "      <td>31</td>\n",
       "      <td>3</td>\n",
       "      <td>0.2876</td>\n",
       "      <td>0.3605</td>\n",
       "    </tr>\n",
       "    <tr>\n",
       "      <th>2</th>\n",
       "      <td>Model-1</td>\n",
       "      <td>1</td>\n",
       "      <td>0.01</td>\n",
       "      <td>31</td>\n",
       "      <td>3</td>\n",
       "      <td>0.2857</td>\n",
       "      <td>0.3567</td>\n",
       "    </tr>\n",
       "    <tr>\n",
       "      <th>3</th>\n",
       "      <td>Model-2</td>\n",
       "      <td>1</td>\n",
       "      <td>0.01</td>\n",
       "      <td>31</td>\n",
       "      <td>3</td>\n",
       "      <td>0.2829</td>\n",
       "      <td>0.3428</td>\n",
       "    </tr>\n",
       "    <tr>\n",
       "      <th>4</th>\n",
       "      <td>Model-3</td>\n",
       "      <td>1</td>\n",
       "      <td>0.01</td>\n",
       "      <td>31</td>\n",
       "      <td>5</td>\n",
       "      <td>0.3143</td>\n",
       "      <td>0.3809</td>\n",
       "    </tr>\n",
       "    <tr>\n",
       "      <th>5</th>\n",
       "      <td>Model-4</td>\n",
       "      <td>1</td>\n",
       "      <td>0.01</td>\n",
       "      <td>31</td>\n",
       "      <td>5</td>\n",
       "      <td>0.3106</td>\n",
       "      <td>0.3750</td>\n",
       "    </tr>\n",
       "  </tbody>\n",
       "</table>\n",
       "</div>"
      ],
      "text/plain": [
       "     model  sensitivity  threshold  event classes  non-event classes  \\\n",
       "0      BN             1       0.01             31                  3   \n",
       "1  Model-0            1       0.01             31                  3   \n",
       "2  Model-1            1       0.01             31                  3   \n",
       "3  Model-2            1       0.01             31                  3   \n",
       "4  Model-3            1       0.01             31                  5   \n",
       "5  Model-4            1       0.01             31                  5   \n",
       "\n",
       "   mAP_ARUs  mAP_ARUs_owls  \n",
       "0    0.1054         0.1117  \n",
       "1    0.2876         0.3605  \n",
       "2    0.2857         0.3567  \n",
       "3    0.2829         0.3428  \n",
       "4    0.3143         0.3809  \n",
       "5    0.3106         0.3750  "
      ]
     },
     "execution_count": 4,
     "metadata": {},
     "output_type": "execute_result"
    }
   ],
   "source": [
    "df"
   ]
  },
  {
   "cell_type": "code",
   "execution_count": 6,
   "id": "f7b29bd9-2e4d-44c4-aaee-7d90ab33686f",
   "metadata": {},
   "outputs": [],
   "source": [
    "# Set up x-axis positions\n",
    "x_positions = list(range(len(df['model']))) \n",
    "x_labels = df['model'].tolist()"
   ]
  },
  {
   "cell_type": "code",
   "execution_count": 14,
   "id": "ad4ef1b7-0d06-4a9c-a7e1-56263965c0d4",
   "metadata": {},
   "outputs": [
    {
     "data": {
      "image/png": "[encoded data removed]",
      "text/plain": [
       "<Figure size 1000x600 with 1 Axes>"
      ]
     },
     "metadata": {},
     "output_type": "display_data"
    }
   ],
   "source": [
    "# Plot base line\n",
    "plt.figure(figsize=(10, 6))\n",
    "plt.plot(x_positions, df['mAP_ARUs'], marker='o', linewidth=2, color=\"cadetblue\")\n",
    "\n",
    "\n",
    "plt.xticks(x_positions, x_labels, rotation=30)\n",
    "plt.xlabel(\"Model Iteration\", fontsize=14)\n",
    "plt.ylabel(\"Macro mAP\", fontsize=14)\n",
    "plt.title(\"Active Learning Progress All Classes ARU-clips\", fontsize=16)\n",
    "plt.ylim(0.1, 0.6)\n",
    "#plt.legend (loc= 'lower right',fontsize=10)\n",
    "plt.tight_layout()\n",
    "\n",
    "# Save before showing\n",
    "output_dir = os.path.dirname(data_path)\n",
    "plot_path = os.path.join(output_dir, \"AL_Process_all_latest_ARU.png\")\n",
    "plt.savefig(plot_path, dpi=300)\n",
    "\n",
    "#Show plot\n",
    "plt.show()"
   ]
  }
 ],
 "metadata": {
  "kernelspec": {
   "display_name": "Python 3 (ipykernel)",
   "language": "python",
   "name": "python3"
  },
  "language_info": {
   "codemirror_mode": {
    "name": "ipython",
    "version": 3
   },
   "file_extension": ".py",
   "mimetype": "text/x-python",
   "name": "python",
   "nbconvert_exporter": "python",
   "pygments_lexer": "ipython3",
   "version": "3.9.17"
  }
 },
 "nbformat": 4,
 "nbformat_minor": 5
}
