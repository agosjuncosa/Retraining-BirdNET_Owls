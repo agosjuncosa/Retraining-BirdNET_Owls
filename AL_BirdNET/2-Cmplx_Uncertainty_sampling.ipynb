{
 "cells": [
  {
   "cell_type": "markdown",
   "id": "17874ed6-76a0-4751-a1e6-b00e2d19b30d",
   "metadata": {},
   "source": [
    "### Uncertainty sampling with filtering & class-specific dynamic adjustments "
   ]
  },
  {
   "cell_type": "markdown",
   "id": "d9e60e42-312f-4416-8a20-6866777d31fb",
   "metadata": {},
   "source": [
    "We do not need to concatenate the .txt files as all predictions are now condensed into one single big .txt file. \n",
    "We need to select 32 top scoring clips for each class.\n",
    "On iteration 0 it is easy, there is no need of using a filter because there are no clips from field data already incorporated. There is no need to check class precision on previous evaluation as there are no previous calculations yet. So iteration 0 (base) it is easy and probably it is better to use the base code. **Just select 32 top scoring clips per class.**\n",
    "\n",
    "It will be necessary to include a df (training set tracker) to filter out the files already included as part of the training classes. Moreover, there will be a need to include a df with the precisions of each class (computed before), this will only be included after iteration 1. So on iteration 1 there will be no need to use this part but it would be necessary on subsequent iterations. If the precision of a certain class is below 0.5 (<= 50%), then select only the 32 top-scoring clips (filtering out the already included clips). If the precision of a certain class was above 0.5 (>= 50%), then select the 64 top scoring clips for that class. \n"
   ]
  },
  {
   "cell_type": "markdown",
   "id": "d53e7f78-ad63-4317-b6c1-ecea5b05195b",
   "metadata": {},
   "source": [
    "Goals:\n",
    "Select top-scoring 32 (or 64) clips per class for validation.\n",
    "Adjust the number of clips based on the previous iteration's precision:\n",
    "Classes with precision > 50%: Select 64 clips, split (manually?) into:\n",
    "Top 32 for computing precision.\n",
    "Next 32 for potential inclusion in the training set.\n",
    "Classes with precision ≤ 50%: Select 32 clips.\n",
    "Filter out clips already in the training set."
   ]
  },
  {
   "cell_type": "markdown",
   "id": "7ee80890-dcc6-4035-ba17-9de73cbbf266",
   "metadata": {},
   "source": [
    "#### Load Required Data:\n",
    "\n",
    "* Combined predictions dataframe (big_df).\n",
    "* training_set_tracker _to exclude already training set clips_.\n",
    "* Class precision dataframe _from the previous iteration_."
   ]
  },
  {
   "cell_type": "markdown",
   "id": "827a6e4d-dc6e-4972-bd5f-b977c7b79c2b",
   "metadata": {},
   "source": [
    "#### Sampling Logic:\n",
    "\n",
    "* For each class:\n",
    "    - Exclude filenames present in the tracker for that class.\n",
    "    - Sort predictions by score and select:\n",
    "        Top 32 if precision ≤ 50%.\n",
    "        Top 64 if precision > 50% (split into two groups).\n"
   ]
  },
  {
   "cell_type": "code",
   "execution_count": 1,
   "id": "a4223c5c-c2c7-4df4-9d55-1fb1a4d5ecb7",
   "metadata": {},
   "outputs": [
    {
     "name": "stderr",
     "output_type": "stream",
     "text": [
      "/home/agosjuncosa/anaconda3/envs/opensoundscape/lib/python3.9/site-packages/opensoundscape/ml/cnn.py:18: TqdmExperimentalWarning: Using `tqdm.autonotebook.tqdm` in notebook mode. Use `tqdm.tqdm` instead to force console mode (e.g. in jupyter console)\n",
      "  from tqdm.autonotebook import tqdm\n"
     ]
    }
   ],
   "source": [
    "# Load required libraries\n",
    "import pandas as pd\n",
    "from pathlib import Path\n",
    "from opensoundscape import Audio"
   ]
  },
  {
   "cell_type": "code",
   "execution_count": 2,
   "id": "a5b33269-0f6f-44cf-94b0-b19eadb9a59e",
   "metadata": {},
   "outputs": [],
   "source": [
    "# Directories and file paths\n",
    "annotations_file = '/mnt/d/retraining_BirdNET/iterative_training_2025/output_results_2025/model_0/BirdNET_SelectionTable.txt'\n",
    "audio_files_dir = '/mnt/d/retraining_BirdNET/iterative_training_2025/input_20%/'\n",
    "output_dir = '/mnt/d/retraining_BirdNET/iterative_training_2025/segments_validation_2025/model_1/'\n",
    "tracker_path = '/mnt/d/retraining_BirdNET/model_train_2025/training_set_tracker.csv'  # Path to training set tracker\n",
    "precision_file = '/mnt/d/retraining_BirdNET/iterative_training_2025/segments_validation_2025/model_0/precision_per_class.csv'  # Path to precision data (after iteration 1)"
   ]
  },
  {
   "cell_type": "code",
   "execution_count": 3,
   "id": "45ed9c20-6650-48b2-8112-25a001e14cba",
   "metadata": {},
   "outputs": [],
   "source": [
    "# Read annotations\n",
    "df = pd.read_csv(annotations_file, sep='\\t', usecols=['Begin Path', 'File Offset (s)', 'Common Name', 'Confidence'])\n",
    "df.rename(columns={\n",
    "    'Begin Path': 'file',\n",
    "    'File Offset (s)': 'offset',\n",
    "    'Common Name': 'class',\n",
    "    'Confidence': 'score'\n",
    "}, inplace=True)\n"
   ]
  },
  {
   "cell_type": "code",
   "execution_count": 4,
   "id": "9f8aeb56-bfcd-4c80-bcbb-f9402412c1d8",
   "metadata": {},
   "outputs": [],
   "source": [
    "# Extract filename without directory for comparison\n",
    "df['filename'] = df['file'].apply(lambda x: Path(x).name)"
   ]
  },
  {
   "cell_type": "code",
   "execution_count": 5,
   "id": "9d97bee8-7b81-47a5-abad-0a5c1dd1ecb6",
   "metadata": {},
   "outputs": [],
   "source": [
    "# Load the training set tracker (filter already included clips)\n",
    "if Path(tracker_path).exists():\n",
    "    tracker_df = pd.read_csv(tracker_path)\n",
    "    tracker_filenames = tracker_df['file'].apply(lambda x: Path(x).name).tolist()  # Ignore score and offset\n",
    "else:\n",
    "    tracker_filenames = []\n"
   ]
  },
  {
   "cell_type": "code",
   "execution_count": 6,
   "id": "2b1a3f96-6300-4454-b34e-be569860ca37",
   "metadata": {},
   "outputs": [],
   "source": [
    "# Load precision data (only needed after iteration 1)\n",
    "if Path(precision_file).exists():\n",
    "    precision_df = pd.read_csv(precision_file)\n",
    "    class_precision = dict(zip(precision_df['class'], precision_df['precision']))\n",
    "else:\n",
    "    class_precision = {}"
   ]
  },
  {
   "cell_type": "code",
   "execution_count": 7,
   "id": "9327f89b-73d4-40fa-bedf-7d482295ec88",
   "metadata": {},
   "outputs": [],
   "source": [
    "# Filter out already-included clips\n",
    "df = df[~df['filename'].isin(tracker_filenames)]"
   ]
  },
  {
   "cell_type": "code",
   "execution_count": 8,
   "id": "85330473-d74a-4653-b814-05c684cacfc1",
   "metadata": {},
   "outputs": [],
   "source": [
    "# Container for top-scoring clips per class\n",
    "top_entries_per_class = []\n",
    "\n",
    "# Group by class and select top clips based on precision\n",
    "for class_name, class_df in df.groupby(by='class'):\n",
    "    # Skip non-relevant classes (optional)\n",
    "    if class_name == ['nocall']:\n",
    "        continue\n",
    "\n",
    "    # Determine number of clips to select based on precision\n",
    "    num_clips = 32  # Default\n",
    "    if class_name in class_precision:\n",
    "        if class_precision[class_name] > 0.5:\n",
    "            num_clips = 64\n",
    "\n",
    "    # Select top-scoring clips\n",
    "    top_clips = class_df.sort_values(by='score', ascending=False).head(num_clips)\n",
    "    top_entries_per_class.append(top_clips)\n",
    "\n",
    "# Combine all top clips into a single DataFrame\n",
    "all_top_entries = pd.concat(top_entries_per_class, ignore_index=True)"
   ]
  },
  {
   "cell_type": "code",
   "execution_count": 9,
   "id": "8df8d4a6-08f5-47d2-84ff-0798351c2e68",
   "metadata": {},
   "outputs": [
    {
     "name": "stderr",
     "output_type": "stream",
     "text": [
      "/home/agosjuncosa/anaconda3/envs/opensoundscape/lib/python3.9/site-packages/opensoundscape/audio.py:340: UserWarning: Audio object is shorter than requested duration: 1.3255833333333333 sec instead of 3 sec\n",
      "  warnings.warn(error_msg)\n",
      "/home/agosjuncosa/anaconda3/envs/opensoundscape/lib/python3.9/site-packages/opensoundscape/audio.py:340: UserWarning: Audio object is shorter than requested duration: 1.6669166666666666 sec instead of 3 sec\n",
      "  warnings.warn(error_msg)\n",
      "/home/agosjuncosa/anaconda3/envs/opensoundscape/lib/python3.9/site-packages/opensoundscape/audio.py:340: UserWarning: Audio object is shorter than requested duration: 1.12825 sec instead of 3 sec\n",
      "  warnings.warn(error_msg)\n",
      "/home/agosjuncosa/anaconda3/envs/opensoundscape/lib/python3.9/site-packages/opensoundscape/audio.py:340: UserWarning: Audio object is shorter than requested duration: 1.7389166666666667 sec instead of 3 sec\n",
      "  warnings.warn(error_msg)\n",
      "/home/agosjuncosa/anaconda3/envs/opensoundscape/lib/python3.9/site-packages/opensoundscape/audio.py:340: UserWarning: Audio object is shorter than requested duration: 1.04025 sec instead of 3 sec\n",
      "  warnings.warn(error_msg)\n",
      "/home/agosjuncosa/anaconda3/envs/opensoundscape/lib/python3.9/site-packages/opensoundscape/audio.py:340: UserWarning: Audio object is shorter than requested duration: 1.0029166666666667 sec instead of 3 sec\n",
      "  warnings.warn(error_msg)\n",
      "/home/agosjuncosa/anaconda3/envs/opensoundscape/lib/python3.9/site-packages/opensoundscape/audio.py:340: UserWarning: Audio object is shorter than requested duration: 1.0029166666666667 sec instead of 3 sec\n",
      "  warnings.warn(error_msg)\n",
      "/home/agosjuncosa/anaconda3/envs/opensoundscape/lib/python3.9/site-packages/opensoundscape/audio.py:340: UserWarning: Audio object is shorter than requested duration: 1.6669166666666666 sec instead of 3 sec\n",
      "  warnings.warn(error_msg)\n",
      "/home/agosjuncosa/anaconda3/envs/opensoundscape/lib/python3.9/site-packages/opensoundscape/audio.py:340: UserWarning: Audio object is shorter than requested duration: 1.5229166666666667 sec instead of 3 sec\n",
      "  warnings.warn(error_msg)\n",
      "/home/agosjuncosa/anaconda3/envs/opensoundscape/lib/python3.9/site-packages/opensoundscape/audio.py:340: UserWarning: Audio object is shorter than requested duration: 1.86425 sec instead of 3 sec\n",
      "  warnings.warn(error_msg)\n",
      "/home/agosjuncosa/anaconda3/envs/opensoundscape/lib/python3.9/site-packages/opensoundscape/audio.py:340: UserWarning: Audio object is shorter than requested duration: 1.79225 sec instead of 3 sec\n",
      "  warnings.warn(error_msg)\n",
      "/home/agosjuncosa/anaconda3/envs/opensoundscape/lib/python3.9/site-packages/opensoundscape/audio.py:340: UserWarning: Audio object is shorter than requested duration: 2.0989166666666668 sec instead of 3 sec\n",
      "  warnings.warn(error_msg)\n",
      "/home/agosjuncosa/anaconda3/envs/opensoundscape/lib/python3.9/site-packages/opensoundscape/audio.py:340: UserWarning: Audio object is shorter than requested duration: 1.0215833333333333 sec instead of 3 sec\n",
      "  warnings.warn(error_msg)\n",
      "/home/agosjuncosa/anaconda3/envs/opensoundscape/lib/python3.9/site-packages/opensoundscape/audio.py:340: UserWarning: Audio object is shorter than requested duration: 1.2535833333333333 sec instead of 3 sec\n",
      "  warnings.warn(error_msg)\n",
      "/home/agosjuncosa/anaconda3/envs/opensoundscape/lib/python3.9/site-packages/opensoundscape/audio.py:340: UserWarning: Audio object is shorter than requested duration: 1.0 sec instead of 3 sec\n",
      "  warnings.warn(error_msg)\n",
      "/home/agosjuncosa/anaconda3/envs/opensoundscape/lib/python3.9/site-packages/opensoundscape/audio.py:340: UserWarning: Audio object is shorter than requested duration: 1.0029166666666667 sec instead of 3 sec\n",
      "  warnings.warn(error_msg)\n",
      "/home/agosjuncosa/anaconda3/envs/opensoundscape/lib/python3.9/site-packages/opensoundscape/audio.py:340: UserWarning: Audio object is shorter than requested duration: 1.2535833333333333 sec instead of 3 sec\n",
      "  warnings.warn(error_msg)\n",
      "/home/agosjuncosa/anaconda3/envs/opensoundscape/lib/python3.9/site-packages/opensoundscape/audio.py:340: UserWarning: Audio object is shorter than requested duration: 1.0215833333333333 sec instead of 3 sec\n",
      "  warnings.warn(error_msg)\n",
      "/home/agosjuncosa/anaconda3/envs/opensoundscape/lib/python3.9/site-packages/opensoundscape/audio.py:340: UserWarning: Audio object is shorter than requested duration: 1.2749166666666667 sec instead of 3 sec\n",
      "  warnings.warn(error_msg)\n",
      "/home/agosjuncosa/anaconda3/envs/opensoundscape/lib/python3.9/site-packages/opensoundscape/audio.py:340: UserWarning: Audio object is shorter than requested duration: 1.3975833333333334 sec instead of 3 sec\n",
      "  warnings.warn(error_msg)\n",
      "/home/agosjuncosa/anaconda3/envs/opensoundscape/lib/python3.9/site-packages/opensoundscape/audio.py:340: UserWarning: Audio object is shorter than requested duration: 1.1095833333333334 sec instead of 3 sec\n",
      "  warnings.warn(error_msg)\n",
      "/home/agosjuncosa/anaconda3/envs/opensoundscape/lib/python3.9/site-packages/opensoundscape/audio.py:340: UserWarning: Audio object is shorter than requested duration: 1.0375833333333333 sec instead of 3 sec\n",
      "  warnings.warn(error_msg)\n",
      "/home/agosjuncosa/anaconda3/envs/opensoundscape/lib/python3.9/site-packages/opensoundscape/audio.py:340: UserWarning: Audio object is shorter than requested duration: 1.3975833333333334 sec instead of 3 sec\n",
      "  warnings.warn(error_msg)\n"
     ]
    },
    {
     "name": "stdout",
     "output_type": "stream",
     "text": [
      "Selected clips have been saved to: /mnt/d/retraining_BirdNET/iterative_training_2025/segments_validation_2025/model_1/\n"
     ]
    }
   ],
   "source": [
    "# Save selected clips into class-specific directories\n",
    "for _, row in all_top_entries.iterrows():\n",
    "    # Extract class and output directory\n",
    "    class_name = row['class']\n",
    "    class_dir = Path(output_dir) / class_name\n",
    "    class_dir.mkdir(parents=True, exist_ok=True)\n",
    "\n",
    "    # Construct the output filename\n",
    "    score = row['score']\n",
    "    offset = int(row['offset'])\n",
    "    filename = row['filename']\n",
    "    output_filename = f\"{score}_{offset}_{filename}\"\n",
    "\n",
    "    # Load and save the audio segment\n",
    "    audio_path = Path(audio_files_dir) / filename\n",
    "    audio = Audio.from_file(audio_path, offset=offset, duration=3)  # Assuming 3-second segments\n",
    "    audio.save(class_dir / output_filename)\n",
    "\n",
    "print(f\"Selected clips have been saved to: {output_dir}\")"
   ]
  },
  {
   "cell_type": "code",
   "execution_count": null,
   "id": "7dc26701-41a9-4bad-b83b-d3bdbfa13736",
   "metadata": {},
   "outputs": [],
   "source": []
  },
  {
   "cell_type": "code",
   "execution_count": null,
   "id": "fac9b2ce-a59d-4bef-9616-8a0cc26a7770",
   "metadata": {},
   "outputs": [],
   "source": []
  }
 ],
 "metadata": {
  "kernelspec": {
   "display_name": "OpenSoundscape",
   "language": "python",
   "name": "opensoundscape"
  },
  "language_info": {
   "codemirror_mode": {
    "name": "ipython",
    "version": 3
   },
   "file_extension": ".py",
   "mimetype": "text/x-python",
   "name": "python",
   "nbconvert_exporter": "python",
   "pygments_lexer": "ipython3",
   "version": "3.9.17"
  }
 },
 "nbformat": 4,
 "nbformat_minor": 5
}
