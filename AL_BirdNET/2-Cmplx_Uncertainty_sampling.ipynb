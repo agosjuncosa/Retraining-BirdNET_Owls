{
 "cells": [
  {
   "cell_type": "code",
   "execution_count": 3,
   "id": "ae2f05bf-2eb2-4e7e-a5d9-5e60523a954c",
   "metadata": {},
   "outputs": [
    {
     "name": "stderr",
     "output_type": "stream",
     "text": [
      "/home/agosjuncosa/anaconda3/envs/opensoundscape/lib/python3.9/site-packages/opensoundscape/ml/cnn.py:18: TqdmExperimentalWarning: Using `tqdm.autonotebook.tqdm` in notebook mode. Use `tqdm.tqdm` instead to force console mode (e.g. in jupyter console)\n",
      "  from tqdm.autonotebook import tqdm\n"
     ]
    }
   ],
   "source": [
    "import pandas as pd\n",
    "from pathlib import Path\n",
    "from opensoundscape import Audio"
   ]
  },
  {
   "cell_type": "code",
   "execution_count": 4,
   "id": "478293f3-7f14-4128-8023-8eeef281c37a",
   "metadata": {},
   "outputs": [],
   "source": [
    "# Paths to input files and directories\n",
    "annotations_file = '/mnt/d/retraining_BirdNET_2025/iterative_training/results/model_0/BirdNET_SelectionTable.txt'\n",
    "tracker_file = '/mnt/d/retraining_BirdNET_2025/model_train/training_set_tracker.csv'\n",
    "audio_files_dir = '/mnt/d/retraining_BirdNET_2025/iterative_training/input_20%/'\n",
    "output_dir = '/mnt/d/retraining_BirdNET_2025/iterative_training/segments_validation/model_1/uncertainty/'\n",
    "precision_file = '/mnt/d/retraining_BirdNET_2025/iterative_training/segments_validation/model_0/precision_per_class.csv'  # Optional after iteration 1\n",
    "\n",
    "# Parameters\n",
    "num_clips_default = 32  # Default number of clips to select"
   ]
  },
  {
   "cell_type": "code",
   "execution_count": 5,
   "id": "40172712-059d-49ea-b141-894ab52c7e39",
   "metadata": {},
   "outputs": [],
   "source": [
    "# Load BirdNET predictions\n",
    "predictions = pd.read_csv(annotations_file, sep='\\t', usecols=['Begin Path', 'File Offset (s)', 'Common Name', 'Confidence'])\n",
    "predictions.rename(columns={\n",
    "    'Begin Path': 'file_path',\n",
    "    'File Offset (s)': 'offset',\n",
    "    'Common Name': 'class',\n",
    "    'Confidence': 'score'\n",
    "}, inplace=True)"
   ]
  },
  {
   "cell_type": "code",
   "execution_count": 6,
   "id": "24a017d5-b24e-4331-b9b7-1757f4f571c8",
   "metadata": {},
   "outputs": [],
   "source": [
    "# Construct `offset_filename` using ONLY offset and filename with extension\n",
    "predictions['offset_filename'] = predictions.apply(\n",
    "    lambda row: f\"{int(row['offset'])}_{Path(row['file_path']).name}\", axis=1  # Keep original extension\n",
    ")"
   ]
  },
  {
   "cell_type": "raw",
   "id": "3f1526fa-82a7-4fc0-a50c-d75169e5b5ec",
   "metadata": {},
   "source": [
    "# Load training set tracker\n",
    "if Path(tracker_file).exists():\n",
    "    tracker = pd.read_csv(tracker_file)\n",
    "\n",
    "    # Extract only filenames (ignoring folders), keep original extensions\n",
    "    tracker['filename'] = tracker['file'].apply(lambda x: Path(x).name)\n",
    "    tracker_filenames = tracker['filename'].tolist()\n",
    "else:\n",
    "    tracker_filenames = []"
   ]
  },
  {
   "cell_type": "raw",
   "id": "5e827665-8c26-4475-9fd6-d936ff172514",
   "metadata": {},
   "source": [
    "# Filter out clips already in the training set\n",
    "predictions = predictions[~predictions['offset_filename'].isin(tracker_filenames)]\n",
    "\n",
    "# Display result for verification\n",
    "print(f\"Filtered predictions: {len(predictions)} clips remaining\")"
   ]
  },
  {
   "cell_type": "markdown",
   "id": "a27d9418-4dfa-4078-ad70-2bfc1c636c94",
   "metadata": {},
   "source": [
    "Try alternative filtering condition"
   ]
  },
  {
   "cell_type": "code",
   "execution_count": 7,
   "id": "1f04e0e1-008e-41aa-b64c-8807ae58aefa",
   "metadata": {},
   "outputs": [],
   "source": [
    "# Load training set tracker\n",
    "if Path(tracker_file).exists():\n",
    "    tracker = pd.read_csv(tracker_file)\n",
    "\n",
    "    # Only consider files added in iteration 1 and onwards\n",
    "    tracker = tracker[tracker['iteration'] >= 1]\n",
    "\n",
    "    # Extract only the first 5 elements of the filename for comparison\n",
    "    def extract_core_filename(filename):\n",
    "        parts = Path(filename).stem.split('_')  # Remove extension and split filename\n",
    "        return '_'.join(parts[:5])  # Keep only first 5 elements\n",
    "\n",
    "    tracker['core_filename'] = tracker['file'].apply(lambda x: extract_core_filename(Path(x).name))\n",
    "    tracker_filenames = tracker['core_filename'].tolist()\n",
    "else:\n",
    "    tracker_filenames = []"
   ]
  },
  {
   "cell_type": "code",
   "execution_count": 8,
   "id": "75ca5013-716c-464e-a30a-ee539c8f7b5f",
   "metadata": {},
   "outputs": [
    {
     "name": "stdout",
     "output_type": "stream",
     "text": [
      "Filtered predictions: 196076 clips remaining\n"
     ]
    }
   ],
   "source": [
    "# Apply the same logic to predictions\n",
    "predictions['core_filename'] = predictions['offset_filename'].apply(lambda x: extract_core_filename(x))\n",
    "\n",
    "# Filter out clips already in the training set (ignoring score & annotations)\n",
    "predictions = predictions[~predictions['core_filename'].isin(tracker_filenames)]\n",
    "\n",
    "# Display result for verification\n",
    "print(f\"Filtered predictions: {len(predictions)} clips remaining\")"
   ]
  },
  {
   "cell_type": "code",
   "execution_count": 9,
   "id": "30ac80ce-b1cc-4381-8978-5522151f1f38",
   "metadata": {},
   "outputs": [],
   "source": [
    "# Optional: Load precision data for iteration > 1\n",
    "if Path(precision_file).exists():\n",
    "    precision_data = pd.read_csv(precision_file)\n",
    "    precision_dict = dict(zip(precision_data['class'], precision_data['precision']))\n",
    "else:\n",
    "    precision_dict = {}"
   ]
  },
  {
   "cell_type": "code",
   "execution_count": 10,
   "id": "0efb3399-c431-4e7d-a86b-6f85a6fddfc0",
   "metadata": {},
   "outputs": [],
   "source": [
    "# Group by class and select top-scoring clips\n",
    "selected_clips = []\n",
    "for class_name, group in predictions.groupby('class'):\n",
    "    if class_name.lower() == 'nocall':\n",
    "        continue  # Skip 'nocall' predictions\n",
    "\n",
    "    # Sort by score in descending order\n",
    "    group = group.sort_values(by='score', ascending=False)\n",
    "\n",
    "    # Determine number of clips to select based on precision\n",
    "    num_clips = num_clips_default\n",
    "    if class_name in precision_dict and precision_dict[class_name] > 0.5:\n",
    "        num_clips = 64\n",
    "\n",
    "    # Select top-scoring clips\n",
    "    selected_clips.append(group.head(num_clips))"
   ]
  },
  {
   "cell_type": "code",
   "execution_count": 11,
   "id": "7124ba55-ceab-4fa6-a967-d337d1b29167",
   "metadata": {},
   "outputs": [
    {
     "name": "stderr",
     "output_type": "stream",
     "text": [
      "/home/agosjuncosa/anaconda3/envs/opensoundscape/lib/python3.9/site-packages/opensoundscape/audio.py:340: UserWarning: Audio object is shorter than requested duration: 1.3255833333333333 sec instead of 3 sec\n",
      "  warnings.warn(error_msg)\n",
      "/home/agosjuncosa/anaconda3/envs/opensoundscape/lib/python3.9/site-packages/opensoundscape/audio.py:340: UserWarning: Audio object is shorter than requested duration: 1.6669166666666666 sec instead of 3 sec\n",
      "  warnings.warn(error_msg)\n",
      "/home/agosjuncosa/anaconda3/envs/opensoundscape/lib/python3.9/site-packages/opensoundscape/audio.py:340: UserWarning: Audio object is shorter than requested duration: 1.12825 sec instead of 3 sec\n",
      "  warnings.warn(error_msg)\n",
      "/home/agosjuncosa/anaconda3/envs/opensoundscape/lib/python3.9/site-packages/opensoundscape/audio.py:340: UserWarning: Audio object is shorter than requested duration: 1.7389166666666667 sec instead of 3 sec\n",
      "  warnings.warn(error_msg)\n",
      "/home/agosjuncosa/anaconda3/envs/opensoundscape/lib/python3.9/site-packages/opensoundscape/audio.py:340: UserWarning: Audio object is shorter than requested duration: 1.04025 sec instead of 3 sec\n",
      "  warnings.warn(error_msg)\n",
      "/home/agosjuncosa/anaconda3/envs/opensoundscape/lib/python3.9/site-packages/opensoundscape/audio.py:340: UserWarning: Audio object is shorter than requested duration: 1.0029166666666667 sec instead of 3 sec\n",
      "  warnings.warn(error_msg)\n",
      "/home/agosjuncosa/anaconda3/envs/opensoundscape/lib/python3.9/site-packages/opensoundscape/audio.py:340: UserWarning: Audio object is shorter than requested duration: 1.0029166666666667 sec instead of 3 sec\n",
      "  warnings.warn(error_msg)\n",
      "/home/agosjuncosa/anaconda3/envs/opensoundscape/lib/python3.9/site-packages/opensoundscape/audio.py:340: UserWarning: Audio object is shorter than requested duration: 1.6669166666666666 sec instead of 3 sec\n",
      "  warnings.warn(error_msg)\n",
      "/home/agosjuncosa/anaconda3/envs/opensoundscape/lib/python3.9/site-packages/opensoundscape/audio.py:340: UserWarning: Audio object is shorter than requested duration: 1.5229166666666667 sec instead of 3 sec\n",
      "  warnings.warn(error_msg)\n",
      "/home/agosjuncosa/anaconda3/envs/opensoundscape/lib/python3.9/site-packages/opensoundscape/audio.py:340: UserWarning: Audio object is shorter than requested duration: 1.86425 sec instead of 3 sec\n",
      "  warnings.warn(error_msg)\n",
      "/home/agosjuncosa/anaconda3/envs/opensoundscape/lib/python3.9/site-packages/opensoundscape/audio.py:340: UserWarning: Audio object is shorter than requested duration: 1.79225 sec instead of 3 sec\n",
      "  warnings.warn(error_msg)\n",
      "/home/agosjuncosa/anaconda3/envs/opensoundscape/lib/python3.9/site-packages/opensoundscape/audio.py:340: UserWarning: Audio object is shorter than requested duration: 2.0989166666666668 sec instead of 3 sec\n",
      "  warnings.warn(error_msg)\n",
      "/home/agosjuncosa/anaconda3/envs/opensoundscape/lib/python3.9/site-packages/opensoundscape/audio.py:340: UserWarning: Audio object is shorter than requested duration: 1.0215833333333333 sec instead of 3 sec\n",
      "  warnings.warn(error_msg)\n",
      "/home/agosjuncosa/anaconda3/envs/opensoundscape/lib/python3.9/site-packages/opensoundscape/audio.py:340: UserWarning: Audio object is shorter than requested duration: 1.2535833333333333 sec instead of 3 sec\n",
      "  warnings.warn(error_msg)\n",
      "/home/agosjuncosa/anaconda3/envs/opensoundscape/lib/python3.9/site-packages/opensoundscape/audio.py:340: UserWarning: Audio object is shorter than requested duration: 1.0 sec instead of 3 sec\n",
      "  warnings.warn(error_msg)\n",
      "/home/agosjuncosa/anaconda3/envs/opensoundscape/lib/python3.9/site-packages/opensoundscape/audio.py:340: UserWarning: Audio object is shorter than requested duration: 1.0029166666666667 sec instead of 3 sec\n",
      "  warnings.warn(error_msg)\n",
      "/home/agosjuncosa/anaconda3/envs/opensoundscape/lib/python3.9/site-packages/opensoundscape/audio.py:340: UserWarning: Audio object is shorter than requested duration: 1.2535833333333333 sec instead of 3 sec\n",
      "  warnings.warn(error_msg)\n",
      "/home/agosjuncosa/anaconda3/envs/opensoundscape/lib/python3.9/site-packages/opensoundscape/audio.py:340: UserWarning: Audio object is shorter than requested duration: 1.0215833333333333 sec instead of 3 sec\n",
      "  warnings.warn(error_msg)\n",
      "/home/agosjuncosa/anaconda3/envs/opensoundscape/lib/python3.9/site-packages/opensoundscape/audio.py:340: UserWarning: Audio object is shorter than requested duration: 1.2749166666666667 sec instead of 3 sec\n",
      "  warnings.warn(error_msg)\n",
      "/home/agosjuncosa/anaconda3/envs/opensoundscape/lib/python3.9/site-packages/opensoundscape/audio.py:340: UserWarning: Audio object is shorter than requested duration: 1.3975833333333334 sec instead of 3 sec\n",
      "  warnings.warn(error_msg)\n",
      "/home/agosjuncosa/anaconda3/envs/opensoundscape/lib/python3.9/site-packages/opensoundscape/audio.py:340: UserWarning: Audio object is shorter than requested duration: 1.1095833333333334 sec instead of 3 sec\n",
      "  warnings.warn(error_msg)\n",
      "/home/agosjuncosa/anaconda3/envs/opensoundscape/lib/python3.9/site-packages/opensoundscape/audio.py:340: UserWarning: Audio object is shorter than requested duration: 1.0375833333333333 sec instead of 3 sec\n",
      "  warnings.warn(error_msg)\n",
      "/home/agosjuncosa/anaconda3/envs/opensoundscape/lib/python3.9/site-packages/opensoundscape/audio.py:340: UserWarning: Audio object is shorter than requested duration: 1.3975833333333334 sec instead of 3 sec\n",
      "  warnings.warn(error_msg)\n"
     ]
    },
    {
     "name": "stdout",
     "output_type": "stream",
     "text": [
      "Selected clips have been saved to: /mnt/d/retraining_BirdNET_2025/iterative_training/segments_validation/model_1/uncertainty/\n"
     ]
    }
   ],
   "source": [
    "# Combine all selected clips into a single DataFrame\n",
    "if selected_clips:\n",
    "    selected_df = pd.concat(selected_clips, ignore_index=True)\n",
    "\n",
    "    # Save selected clips into class-specific directories\n",
    "    for _, row in selected_df.iterrows():\n",
    "        # Extract class and output directory\n",
    "        class_name = row['class']\n",
    "        class_dir = Path(output_dir) / class_name\n",
    "        class_dir.mkdir(parents=True, exist_ok=True)\n",
    "\n",
    "        # Construct the output filename (restoring the score for sorting)\n",
    "        score = row['score']\n",
    "        offset = int(row['offset'])\n",
    "        filename = Path(row['file_path']).name\n",
    "        output_filename = f\"{score}_{offset}_{filename}\"  # Keep original extension\n",
    "\n",
    "        # Load and save the audio segment\n",
    "        audio_path = Path(audio_files_dir) / filename\n",
    "        try:\n",
    "            # Extract the audio segment using Opensoundscape\n",
    "            audio = Audio.from_file(audio_path, offset=offset, duration=3)  # Assuming 3-second segments\n",
    "            audio.save(class_dir / output_filename)\n",
    "            #print(f\"Saved: {output_filename} to {class_dir}\")\n",
    "        except Exception as e:\n",
    "            print(f\"Error processing {audio_path}: {e}\")\n",
    "            \n",
    "    print(f\"Selected clips have been saved to: {output_dir}\")\n",
    "else:\n",
    "    print(\"No clips selected for validation.\")"
   ]
  },
  {
   "cell_type": "code",
   "execution_count": null,
   "id": "7b633564-b243-432a-b0c8-553dbb37f91f",
   "metadata": {},
   "outputs": [],
   "source": []
  },
  {
   "cell_type": "code",
   "execution_count": null,
   "id": "30c71d9b-0cbc-4718-97a1-4628837bfd6a",
   "metadata": {},
   "outputs": [],
   "source": []
  }
 ],
 "metadata": {
  "kernelspec": {
   "display_name": "OpenSoundscape",
   "language": "python",
   "name": "opensoundscape"
  },
  "language_info": {
   "codemirror_mode": {
    "name": "ipython",
    "version": 3
   },
   "file_extension": ".py",
   "mimetype": "text/x-python",
   "name": "python",
   "nbconvert_exporter": "python",
   "pygments_lexer": "ipython3",
   "version": "3.9.17"
  }
 },
 "nbformat": 4,
 "nbformat_minor": 5
}
