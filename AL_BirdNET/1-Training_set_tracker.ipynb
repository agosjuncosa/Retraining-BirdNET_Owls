{
 "cells": [
  {
   "cell_type": "markdown",
   "id": "8d05d8ba-ad08-435c-8194-3e2d3748c4a9",
   "metadata": {},
   "source": [
    "### Tracker Management\n",
    "\n",
    "Tracks down the clips incorporated to each class of the traiining set on each iteration"
   ]
  },
  {
   "cell_type": "code",
   "execution_count": null,
   "id": "1065d295-8acd-4c71-9ae8-c5141be27383",
   "metadata": {},
   "outputs": [],
   "source": [
    "import os\n",
    "import pandas as pd\n",
    "\n",
    "# Function to extract the desired parts of the filename\n",
    "def extract_clip_name(filename):\n",
    "    parts = filename.split('_')\n",
    "    return '_'.join(parts[1:7])  # Join parts [1] to [6]\n",
    "\n",
    "# Function to initialize or update the tracker\n",
    "def update_training_set_tracker(directory, tracker_path, current_iteration):\n",
    "    # List to hold training clip data\n",
    "    training_clips = []\n",
    "\n",
    "    # Walk through each folder in the directory\n",
    "    for class_folder in os.listdir(directory):\n",
    "        class_path = os.path.join(directory, class_folder)\n",
    "        if os.path.isdir(class_path):  # Ensure it's a folder\n",
    "            for clip in os.listdir(class_path):\n",
    "                if clip.endswith('.wav'):\n",
    "                    clip_name = extract_clip_name(clip)\n",
    "                    training_clips.append({\n",
    "                        \"clip_name\": clip_name,\n",
    "                        \"class_name\": class_folder,\n",
    "                        \"iteration\": current_iteration\n",
    "                    })\n",
    "\n",
    "    # Create a DataFrame from the gathered data\n",
    "    new_clips_df = pd.DataFrame(training_clips)\n",
    "\n",
    "    # Check if tracker CSV exists\n",
    "    if os.path.exists(tracker_path):\n",
    "        existing_tracker_df = pd.read_csv(tracker_path)\n",
    "        # Combine existing tracker with new entries\n",
    "        updated_tracker_df = pd.concat([existing_tracker_df, new_clips_df]).drop_duplicates(subset=['clip_name', 'class_name'], keep='last')\n",
    "    else:\n",
    "        # If no tracker exists, initialize with new clips\n",
    "        updated_tracker_df = new_clips_df\n",
    "\n",
    "    # Save the updated tracker\n",
    "    updated_tracker_df.to_csv(tracker_path, index=False)\n",
    "    print(f\"Tracker updated. Total clips in tracker: {len(updated_tracker_df)}\")\n",
    "\n",
    "# Specify the directory containing training clips\n",
    "training_directory = \"/mnt/d/DiscoTrainEval_Backup/retraining_BirdNET/model_train/\"\n",
    "\n",
    "# Specify the path to the tracker CSV\n",
    "tracker_csv_path = \"/mnt/d/DiscoTrainEval_Backup/retraining_BirdNET/training_set_tracker.csv\"\n",
    "\n",
    "# Set the current iteration (update this for each iteration)\n",
    "current_iteration = 0  # Update this as needed\n",
    "\n",
    "# Run the tracker update\n",
    "update_training_set_tracker(training_directory, tracker_csv_path, current_iteration)"
   ]
  }
 ],
 "metadata": {
  "kernelspec": {
   "display_name": "Python 3 (ipykernel)",
   "language": "python",
   "name": "python3"
  },
  "language_info": {
   "codemirror_mode": {
    "name": "ipython",
    "version": 3
   },
   "file_extension": ".py",
   "mimetype": "text/x-python",
   "name": "python",
   "nbconvert_exporter": "python",
   "pygments_lexer": "ipython3",
   "version": "3.9.17"
  }
 },
 "nbformat": 4,
 "nbformat_minor": 5
}
