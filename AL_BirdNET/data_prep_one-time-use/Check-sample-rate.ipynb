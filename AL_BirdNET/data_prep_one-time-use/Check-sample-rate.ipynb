{
 "cells": [
  {
   "cell_type": "markdown",
   "id": "dbcb0915-3302-4fea-95e5-aa67448bce04",
   "metadata": {},
   "source": [
    "### To check the sample rate of the test recordings"
   ]
  },
  {
   "cell_type": "code",
   "execution_count": 2,
   "id": "e857f0cc-0616-4b50-a67b-7574c70e8ae4",
   "metadata": {},
   "outputs": [],
   "source": [
    "import os\n",
    "import pandas as pd\n",
    "from opensoundscape.audio import Audio\n",
    "from tqdm.autonotebook import tqdm"
   ]
  },
  {
   "cell_type": "code",
   "execution_count": 3,
   "id": "1d3e8eb0-9c07-405c-b9b6-9e0a4f4e7a12",
   "metadata": {},
   "outputs": [],
   "source": [
    "# Path to your test set directory\n",
    "test_set_dir = \"/mnt/d/retraining_BirdNET_2025/model_test/input_ready/\""
   ]
  },
  {
   "cell_type": "code",
   "execution_count": 5,
   "id": "bb243856-baa2-40b4-988a-7723934fcac4",
   "metadata": {},
   "outputs": [
    {
     "name": "stdout",
     "output_type": "stream",
     "text": [
      "Sample rates saved to 'test_set_sample_rates.csv'\n"
     ]
    }
   ],
   "source": [
    "# List to store results\n",
    "sample_rate_data = []\n",
    "\n",
    "# Loop through each audio file\n",
    "for filename in os.listdir(test_set_dir):\n",
    "    if filename.lower().endswith(\".wav\"):\n",
    "        file_path = os.path.join(test_set_dir, filename)\n",
    "        try:\n",
    "            audio = Audio.from_file(file_path)\n",
    "            sample_rate = audio.sample_rate\n",
    "            sample_rate_data.append({\n",
    "                \"file\": os.path.relpath(file_path, start=test_set_dir),\n",
    "                \"sample_rate\": sample_rate\n",
    "            })\n",
    "        except Exception as e:\n",
    "            print(f\"Error reading {filename}: {e}\")\n",
    "            sample_rate_data.append({\n",
    "                \"file\": os.path.relpath(file_path, start=test_set_dir),\n",
    "                \"sample_rate\": \"ERROR\"\n",
    "            })\n",
    "\n",
    "# Save to CSV\n",
    "df = pd.DataFrame(sample_rate_data)\n",
    "\n",
    "\n",
    "print(\"Sample rates saved to 'test_set_sample_rates.csv'\")\n"
   ]
  },
  {
   "cell_type": "code",
   "execution_count": 8,
   "id": "0129bd1e-396e-44be-a102-25aae8e9ab95",
   "metadata": {},
   "outputs": [
    {
     "data": {
      "text/html": [
       "<div>\n",
       "<style scoped>\n",
       "    .dataframe tbody tr th:only-of-type {\n",
       "        vertical-align: middle;\n",
       "    }\n",
       "\n",
       "    .dataframe tbody tr th {\n",
       "        vertical-align: top;\n",
       "    }\n",
       "\n",
       "    .dataframe thead th {\n",
       "        text-align: right;\n",
       "    }\n",
       "</style>\n",
       "<table border=\"1\" class=\"dataframe\">\n",
       "  <thead>\n",
       "    <tr style=\"text-align: right;\">\n",
       "      <th></th>\n",
       "      <th>file</th>\n",
       "      <th>sample_rate</th>\n",
       "    </tr>\n",
       "  </thead>\n",
       "  <tbody>\n",
       "    <tr>\n",
       "      <th>0</th>\n",
       "      <td>0.304_1_20220702_063000_rooster.wav</td>\n",
       "      <td>48000</td>\n",
       "    </tr>\n",
       "    <tr>\n",
       "      <th>1</th>\n",
       "      <td>0.388_1_20220712_053000_rooster.wav</td>\n",
       "      <td>48000</td>\n",
       "    </tr>\n",
       "    <tr>\n",
       "      <th>2</th>\n",
       "      <td>0.439_2_20220712_061000_rooster.wav</td>\n",
       "      <td>48000</td>\n",
       "    </tr>\n",
       "    <tr>\n",
       "      <th>3</th>\n",
       "      <td>0.577_2_20220703_045000_rooster.wav</td>\n",
       "      <td>48000</td>\n",
       "    </tr>\n",
       "    <tr>\n",
       "      <th>4</th>\n",
       "      <td>0.725_1_20220714_065000_rooster.wav</td>\n",
       "      <td>48000</td>\n",
       "    </tr>\n",
       "    <tr>\n",
       "      <th>5</th>\n",
       "      <td>0.815_3_20220706_033000_rooster.wav</td>\n",
       "      <td>48000</td>\n",
       "    </tr>\n",
       "  </tbody>\n",
       "</table>\n",
       "</div>"
      ],
      "text/plain": [
       "                                  file  sample_rate\n",
       "0  0.304_1_20220702_063000_rooster.wav        48000\n",
       "1  0.388_1_20220712_053000_rooster.wav        48000\n",
       "2  0.439_2_20220712_061000_rooster.wav        48000\n",
       "3  0.577_2_20220703_045000_rooster.wav        48000\n",
       "4  0.725_1_20220714_065000_rooster.wav        48000\n",
       "5  0.815_3_20220706_033000_rooster.wav        48000"
      ]
     },
     "execution_count": 8,
     "metadata": {},
     "output_type": "execute_result"
    }
   ],
   "source": [
    "# Export it as a .csv (optional)\n",
    "#df.to_csv(\"/mnt/d/retraining_BirdNET_2025/model_test/input_ready/test_set_sample_rates.csv\", index=False)\n",
    "\n",
    "df.head(6)"
   ]
  },
  {
   "cell_type": "markdown",
   "id": "ae5aafa2-bbfe-438b-92b8-390223ad5a90",
   "metadata": {},
   "source": [
    "### I will resample the files that have a sample rate other than 48 kHz"
   ]
  },
  {
   "cell_type": "code",
   "execution_count": null,
   "id": "f1086c7d-c22c-4644-9281-ded82fefdd43",
   "metadata": {},
   "outputs": [],
   "source": [
    "import os\n",
    "import pandas as pd\n",
    "from opensoundscape.audio import Audio\n",
    "from tqdm import tqdm\n"
   ]
  },
  {
   "cell_type": "code",
   "execution_count": 10,
   "id": "a1b34879-9661-4b57-a6f5-97c36ee33adc",
   "metadata": {},
   "outputs": [
    {
     "data": {
      "application/vnd.jupyter.widget-view+json": {
       "model_id": "bdfc760b0821423f8d11cb4c77a91c60",
       "version_major": 2,
       "version_minor": 0
      },
      "text/plain": [
       "Resampling:   0%|          | 0/208 [00:00<?, ?it/s]"
      ]
     },
     "metadata": {},
     "output_type": "display_data"
    }
   ],
   "source": [
    "# Load your CSV with sample rates\n",
    "#csv_path = \"/mnt/d/retraining_BirdNET_2025/model_test/input_ready/test_set_sample_rates.csv\"\n",
    "#df = pd.read_csv(csv_path)\n",
    "\n",
    "# Base path of original audio files\n",
    "base_dir = \"/mnt/d/retraining_BirdNET_2025/model_test/input_ready\"\n",
    "\n",
    "# Output directory for resampled files\n",
    "resample_dir = os.path.join(base_dir, \"resampled_48kHz\")\n",
    "\n",
    "# Desired sample rate\n",
    "target_sr = 48000\n",
    "\n",
    "# Loop through the DataFrame and process only non-48kHz files\n",
    "for _, row in tqdm(df.iterrows(), total=len(df), desc=\"Resampling\"):\n",
    "    file_rel_path = row['file']\n",
    "    current_sr = row['sample_rate']\n",
    "    \n",
    "    # Skip files already at 48 kHz\n",
    "    if current_sr == target_sr:\n",
    "        continue\n",
    "\n",
    "    input_path = os.path.join(base_dir, file_rel_path)\n",
    "    output_path = os.path.join(resample_dir, file_rel_path)\n",
    "\n",
    "    try:\n",
    "        audio = Audio.from_file(input_path)\n",
    "        audio.resample(target_sr)\n",
    "\n",
    "        # Create output folder structure if it doesn't exist\n",
    "        os.makedirs(os.path.dirname(output_path), exist_ok=True)\n",
    "        audio.save(output_path)\n",
    "    except Exception as e:\n",
    "        print(f\"Error resampling {input_path}: {e}\")\n"
   ]
  },
  {
   "cell_type": "code",
   "execution_count": null,
   "id": "7e988705-3c8d-48b7-ba9a-26e8636e9221",
   "metadata": {},
   "outputs": [],
   "source": []
  }
 ],
 "metadata": {
  "kernelspec": {
   "display_name": "OpenSoundscape",
   "language": "python",
   "name": "opensoundscape"
  },
  "language_info": {
   "codemirror_mode": {
    "name": "ipython",
    "version": 3
   },
   "file_extension": ".py",
   "mimetype": "text/x-python",
   "name": "python",
   "nbconvert_exporter": "python",
   "pygments_lexer": "ipython3",
   "version": "3.9.17"
  }
 },
 "nbformat": 4,
 "nbformat_minor": 5
}
