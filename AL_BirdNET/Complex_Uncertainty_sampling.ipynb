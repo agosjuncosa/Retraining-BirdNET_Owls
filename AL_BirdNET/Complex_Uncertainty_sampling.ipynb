{
 "cells": [
  {
   "cell_type": "raw",
   "id": "efc9e7e3-6026-4a53-9f02-3f3976582c1b",
   "metadata": {},
   "source": [
    "We do not need to concatenate the .txt files as all predictions are now condensed into one single big .txt file. \n",
    "We need to select 32 top scoring clips for each class.\n",
    "On iteration 0 it is easy, there is no need of using a filter because there are no clips from field data already incorporated. There is no need to check class precision on previous evaluation as there are no previous calculations yet. So iteration 0 (base) it is easy nd probably it is better to use the base code. **Just select 32 top scoring clips per class.**\n",
    "\n",
    "For the subsequent iterations 1 onwards there will be a need to include a df to filter out the files already included as part of the training classes. Moreover there will be a need to include a vector with the precisions of each class (computed before). If precision of a certain class is below 0.5 (>= 50%), then select only the 32 top scoring clips (filtering out the already included clips). If precision of a certain class was above 0.5 (<= 50%), then select the 64 top scoring clips for that class. \n"
   ]
  },
  {
   "cell_type": "code",
   "execution_count": null,
   "id": "e514dcbb-d7b0-4e74-a7cb-2470935b2c66",
   "metadata": {},
   "outputs": [],
   "source": []
  }
 ],
 "metadata": {
  "kernelspec": {
   "display_name": "Python 3 (ipykernel)",
   "language": "python",
   "name": "python3"
  },
  "language_info": {
   "codemirror_mode": {
    "name": "ipython",
    "version": 3
   },
   "file_extension": ".py",
   "mimetype": "text/x-python",
   "name": "python",
   "nbconvert_exporter": "python",
   "pygments_lexer": "ipython3",
   "version": "3.9.17"
  }
 },
 "nbformat": 4,
 "nbformat_minor": 5
}
