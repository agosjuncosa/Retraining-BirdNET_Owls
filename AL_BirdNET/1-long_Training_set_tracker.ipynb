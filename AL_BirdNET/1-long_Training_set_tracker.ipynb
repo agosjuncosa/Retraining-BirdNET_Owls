{
 "cells": [
  {
   "cell_type": "markdown",
   "id": "ced25ee9-5d16-45fe-91c0-7d53e2628367",
   "metadata": {},
   "source": [
    "### Long format training-set tracker df\n",
    "\n",
    "Plus we included a function to restore a training set back to any iteration"
   ]
  },
  {
   "cell_type": "code",
   "execution_count": null,
   "id": "f3f10382-5401-4ea5-ad22-3c2fc54cc2fe",
   "metadata": {},
   "outputs": [],
   "source": [
    "import os\n",
    "import pandas as pd\n",
    "\n",
    "def update_training_set_tracker(directory, tracker_path, current_iteration):\n",
    "    \"\"\"\n",
    "    Update the training set tracker with files from the training directory.\n",
    "    Each file is tracked by its filename, assigned class, and iteration number.\n",
    "    Moves between classes are detected and logged.\n",
    "    \"\"\"\n",
    "    # List to hold new training clip data\n",
    "    training_clips = []\n",
    "\n",
    "    # Walk through each class folder in the directory\n",
    "    for class_folder in os.listdir(directory):\n",
    "        class_path = os.path.join(directory, class_folder)\n",
    "        if os.path.isdir(class_path):  # Ensure it's a directory\n",
    "            for clip in os.listdir(class_path):\n",
    "                if clip.endswith('.wav'):\n",
    "                    training_clips.append({\n",
    "                        \"file\": os.path.join(class_folder, clip),  # Store relative path\n",
    "                        \"class\": class_folder,  # Store class name\n",
    "                        \"iteration\": current_iteration,  # Store iteration number\n",
    "                        \"previous_class\": None  # Will be updated if file was moved\n",
    "                    })\n",
    "\n",
    "    # Convert list to DataFrame\n",
    "    new_clips_df = pd.DataFrame(training_clips)\n",
    "\n",
    "    # Load existing tracker (if it exists)\n",
    "    if os.path.exists(tracker_path):\n",
    "        tracker_df = pd.read_csv(tracker_path)\n",
    "    else:\n",
    "        # If no tracker exists, initialize it with new data\n",
    "        tracker_df = new_clips_df.copy()\n",
    "        tracker_df.to_csv(tracker_path, index=False)\n",
    "        print(f\"Tracker initialized with {len(tracker_df)} clips.\")\n",
    "        return\n",
    "\n",
    "    # Detect moved files\n",
    "    for _, row in new_clips_df.iterrows():\n",
    "        file_path = row[\"file\"]\n",
    "        new_class = row[\"class\"]\n",
    "\n",
    "        # Check if file exists in tracker\n",
    "        existing_entry = tracker_df[tracker_df[\"file\"] == file_path]\n",
    "\n",
    "        if not existing_entry.empty:\n",
    "            previous_class = existing_entry.iloc[-1][\"class\"]\n",
    "\n",
    "            # If the class has changed, update the previous_class column\n",
    "            if previous_class != new_class:\n",
    "                row[\"previous_class\"] = previous_class\n",
    "\n",
    "    # Append new data while keeping previous history\n",
    "    updated_tracker_df = pd.concat([tracker_df, new_clips_df], ignore_index=True).drop_duplicates(subset=[\"file\", \"class\", \"iteration\"], keep=\"last\")\n",
    "\n",
    "    # Save the updated tracker\n",
    "    updated_tracker_df.to_csv(tracker_path, index=False)\n",
    "    print(f\"Tracker updated. Total files tracked: {len(updated_tracker_df)}\")\n",
    "\n",
    "# Specify the directory containing training clips\n",
    "training_directory = \"/mnt/d/DiscoTrainEval_Backup/retraining_BirdNET/model_train/\"\n",
    "\n",
    "# Specify the path to the tracker CSV\n",
    "tracker_csv_path = \"/mnt/d/DiscoTrainEval_Backup/retraining_BirdNET/training_set_tracker.csv\"\n",
    "\n",
    "# Set the current iteration (update this for each iteration)\n",
    "current_iteration = 0  # Update this for each new iteration\n",
    "\n",
    "# Run the tracker update\n",
    "update_training_set_tracker(training_directory, tracker_csv_path, current_iteration)\n"
   ]
  },
  {
   "cell_type": "markdown",
   "id": "8e5e5af8-1f39-4bfe-861b-c6fec404ff73",
   "metadata": {},
   "source": [
    "To See Class Distribution Per Iteration"
   ]
  },
  {
   "cell_type": "code",
   "execution_count": null,
   "id": "183ac2aa-e967-4b55-a829-ebd82b1400b3",
   "metadata": {},
   "outputs": [],
   "source": [
    "import pandas as pd\n",
    "\n",
    "tracker_df = pd.read_csv(\"/path/to/training_set_tracker.csv\")\n",
    "summary = tracker_df.groupby([\"iteration\", \"class\"]).size().reset_index(name=\"clip_count\")\n",
    "print(summary)\n"
   ]
  },
  {
   "cell_type": "markdown",
   "id": "0d9d8053-f17c-4f0c-8149-4e70a353da09",
   "metadata": {},
   "source": [
    "To Restore a Training Set from a Specific Iteration:"
   ]
  },
  {
   "cell_type": "code",
   "execution_count": null,
   "id": "88f095ff-6d2e-4e3d-8fcf-54ab52bc08eb",
   "metadata": {},
   "outputs": [],
   "source": [
    "import pandas as pd\n",
    "import shutil\n",
    "import os\n",
    "\n",
    "def restore_training_set(tracker_path, restore_iteration, restore_dir):\n",
    "    \"\"\"\n",
    "    Restore the training set from a specific iteration.\n",
    "    - tracker_path: Path to the CSV tracking file\n",
    "    - restore_iteration: Iteration to restore\n",
    "    - restore_dir: Directory to copy the restored training set\n",
    "    \"\"\"\n",
    "    tracker_df = pd.read_csv(tracker_path)\n",
    "    restore_df = tracker_df[tracker_df[\"iteration\"] <= restore_iteration]\n",
    "\n",
    "    for _, row in restore_df.iterrows():\n",
    "        file_path = row[\"file\"]\n",
    "        class_folder = row[\"class\"]\n",
    "        dest_folder = os.path.join(restore_dir, class_folder)\n",
    "        os.makedirs(dest_folder, exist_ok=True)\n",
    "        shutil.copy(file_path, dest_folder)\n",
    "\n",
    "    print(f\"Training set for iteration {restore_iteration} has been restored in {restore_dir}\")\n",
    "\n",
    "# Example usage\n",
    "restore_training_set(\n",
    "    tracker_path=\"/path/to/training_set_tracker.csv\",\n",
    "    restore_iteration=2,\n",
    "    restore_dir=\"/path/to/restored_training_set\"\n",
    ")\n"
   ]
  }
 ],
 "metadata": {
  "kernelspec": {
   "display_name": "Python 3 (ipykernel)",
   "language": "python",
   "name": "python3"
  },
  "language_info": {
   "codemirror_mode": {
    "name": "ipython",
    "version": 3
   },
   "file_extension": ".py",
   "mimetype": "text/x-python",
   "name": "python",
   "nbconvert_exporter": "python",
   "pygments_lexer": "ipython3",
   "version": "3.9.17"
  }
 },
 "nbformat": 4,
 "nbformat_minor": 5
}
