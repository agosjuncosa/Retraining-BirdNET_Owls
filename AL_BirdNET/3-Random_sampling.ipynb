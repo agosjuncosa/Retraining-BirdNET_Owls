{
 "cells": [
  {
   "cell_type": "code",
   "execution_count": null,
   "id": "86612713-ad85-4ba5-9e28-b1516bcd7bb1",
   "metadata": {},
   "outputs": [],
   "source": []
  },
  {
   "cell_type": "markdown",
   "id": "a3a969cc-c8e4-419b-aa54-edc4c2f8387c",
   "metadata": {},
   "source": [
    "Select 264 random clips in total (considering 33 classes) or 8 random clips per class (decide how many classes to account for, for example are we interested in improve and validate clips for rooster? or for noise? "
   ]
  },
  {
   "cell_type": "markdown",
   "id": "d88d2e28-6d4d-40db-9976-f2013f6ec9cf",
   "metadata": {},
   "source": [
    "### Draft for Random Sampling Logic"
   ]
  },
  {
   "cell_type": "code",
   "execution_count": null,
   "id": "92fe5b49-f84f-4fca-ab4e-2dd7e7255261",
   "metadata": {},
   "outputs": [],
   "source": [
    "import pandas as pd\n",
    "from pathlib import Path\n",
    "import random\n",
    "\n",
    "# Paths\n",
    "big_df_path = \"/path/to/big_df.csv\"\n",
    "tracker_path = \"/path/to/training_set_tracker.csv\"\n",
    "output_dir = \"/path/to/random_sampled_clips/\"\n",
    "iteration_number = 1  # Current iteration number\n",
    "\n",
    "# Load data\n",
    "big_df = pd.read_csv(big_df_path)\n",
    "training_set_tracker = pd.read_csv(tracker_path)\n",
    "\n",
    "# Filter clips\n",
    "# Step 1: Remove clips already in the training set\n",
    "used_clips = training_set_tracker[\"filename\"].tolist()\n",
    "filtered_df = big_df[~big_df[\"filename\"].isin(used_clips)]\n",
    "\n",
    "# Step 2: Random Sampling\n",
    "random_samples = []\n",
    "per_class_samples = 8  # Or set to None for global sampling\n",
    "total_random_clips = 248\n",
    "\n",
    "if per_class_samples:  # Per-class sampling\n",
    "    for class_name, class_df in filtered_df.groupby(\"class\"):\n",
    "        # Randomly select up to `per_class_samples` clips for this class\n",
    "        random_clips = class_df.sample(min(per_class_samples, len(class_df)), random_state=42)\n",
    "        random_samples.append(random_clips)\n",
    "else:  # Global sampling\n",
    "    random_samples = filtered_df.sample(min(total_random_clips, len(filtered_df)), random_state=42)\n",
    "\n",
    "# Combine selected random clips\n",
    "random_samples_df = pd.concat(random_samples, ignore_index=True)\n",
    "\n",
    "# Save selected random clips\n",
    "for _, row in random_samples_df.iterrows():\n",
    "    class_name = row[\"class\"]\n",
    "    class_dir = Path(output_dir) / class_name\n",
    "    class_dir.mkdir(parents=True, exist_ok=True)\n",
    "    \n",
    "    filename = row[\"filename\"]\n",
    "    offset = int(row[\"offset\"])\n",
    "    score = row[\"score\"]\n",
    "    output_filename = f\"{score:.2f}_{offset}_{filename}.wav\"\n",
    "\n",
    "    # Assuming clips are extracted similarly as before\n",
    "    audio_path = Path(\"/path/to/audio/files/\") / f\"{filename}.wav\"\n",
    "    try:\n",
    "        audio = Audio.from_file(audio_path, offset=offset, duration=3)\n",
    "        audio.save(class_dir / output_filename)\n",
    "    except Exception as e:\n",
    "        print(f\"Error processing {audio_path}: {e}\")\n",
    "\n",
    "print(\"Random sampling complete. Clips saved.\")\n",
    "\n",
    "# Step 3: Update the tracker with newly validated clips\n",
    "new_clips = random_samples_df[[\"filename\", \"class\"]]\n",
    "for _, row in new_clips.iterrows():\n",
    "    filename = row[\"filename\"]\n",
    "    class_name = row[\"class\"]\n",
    "    \n",
    "    # Update the tracker with the iteration number for this class\n",
    "    training_set_tracker.loc[training_set_tracker[\"filename\"] == filename, class_name] = iteration_number\n",
    "\n",
    "# Save the updated tracker\n",
    "training_set_tracker.to_csv(tracker_path, index=False)\n"
   ]
  }
 ],
 "metadata": {
  "kernelspec": {
   "display_name": "OpenSoundscape",
   "language": "python",
   "name": "opensoundscape"
  },
  "language_info": {
   "codemirror_mode": {
    "name": "ipython",
    "version": 3
   },
   "file_extension": ".py",
   "mimetype": "text/x-python",
   "name": "python",
   "nbconvert_exporter": "python",
   "pygments_lexer": "ipython3",
   "version": "3.9.17"
  }
 },
 "nbformat": 4,
 "nbformat_minor": 5
}
