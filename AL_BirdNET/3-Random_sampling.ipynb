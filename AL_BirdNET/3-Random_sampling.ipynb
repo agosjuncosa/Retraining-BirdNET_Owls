{
 "cells": [
  {
   "cell_type": "code",
   "execution_count": null,
   "id": "86612713-ad85-4ba5-9e28-b1516bcd7bb1",
   "metadata": {},
   "outputs": [],
   "source": []
  },
  {
   "cell_type": "markdown",
   "id": "a3a969cc-c8e4-419b-aa54-edc4c2f8387c",
   "metadata": {},
   "source": [
    "Select 264 random clips in total (considering 33 classes) or 8 random clips per class (decide how many classes to account for, for example are we interested in improve and validate clips for rooster? or for noise? "
   ]
  },
  {
   "cell_type": "markdown",
   "id": "76684568-0b84-4adb-8d91-33e88c64a591",
   "metadata": {},
   "source": [
    "Global Random Sampling:\n",
    "\n",
    "Perform random sampling across all remaining predictions without class constraints.\n",
    "Adjust sampling to exclude clips belonging to any unwanted classes (e.g., Gallus_gallus), if needed in the future."
   ]
  },
  {
   "cell_type": "markdown",
   "id": "d88d2e28-6d4d-40db-9976-f2013f6ec9cf",
   "metadata": {},
   "source": [
    "### Draft for Random Sampling Logic"
   ]
  },
  {
   "cell_type": "code",
   "execution_count": null,
   "id": "2e26c1c6-b895-4ecc-8319-08ac8867c0cb",
   "metadata": {},
   "outputs": [],
   "source": [
    "import pandas as pd\n",
    "from pathlib import Path\n",
    "import random\n",
    "\n",
    "# Paths\n",
    "big_df_path = \"/path/to/big_df.csv\"\n",
    "tracker_path = \"/path/to/training_set_tracker.csv\"\n",
    "output_dir = \"/path/to/random_sampled_clips/\"\n",
    "iteration_number = 1  # Current iteration number\n",
    "random_clip_count = 200  # Number of random clips to sample\n",
    "\n",
    "# Load data\n",
    "big_df = pd.read_csv(big_df_path)\n",
    "training_set_tracker = pd.read_csv(tracker_path)\n",
    "\n",
    "# Filter out unwanted classes\n",
    "unwanted_classes = [\"Environmental\", \"Noise\"]\n",
    "filtered_df = big_df[~big_df[\"class\"].isin(unwanted_classes)]\n",
    "\n",
    "# Exclude already used clips\n",
    "used_clips = training_set_tracker[\"filename\"].tolist()\n",
    "filtered_df = filtered_df[~filtered_df[\"filename\"].isin(used_clips)]\n",
    "\n",
    "# Randomly sample clips\n",
    "random_samples = filtered_df.sample(min(random_clip_count, len(filtered_df)), random_state=42)\n",
    "\n",
    "# Save selected random clips\n",
    "for _, row in random_samples.iterrows():\n",
    "    class_name = row[\"class\"]\n",
    "    class_dir = Path(output_dir) / class_name\n",
    "    class_dir.mkdir(parents=True, exist_ok=True)\n",
    "    \n",
    "    filename = row[\"filename\"]\n",
    "    offset = int(row[\"offset\"])\n",
    "    score = row[\"score\"]\n",
    "    output_filename = f\"{score:.2f}_{offset}_{filename}.wav\"\n",
    "\n",
    "    # Assuming clips are extracted similarly as before\n",
    "    audio_path = Path(\"/path/to/audio/files/\") / f\"{filename}.wav\"\n",
    "    try:\n",
    "        audio = Audio.from_file(audio_path, offset=offset, duration=3)\n",
    "        audio.save(class_dir / output_filename)\n",
    "    except Exception as e:\n",
    "        print(f\"Error processing {audio_path}: {e}\")\n",
    "\n",
    "print(\"Random sampling complete. Clips saved.\")\n"
   ]
  },
  {
   "cell_type": "code",
   "execution_count": null,
   "id": "b2aa0e49-3723-41e7-ab58-3200d1391187",
   "metadata": {},
   "outputs": [],
   "source": []
  }
 ],
 "metadata": {
  "kernelspec": {
   "display_name": "OpenSoundscape",
   "language": "python",
   "name": "opensoundscape"
  },
  "language_info": {
   "codemirror_mode": {
    "name": "ipython",
    "version": 3
   },
   "file_extension": ".py",
   "mimetype": "text/x-python",
   "name": "python",
   "nbconvert_exporter": "python",
   "pygments_lexer": "ipython3",
   "version": "3.9.17"
  }
 },
 "nbformat": 4,
 "nbformat_minor": 5
}
