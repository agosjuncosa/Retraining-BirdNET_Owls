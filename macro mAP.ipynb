{
 "cells": [
  {
   "cell_type": "markdown",
   "id": "940e4de7-6ad8-4556-aa6a-374aaeb1e3dd",
   "metadata": {},
   "source": [
    "### macro mAP retrain vs BirdNET columns same dataframe"
   ]
  },
  {
   "cell_type": "code",
   "execution_count": 20,
   "id": "54b4c575-2266-45fa-962b-31a5c6a7ffa9",
   "metadata": {},
   "outputs": [
    {
     "name": "stdout",
     "output_type": "stream",
     "text": [
      "True labels columns: ['true_G.brasilianum', 'true_S.hylophila', 'true_M.choliba', 'true_T.alba']\n",
      "BirdNET prediction columns: ['BirdNET_G.brasilianum', 'BirdNET_S.hylophila', 'BirdNET_M.choliba', 'BirdNET_T.alba']\n",
      "Retrained BirdNET prediction columns: ['retrained_G.brasilianum', 'retrained_S.hylophila', 'retrained_M.choliba', 'retrained_T.alba']\n",
      "BirdNET predictions are all zeros, macro mAP cannot be computed.\n",
      "Macro mAP for Retrained BirdNET: 0.4764812948028674\n",
      "      Metric BirdNET  Retrained BirdNET\n",
      "0  macro mAP    None           0.476481\n"
     ]
    }
   ],
   "source": [
    "import pandas as pd\n",
    "import numpy as np\n",
    "from sklearn.metrics import precision_score, recall_score, f1_score, average_precision_score\n",
    "\n",
    "# Load the integrated data\n",
    "file_path = '/mnt/c/Users/agos-/OneDrive/Escritorio/labels0.8.csv'\n",
    "data = pd.read_csv(file_path)\n",
    "\n",
    "# Columns structure:\n",
    "# file, start_time, end_time, true_class1, birdnet_class1, retrained_class1, ..., true_classN, birdnet_classN, retrained_classN\n",
    "file_columns = ['file', 'start_time', 'end_time']\n",
    "class_columns = [col for col in data.columns if col not in file_columns]\n",
    "\n",
    "# Extracting true labels, BirdNET predictions, and retrained predictions\n",
    "true_labels_columns = [col for col in class_columns if 'true' in col]\n",
    "birdnet_pred_columns = [col for col in class_columns if 'BirdNET' in col]\n",
    "retrained_pred_columns = [col for col in class_columns if 'retrained' in col]\n",
    "\n",
    "# Check the column lists\n",
    "print(f'True labels columns: {true_labels_columns}')\n",
    "print(f'BirdNET prediction columns: {birdnet_pred_columns}')\n",
    "print(f'Retrained BirdNET prediction columns: {retrained_pred_columns}')\n",
    "\n",
    "# Extract values\n",
    "true_labels = data[true_labels_columns].values\n",
    "birdnet_pred = data[birdnet_pred_columns].values\n",
    "retrained_pred = data[retrained_pred_columns].values\n",
    "\n",
    "# Check if BirdNET predictions are all zeros\n",
    "birdnet_has_detections = np.any(birdnet_pred != 0)\n",
    "\n",
    "# Calculate macro mAP for BirdNET if there are any detections\n",
    "if birdnet_has_detections:\n",
    "    macro_map_birdnet = average_precision_score(true_labels, birdnet_pred, average='macro')\n",
    "    print(f'Macro mAP for BirdNET: {macro_map_birdnet}')\n",
    "else:\n",
    "    macro_map_birdnet = None\n",
    "    print('BirdNET predictions are all zeros, macro mAP cannot be computed.')\n",
    "\n",
    "# Calculate macro mAP for Retrained BirdNET\n",
    "macro_map_retrained = average_precision_score(true_labels, retrained_pred, average='macro')\n",
    "print(f'Macro mAP for Retrained BirdNET: {macro_map_retrained}')\n",
    "\n",
    "# Save results to a CSV file\n",
    "results = {\n",
    "    'Metric': ['macro mAP'],\n",
    "    'BirdNET': [macro_map_birdnet],\n",
    "    'Retrained BirdNET': [macro_map_retrained]\n",
    "}\n",
    "results_df = pd.DataFrame(results)\n",
    "#results_df.to_csv('/mnt/c/Users/agos-/OneDrive/Escritorio/ESCRITORIO/Doctorado/ANALISIS_DOCTORADO/procesamiento_audios/training_BirdNET/model_outputs_viejos_BirdNet/6-class//macro_map_comparison.csv', index=False)\n",
    "\n",
    "# Display the DataFrame\n",
    "print(results_df)"
   ]
  },
  {
   "cell_type": "markdown",
   "id": "b2a071cb-f81c-4728-bf63-ed14db2ee6a2",
   "metadata": {},
   "source": [
    "### Barchart"
   ]
  },
  {
   "cell_type": "code",
   "execution_count": null,
   "id": "86eb772c-cb30-4030-980c-8cd18e343254",
   "metadata": {},
   "outputs": [],
   "source": [
    "import matplotlib.pyplot as plt\n",
    "\n",
    "# Bar chart for macro mAP comparison\n",
    "models = ['BirdNET', 'Retrained BirdNET']\n",
    "macro_map_values = [macro_map_birdnet, macro_map_retrained]\n",
    "\n",
    "plt.figure(figsize=(8, 6))\n",
    "plt.bar(models, macro_map_values, color=['blue', 'green'])\n",
    "plt.xlabel('Model')\n",
    "plt.ylabel('Macro mAP')\n",
    "plt.title('Macro mAP Comparison of BirdNET and Retrained BirdNET')\n",
    "plt.ylim([0, 1])\n",
    "plt.show()\n"
   ]
  }
 ],
 "metadata": {
  "kernelspec": {
   "display_name": "Python 3 (ipykernel)",
   "language": "python",
   "name": "python3"
  },
  "language_info": {
   "codemirror_mode": {
    "name": "ipython",
    "version": 3
   },
   "file_extension": ".py",
   "mimetype": "text/x-python",
   "name": "python",
   "nbconvert_exporter": "python",
   "pygments_lexer": "ipython3",
   "version": "3.9.17"
  }
 },
 "nbformat": 4,
 "nbformat_minor": 5
}
